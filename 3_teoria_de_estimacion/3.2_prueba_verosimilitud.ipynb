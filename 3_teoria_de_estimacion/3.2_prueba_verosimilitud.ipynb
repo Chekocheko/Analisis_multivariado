{
 "cells": [
  {
   "cell_type": "markdown",
   "metadata": {},
   "source": [
    "# 3 Teoría de la estimación\n",
    "## 3.1. Prueba de verosimilitud\n",
    "\n",
    "<p align=\"right\">\n",
    "Autor: Emmanuel Alcalá\n",
    "<br>\n",
    "<a href=\"https://scholar.google.com.mx/citations?hl=en&user=3URusCgAAAAJ&view_op=list_works&sortby=pubdate\">Google Scholar</a>\n",
    "</p>\n",
    "\n",
    "<p align=\"left\">\n",
    "<br>\n",
    "<a href=\"https://jealcalat.github.io/Analisis_multivariado/\">Regresar a la página del curso</a>\n",
    "</p>\n",
    "\n",
    "---"
   ]
  },
  {
   "cell_type": "markdown",
   "metadata": {},
   "source": [
    "Asumir que la función de densidad o de masa de $X$ es $f(x\\mid \\theta)$ donde $\\theta$ representa uno o más parámetros desconocidos. \n",
    "\n",
    "1. Denotar por $\\Omega$ el espacio total posible para $\\theta$, el conjunto de todos los posibles valores especificados de la hipótesis nula y la alternativa.\n",
    "2. Sea $H_0\\colon \\theta \\in \\omega$ la hipótesis nula, en donde $\\omega$ es un subconjunto de $\\Omega$, el espacio de parámetros.\n",
    "3. Sea $H_a: \\theta \\in \\omega'$ la hipótesis alternativa en donde $\\omega'$ es el complemento de $\\omega$ con respecto a $\\Omega$. Notar que son disjuntos. No pueden ambas hipótesis co-ocurrir.\n",
    "\n"
   ]
  }
 ],
 "metadata": {
  "kernelspec": {
   "display_name": "R",
   "language": "R",
   "name": "ir"
  },
  "language_info": {
   "name": "R"
  },
  "orig_nbformat": 4
 },
 "nbformat": 4,
 "nbformat_minor": 2
}
