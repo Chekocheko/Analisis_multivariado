{
 "cells": [
  {
   "cell_type": "markdown",
   "metadata": {},
   "source": [
    "# 3. Teoría de la estimación\n",
    "# 3.1. Función de verosimilitud\n",
    "\n",
    "<p align=\"right\">\n",
    "Autor: Emmanuel Alcalá\n",
    "<br>\n",
    "<a href=\"https://scholar.google.com.mx/citations?hl=en&user=3URusCgAAAAJ&view_op=list_works&sortby=pubdate\">Google Scholar</a>\n",
    "</p>\n",
    "\n",
    "<p align=\"left\">\n",
    "<br>\n",
    "<a href=\"https://jealcalat.github.io/Analisis_multivariado/\">Regresar a la página del curso</a>\n",
    "</p>\n",
    "\n",
    "---"
   ]
  },
  {
   "cell_type": "markdown",
   "metadata": {},
   "source": [
    "## ¿Por qué?\n",
    "\n",
    "**Modelos de probabilidad** ¿Cuál es la probabilidad de observar los *datos* dado los *parámetros* que conocemos?\n",
    "\n",
    "**Modelos estadísticos**:  Datos ciertos datos, ¿cuáles son los valores más plausibles de los *parámetros* dado los *datos* que observamos? (Notar que no dice \"más probables\").\n",
    "\n",
    "**Ejemplo:**\n",
    "¿Cuán probable es que obtengamos 9 \"Caras\" (1) si lanzamos una moneda \"justa\" ( $p=0.5$ ) 10 veces? \n",
    "\n",
    "La pregunta es sobre 10 lanzamientos, y cada uno de ellos es un experimento aleatorio da lugar a una VA discreta cuyos valores solo pueden ser dos, $\\{0,1\\}$ (por ejemplo). A cada uno de estos lanzamientos le llamamos *ensayo de Bernoulli*.\n",
    "\n",
    "La VA discreta que resulta de los 10 lanzamientos tiene *distribución binomial*, que se usa para modelar el número de éxitos (e.g., valores en los que $X=1$) en una muestra aleatoria *con reemplazo* de tamaño $n$. \n",
    "\n",
    "Su distribución es\n",
    "\n",
    "$$\n",
    "  p(k, n, \\theta) = \\Pr(X = k) = \\binom{n}{k}\\theta^k(1-\\theta)^{n-k}\n",
    "$$\n",
    "\n",
    "En donde $\\binom{n}{k}$ es el coeficiente binomial\n",
    "\n",
    "$$\n",
    "  \\binom{n}{k} = \\frac{n!}{k!(n-k)!}\n",
    "$$\n",
    "\n",
    "$n$ es el tamaño de la muestra (el total de ensayos), $k$ el número de éxitos, y $\\theta$ un parámetro de la distribución que define la probabilidad de éxito (y por lo tanto, define la forma de la distribución y el valor más probable). Por ejemplo, si nuestra moneda es justa, tendrá una $\\theta=0.5$, $n=10$ y $k=9$. \n",
    "\n",
    "La media de una distribución binomial es $n\\times \\theta$, esto significa que si lanzamos 10 veces una moneda con $\\theta=0.5$, el valor más probable de éxitos será $0.5\\times 10 = 5$.\n",
    "\n",
    "En R podríamos obtener la probabilidad que buscamos de la siguiente manera:"
   ]
  },
  {
   "cell_type": "code",
   "execution_count": 16,
   "metadata": {
    "vscode": {
     "languageId": "r"
    }
   },
   "outputs": [
    {
     "data": {
      "text/html": [
       "0.009765625"
      ],
      "text/latex": [
       "0.009765625"
      ],
      "text/markdown": [
       "0.009765625"
      ],
      "text/plain": [
       "[1] 0.009765625"
      ]
     },
     "metadata": {},
     "output_type": "display_data"
    }
   ],
   "source": [
    "dbinom(x=9,size=10,prob=0.5)"
   ]
  },
  {
   "cell_type": "markdown",
   "metadata": {},
   "source": [
    "Es decir, la probabilidad de tener 9 éxitos, dado que $\\theta=0.5, n=10$, es de apenas ~0.01, una probabilidad muy baja.\n",
    "\n",
    "¿Cuál sería la probabilidad de conseguir 6 éxitos bajo las mismas asunciones?"
   ]
  },
  {
   "cell_type": "code",
   "execution_count": 17,
   "metadata": {
    "vscode": {
     "languageId": "r"
    }
   },
   "outputs": [
    {
     "data": {
      "text/html": [
       "0.205078125"
      ],
      "text/latex": [
       "0.205078125"
      ],
      "text/markdown": [
       "0.205078125"
      ],
      "text/plain": [
       "[1] 0.2050781"
      ]
     },
     "metadata": {},
     "output_type": "display_data"
    }
   ],
   "source": [
    "dbinom(x=6,size=10,prob=0.5)"
   ]
  },
  {
   "cell_type": "markdown",
   "metadata": {},
   "source": [
    "¿Y dos éxitos?"
   ]
  },
  {
   "cell_type": "code",
   "execution_count": 18,
   "metadata": {
    "vscode": {
     "languageId": "r"
    }
   },
   "outputs": [
    {
     "data": {
      "text/html": [
       "0.0439453125"
      ],
      "text/latex": [
       "0.0439453125"
      ],
      "text/markdown": [
       "0.0439453125"
      ],
      "text/plain": [
       "[1] 0.04394531"
      ]
     },
     "metadata": {},
     "output_type": "display_data"
    }
   ],
   "source": [
    "dbinom(x=2,size=10,prob=0.5)"
   ]
  },
  {
   "cell_type": "markdown",
   "metadata": {},
   "source": [
    "La distribución de la binomial con estos parámetros tiene la siguiente forma"
   ]
  },
  {
   "cell_type": "code",
   "execution_count": 19,
   "metadata": {
    "vscode": {
     "languageId": "r"
    }
   },
   "outputs": [
    {
     "data": {
      "image/png": "[encoded data removed]",
      "text/plain": [
       "plot without title"
      ]
     },
     "metadata": {
      "image/png": {
       "height": 300,
       "width": 420
      }
     },
     "output_type": "display_data"
    }
   ],
   "source": [
    "par(las=1)\n",
    "options(repr.plot.width=7, repr.plot.height=5)\n",
    "exitos <- 0:10\n",
    "\n",
    "plot(\n",
    "  exitos, \n",
    "  dbinom(exitos, size = 10, prob = .5),\n",
    "  type = \"h\",\n",
    "  xlab = 'k',\n",
    "  ylab = expression(p(x==k, n, theta))\n",
    ")"
   ]
  },
  {
   "cell_type": "markdown",
   "metadata": {},
   "source": [
    "La probabilidad de 9 éxitos es menor a la probabilidad de 2 y de 6 éxitos.\n",
    "\n",
    "Valgan estos dos ejemplos para asumir lo siguiente:\n",
    "\n",
    ">Si la distribución tiene fijo un parámetro ($\\theta=0.5$), es más probable una cantidad de éxitos que otra (e.g., 6 éxitos vs 9 éxitos).\n",
    "\n",
    "Ahora, supongamos que desconocemos $\\theta$, pero obtenemos 9 éxitos en 10 lanzamientos. \n",
    "\n",
    "1. ¿Hay alguna forma de estimar el valor de $\\theta$ que originó, u pudo haber originado, este resultado? \n",
    "2. Si tenemos la hipótesis de que $\\theta\\neq 0.5$, ¿hay una forma en la que podamos obtener evidencia de esta hipótesis?\n",
    "\n",
    "A ambas la respuesta es sí, pero para contestarlo, necesitamos la función de verosimilitud."
   ]
  },
  {
   "cell_type": "markdown",
   "metadata": {},
   "source": [
    "\n",
    "\n",
    "ver https://github.com/mebucca/cda_soc3070/blob/master/slides/class_4/class_4.Rmd"
   ]
  },
  {
   "cell_type": "markdown",
   "metadata": {},
   "source": [
    "**Modelos estadísticos**  ¿Cuáles son los valores más .bold[plausibles][1].footnote[[1] Notar que no dice \"más probables\"!] de los *parámetros* dado los *datos* que observamos? \n",
    "\n",
    "\n",
    "Ej. Supongamos que alguien lanza 100 veces la misma moneda y registra los resultados en una base de datos. Los datos se ven así:  \n"
   ]
  },
  {
   "cell_type": "code",
   "execution_count": 20,
   "metadata": {
    "vscode": {
     "languageId": "r"
    }
   },
   "outputs": [
    {
     "name": "stderr",
     "output_type": "stream",
     "text": [
      "── \u001b[1mAttaching packages\u001b[22m ─────────────────────────────────────── tidyverse 1.3.2 ──\n",
      "\u001b[32m✔\u001b[39m \u001b[34mggplot2\u001b[39m 3.3.6     \u001b[32m✔\u001b[39m \u001b[34mpurrr  \u001b[39m 0.3.4\n",
      "\u001b[32m✔\u001b[39m \u001b[34mtibble \u001b[39m 3.1.8     \u001b[32m✔\u001b[39m \u001b[34mdplyr  \u001b[39m 1.0.9\n",
      "\u001b[32m✔\u001b[39m \u001b[34mtidyr  \u001b[39m 1.2.0     \u001b[32m✔\u001b[39m \u001b[34mstringr\u001b[39m 1.4.0\n",
      "\u001b[32m✔\u001b[39m \u001b[34mreadr  \u001b[39m 2.1.2     \u001b[32m✔\u001b[39m \u001b[34mforcats\u001b[39m 0.5.1\n",
      "── \u001b[1mConflicts\u001b[22m ────────────────────────────────────────── tidyverse_conflicts() ──\n",
      "\u001b[31m✖\u001b[39m \u001b[34mdplyr\u001b[39m::\u001b[32mfilter()\u001b[39m masks \u001b[34mstats\u001b[39m::filter()\n",
      "\u001b[31m✖\u001b[39m \u001b[34mdplyr\u001b[39m::\u001b[32mlag()\u001b[39m    masks \u001b[34mstats\u001b[39m::lag()\n",
      "Warning message:\n",
      "“`guides(<scale> = FALSE)` is deprecated. Please use `guides(<scale> = \"none\")` instead.”\n"
     ]
    },
    {
     "data": {
      "image/png": "[encoded data removed]",
      "text/plain": [
       "plot without title"
      ]
     },
     "metadata": {
      "image/png": {
       "height": 300,
       "width": 420
      }
     },
     "output_type": "display_data"
    }
   ],
   "source": [
    "library(\"tidyverse\")\n",
    "set.seed(481)\n",
    "data_coins <- data.frame(X = rbinom(n=100, size=1, prob=0.8))\n",
    "data_coins %>% ggplot(aes(x=factor(X), fill=\"\")) + \n",
    "    geom_bar() +\n",
    "    geom_text(aes(label=..count..), stat='count', vjust=-0.2) +\n",
    "    scale_fill_viridis_d() + \n",
    "    guides(fill=FALSE, color=FALSE) + labs(x=\"\") +\n",
    "    theme(axis.text.y = element_text(size = 22), axis.text.x = element_text(size = 22),\n",
    "    axis.title.y = element_text(size = 24), axis.title.x = element_text(size = 24), \n",
    "    legend.text = element_text(size = 18), legend.position=\"bottom\") "
   ]
  },
  {
   "cell_type": "markdown",
   "metadata": {},
   "source": [
    "- Lo que vemos en la izquierda son **datos**\n",
    "\n",
    "- Datos: realización de $n$ variables aleatorias \n",
    "\n",
    "- Normalmente *no conocemos* la distribución de las variables\n",
    "\n",
    "- Datos nos dan una pista sobre cuál podría ser esa distribución\n",
    "\n",
    "- **Estadística**: aprender de los datos para .bold[*estimar*] los parámetros que los generan"
   ]
  },
  {
   "cell_type": "markdown",
   "metadata": {},
   "source": [
    "## Estimación via Maximum Likelihood (MLE) \n",
    "\n",
    "Previamente lanzamos la misma moneda 100 veces y obtuvimos \"Cara\" (1) 82 veces.\n",
    "\n",
    " ¿Qué valor de $p$ es más plausible (\"likely\") que genere estos datos?\n",
    "\n",
    "MLE es justamente la formalización de esta pregunta. Pasos:\n",
    "\n",
    "\n",
    "\n",
    "1) Decidir sobre la distribución subyacente que genera los datos. En este caso, podemos asumir que: \n",
    "\n",
    "  * Cada lanzamiento $X_{1}, X_{2}, \\dots X_{100} \\sim \\text{Bernoulli}(p)$, donde X's son $iid$ \n",
    "\n",
    "--\n",
    "\n",
    "2)  Escribir una función que cuantifique la plausibilidad de diferentes valores del parámetro. Dicha función se denomina .bold[likelihood function]: \n",
    "\n",
    "<br>\n",
    "  * $\\mathcal{L}(p \\mid \\text{ Datos}) = \\mathbb{P}(\\text{ Datos : \\{1,0,1,1,....0,1\\}} | \\text{ } p)$\n",
    "\n",
    "<br>\n",
    "--\n",
    "\n",
    "  * $\\mathcal{L}(p \\mid \\text{ Datos}) = \\mathbb{P}(x_{1})\\mathbb{P}(x_{2}) \\dots \\mathbb{P}(x_{100}) = p^{82}(1-p)^{18}$\n"
   ]
  }
 ],
 "metadata": {
  "kernelspec": {
   "display_name": "R",
   "language": "R",
   "name": "ir"
  },
  "language_info": {
   "codemirror_mode": "r",
   "file_extension": ".r",
   "mimetype": "text/x-r-source",
   "name": "R",
   "pygments_lexer": "r",
   "version": "4.2.1"
  },
  "orig_nbformat": 4,
  "vscode": {
   "interpreter": {
    "hash": "e7370f93d1d0cde622a1f8e1c04877d8463912d04d973331ad4851f04de6915a"
   }
  }
 },
 "nbformat": 4,
 "nbformat_minor": 2
}
