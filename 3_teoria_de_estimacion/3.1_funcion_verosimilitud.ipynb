{
 "cells": [
  {
   "cell_type": "markdown",
   "metadata": {},
   "source": [
    "# 3. Teoría de la estimación\n",
    "# 3.1. Función de verosimilitud\n",
    "\n",
    "<p align=\"right\">\n",
    "Autor: Emmanuel Alcalá\n",
    "<br>\n",
    "<a href=\"https://scholar.google.com.mx/citations?hl=en&user=3URusCgAAAAJ&view_op=list_works&sortby=pubdate\">Google Scholar</a>\n",
    "</p>\n",
    "\n",
    "<p align=\"left\">\n",
    "<br>\n",
    "<a href=\"https://jealcalat.github.io/Analisis_multivariado/\">Regresar a la página del curso</a>\n",
    "</p>\n",
    "\n",
    "---"
   ]
  },
  {
   "cell_type": "markdown",
   "metadata": {},
   "source": [
    "## ¿Por qué?\n",
    "\n",
    "**Modelos de probabilidad** ¿Cuál es la probabilidad de observar los *datos* dado los *parámetros* que conocemos?\n",
    "\n",
    "**Modelos estadísticos**:  ¿Cuáles son los valores más *plausibles* de los *parámetros* dado los *datos* que observamos? (Notar que no dice \"más probables\").\n",
    "\n",
    "**Ejemplo:**\n",
    "¿Cuán probable es que obtengamos 9 \"Caras\" (1) si lanzamos una moneda \"justa\" ( $p=0.5$ ) 10 veces? \n",
    "\n",
    "La pregunta es sobre 10 lanzamientos, y cada uno de ellos es un experimento aleatorio, que da lugar a una VA discreta cuyos valores solo pueden ser dos, $\\{0,1\\}$ (por ejemplo). A cada uno de estos lanzamientos le llamamos *ensayo de Bernoulli* (un ensayo con resultados de tipo éxito/fracaso).\n",
    "\n",
    "La VA discreta que resulta de los 10 lanzamientos tiene *distribución binomial*, que se usa para modelar el número de éxitos (e.g., valores en los que $X=1$) en una muestra aleatoria *con reemplazo* de tamaño $n$. \n",
    "\n",
    "Su distribución es\n",
    "\n",
    "$$\n",
    "  p(k, n, \\theta) = \\Pr(X = k) = \\binom{n}{k}\\theta^k(1-\\theta)^{n-k}\n",
    "$$\n",
    "\n",
    "En donde $\\binom{n}{k}$ es el coeficiente binomial\n",
    "\n",
    "$$\n",
    "  \\binom{n}{k} = \\frac{n!}{k!(n-k)!}\n",
    "$$\n",
    "\n",
    "$n$ es el tamaño de la muestra (el total de ensayos), $k$ el número de éxitos, y $\\theta$ un parámetro de la distribución que define la probabilidad de éxito (y por lo tanto, define la forma de la distribución y el valor más probable). Por ejemplo, si nuestra moneda es justa, tendrá una $\\theta=0.5$. \n",
    "\n",
    "La media de una distribución binomial es $n\\times \\theta$, esto significa que si lanzamos 10 veces una moneda con $\\theta=0.5$, el valor más probable de éxitos será $0.5\\times 10 = 5$.\n",
    "\n",
    "En R podríamos obtener la probabilidad que buscamos de la siguiente manera:"
   ]
  },
  {
   "cell_type": "code",
   "execution_count": 11,
   "metadata": {
    "vscode": {
     "languageId": "r"
    }
   },
   "outputs": [
    {
     "data": {
      "text/html": [
       "0.009765625"
      ],
      "text/latex": [
       "0.009765625"
      ],
      "text/markdown": [
       "0.009765625"
      ],
      "text/plain": [
       "[1] 0.009765625"
      ]
     },
     "metadata": {},
     "output_type": "display_data"
    }
   ],
   "source": [
    "dbinom(\n",
    "  x = 9, # k éxitos\n",
    "  size = 10, # ensayos de bernoulli\n",
    "  prob = 0.5\n",
    ")"
   ]
  },
  {
   "cell_type": "markdown",
   "metadata": {},
   "source": [
    "Es decir, la probabilidad de tener 9 éxitos, dado que $\\theta=0.5, n=10$, es de apenas ~0.01, una probabilidad muy baja.\n",
    "\n",
    "¿Cuál sería la probabilidad de conseguir 6 éxitos bajo las mismas asunciones?"
   ]
  },
  {
   "cell_type": "code",
   "execution_count": 12,
   "metadata": {
    "vscode": {
     "languageId": "r"
    }
   },
   "outputs": [
    {
     "data": {
      "text/html": [
       "0.205078125"
      ],
      "text/latex": [
       "0.205078125"
      ],
      "text/markdown": [
       "0.205078125"
      ],
      "text/plain": [
       "[1] 0.2050781"
      ]
     },
     "metadata": {},
     "output_type": "display_data"
    }
   ],
   "source": [
    "dbinom(x=6,size=10,prob=0.5)"
   ]
  },
  {
   "cell_type": "markdown",
   "metadata": {},
   "source": [
    "¿Y dos éxitos?"
   ]
  },
  {
   "cell_type": "code",
   "execution_count": 13,
   "metadata": {
    "vscode": {
     "languageId": "r"
    }
   },
   "outputs": [
    {
     "data": {
      "text/html": [
       "0.0439453125"
      ],
      "text/latex": [
       "0.0439453125"
      ],
      "text/markdown": [
       "0.0439453125"
      ],
      "text/plain": [
       "[1] 0.04394531"
      ]
     },
     "metadata": {},
     "output_type": "display_data"
    }
   ],
   "source": [
    "dbinom(x=2,size=10,prob=0.5)"
   ]
  },
  {
   "cell_type": "markdown",
   "metadata": {},
   "source": [
    "La distribución de la binomial con estos parámetros tiene la siguiente forma"
   ]
  },
  {
   "cell_type": "code",
   "execution_count": 14,
   "metadata": {
    "vscode": {
     "languageId": "r"
    }
   },
   "outputs": [
    {
     "data": {
      "image/png": "[encoded data removed]",
      "text/plain": [
       "plot without title"
      ]
     },
     "metadata": {
      "image/png": {
       "height": 300,
       "width": 420
      }
     },
     "output_type": "display_data"
    }
   ],
   "source": [
    "par(las=1)\n",
    "options(repr.plot.width=7, repr.plot.height=5)\n",
    "exitos <- 0:10\n",
    "plot(\n",
    "  exitos, \n",
    "  dbinom(exitos, size = 10, prob = .5),\n",
    "  type = \"h\",\n",
    "  xlab = 'k',\n",
    "  ylab = expression(p(x==k, n, theta))\n",
    ")"
   ]
  },
  {
   "cell_type": "markdown",
   "metadata": {},
   "source": [
    "La probabilidad de 9 éxitos es menor a la probabilidad de 2 y de 6 éxitos.\n",
    "\n",
    "Valgan estos dos ejemplos para asumir lo siguiente:\n",
    "\n",
    ">Si la distribución tiene fijo un parámetro ($\\theta=0.5$), es más probable una cantidad de éxitos que otra (e.g., 6 éxitos vs 9 éxitos).\n",
    "\n",
    "Ahora, supongamos que desconocemos $\\theta$, pero obtenemos 9 éxitos en 10 lanzamientos. \n",
    "\n",
    "1. ¿Hay alguna forma de estimar el valor de $\\theta$ que originó, o pudo haber originado, este resultado? \n",
    "2. Si tenemos la hipótesis de que $\\theta\\neq 0.5$, ¿hay una forma en la que podamos obtener evidencia de esta hipótesis?\n",
    "\n",
    "A ambas la respuesta es sí, pero para contestarlo, necesitamos la función de verosimilitud."
   ]
  },
  {
   "cell_type": "markdown",
   "metadata": {},
   "source": [
    "\n",
    "\n",
    "ver https://github.com/mebucca/cda_soc3070/blob/master/slides/class_4/class_4.Rmd"
   ]
  },
  {
   "cell_type": "markdown",
   "metadata": {},
   "source": [
    "## Función de verosimilitud $L(\\theta \\mid \\mathbf{x})$\n",
    "\n",
    "La letra $L$ proviene de *likelihood*, que en español se traduce normalmente como verosimilitud o inlcuso como *credibilidad*. \n",
    "\n",
    "Si tenemos una muestra aleatoria $X_1, X_2, \\dots, X_n$, la función de verosimilitud se define como la función de densidad conjunta\n",
    "\n",
    "$$\n",
    "  L(\\theta \\mid \\mathbf{x}) = f(x_1, x_2, \\dots, x_n;\\theta)\n",
    "$$\n",
    "\n",
    "Abreviaremos $L(\\theta)$ simplemente como $L(\\theta)$\n",
    "\n",
    ">Nota: *parece* que estamos definiendo la función de verosimilitud como la función de densidad conjunta, pero hay una diferencia importante. La función de densidad conjunta toma como fijo $\\theta$, y lo que varía es $\\mathbf{x}$, pero en la función de verosimilitud $\\mathbf{x}$ ya fue observado, por lo que es fijo, y consideramos que $\\theta$ varía sobre todos los posibles valores. \n",
    "\n",
    "Si $X_1, X_2, \\dots, X_n$ son muestras independientes e idénticamente distribuidas (i.i.d), la función de densidad conjunta es\n",
    "\n",
    "$$\n",
    "  f(X_1, X_2, \\dots, X_n \\mid \\theta)=f(X_1\\mid \\theta)\\times f(X_2\\mid \\theta)\\times\\cdots \\times f(X_n\\mid \\theta) = \\prod_{i=1}^{n}f(X_i\\mid \\theta) \\tag{1}\n",
    "$$\n",
    "\n",
    "Y la función de verosimilitud\n",
    "\n",
    "$$\n",
    "  L(\\theta) = \\prod_{i=1}^{n}f(X_i\\mid \\theta) \\tag{2}\n",
    "$$\n",
    "\n",
    "Para algunos problemas, la función de log-verosimilitud, $\\mathcal{l}(\\theta)$ es más conveniente, dado que es más sencillo de trabajar con sumas que con productos y, además, la transformación logarítmica es monotónica.\n",
    "\n",
    "$$\n",
    "  \\mathcal{l}(\\theta) = \\log \\prod_{i=1}^{n}f(X_i\\mid \\theta) = \\sum_{i=1}^{n}f(X_i\\mid \\theta)\\tag{3}\n",
    "$$"
   ]
  },
  {
   "cell_type": "markdown",
   "metadata": {},
   "source": [
    "La función de verosimilitud puede ser usada para cuantificar la evidencia que tenemos en favor de una hipótesis. Retomando el ejemplo de lanzamientos de monedas, ¿qué tan *creíble* o verosímil es que 9 de 10 lanzamientos hayan sido caras (éxitos) *dado que* $\\theta=0.5$? ¿Es menos, o más creíble, haber obtenido 9/10 con un $\\theta=0.5$?\n",
    "\n",
    "Obtendremos primero la verosimilitud $L(\\theta=0.5)$ para esta distribución. \n",
    "\n",
    "Considera una muestra aleatoria de $n=10$ ensayos de Bernoulli $x_1,\\dots, n_{10}$, cada uno con distribución\n",
    "\n",
    "$$\n",
    "  f(x) = \\theta^x(1-\\theta)^{1-x}\\quad \\text{ con } x = 0,1\n",
    "$$\n",
    "\n",
    "La función de verosimilitud es\n",
    "\n",
    "$$\n",
    "  L(\\theta) =f(x_1,\\ldots,x_{10};\\theta)= \\prod_{i=1}^n\\theta^{x_i}(1-\\theta)^{1-x_i}=\n",
    "  \\theta^{\\sum_i x_i}(1-\\theta)^{n-\\sum_i x_i}\n",
    "$$\n",
    "\n",
    "Dado que $\\sum_{i=1}^{10} x_i = 9$, y $n=10$, $L(\\theta)=\\theta^9(1-\\theta)^{10-9}$\n",
    "\n",
    "Para $\\theta=0.5$, $L(\\theta=0.5)=0.5^9(1-0.5)=0.00097$. \n",
    "\n",
    "Para $\\theta=0.9$,$L(\\theta=0.9)=0.9^9(1-0.9)=0.038$.\n",
    "\n",
    "Si obtenemos la razón de ambas, $L(\\theta_2)/L(\\theta_1)$ obtenemos un valor que nos dice cuántas veces más verosímil es $\\theta_2$ vs $\\theta_1$.\n",
    "\n",
    "Gráficamente se vería así"
   ]
  },
  {
   "cell_type": "code",
   "execution_count": 17,
   "metadata": {
    "vscode": {
     "languageId": "r"
    }
   },
   "outputs": [
    {
     "data": {
      "image/png": "[encoded data removed]",
      "text/plain": [
       "Plot with title “==”\n",
       "Plot with title “frac(L(theta[2]), L(theta[1]))”\n",
       "Plot with title “40”"
      ]
     },
     "metadata": {
      "image/png": {
       "height": 300,
       "width": 420
      }
     },
     "output_type": "display_data"
    }
   ],
   "source": [
    "source(\"../r_scripts/utilities.r\")\n",
    "par(mgp = c(1.2, 0.5, 0))\n",
    "options(repr.plot.width=7, repr.plot.height=5)\n",
    "k <- 9\n",
    "n <- 10\n",
    "theta_1 <- 0.5\n",
    "theta_2 <- 0.9\n",
    "like_binom_plot(k, n, theta_2, theta_1)"
   ]
  },
  {
   "cell_type": "code",
   "execution_count": 16,
   "metadata": {
    "vscode": {
     "languageId": "r"
    }
   },
   "outputs": [
    {
     "name": "stderr",
     "output_type": "stream",
     "text": [
      "── \u001b[1mAttaching packages\u001b[22m ─────────────────────────────────────── tidyverse 1.3.2 ──\n",
      "\u001b[32m✔\u001b[39m \u001b[34mggplot2\u001b[39m 3.3.6     \u001b[32m✔\u001b[39m \u001b[34mpurrr  \u001b[39m 0.3.4\n",
      "\u001b[32m✔\u001b[39m \u001b[34mtibble \u001b[39m 3.1.8     \u001b[32m✔\u001b[39m \u001b[34mdplyr  \u001b[39m 1.0.9\n",
      "\u001b[32m✔\u001b[39m \u001b[34mtidyr  \u001b[39m 1.2.0     \u001b[32m✔\u001b[39m \u001b[34mstringr\u001b[39m 1.4.0\n",
      "\u001b[32m✔\u001b[39m \u001b[34mreadr  \u001b[39m 2.1.2     \u001b[32m✔\u001b[39m \u001b[34mforcats\u001b[39m 0.5.1\n",
      "── \u001b[1mConflicts\u001b[22m ────────────────────────────────────────── tidyverse_conflicts() ──\n",
      "\u001b[31m✖\u001b[39m \u001b[34mdplyr\u001b[39m::\u001b[32mfilter()\u001b[39m masks \u001b[34mstats\u001b[39m::filter()\n",
      "\u001b[31m✖\u001b[39m \u001b[34mdplyr\u001b[39m::\u001b[32mlag()\u001b[39m    masks \u001b[34mstats\u001b[39m::lag()\n",
      "Warning message:\n",
      "“`guides(<scale> = FALSE)` is deprecated. Please use `guides(<scale> = \"none\")` instead.”\n"
     ]
    },
    {
     "data": {
      "image/png": "[encoded data removed]",
      "text/plain": [
       "plot without title"
      ]
     },
     "metadata": {
      "image/png": {
       "height": 300,
       "width": 420
      }
     },
     "output_type": "display_data"
    }
   ],
   "source": [
    "library(\"tidyverse\")\n",
    "set.seed(481)\n",
    "data_coins <- data.frame(X = rbinom(n=100, size=1, prob=0.8))\n",
    "data_coins %>% ggplot(aes(x=factor(X), fill=\"\")) + \n",
    "    geom_bar() +\n",
    "    geom_text(aes(label=..count..), stat='count', vjust=-0.2) +\n",
    "    scale_fill_viridis_d() + \n",
    "    guides(fill=FALSE, color=FALSE) + labs(x=\"\") +\n",
    "    theme(axis.text.y = element_text(size = 22), axis.text.x = element_text(size = 22),\n",
    "    axis.title.y = element_text(size = 24), axis.title.x = element_text(size = 24), \n",
    "    legend.text = element_text(size = 18), legend.position=\"bottom\") "
   ]
  },
  {
   "cell_type": "markdown",
   "metadata": {},
   "source": [
    "- Lo que vemos en la izquierda son **datos**\n",
    "\n",
    "- Datos: realización de $n$ variables aleatorias \n",
    "\n",
    "- Normalmente *no conocemos* la distribución de las variables\n",
    "\n",
    "- Datos nos dan una pista sobre cuál podría ser esa distribución\n",
    "\n",
    "- **Estadística**: aprender de los datos para .bold[*estimar*] los parámetros que los generan"
   ]
  },
  {
   "cell_type": "markdown",
   "metadata": {},
   "source": [
    "## Estimación via Maximum Likelihood (MLE) \n",
    "\n",
    "Previamente lanzamos la misma moneda 100 veces y obtuvimos \"Cara\" (1) 82 veces.\n",
    "\n",
    " ¿Qué valor de $p$ es más plausible (\"likely\") que genere estos datos?\n",
    "\n",
    "MLE es justamente la formalización de esta pregunta. Pasos:\n",
    "\n",
    "\n",
    "\n",
    "1) Decidir sobre la distribución subyacente que genera los datos. En este caso, podemos asumir que: \n",
    "\n",
    "  * Cada lanzamiento $X_{1}, X_{2}, \\dots X_{100} \\sim \\text{Bernoulli}(p)$, donde X's son $iid$ \n",
    "\n",
    "--\n",
    "\n",
    "2)  Escribir una función que cuantifique la plausibilidad de diferentes valores del parámetro. Dicha función se denomina .bold[likelihood function]: \n",
    "\n",
    "<br>\n",
    "  * $\\mathcal{L}(p \\mid \\text{ Datos}) = \\mathbb{P}(\\text{ Datos : \\{1,0,1,1,....0,1\\}} | \\text{ } p)$\n",
    "\n",
    "<br>\n",
    "--\n",
    "\n",
    "  * $\\mathcal{L}(p \\mid \\text{ Datos}) = \\mathbb{P}(x_{1})\\mathbb{P}(x_{2}) \\dots \\mathbb{P}(x_{100}) = p^{82}(1-p)^{18}$\n"
   ]
  }
 ],
 "metadata": {
  "kernelspec": {
   "display_name": "R",
   "language": "R",
   "name": "ir"
  },
  "language_info": {
   "codemirror_mode": "r",
   "file_extension": ".r",
   "mimetype": "text/x-r-source",
   "name": "R",
   "pygments_lexer": "r",
   "version": "4.2.1"
  },
  "orig_nbformat": 4,
  "vscode": {
   "interpreter": {
    "hash": "e7370f93d1d0cde622a1f8e1c04877d8463912d04d973331ad4851f04de6915a"
   }
  }
 },
 "nbformat": 4,
 "nbformat_minor": 2
}
