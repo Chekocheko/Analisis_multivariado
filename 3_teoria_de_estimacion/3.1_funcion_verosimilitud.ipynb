{
 "cells": [
  {
   "cell_type": "markdown",
   "metadata": {},
   "source": [
    "# 3. Teoría de la estimación\n",
    "# 3.1. Función de verosimilitud\n",
    "\n",
    "<p align=\"right\">\n",
    "Autor: Emmanuel Alcalá\n",
    "<br>\n",
    "<a href=\"https://scholar.google.com.mx/citations?hl=en&user=3URusCgAAAAJ&view_op=list_works&sortby=pubdate\">Google Scholar</a>\n",
    "</p>\n",
    "\n",
    "<p align=\"left\">\n",
    "<br>\n",
    "<a href=\"https://jealcalat.github.io/Analisis_multivariado/\">Regresar a la página del curso</a>\n",
    "</p>\n",
    "\n",
    "---"
   ]
  },
  {
   "cell_type": "markdown",
   "metadata": {},
   "source": [
    "Algunas funciones de probabilidad y densidad y su definición en R:\n",
    "\n",
    "| Función  | Nombre | Comando en R  | Argumentos |\n",
    "|---|---|---|---|\n",
    "| $p(x)=\\binom{n}{k}p^k(1-p)^{n-k}$  | Binomial   | `dbinom(x, size, prob)` | $n$=size, $k$=x, $p$=prob |\n",
    "| $p(x) = \\frac{{e^{ - \\lambda } \\lambda ^x }}{x!}$ | Poisson    | `dpois(x, lambda)` |$x$=x, $\\lambda$=lambda |\n",
    "| $p(x)=\\frac{1}{b-a}$  |  Uniforme  | `dunif(x, min, max)` | $x$=x, $a$=min, $b$=max|\n",
    "| $p(x)=\\frac{1}{\\sigma\\sqrt{2\\pi \\sigma}}\\exp\\left\\{-\\frac{(x-\\mu)^2}{2\\sigma^2} \\right\\} $  |  Normal    | `dnorm(x, mean, sd)` | $x$=x, $\\mu$=mean, $\\sigma$=sd |\n",
    "\n"
   ]
  },
  {
   "cell_type": "markdown",
   "metadata": {},
   "source": [
    "## ¿Por qué?\n",
    "\n",
    ">**Modelos de probabilidad** ¿Cuál es la probabilidad de observar los *datos* dado los *parámetros* que conocemos?\n",
    "\n",
    ">**Modelos estadísticos**:  ¿Cuáles son los valores más *plausibles* de los *parámetros* dado los *datos* que observamos? (Notar que no dice \"más probables\").\n",
    "\n",
    "<figure>\n",
    "<p align=\"center\">\n",
    "  <img src=\"img/2022-08-29-21-59-31.png\" width='40%' />\n",
    "      <figcaption>Probabildad vs estadística</figcaption>\n",
    "</p>\n",
    "</figure>\n",
    "\n",
    "**Ejemplo:**\n",
    "¿Cuán probable es que obtengamos 9 \"Caras\" (1) si lanzamos una moneda \"justa\" ( $p=0.5$ ) 10 veces? \n",
    "\n",
    "La pregunta es sobre 10 lanzamientos, y cada uno de ellos es un experimento aleatorio, que da lugar a una VA discreta cuyos valores solo pueden ser dos, $\\{0,1\\}$ (por ejemplo). A cada uno de estos lanzamientos le llamamos *ensayo de Bernoulli* (un ensayo con resultados de tipo éxito/fracaso).\n",
    "\n",
    "La VA discreta que resulta de los 10 lanzamientos tiene *distribución binomial*, que se usa para modelar el número de éxitos (e.g., valores en los que $X=1$) en una muestra aleatoria *con reemplazo* de tamaño $n$. \n",
    "\n",
    "Su distribución es\n",
    "\n",
    "$$\n",
    "  p(k, n, \\theta) = \\Pr(X = k) = \\binom{n}{k}\\theta^k(1-\\theta)^{n-k}\n",
    "$$\n",
    "\n",
    "En donde $\\binom{n}{k}$ es el coeficiente binomial\n",
    "\n",
    "$$\n",
    "  \\binom{n}{k} = \\frac{n!}{k!(n-k)!}\n",
    "$$\n",
    "\n",
    "$n$ es el tamaño de la muestra (el total de ensayos), $k$ el número de éxitos, y $\\theta$ un parámetro de la distribución que define la probabilidad de éxito (y por lo tanto, define la forma de la distribución y el valor más probable). Por ejemplo, si nuestra moneda es justa, tendrá una $\\theta=0.5$. \n",
    "\n",
    "La media de una distribución binomial es $n\\times \\theta$, esto significa que si lanzamos 10 veces una moneda con $\\theta=0.5$, el valor más probable de éxitos será $0.5\\times 10 = 5$.\n",
    "\n",
    "En R podríamos obtener la probabilidad que buscamos de la siguiente manera:"
   ]
  },
  {
   "cell_type": "code",
   "execution_count": 11,
   "metadata": {
    "vscode": {
     "languageId": "r"
    }
   },
   "outputs": [
    {
     "data": {
      "text/html": [
       "0.009765625"
      ],
      "text/latex": [
       "0.009765625"
      ],
      "text/markdown": [
       "0.009765625"
      ],
      "text/plain": [
       "[1] 0.009765625"
      ]
     },
     "metadata": {},
     "output_type": "display_data"
    }
   ],
   "source": [
    "dbinom(\n",
    "  x = 9, # k éxitos\n",
    "  size = 10, # ensayos de bernoulli\n",
    "  prob = 0.5\n",
    ")\n"
   ]
  },
  {
   "cell_type": "markdown",
   "metadata": {},
   "source": [
    "Es decir, la probabilidad de tener 9 éxitos, dado que $\\theta=0.5, n=10$, es de apenas ~0.01, una probabilidad muy baja.\n",
    "\n",
    "¿Cuál sería la probabilidad de conseguir 6 éxitos bajo las mismas asunciones?"
   ]
  },
  {
   "cell_type": "code",
   "execution_count": 12,
   "metadata": {
    "vscode": {
     "languageId": "r"
    }
   },
   "outputs": [
    {
     "data": {
      "text/html": [
       "0.205078125"
      ],
      "text/latex": [
       "0.205078125"
      ],
      "text/markdown": [
       "0.205078125"
      ],
      "text/plain": [
       "[1] 0.2050781"
      ]
     },
     "metadata": {},
     "output_type": "display_data"
    }
   ],
   "source": [
    "dbinom(x = 6, size = 10, prob = 0.5)\n"
   ]
  },
  {
   "cell_type": "markdown",
   "metadata": {},
   "source": [
    "¿Y dos éxitos?"
   ]
  },
  {
   "cell_type": "code",
   "execution_count": 13,
   "metadata": {
    "vscode": {
     "languageId": "r"
    }
   },
   "outputs": [
    {
     "data": {
      "text/html": [
       "0.0439453125"
      ],
      "text/latex": [
       "0.0439453125"
      ],
      "text/markdown": [
       "0.0439453125"
      ],
      "text/plain": [
       "[1] 0.04394531"
      ]
     },
     "metadata": {},
     "output_type": "display_data"
    }
   ],
   "source": [
    "dbinom(x = 2, size = 10, prob = 0.5)\n"
   ]
  },
  {
   "cell_type": "markdown",
   "metadata": {},
   "source": [
    "La distribución de la binomial con estos parámetros tiene la siguiente forma"
   ]
  },
  {
   "cell_type": "code",
   "execution_count": 14,
   "metadata": {
    "vscode": {
     "languageId": "r"
    }
   },
   "outputs": [
    {
     "data": {
      "image/png": "[encoded data removed]",
      "text/plain": [
       "plot without title"
      ]
     },
     "metadata": {
      "image/png": {
       "height": 300,
       "width": 420
      }
     },
     "output_type": "display_data"
    }
   ],
   "source": [
    "par(las = 1)\n",
    "options(repr.plot.width = 7, repr.plot.height = 5)\n",
    "exitos <- 0:10\n",
    "plot(\n",
    "  exitos,\n",
    "  dbinom(exitos, size = 10, prob = .5),\n",
    "  type = \"h\",\n",
    "  xlab = \"k\",\n",
    "  ylab = expression(p(x == k, n, theta))\n",
    ")\n"
   ]
  },
  {
   "cell_type": "markdown",
   "metadata": {},
   "source": [
    "La probabilidad de 9 éxitos es menor a la probabilidad de 2 y de 6 éxitos.\n",
    "\n",
    "Valgan estos dos ejemplos para asumir lo siguiente:\n",
    "\n",
    ">Si la distribución tiene fijo un parámetro ($\\theta=0.5$), es más probable una cantidad de éxitos que otra (e.g., 6 éxitos vs 9 éxitos).\n",
    "\n",
    "Ahora, supongamos que desconocemos $\\theta$, pero obtenemos 9 éxitos en 10 lanzamientos. \n",
    "\n",
    "1. ¿Hay alguna forma de estimar el valor de $\\theta$ que originó, o pudo haber originado, este resultado? \n",
    "2. Si tenemos la hipótesis de que $\\theta\\neq 0.5$, ¿hay una forma en la que podamos obtener evidencia de esta hipótesis?\n",
    "\n",
    "A ambas la respuesta es sí, pero para contestarlo, necesitamos la función de verosimilitud."
   ]
  },
  {
   "cell_type": "markdown",
   "metadata": {},
   "source": [
    "\n",
    "\n",
    "ver https://github.com/mebucca/cda_soc3070/blob/master/slides/class_4/class_4.Rmd"
   ]
  },
  {
   "cell_type": "markdown",
   "metadata": {},
   "source": [
    "## Función de verosimilitud $L(\\theta \\mid \\mathbf{x})$\n",
    "\n",
    "La letra $L$ proviene de *likelihood*, que en español se traduce normalmente como verosimilitud o inlcuso como *credibilidad*. \n",
    "\n",
    "Si tenemos una muestra aleatoria $X_1, X_2, \\dots, X_n$, la función de verosimilitud se define como la función de densidad conjunta\n",
    "\n",
    "$$\n",
    "  L(\\theta \\mid \\mathbf{x}) = f(x_1, x_2, \\dots, x_n;\\theta)\n",
    "$$\n",
    "\n",
    "Abreviaremos $L(\\theta)$ simplemente como $L(\\theta)$\n",
    "\n",
    ">Nota: *parece* que estamos definiendo la función de verosimilitud como la función de densidad conjunta, pero hay una diferencia importante. La función de densidad conjunta toma como fijo $\\theta$, y lo que varía es $\\mathbf{x}$, pero en la función de verosimilitud $\\mathbf{x}$ ya fue observado, por lo que es fijo, y consideramos que $\\theta$ varía sobre todos los posibles valores. \n",
    "\n",
    "Si $X_1, X_2, \\dots, X_n$ son muestras independientes e idénticamente distribuidas (i.i.d), la función de densidad conjunta es\n",
    "\n",
    "$$\n",
    "  f(X_1, X_2, \\dots, X_n \\mid \\theta)=f(X_1\\mid \\theta)\\times f(X_2\\mid \\theta)\\times\\cdots \\times f(X_n\\mid \\theta) = \\prod_{i=1}^{n}f(X_i\\mid \\theta) \\tag{1}\n",
    "$$\n",
    "\n",
    "Y la función de verosimilitud\n",
    "\n",
    "$$\n",
    "  L(\\theta) = \\prod_{i=1}^{n}f(X_i\\mid \\theta) \\tag{2}\n",
    "$$\n",
    "\n",
    "Para algunos problemas, la función de log-verosimilitud, $\\mathcal{l}(\\theta)$ es más conveniente, dado que es más sencillo de trabajar con sumas que con productos y, además, la transformación logarítmica es monotónica.\n",
    "\n",
    "$$\n",
    "  \\mathcal{l}(\\theta) = \\log \\prod_{i=1}^{n}f(X_i\\mid \\theta) = \\sum_{i=1}^{n}f(X_i\\mid \\theta)\\tag{3}\n",
    "$$"
   ]
  },
  {
   "cell_type": "markdown",
   "metadata": {},
   "source": [
    "La función de verosimilitud puede ser usada para cuantificar la evidencia que tenemos en favor de una hipótesis. Retomando el ejemplo de lanzamientos de monedas, ¿qué tan *creíble* o verosímil es que 9 de 10 lanzamientos hayan sido caras (éxitos) *dado que* $\\theta=0.5$? ¿Es menos, o más creíble, haber obtenido 9/10 con un $\\theta=0.5$?\n",
    "\n",
    "Obtendremos primero la verosimilitud $L(\\theta=0.5)$ para esta distribución. \n",
    "\n",
    "Considera una muestra aleatoria de $n=10$ ensayos de Bernoulli $x_1,\\dots, n_{10}$, cada uno con distribución\n",
    "\n",
    "$$\n",
    "  f(x) = \\theta^x(1-\\theta)^{1-x}\\quad \\text{ con } x = 0,1\n",
    "$$\n",
    "\n",
    "La función de verosimilitud es\n",
    "\n",
    "$$\n",
    "  L(\\theta) =f(x_1,\\ldots,x_{10};\\theta)= \\prod_{i=1}^n\\theta^{x_i}(1-\\theta)^{1-x_i}=\n",
    "  \\theta^{\\sum_i x_i}(1-\\theta)^{n-\\sum_i x_i}\n",
    "$$\n",
    "\n",
    "Dado que $\\sum_{i=1}^{10} x_i = 9$, y $n=10$, $L(\\theta)=\\theta^9(1-\\theta)^{10-9}$\n",
    "\n",
    "Para $\\theta=0.5$, $L(\\theta=0.5)=0.5^9(1-0.5)=0.00097$. \n",
    "\n",
    "Para $\\theta=0.9$,$L(\\theta=0.9)=0.9^9(1-0.9)=0.038$.\n",
    "\n",
    "Si obtenemos la razón de ambas, $L(\\theta_2)/L(\\theta_1)$ obtenemos un valor que nos dice cuántas veces más verosímil es $\\theta_2$ vs $\\theta_1$.\n",
    "\n",
    "Gráficamente se vería así"
   ]
  },
  {
   "cell_type": "code",
   "execution_count": 11,
   "metadata": {
    "vscode": {
     "languageId": "r"
    }
   },
   "outputs": [
    {
     "data": {
      "image/png": "[encoded data removed]",
      "text/plain": [
       "Plot with title “==”\n",
       "Plot with title “frac(L(theta[2]), L(theta[1]))”\n",
       "Plot with title “40”"
      ]
     },
     "metadata": {
      "image/png": {
       "height": 300,
       "width": 420
      }
     },
     "output_type": "display_data"
    }
   ],
   "source": [
    "source(\"../r_scripts/utilities.r\")\n",
    "par(mgp = c(1.2, 0.25, 0))\n",
    "options(repr.plot.width = 7, repr.plot.height = 5)\n",
    "k <- 9\n",
    "n <- 10\n",
    "theta_1 <- 0.5\n",
    "theta_2 <- 0.9\n",
    "like_binom_plot(k, n, theta_2, theta_1)"
   ]
  },
  {
   "cell_type": "markdown",
   "metadata": {},
   "source": [
    "# 3.2 Máxima verosimilitud\n",
    "\n",
    "Hasta aquí la motivación del uso de las funciones de verosimilitud. Ahora veamos más formalmente la técnica para estimar parámetros, la estimación por máxima verosimilitud (EMV, y en inglés MLE). \n",
    "\n",
    "El problema de la MLE consiste en lo siguiente. Sea $X_1, X_2, \\dots, X_n$ una muestra aleatoria de variables i.i.d. con distribución conjunta $L(\\theta\\mid X_1,\\dots,X_n)$. El estimador de máxima verosimilitud de $\\theta$ es la solución al problema de optimización\n",
    "\n",
    "$$\n",
    "  \\theta^* = \\argmax L(\\theta\\mid X_1,\\dots,X_n ) \\tag{4}\n",
    "$$\n",
    "\n",
    "Caveat: este método impone una restricción fuerte, que es asumir que los datos siguen una distribución específica. \n",
    "\n",
    "## 3.2.1 MLE para binomial; obteniendo $\\theta$\n",
    "\n",
    "Como vimos gráficamente, $L$ para una binomial es cóncava. Podemos usar herramientas de cálculo para obtener $\\theta^*$. Volvamos al ejemplo inicial, en donde usamos 10 lanzamientos y obtuvimos 9 éxitos. Vimos que podemos modelar este problema como 10 ensayos de Bernoulli independientes, que es lo mismo que una función de distribución Binomial.\n",
    "\n",
    "$$\n",
    "  p(X=k) = \\binom{n}{k}\\theta^k(1-\\theta)^{n-k}\n",
    "$$\n",
    "\n",
    "La función de verosimilitud sería \n",
    "\n",
    "\n",
    "### 3.2.2 MLE para normal; obteniendo $\\mu$\n",
    "\n",
    "### 3.3 Encontrando el MLE en R\n",
    "\n",
    "Vamos a hacer una primera aproximación numérica usando grid-search"
   ]
  },
  {
   "cell_type": "code",
   "execution_count": 26,
   "metadata": {
    "vscode": {
     "languageId": "r"
    }
   },
   "outputs": [
    {
     "data": {
      "text/html": [
       "-4.62888671260541"
      ],
      "text/latex": [
       "-4.62888671260541"
      ],
      "text/markdown": [
       "-4.62888671260541"
      ],
      "text/plain": [
       "[1] -4.628887"
      ]
     },
     "metadata": {},
     "output_type": "display_data"
    },
    {
     "data": {
      "text/html": [
       "-2.11146220678048"
      ],
      "text/latex": [
       "-2.11146220678048"
      ],
      "text/markdown": [
       "-2.11146220678048"
      ],
      "text/plain": [
       "[1] -2.111462"
      ]
     },
     "metadata": {},
     "output_type": "display_data"
    }
   ],
   "source": [
    "# Crear función de log verosimilitud para la binomial\n",
    "l <- function(p,n,k) {\n",
    "  ell = k * log(p) + (n - k)*log(1-p) + log(choose(10, 9))\n",
    "  return(ll = ell)\n",
    "}\n",
    "# Evaluate the log-likelihood function for some arbitrary values\n",
    "l(p = 0.5, n = 10, k = 9)\n",
    "l(p = 0.7, n = 10, k = 9)"
   ]
  },
  {
   "cell_type": "code",
   "execution_count": 27,
   "metadata": {
    "vscode": {
     "languageId": "r"
    }
   },
   "outputs": [
    {
     "data": {
      "text/html": [
       "0.9"
      ],
      "text/latex": [
       "0.9"
      ],
      "text/markdown": [
       "0.9"
      ],
      "text/plain": [
       "[1] 0.9"
      ]
     },
     "metadata": {},
     "output_type": "display_data"
    },
    {
     "data": {
      "image/png": "[encoded data removed]",
      "text/plain": [
       "plot without title"
      ]
     },
     "metadata": {
      "image/png": {
       "height": 420,
       "width": 420
      }
     },
     "output_type": "display_data"
    }
   ],
   "source": [
    "grid_size <- 0.05\n",
    "grid_vec <- seq(0, 1, grid_size)\n",
    "n <- 10\n",
    "k <- 9\n",
    "log_lik <- l(grid_vec, n, k)\n",
    "plot(\n",
    "  grid_vec,\n",
    "  log_lik,\n",
    "  type = \"l\"\n",
    ")\n",
    "max_ll_index <- which.max(log_lik)\n",
    "arg_max <- grid_vec[max_ll_index]\n",
    "arg_max\n",
    "# graficar\n",
    "points(\n",
    "  arg_max,\n",
    "  log_lik[max_ll_index],\n",
    "  pch = 16,\n",
    "  col = 2,\n",
    "  cex = 2\n",
    ")"
   ]
  },
  {
   "cell_type": "markdown",
   "metadata": {},
   "source": [
    "En la práctica, este método puede ser muy costoso. Imaginar, por ejemplo, que se tiene que hacer una búsqueda para estimar 2 parámetros. Tendríamos que hacer combinaciones del grid de ambos parámetros. Este suele ser el método de fuerza bruta que se usa, en ocasiones, como primera aproximación o cuando no nos funciona ninguna otra cosa.\n",
    "\n",
    "Es más eficiente usar un algoritmo de optimización, como `optimize()`. Tiene los siguientes argumentos:\n",
    "\n",
    "```r\n",
    "optimize(f, interval, ..., lower = min(interval), upper = max(interval),\n",
    "         maximum = FALSE,\n",
    "         tol = .Machine$double.eps^0.25)\n",
    "         \n",
    "f\t\n",
    "the function to be optimized. The function is either minimized or maximized over its first argument depending on the value of maximum.\n",
    "\n",
    "interval\t\n",
    "a vector containing the end-points of the interval to be searched for the minimum.\n",
    "\n",
    "...\t\n",
    "additional named or unnamed arguments to be passed to f.\n",
    "\n",
    "lower\t\n",
    "the lower end point of the interval to be searched.\n",
    "\n",
    "upper\t\n",
    "the upper end point of the interval to be searched.\n",
    "\n",
    "maximum\t\n",
    "logical. Should we maximize or minimize (the default)?\n",
    "\n",
    "tol\t\n",
    "the desired accuracy.\n",
    "\n",
    "```"
   ]
  },
  {
   "cell_type": "code",
   "execution_count": 29,
   "metadata": {
    "vscode": {
     "languageId": "r"
    }
   },
   "outputs": [
    {
     "data": {
      "text/html": [
       "<dl>\n",
       "\t<dt>$maximum</dt>\n",
       "\t\t<dd>0.899999352051599</dd>\n",
       "\t<dt>$objective</dt>\n",
       "\t\t<dd>-0.948244640943761</dd>\n",
       "</dl>\n"
      ],
      "text/latex": [
       "\\begin{description}\n",
       "\\item[\\$maximum] 0.899999352051599\n",
       "\\item[\\$objective] -0.948244640943761\n",
       "\\end{description}\n"
      ],
      "text/markdown": [
       "$maximum\n",
       ":   0.899999352051599\n",
       "$objective\n",
       ":   -0.948244640943761\n",
       "\n",
       "\n"
      ],
      "text/plain": [
       "$maximum\n",
       "[1] 0.8999994\n",
       "\n",
       "$objective\n",
       "[1] -0.9482446\n"
      ]
     },
     "metadata": {},
     "output_type": "display_data"
    }
   ],
   "source": [
    "binom_mle <- function(k, n) {\n",
    "  L <- function(theta) log(dbinom(k, n, theta))\n",
    "  # usar solo interval entre 0 y 1 para theta\n",
    "  # dado que buscamos un máximo, declaramos TRUE\n",
    "  mle <- optimize(L, interval = c(0, 1), maximum = TRUE)\n",
    "  mle\n",
    "}\n",
    "mle_theta <- binom_mle(9, 10)\n",
    "mle_theta\n",
    "# retorna dos valores: el valor que maximiza, y la fn objetivo (L)\n",
    "# maximum corresponde al MLE, theta_hat. El valor de la objetivo\n",
    "# variará en con respecto al valor encontrado antes porque omitimos el coeficiente binomial"
   ]
  },
  {
   "cell_type": "code",
   "execution_count": 31,
   "metadata": {
    "vscode": {
     "languageId": "r"
    }
   },
   "outputs": [
    {
     "data": {
      "image/png": "[encoded data removed]",
      "text/plain": [
       "plot without title"
      ]
     },
     "metadata": {
      "image/png": {
       "height": 420,
       "width": 420
      }
     },
     "output_type": "display_data"
    }
   ],
   "source": [
    "plot(\n",
    "  grid_vec,\n",
    "  log_lik,\n",
    "  type = \"l\"\n",
    ")\n",
    "points(\n",
    "  arg_max,\n",
    "  log_lik[max_ll_index],\n",
    "  pch = 16,\n",
    "  col = 2,\n",
    "  cex = 2\n",
    ")\n",
    "abline(v = mle_theta$maximum)\n",
    "points(\n",
    "  mle_theta$maximum,\n",
    "  mle_theta$obj,\n",
    "  col = 'blue',\n",
    "  cex = 3\n",
    ")"
   ]
  }
 ],
 "metadata": {
  "kernelspec": {
   "display_name": "R",
   "language": "R",
   "name": "ir"
  },
  "language_info": {
   "codemirror_mode": "r",
   "file_extension": ".r",
   "mimetype": "text/x-r-source",
   "name": "R",
   "pygments_lexer": "r",
   "version": "4.2.1"
  },
  "orig_nbformat": 4,
  "vscode": {
   "interpreter": {
    "hash": "e7370f93d1d0cde622a1f8e1c04877d8463912d04d973331ad4851f04de6915a"
   }
  }
 },
 "nbformat": 4,
 "nbformat_minor": 2
}
