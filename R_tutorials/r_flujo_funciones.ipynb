{
 "cells": [
  {
   "cell_type": "markdown",
   "metadata": {},
   "source": [
    "# `R` básico -  control de flujo y funciones\n",
    "\n",
    "Los programas (sobre todo procedurales) como los que haremos en R son diseñados a partir de bloques comunes, **constructs**. Tres básicos son: secuencia (el orden en que ocurrirán las instrucciones), selección (que determina en qué ruta se ejecutan, siguiendo declaraciones condicionales) e iteración (que ejecuta una secuencia de forma repetida, que puede ser definido o indefinido).\n",
    "\n",
    "El control de flujo lo usamos para escribir declaraciones condicionales utilizando `if()` y `else()`, y para hacer que algo suceda un número determinado de veces usamos ciclos (o bucles) `for()`. El control de flujo sirve para establecer bajo qué condiciones, por cuánto número de veces, o ambas, puede suceder algo.\n",
    "\n",
    "Comenzamos con los constructs `if()` y `else()`, después con seguimos con los ciclos `for()` y `while()` (para iteraciones definidas e indefinidas, respectivamente). La bola extra son las funciones, que se pueden declarar usando `function()`."
   ]
  },
  {
   "cell_type": "code",
   "execution_count": 7,
   "metadata": {
    "vscode": {
     "languageId": "r"
    }
   },
   "outputs": [
    {
     "name": "stdout",
     "output_type": "stream",
     "text": [
      "[1] \"menor a 5\"\n"
     ]
    }
   ],
   "source": [
    "# asignar un valor a un vector \"a\"\n",
    "a <- 4\n",
    "if (a > 5) {\n",
    "  # si TRUE, imprimir en consola \"mayor a 5\", y restar a-1\n",
    "  print(\"mayor a 5\")\n",
    "  a <- a - 1\n",
    "} else {\n",
    "  # si FALSE, imprimir \"menor a 5\" y sumar a+1\n",
    "  print(\"menor a 5\")\n",
    "  a <- a + 1\n",
    "}"
   ]
  },
  {
   "cell_type": "markdown",
   "metadata": {},
   "source": [
    "Si se tiene un vector con más de 1 elemento, `if()` arroja un `Error` en la versión 4.2.0 de R, pero en versiones anteriores (<=4.1.2) solo toma el primero para hacer la comparación y arroja un `Warning`."
   ]
  },
  {
   "cell_type": "code",
   "execution_count": 8,
   "metadata": {
    "vscode": {
     "languageId": "r"
    }
   },
   "outputs": [
    {
     "ename": "ERROR",
     "evalue": "Error in if (a >= 5) {: the condition has length > 1\n",
     "output_type": "error",
     "traceback": [
      "Error in if (a >= 5) {: the condition has length > 1\nTraceback:\n"
     ]
    }
   ],
   "source": [
    "a <- c(5, 2, 3)\n",
    "if (a >= 5) {\n",
    "  print(\"mayor a 5\")\n",
    "} else {\n",
    "  print(\"menor a 5\")\n",
    "}"
   ]
  },
  {
   "cell_type": "markdown",
   "metadata": {},
   "source": [
    "Si se quiere saber si *todos* los valores sean mayores a 5, usar `all()`"
   ]
  },
  {
   "cell_type": "code",
   "execution_count": 6,
   "metadata": {
    "vscode": {
     "languageId": "r"
    }
   },
   "outputs": [
    {
     "data": {
      "text/html": [
       "FALSE"
      ],
      "text/latex": [
       "FALSE"
      ],
      "text/markdown": [
       "FALSE"
      ],
      "text/plain": [
       "[1] FALSE"
      ]
     },
     "metadata": {},
     "output_type": "display_data"
    }
   ],
   "source": [
    "a <- c(5, 2, 3)\n",
    "all(a > 5) # lo que obviamente es falso, ningun elemento es mayor que 5"
   ]
  },
  {
   "cell_type": "code",
   "execution_count": null,
   "metadata": {
    "vscode": {
     "languageId": "r"
    }
   },
   "outputs": [],
   "source": [
    "# pero esto es verdadero\n",
    "a <- 6:10\n",
    "all(a > 5)"
   ]
  },
  {
   "cell_type": "code",
   "execution_count": null,
   "metadata": {
    "vscode": {
     "languageId": "r"
    }
   },
   "outputs": [],
   "source": [
    "\n",
    "# si se quiere que *al menos un elemento* cumpla la condición, usar any\n",
    "\n",
    "a <- c(3, 4, 6)\n",
    "\n",
    "any(a > 5)\n",
    "\n",
    "\n",
    "# ifelse - pairwise\n",
    "\n",
    "a <- 1:10\n",
    "b <- ifelse(a > 5, \"yes\", \"no\")\n",
    "b\n",
    "df_tmp <- data.frame(\n",
    "  sexo = c(\"M\", \"F\", \"Hombre\")\n",
    ")\n",
    "\n",
    "df_tmp$sexo <- ifelse(df_tmp$sexo == \"Hombre\", \"M\", df_tmp$sexo)\n",
    "df_tmp"
   ]
  },
  {
   "cell_type": "markdown",
   "metadata": {},
   "source": [
    "## Ciclos for y while"
   ]
  },
  {
   "cell_type": "code",
   "execution_count": null,
   "metadata": {
    "vscode": {
     "languageId": "r"
    }
   },
   "outputs": [],
   "source": [
    "# definir dos vectores\n",
    "a <- 1:10\n",
    "b <- 1:10\n",
    "\n",
    "# pre-reservar espacio en un vector vacío\n",
    "res <- numeric(length = length(a))\n",
    "# otra alternativa es usar un vector con NAs. Esto suele ser preferido debido a \n",
    "# que, si uno de los valores naturales que obtendremos en el cómputo es 0, \n",
    "# no sabremos si es un 0 \n",
    "res <- rep(NA, length(a))\n",
    "\n",
    "\n",
    "for (i in seq_along(a)) {\n",
    "  res[i] <- a[i] + b[i]\n",
    "}\n",
    "\n",
    "\n",
    "a + b\n",
    "\n",
    "# se pueden hacer cosas más complejas; por ejemplo, guardar en una carpeta\n",
    "# diferentes archivos csv\n",
    "\n",
    "df_vacio <- data.frame()\n",
    "\n",
    "parent_folder <- \"C:/Users/T480/Desktop/archivos_csv/\"\n",
    "\n",
    "for (i in 1:5){\n",
    "  \n",
    "  data_tmp <- rnorm(100, 1 + i * 2, 2)\n",
    "  \n",
    "  df_tmp <- data.frame(\n",
    "    columna1 = data_tmp,\n",
    "    columna2 = letters[i]\n",
    "  )\n",
    "  \n",
    "  df_vacio <- rbind(df_vacio, df_tmp)\n",
    "  write.csv(df_tmp, file = paste0(parent_folder, \"data_\", letters[i], \".csv\"))\n",
    "}\n",
    "\n",
    "\n",
    "# recordar cómo se forman los data.frames, que son en esencia datos\n",
    "# tabulares, en donde cada columna es un vector, y todas las columnas\n",
    "# pueden tener diferentes tipos de datos\n",
    "# las columnas se declaran colocando el nombre de la columna\n",
    "df_ejemplo <- data.frame(\n",
    "  a = 1:10,\n",
    "  b = letters[1:10]\n",
    ")\n",
    "str(df_ejemplo)\n"
   ]
  },
  {
   "cell_type": "markdown",
   "metadata": {},
   "source": [
    "## Funciones\n"
   ]
  },
  {
   "cell_type": "code",
   "execution_count": null,
   "metadata": {
    "vscode": {
     "languageId": "r"
    }
   },
   "outputs": [],
   "source": [
    "\n",
    "# funciones ----\n",
    "\n",
    "# hacer una función que convierta fahrenheit a celcius\n",
    "\n",
    "fahrenheit_to_celsius <- function(temp_F) {\n",
    "  \n",
    "  temp_C <- (temp_F - 32) * 5 / 9\n",
    "\n",
    "  return(temp_C)\n",
    "}\n",
    "\n",
    "\n",
    "fahrenheit_to_celsius(32)\n",
    "\n",
    "fahrenheit_to_celsius()\n",
    "\n",
    "\n",
    "# ahora hacer una que convierta celcius a kalvin \n",
    "\n",
    "celsius_to_kelvin <- function(temp_C) {\n",
    "  temp_K <- temp_C + 273.15\n",
    "  return(temp_K)\n",
    "}\n",
    "\n",
    "celsius_to_kelvin()\n",
    "# ahora de fahrenheit a kalvin, que use como intermediario celcius\n",
    "\n",
    "fahrenheit_to_kelvin <- function(temp_F) {\n",
    "  temp_C <- fahrenheit_to_celsius(temp_F)\n",
    "  temp_K <- celsius_to_kelvin(temp_C)\n",
    "  return(temp_K)\n",
    "}\n",
    "\n",
    "fahrenheit_to_kelvin(32)\n"
   ]
  },
  {
   "cell_type": "markdown",
   "metadata": {},
   "source": [
    "## Combinar varias\n"
   ]
  },
  {
   "cell_type": "code",
   "execution_count": 3,
   "metadata": {
    "vscode": {
     "languageId": "r"
    }
   },
   "outputs": [
    {
     "name": "stdout",
     "output_type": "stream",
     "text": [
      "\n",
      "Call:\n",
      "lm(formula = y ~ x)\n",
      "\n",
      "Residuals:\n",
      "    Min      1Q  Median      3Q     Max \n",
      "-98.143 -22.095  -1.385  25.940  83.795 \n",
      "\n",
      "Coefficients:\n",
      "            Estimate Std. Error t value Pr(>|t|)    \n",
      "(Intercept)   3.6443     7.2617   0.502    0.617    \n",
      "x            10.0994     0.1255  80.499   <2e-16 ***\n",
      "---\n",
      "Signif. codes:  0 ‘***’ 0.001 ‘**’ 0.01 ‘*’ 0.05 ‘.’ 0.1 ‘ ’ 1\n",
      "\n",
      "Residual standard error: 36.58 on 98 degrees of freedom\n",
      "Multiple R-squared:  0.9851,\tAdjusted R-squared:  0.9849 \n",
      "F-statistic:  6480 on 1 and 98 DF,  p-value: < 2.2e-16\n",
      "\n"
     ]
    },
    {
     "data": {
      "image/png": "[encoded data removed]",
      "text/plain": [
       "plot without title"
      ]
     },
     "metadata": {
      "image/png": {
       "height": 420,
       "width": 420
      }
     },
     "output_type": "display_data"
    }
   ],
   "source": [
    "\n",
    "lm_plot_sim <- function(a, b, media, desv_est, n = 100, seed = TRUE) {\n",
    "  # Parar y mostrar error si desv_est es negativo\n",
    "  if (desv_est <= 0) {\n",
    "    stop(\"Error: argument desv_est should greater than 0\")\n",
    "  }\n",
    "  # declarar x\n",
    "  x <- seq(0, 100, len = n)\n",
    "  # usar eq de la recta\n",
    "  y <- a + b * x\n",
    "  # crear error normal\n",
    "  error <- rnorm(n = n, mean = media, sd = desv_est)\n",
    "  # fijar semilla para reproducibilidad\n",
    "  if (seed) {\n",
    "    set.seed(123)\n",
    "  }\n",
    "  # añadir error a y\n",
    "  y <- y + error\n",
    "  # graficar\n",
    "  plot(x, y, pch = 21, col = 'red', bg = 'gray80')\n",
    "  # regresion linear ols\n",
    "  lm1 <- lm(y ~ x)\n",
    "  # extraer coeficientes\n",
    "  coeficientes <- coef(lm1)\n",
    "  # añadir recta de regresion\n",
    "  abline(a = coeficientes[1], b = coeficientes[2], lwd = 2)\n",
    "  # imprimir coeficientes y summary\n",
    "  print(summary(lm1))\n",
    "} \n",
    "\n",
    "lm_plot_sim(a = 5, 10, media = 0, desv_est = 40)\n"
   ]
  }
 ],
 "metadata": {
  "kernelspec": {
   "display_name": "R",
   "language": "R",
   "name": "ir"
  },
  "language_info": {
   "codemirror_mode": "r",
   "file_extension": ".r",
   "mimetype": "text/x-r-source",
   "name": "R",
   "pygments_lexer": "r",
   "version": "4.2.0"
  },
  "orig_nbformat": 4
 },
 "nbformat": 4,
 "nbformat_minor": 2
}
