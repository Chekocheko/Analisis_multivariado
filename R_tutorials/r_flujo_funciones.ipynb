{
 "cells": [
  {
   "cell_type": "markdown",
   "metadata": {},
   "source": [
    "# `R` básico -  control de flujo y funciones\n",
    "\n",
    "Los programas (sobre todo procedurales) como los que haremos en R son diseñados a partir de bloques comunes, **constructs**. Tres básicos son: secuencia (el orden en que ocurrirán las instrucciones), selección (que determina en qué ruta se ejecutan, siguiendo declaraciones condicionales) e iteración (que ejecuta una secuencia de forma repetida, que puede ser definido o indefinido).\n",
    "\n",
    "El control de flujo lo usamos para escribir declaraciones condicionales utilizando `if()` y `else()`, y para hacer que algo suceda un número determinado de veces usamos ciclos (o bucles) `for()`. El control de flujo sirve para establecer bajo qué condiciones, por cuánto número de veces, o ambas, puede suceder algo.\n",
    "\n",
    "Comenzamos con los constructs `if()` y `else()`, después con seguimos con los ciclos `for()` y `while()` (para iteraciones definidas e indefinidas, respectivamente). La bola extra son las funciones, que se pueden declarar usando `function()`."
   ]
  },
  {
   "cell_type": "code",
   "execution_count": 7,
   "metadata": {
    "vscode": {
     "languageId": "r"
    }
   },
   "outputs": [
    {
     "name": "stdout",
     "output_type": "stream",
     "text": [
      "[1] \"menor a 5\"\n"
     ]
    }
   ],
   "source": [
    "# asignar un valor a un vector \"a\"\n",
    "a <- 4\n",
    "if (a > 5) {\n",
    "  # si TRUE, imprimir en consola \"mayor a 5\", y restar a-1\n",
    "  print(\"mayor a 5\")\n",
    "  a <- a - 1\n",
    "} else {\n",
    "  # si FALSE, imprimir \"menor a 5\" y sumar a+1\n",
    "  print(\"menor a 5\")\n",
    "  a <- a + 1\n",
    "}"
   ]
  },
  {
   "cell_type": "markdown",
   "metadata": {},
   "source": [
    "Si solo se escribe \n",
    "\n",
    "```R\n",
    "if (condicion){\n",
    "  <expresion>\n",
    "}\n",
    "```\n",
    "\n",
    "se evalúa la expresión `<expresión>` *solo* la `condicion` es verdadera, de lo contrario no se evalúa. Se agrega `else` para evaluar cuando la condición en `if()` es falsa."
   ]
  },
  {
   "cell_type": "markdown",
   "metadata": {},
   "source": [
    "Si se tiene un vector con más de 1 elemento, `if()` arroja un `Error` en la versión 4.2.0 de R, pero en versiones anteriores (<=4.1.2) solo toma el primero para hacer la comparación y arroja un `Warning`. La actualización en 4.2.0 constituye una mejora dado que previene errores inesperados (por ejemplo, al automatizar)."
   ]
  },
  {
   "cell_type": "code",
   "execution_count": 8,
   "metadata": {
    "vscode": {
     "languageId": "r"
    }
   },
   "outputs": [
    {
     "ename": "ERROR",
     "evalue": "Error in if (a >= 5) {: the condition has length > 1\n",
     "output_type": "error",
     "traceback": [
      "Error in if (a >= 5) {: the condition has length > 1\nTraceback:\n"
     ]
    }
   ],
   "source": [
    "a <- c(5, 2, 3)\n",
    "if (a >= 5) {\n",
    "  print(\"mayor a 5\")\n",
    "} else {\n",
    "  print(\"menor a 5\")\n",
    "}"
   ]
  },
  {
   "cell_type": "markdown",
   "metadata": {},
   "source": [
    "Si se quiere saber si *todos* los valores sean mayores a 5, usar `all()`"
   ]
  },
  {
   "cell_type": "code",
   "execution_count": 6,
   "metadata": {
    "vscode": {
     "languageId": "r"
    }
   },
   "outputs": [
    {
     "data": {
      "text/html": [
       "FALSE"
      ],
      "text/latex": [
       "FALSE"
      ],
      "text/markdown": [
       "FALSE"
      ],
      "text/plain": [
       "[1] FALSE"
      ]
     },
     "metadata": {},
     "output_type": "display_data"
    }
   ],
   "source": [
    "a <- c(5, 2, 3)\n",
    "all(a > 5) # lo que obviamente es falso, ningún elemento es mayor que 5"
   ]
  },
  {
   "cell_type": "code",
   "execution_count": null,
   "metadata": {
    "vscode": {
     "languageId": "r"
    }
   },
   "outputs": [],
   "source": [
    "# pero esto es verdadero\n",
    "a <- 6:10\n",
    "all(a > 5)"
   ]
  },
  {
   "cell_type": "markdown",
   "metadata": {},
   "source": [
    "La función `any()` permite saber si al menos un elemento en un vector cumple una condición."
   ]
  },
  {
   "cell_type": "code",
   "execution_count": null,
   "metadata": {
    "vscode": {
     "languageId": "r"
    }
   },
   "outputs": [],
   "source": [
    "a <- c(3, 4, 6)\n",
    "any(a > 5)"
   ]
  },
  {
   "cell_type": "markdown",
   "metadata": {},
   "source": [
    "La función \n",
    "\n",
    "```R\n",
    "ifelse(condicion, <x> si TRUE, <y> si FALSE)\n",
    "``` \n",
    "\n",
    "es una forma *vectorizada* de `if, else` que permite comparar todos los elementos de un vector con una condición dada, y para cada elemento arroja un valor lógico: para cada valor `TRUE` se aplica `x`, y para cada valor `FALSE` se aplica `y`."
   ]
  },
  {
   "cell_type": "code",
   "execution_count": 1,
   "metadata": {
    "vscode": {
     "languageId": "r"
    }
   },
   "outputs": [
    {
     "data": {
      "text/html": [
       "<style>\n",
       ".list-inline {list-style: none; margin:0; padding: 0}\n",
       ".list-inline>li {display: inline-block}\n",
       ".list-inline>li:not(:last-child)::after {content: \"\\00b7\"; padding: 0 .5ex}\n",
       "</style>\n",
       "<ol class=list-inline><li>'no'</li><li>'no'</li><li>'no'</li><li>'no'</li><li>'no'</li><li>'yes'</li><li>'yes'</li><li>'yes'</li><li>'yes'</li><li>'yes'</li></ol>\n"
      ],
      "text/latex": [
       "\\begin{enumerate*}\n",
       "\\item 'no'\n",
       "\\item 'no'\n",
       "\\item 'no'\n",
       "\\item 'no'\n",
       "\\item 'no'\n",
       "\\item 'yes'\n",
       "\\item 'yes'\n",
       "\\item 'yes'\n",
       "\\item 'yes'\n",
       "\\item 'yes'\n",
       "\\end{enumerate*}\n"
      ],
      "text/markdown": [
       "1. 'no'\n",
       "2. 'no'\n",
       "3. 'no'\n",
       "4. 'no'\n",
       "5. 'no'\n",
       "6. 'yes'\n",
       "7. 'yes'\n",
       "8. 'yes'\n",
       "9. 'yes'\n",
       "10. 'yes'\n",
       "\n",
       "\n"
      ],
      "text/plain": [
       " [1] \"no\"  \"no\"  \"no\"  \"no\"  \"no\"  \"yes\" \"yes\" \"yes\" \"yes\" \"yes\""
      ]
     },
     "metadata": {},
     "output_type": "display_data"
    }
   ],
   "source": [
    "# evaluar qué elementos de a son mayors a 5; imprimir 'yes' cuando lo sean y 'no' cuando no lo sean\n",
    "a <- 1:10\n",
    "b <- ifelse(a > 5, \"yes\", \"no\")\n",
    "b"
   ]
  },
  {
   "cell_type": "code",
   "execution_count": 5,
   "metadata": {
    "vscode": {
     "languageId": "r"
    }
   },
   "outputs": [
    {
     "data": {
      "text/html": [
       "<style>\n",
       ".list-inline {list-style: none; margin:0; padding: 0}\n",
       ".list-inline>li {display: inline-block}\n",
       ".list-inline>li:not(:last-child)::after {content: \"\\00b7\"; padding: 0 .5ex}\n",
       "</style>\n",
       "<ol class=list-inline><li>'Non'</li><li>'Par'</li><li>'Non'</li><li>'Par'</li><li>'Non'</li><li>'Par'</li><li>'Non'</li><li>'Par'</li></ol>\n"
      ],
      "text/latex": [
       "\\begin{enumerate*}\n",
       "\\item 'Non'\n",
       "\\item 'Par'\n",
       "\\item 'Non'\n",
       "\\item 'Par'\n",
       "\\item 'Non'\n",
       "\\item 'Par'\n",
       "\\item 'Non'\n",
       "\\item 'Par'\n",
       "\\end{enumerate*}\n"
      ],
      "text/markdown": [
       "1. 'Non'\n",
       "2. 'Par'\n",
       "3. 'Non'\n",
       "4. 'Par'\n",
       "5. 'Non'\n",
       "6. 'Par'\n",
       "7. 'Non'\n",
       "8. 'Par'\n",
       "\n",
       "\n"
      ],
      "text/plain": [
       "[1] \"Non\" \"Par\" \"Non\" \"Par\" \"Non\" \"Par\" \"Non\" \"Par\""
      ]
     },
     "metadata": {},
     "output_type": "display_data"
    }
   ],
   "source": [
    "# evaluar qué elementos del vector 'num' son pares usando %% (la operación módulo, x mod y)\n",
    "# la operación módulo regresa el residuo de la división de x/y; e.g., 5 mod 4 retorna 1, \n",
    "# que es equivalente a 5-4*round(4/5).\n",
    "num <- 1:8\n",
    "ifelse(num %% 2 == 0, \"Par\", \"Non\")"
   ]
  },
  {
   "cell_type": "markdown",
   "metadata": {},
   "source": [
    "Notar que la comparación `num %% 2 == 0` solo es verdad cuando `num` es divisible entre 2, sin residuos."
   ]
  },
  {
   "cell_type": "code",
   "execution_count": 4,
   "metadata": {
    "vscode": {
     "languageId": "r"
    }
   },
   "outputs": [
    {
     "data": {
      "text/html": [
       "<style>\n",
       ".list-inline {list-style: none; margin:0; padding: 0}\n",
       ".list-inline>li {display: inline-block}\n",
       ".list-inline>li:not(:last-child)::after {content: \"\\00b7\"; padding: 0 .5ex}\n",
       "</style>\n",
       "<ol class=list-inline><li>1</li><li>0</li><li>1</li><li>0</li><li>1</li><li>0</li><li>1</li><li>0</li></ol>\n"
      ],
      "text/latex": [
       "\\begin{enumerate*}\n",
       "\\item 1\n",
       "\\item 0\n",
       "\\item 1\n",
       "\\item 0\n",
       "\\item 1\n",
       "\\item 0\n",
       "\\item 1\n",
       "\\item 0\n",
       "\\end{enumerate*}\n"
      ],
      "text/markdown": [
       "1. 1\n",
       "2. 0\n",
       "3. 1\n",
       "4. 0\n",
       "5. 1\n",
       "6. 0\n",
       "7. 1\n",
       "8. 0\n",
       "\n",
       "\n"
      ],
      "text/plain": [
       "[1] 1 0 1 0 1 0 1 0"
      ]
     },
     "metadata": {},
     "output_type": "display_data"
    }
   ],
   "source": [
    "num %% 2"
   ]
  },
  {
   "cell_type": "markdown",
   "metadata": {},
   "source": [
    "Un posible uso de `ifelse()` es para verificar qué valores de una columna no cumplen con una condición, y reemplazar esos valores *in situ*  por los valores correctos. Por ejemplo, en el siguiente `data.frame` se codificó la variable `sexo` de forma inconsistente: en ocasiones como `M` y en ocasiones como `Hombre`. Esto puede inducir a errores cuando se analice (e.g., creando la apariencia de que la variable `sexo` es un factor de tres niveles)."
   ]
  },
  {
   "cell_type": "code",
   "execution_count": 7,
   "metadata": {
    "vscode": {
     "languageId": "r"
    }
   },
   "outputs": [
    {
     "data": {
      "text/html": [
       "<table class=\"dataframe\">\n",
       "<caption>A data.frame: 3 × 1</caption>\n",
       "<thead>\n",
       "\t<tr><th scope=col>sexo</th></tr>\n",
       "\t<tr><th scope=col>&lt;chr&gt;</th></tr>\n",
       "</thead>\n",
       "<tbody>\n",
       "\t<tr><td>M     </td></tr>\n",
       "\t<tr><td>F     </td></tr>\n",
       "\t<tr><td>Hombre</td></tr>\n",
       "</tbody>\n",
       "</table>\n"
      ],
      "text/latex": [
       "A data.frame: 3 × 1\n",
       "\\begin{tabular}{l}\n",
       " sexo\\\\\n",
       " <chr>\\\\\n",
       "\\hline\n",
       "\t M     \\\\\n",
       "\t F     \\\\\n",
       "\t Hombre\\\\\n",
       "\\end{tabular}\n"
      ],
      "text/markdown": [
       "\n",
       "A data.frame: 3 × 1\n",
       "\n",
       "| sexo &lt;chr&gt; |\n",
       "|---|\n",
       "| M      |\n",
       "| F      |\n",
       "| Hombre |\n",
       "\n"
      ],
      "text/plain": [
       "  sexo  \n",
       "1 M     \n",
       "2 F     \n",
       "3 Hombre"
      ]
     },
     "metadata": {},
     "output_type": "display_data"
    }
   ],
   "source": [
    "df_tmp <- data.frame(\n",
    "  sexo = c(\"M\", \"F\", \"Hombre\")\n",
    ")\n",
    "# la tercera fila tiene Hombre en vez de M\n",
    "df_tmp"
   ]
  },
  {
   "cell_type": "code",
   "execution_count": 8,
   "metadata": {
    "vscode": {
     "languageId": "r"
    }
   },
   "outputs": [
    {
     "data": {
      "text/html": [
       "<table class=\"dataframe\">\n",
       "<caption>A data.frame: 3 × 1</caption>\n",
       "<thead>\n",
       "\t<tr><th scope=col>sexo</th></tr>\n",
       "\t<tr><th scope=col>&lt;chr&gt;</th></tr>\n",
       "</thead>\n",
       "<tbody>\n",
       "\t<tr><td>M</td></tr>\n",
       "\t<tr><td>F</td></tr>\n",
       "\t<tr><td>M</td></tr>\n",
       "</tbody>\n",
       "</table>\n"
      ],
      "text/latex": [
       "A data.frame: 3 × 1\n",
       "\\begin{tabular}{l}\n",
       " sexo\\\\\n",
       " <chr>\\\\\n",
       "\\hline\n",
       "\t M\\\\\n",
       "\t F\\\\\n",
       "\t M\\\\\n",
       "\\end{tabular}\n"
      ],
      "text/markdown": [
       "\n",
       "A data.frame: 3 × 1\n",
       "\n",
       "| sexo &lt;chr&gt; |\n",
       "|---|\n",
       "| M |\n",
       "| F |\n",
       "| M |\n",
       "\n"
      ],
      "text/plain": [
       "  sexo\n",
       "1 M   \n",
       "2 F   \n",
       "3 M   "
      ]
     },
     "metadata": {},
     "output_type": "display_data"
    }
   ],
   "source": [
    "# corregir reemplazando en su posición Hombre por M\n",
    "df_tmp$sexo <- ifelse(df_tmp$sexo == \"Hombre\", \"M\", df_tmp$sexo)\n",
    "df_tmp"
   ]
  },
  {
   "cell_type": "markdown",
   "metadata": {},
   "source": [
    "Tip:\n",
    "Hay formas más eficientes de reemplazos como el anterior. Por ejemplo, creando un vector *nombrado* (named vector) con los elementos correctos, y con nombres de posibles variaciones incorrectas."
   ]
  },
  {
   "cell_type": "code",
   "execution_count": 13,
   "metadata": {
    "vscode": {
     "languageId": "r"
    }
   },
   "outputs": [
    {
     "data": {
      "text/html": [
       "<table class=\"dataframe\">\n",
       "<caption>A data.frame: 3 × 1</caption>\n",
       "<thead>\n",
       "\t<tr><th scope=col>sexo</th></tr>\n",
       "\t<tr><th scope=col>&lt;chr&gt;</th></tr>\n",
       "</thead>\n",
       "<tbody>\n",
       "\t<tr><td>M</td></tr>\n",
       "\t<tr><td>F</td></tr>\n",
       "\t<tr><td>M</td></tr>\n",
       "</tbody>\n",
       "</table>\n"
      ],
      "text/latex": [
       "A data.frame: 3 × 1\n",
       "\\begin{tabular}{l}\n",
       " sexo\\\\\n",
       " <chr>\\\\\n",
       "\\hline\n",
       "\t M\\\\\n",
       "\t F\\\\\n",
       "\t M\\\\\n",
       "\\end{tabular}\n"
      ],
      "text/markdown": [
       "\n",
       "A data.frame: 3 × 1\n",
       "\n",
       "| sexo &lt;chr&gt; |\n",
       "|---|\n",
       "| M |\n",
       "| F |\n",
       "| M |\n",
       "\n"
      ],
      "text/plain": [
       "  sexo\n",
       "1 M   \n",
       "2 F   \n",
       "3 M   "
      ]
     },
     "metadata": {},
     "output_type": "display_data"
    }
   ],
   "source": [
    "df_tmp <- data.frame(\n",
    "  sexo = c(\"M\", \"F\", \"Hombre\")\n",
    ")\n",
    "vec_correct <- c(\"M\", \"F\", \"M\")\n",
    "# nombres de posibles variaciones\n",
    "nombres <- c(\"M\", \"F\", \"Hombre\")\n",
    "# asignar los nombres de las posibles variaciones a vec_correct\n",
    "# notar que para M -> M, F -> F, Hombre -> M\n",
    "names(vec_correct) <- nombres\n",
    "# vec_correct[df_tmp$sexo] retorna los valores de vec_correct\n",
    "# para todas las variaciones\n",
    "df_tmp$sexo <- vec_correct[df_tmp$sexo]\n",
    "df_tmp"
   ]
  },
  {
   "cell_type": "markdown",
   "metadata": {},
   "source": [
    "## Ciclos for y while"
   ]
  },
  {
   "cell_type": "markdown",
   "metadata": {},
   "source": [
    "Los *bucles* `for` permiten realizar una o más operaciones por cada elemento en un vector. Su estructura típica es como sigue\n",
    "\n",
    "```R\n",
    "for(elemento in vector) {\n",
    "  operacion_por_cada_elemento\n",
    "}\n",
    "```\n",
    "\n",
    "El `vector` puede ser un vector de enteros consecutivos, por ejemplo\n",
    "\n",
    "```R\n",
    "vector <- 1:10\n",
    "for(i in vector) {\n",
    "  print(i)\n",
    "}\n",
    "```\n",
    "\n",
    "El elemento `i` irá tomando los valores 1 al 10 de `vector` de forma consecutiva. Dentro del ciclo for, la expresión `print(i)` imprimirá cada valor `i` que se vaya tomando.\n",
    "\n",
    "El vector puede tener otros valores, o incluso ser una lista. Por ejemplo"
   ]
  },
  {
   "cell_type": "code",
   "execution_count": 14,
   "metadata": {
    "vscode": {
     "languageId": "r"
    }
   },
   "outputs": [
    {
     "name": "stdout",
     "output_type": "stream",
     "text": [
      "[1] \"Mex\"\n",
      "[1] \"Col\"\n",
      "[1] \"Chi\"\n",
      "[1] \"Arg\"\n"
     ]
    }
   ],
   "source": [
    "countries <- c(\"Mex\", \"Col\", \"Chi\", \"Arg\")\n",
    "for(country in countries) {\n",
    "  print(country)\n",
    "}"
   ]
  },
  {
   "cell_type": "markdown",
   "metadata": {},
   "source": [
    "El código\n",
    "\n",
    "```R\n",
    "countries <- c(\"Mex\", \"Col\", \"Chi\", \"Arg\")\n",
    "for(country in countries){\n",
    "  print(country)\n",
    "}\n",
    "```\n",
    "\n",
    "Imprime de forma iterativa cada país en el vector `countries`. Notar que `country` podría ser cualquier cosa, como la letra `i`, y toma los valores de `countries` de forma iterativa. Si queremos hacer operaciones mas complejas con cada elemento, `country` tomará otro valor de `countries` solo al terminar todas las operaciones. Por ejemplo, a cada elemento de `countries` agregarle un guión y un número al final que vaya desde 0 hasta el último elemento."
   ]
  },
  {
   "cell_type": "code",
   "execution_count": 16,
   "metadata": {
    "vscode": {
     "languageId": "r"
    }
   },
   "outputs": [
    {
     "name": "stdout",
     "output_type": "stream",
     "text": [
      "[1] \"Mex-0\"\n",
      "[1] \"Col-1\"\n",
      "[1] \"Chi-2\"\n",
      "[1] \"Arg-3\"\n"
     ]
    }
   ],
   "source": [
    "countries <- c(\"Mex\", \"Col\", \"Chi\", \"Arg\")\n",
    "val <- 0\n",
    "for(country in countries) {\n",
    "  new_country <- paste(country, val, sep = \"-\")\n",
    "  val <- val + 1\n",
    "  print(new_country)\n",
    "}"
   ]
  },
  {
   "cell_type": "markdown",
   "metadata": {},
   "source": [
    "Notar que en el código anterior, el resultado de las operaciones se pierde, solo queda en la memoria el valor del último elemento `country`:"
   ]
  },
  {
   "cell_type": "code",
   "execution_count": 17,
   "metadata": {
    "vscode": {
     "languageId": "r"
    }
   },
   "outputs": [
    {
     "data": {
      "text/html": [
       "'Arg'"
      ],
      "text/latex": [
       "'Arg'"
      ],
      "text/markdown": [
       "'Arg'"
      ],
      "text/plain": [
       "[1] \"Arg\""
      ]
     },
     "metadata": {},
     "output_type": "display_data"
    }
   ],
   "source": [
    "country"
   ]
  },
  {
   "cell_type": "markdown",
   "metadata": {},
   "source": [
    "Si queremos conservar el resultado de las operaciones dentro de un bucle `for` debemos pre-asignar espacio a un objeto (vector, lista, data frame, etc) de la misma longitud de las operaciones que se quieren conservar. En cada vuelta del bucle se guardará el resultado en una posición pre-asignada. Por ejemplo, si queremos guardar el resultado de `paste(country, val, sep = \"-\")` en un vector `new_country` en cada posición que `country` vaya tomando, podemos hacer algo como lo siguiente"
   ]
  },
  {
   "cell_type": "code",
   "execution_count": 18,
   "metadata": {
    "vscode": {
     "languageId": "r"
    }
   },
   "outputs": [
    {
     "name": "stdout",
     "output_type": "stream",
     "text": [
      "[1] \"Mex-0\"\n",
      "[1] \"Col-1\"\n",
      "[1] \"Chi-2\"\n",
      "[1] \"Arg-3\"\n"
     ]
    }
   ],
   "source": [
    "countries <- c(\"Mex\", \"Col\", \"Chi\", \"Arg\")\n",
    "# preasignar new_country con 0s, de longitud length(countries)\n",
    "new_country <- numeric(length = length(countries))\n",
    "# en vez de tomar los valores de countries, tomaremos sus *índices*\n",
    "# usando seq_along, que irá de 1, 2, 3 y 4\n",
    "for(i in seq_along(countries)) {\n",
    "  # asignar el i-th a country\n",
    "  country <- countries[i]\n",
    "  # i-1 comienza en 0 y termina en length(countries) - 1,\n",
    "  # esta nueva cadena de caracteres la asignamos a new_country\n",
    "  # en la posición i\n",
    "  new_country[i] <- paste(country, i - 1, sep = \"-\")\n",
    "  # imprimir el i-th new_country\n",
    "  print(new_country[i])\n",
    "}"
   ]
  },
  {
   "cell_type": "code",
   "execution_count": 19,
   "metadata": {
    "vscode": {
     "languageId": "r"
    }
   },
   "outputs": [
    {
     "data": {
      "text/html": [
       "<style>\n",
       ".list-inline {list-style: none; margin:0; padding: 0}\n",
       ".list-inline>li {display: inline-block}\n",
       ".list-inline>li:not(:last-child)::after {content: \"\\00b7\"; padding: 0 .5ex}\n",
       "</style>\n",
       "<ol class=list-inline><li>'Mex-0'</li><li>'Col-1'</li><li>'Chi-2'</li><li>'Arg-3'</li></ol>\n"
      ],
      "text/latex": [
       "\\begin{enumerate*}\n",
       "\\item 'Mex-0'\n",
       "\\item 'Col-1'\n",
       "\\item 'Chi-2'\n",
       "\\item 'Arg-3'\n",
       "\\end{enumerate*}\n"
      ],
      "text/markdown": [
       "1. 'Mex-0'\n",
       "2. 'Col-1'\n",
       "3. 'Chi-2'\n",
       "4. 'Arg-3'\n",
       "\n",
       "\n"
      ],
      "text/plain": [
       "[1] \"Mex-0\" \"Col-1\" \"Chi-2\" \"Arg-3\""
      ]
     },
     "metadata": {},
     "output_type": "display_data"
    }
   ],
   "source": [
    "# verificar que se guardó correctamente \n",
    "new_country"
   ]
  },
  {
   "cell_type": "code",
   "execution_count": null,
   "metadata": {
    "vscode": {
     "languageId": "r"
    }
   },
   "outputs": [],
   "source": [
    "# Otro ejemplo\n",
    "# definir dos vectores\n",
    "a <- 1:10\n",
    "b <- 1:10\n",
    "\n",
    "# pre-reservar espacio en un vector vacío\n",
    "res <- numeric(length = length(a))\n",
    "# otra alternativa es usar un vector con NAs\n",
    "res <- rep(NA, length(a))\n",
    "\n",
    "for (i in seq_along(a)) {\n",
    "  res[i] <- a[i] + b[i]\n",
    "}\n",
    "\n",
    "# claro que lo anterior es más sencillo de forma vectorizada\n",
    "a + b"
   ]
  },
  {
   "cell_type": "code",
   "execution_count": 20,
   "metadata": {
    "vscode": {
     "languageId": "r"
    }
   },
   "outputs": [
    {
     "name": "stderr",
     "output_type": "stream",
     "text": [
      "Warning message in file(file, ifelse(append, \"a\", \"w\")):\n",
      "“no fue posible abrir el archivo 'archivos_csv/data_a.csv': No existe el fichero o el directorio”\n"
     ]
    },
    {
     "ename": "ERROR",
     "evalue": "Error in file(file, ifelse(append, \"a\", \"w\")): no se puede abrir la conexión\n",
     "output_type": "error",
     "traceback": [
      "Error in file(file, ifelse(append, \"a\", \"w\")): no se puede abrir la conexión\nTraceback:\n",
      "1. write.csv(df_tmp, file = paste0(parent_folder, \"data_\", letters[i], \n .     \".csv\"))",
      "2. eval.parent(Call)",
      "3. eval(expr, p)",
      "4. eval(expr, p)",
      "5. utils::write.table(df_tmp, file = paste0(parent_folder, \"data_\", \n .     letters[i], \".csv\"), col.names = NA, sep = \",\", dec = \".\", \n .     qmethod = \"double\")",
      "6. file(file, ifelse(append, \"a\", \"w\"))"
     ]
    }
   ],
   "source": [
    "# se pueden hacer cosas más complejas; por ejemplo, guardar en una carpeta\n",
    "# diferentes archivos csv, en este caso generados por una variable aleatoria\n",
    "# normal con media 1+i^2 y desviación estándar 2\n",
    "\n",
    "df_vacio <- data.frame()\n",
    "# este folder ya debe existir en el directorio de trabajo, ver getwd()\n",
    "parent_folder <- \"archivos_csv/\"\n",
    "\n",
    "for (i in 1:5){\n",
    "  # crear objeto temporal\n",
    "  data_tmp <- rnorm(100, 1 + i * 2, 2)\n",
    "  # asignar a data frame temporal, para cada 100 valores de rnorm\n",
    "  # se le asigna una letra de letters para identificarlos\n",
    "  df_tmp <- data.frame(\n",
    "    columna1 = data_tmp,\n",
    "    columna2 = letters[i]\n",
    "  )\n",
    "  # unir en filas el dataframe temporal al data.frame vacío creado anteriormente\n",
    "  # rbind(X, Y) une a Y en la última fila de X; debe tenerse cuidado\n",
    "  # de que X y Y tengan las mismas columnas con los mismos nombres.\n",
    "  df_vacio <- rbind(df_vacio, df_tmp)\n",
    "  # escribir cada df_tmp (temporal) en la carpeta parent_folder, con el nombre\n",
    "  # de archivo \"data_letters[i].csv\", cuando i es igual a 1, el nombre\n",
    "  # será data_a.csv, cuando sea 2, data_b.csv, etc\n",
    "  write.csv(df_tmp,\n",
    "    file = paste0(parent_folder, \"data_\", letters[i], \".csv\")\n",
    "  )\n",
    "}\n",
    "\n",
    "# recordar cómo se forman los data.frames, que son en esencia datos\n",
    "# tabulares, en donde cada columna es un vector, y todas las columnas\n",
    "# pueden tener diferentes tipos de datos\n",
    "# las columnas se declaran colocando el nombre de la columna\n",
    "df_ejemplo <- data.frame(\n",
    "  a = 1:10,\n",
    "  b = letters[1:10]\n",
    ")\n",
    "str(df_ejemplo)\n"
   ]
  },
  {
   "cell_type": "markdown",
   "metadata": {},
   "source": [
    "## Funciones\n",
    "\n",
    "En `R` podemos abstraer rutinas que hacemos frecuentemente como funciones. Por ejemplo, estar cambiando frecuentemente entre unidades en Fahrenheit, Celcius y Kelvin:"
   ]
  },
  {
   "cell_type": "code",
   "execution_count": 23,
   "metadata": {
    "vscode": {
     "languageId": "r"
    }
   },
   "outputs": [
    {
     "data": {
      "text/html": [
       "37.7777777777778"
      ],
      "text/latex": [
       "37.7777777777778"
      ],
      "text/markdown": [
       "37.7777777777778"
      ],
      "text/plain": [
       "[1] 37.77778"
      ]
     },
     "metadata": {},
     "output_type": "display_data"
    }
   ],
   "source": [
    "# hacer una función que convierta fahrenheit a Celsius\n",
    "# argumento: temp_F, temperatura en fahrenheit\n",
    "# resultado: temperatura en centigrados\n",
    "fahrenheit_to_celsius <- function(temp_F) {\n",
    "  temp_C <- (temp_F - 32) * 5 / 9\n",
    "  return(temp_C)\n",
    "}\n",
    "# usar la función, cambiar de 100 F a grados celcius\n",
    "fahrenheit_to_celsius(100)"
   ]
  },
  {
   "cell_type": "markdown",
   "metadata": {},
   "source": [
    "Otro ejemplo es si frecuentemente tenemos datos de entrada `x,y` y necesitamos un gráfico de dispersión para cada mes y luego guardarlo en un directorio específico. Podemos abstraer esa rutina en una función de la siguiente manera"
   ]
  },
  {
   "cell_type": "code",
   "execution_count": 52,
   "metadata": {
    "vscode": {
     "languageId": "r"
    }
   },
   "outputs": [],
   "source": [
    "# Argumentos:\n",
    "#           x: vector de valores de x\n",
    "#           y: vector valores de y\n",
    "#           month: cadena de caracteres del mes en que se tomaron x,y\n",
    "#           dir_plot_save: cadena de la dirección (folder) donde se guardará\n",
    "#                          el gráfico. Puede ser relativo al getwd() o absoluto\n",
    "plot_monthly <- function(x, y, month, dir_plot_save) {\n",
    "  # guardaremos el archivo con la funcion png() de R, ver argumentos con ?png\n",
    "  # creamos el argumento 'filename' que debe tener el directorio y el nombre\n",
    "  # del grafico\n",
    "  file_name <- paste0(\n",
    "    # el directorio\n",
    "    dir_plot_save,\n",
    "    # el nombre del plot\n",
    "    \"plot_xy_\",\n",
    "    # el mes\n",
    "    month,\n",
    "    # la extensión\n",
    "    \".png\"\n",
    "  )\n",
    "  # e.g., 'monthly_plots/plot_xy_febrero.png'\n",
    "  png(\n",
    "    # nombre de archivo creado antes\n",
    "    filename = file_name,\n",
    "    # ancho y largo en pixeles; se puede cambiar las unidades con, e.g.,\n",
    "    # units = 'in' para unidades en pulgadas\n",
    "    width = 500,\n",
    "    height = 500,\n",
    "    # resolución en dpi\n",
    "    res = 90\n",
    "  )\n",
    "  # usamos la función plot que viene por defecto en R\n",
    "  plot(\n",
    "    # valores de x,y en ese orden\n",
    "    x, y,\n",
    "    # xlab y ylab son los títulos de los ejes x,y\n",
    "    xlab = \"x values\",\n",
    "    ylab = \"y values\",\n",
    "    # main es el argumento para el título del gráfico\n",
    "    main = paste0(\"Month: \", month)\n",
    "  )\n",
    "  # cerramos la conexión abierta con png usando dev.off(); con esto termina\n",
    "  # el ejercicio. Si no se escribe dev.off el gráfico no se guardará\n",
    "  dev.off()\n",
    "}"
   ]
  },
  {
   "cell_type": "code",
   "execution_count": 53,
   "metadata": {
    "vscode": {
     "languageId": "r"
    }
   },
   "outputs": [
    {
     "data": {
      "text/html": [
       "<strong>png:</strong> 2"
      ],
      "text/latex": [
       "\\textbf{png:} 2"
      ],
      "text/markdown": [
       "**png:** 2"
      ],
      "text/plain": [
       "png \n",
       "  2 "
      ]
     },
     "metadata": {},
     "output_type": "display_data"
    }
   ],
   "source": [
    "# asignar valores a argumentos\n",
    "month <- \"Febrero\"\n",
    "x <- rnorm(100, mean = 10)\n",
    "y <- x * 2\n",
    "# para el directorio usamos uno relativo al working directory, getwd()\n",
    "dir_plot_save <- paste0(getwd(), \"/plots/\")\n",
    "plot_monthly(x, y, month = month, dir_plot_save = dir_plot_save)"
   ]
  },
  {
   "cell_type": "markdown",
   "metadata": {},
   "source": [
    "## Combinar control de flujo y funciones\n",
    "\n",
    "1. Verificar si los argumentos `a, b, media, desv_est` y `n` son numéricos.\n",
    "2. Verificar si `desv_est` es positiva.\n",
    "3. Para reproducibilidad, `seed` por defecto `TRUE`, de otra manera cada vez que se corra `rnorm` dará valores diferentes."
   ]
  },
  {
   "cell_type": "code",
   "execution_count": 55,
   "metadata": {
    "vscode": {
     "languageId": "r"
    }
   },
   "outputs": [
    {
     "ename": "ERROR",
     "evalue": "Error in lm_plot_sim(a = 5, b = \"10\", media = 0, desv_est = 40): Error: arguments a, b, media and desv_est should be numeric.\n",
     "output_type": "error",
     "traceback": [
      "Error in lm_plot_sim(a = 5, b = \"10\", media = 0, desv_est = 40): Error: arguments a, b, media and desv_est should be numeric.\nTraceback:\n",
      "1. lm_plot_sim(a = 5, b = \"10\", media = 0, desv_est = 40)",
      "2. stop(\"Error: arguments a, b, media and desv_est should be numeric.\")   # at line 5 of file <text>"
     ]
    }
   ],
   "source": [
    "# Argumentos\n",
    "#         a: intercepto real\n",
    "#         b: pendiente real\n",
    "#         media: media del error normal\n",
    "#         desv_est: desviación estándar del error normal\n",
    "#         n: cantidad de datos x,y a agregar\n",
    "#         seed: lógico, ¿fijar semilla?; TRUE por defecto\n",
    "lm_plot_sim <- function(a, b, media, desv_est, n = 100, seed = TRUE) {\n",
    "  # a, b, media numéricos; usamos ! para negar la conjunción\n",
    "  # todos deben ser numéricos para que sea verdad, de lo contrario arroja error\n",
    "  if(!(is.numeric(a) & is.numeric(b) & is.numeric(media) & is.numeric(desv_est))) {\n",
    "    stop('Error: arguments a, b, media and desv_est should be numeric.')\n",
    "  }\n",
    "  # Parar y mostrar error si desv_est es negativo\n",
    "  if (desv_est <= 0) {\n",
    "    stop(\"Error: argument desv_est should greater than 0\")\n",
    "  }\n",
    "  # declarar x con valores equidispersos entre 0 y 100\n",
    "  x <- seq(0, 100, len = n)\n",
    "  # usar eq de la recta\n",
    "  y <- a + b * x\n",
    "\n",
    "  # fijar semilla para reproducibilidad\n",
    "  if (seed) {\n",
    "    set.seed(123)\n",
    "  }\n",
    "  # crear error normal\n",
    "  error <- rnorm(n = n, mean = media, sd = desv_est)\n",
    "  # añadir error a y\n",
    "  y <- y + error\n",
    "  # graficar\n",
    "  plot(x, y, pch = 21, col = 'red', bg = 'gray80')\n",
    "  # regresion linear ols\n",
    "  lm1 <- lm(y ~ x)\n",
    "  # extraer coeficientes\n",
    "  coeficientes <- coef(lm1)\n",
    "  # añadir recta de regresion; a es intercepto, b pendiente\n",
    "  abline(a = coeficientes[1], b = coeficientes[2], lwd = 2)\n",
    "  # imprimir coeficientes y summary\n",
    "  print(summary(lm1))\n",
    "} \n",
    "# esto da error; b no es numérico\n",
    "lm_plot_sim(a = 5, b = \"10\", media = 0, desv_est = 40)\n",
    "# para corregirlo\n",
    "lm_plot_sim(a = 5, b = 10, media = 0, desv_est = 40)\n"
   ]
  }
 ],
 "metadata": {
  "kernelspec": {
   "display_name": "R",
   "language": "R",
   "name": "ir"
  },
  "language_info": {
   "codemirror_mode": "r",
   "file_extension": ".r",
   "mimetype": "text/x-r-source",
   "name": "R",
   "pygments_lexer": "r",
   "version": "4.2.0"
  },
  "orig_nbformat": 4
 },
 "nbformat": 4,
 "nbformat_minor": 2
}
