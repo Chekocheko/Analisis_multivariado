{
 "cells": [
  {
   "cell_type": "markdown",
   "metadata": {},
   "source": [
    "# Data wrangling con `{dplyr}` y `{tidyr}`\n",
    "\n",
    "<div class=\"alert alert-block alert-info\"> <b>NOTA:</b> Este tutorial asume un conocimiento básico de R. </div>\n",
    "\n",
    "El término *data wrangling* no tiene una traducción directa al español, pero hace referencia a un proceso que consiste en transformar datos crudos en otro formato que pueda ser usado para su análisis, y por esta razón, tener un objetivo de análisis es importante, ya que con base en ese objetivo se planifica la manipulación de la estructura, granularidad, precisión, etc. Generalmente, implica alguno(s) de los siguientes pasos:\n",
    "\n",
    "1. **Descubrir**: proceso de familiarización en el que se conceptualiza cómo podrían ser usados los datos, si existen variables incompletas, patrones reconocibles de errores, etc.\n",
    "2. **Estructurar**: transformar para que pueda ser aprovechado más fácilmente (por ejemplo, usando el formato `tidy` o `long-format`, que veremos más adelante).\n",
    "3. **Limpiar**: remover errores inherentes, que pueden surgir en varias formas. Por ejemplo, en bases de datos que han sido llenadas a mano por diferentes personas, una columna `Años` puede tener entradas que no sigan el mismo formato. Reducir los errores de tal forma que no influyan en los análisis.\n",
    "4. **Enriquecer**: una vez que se entiende un conjunto de datos y se ha transformado a un conjunto usable, se puede tomar la decisión de si enriquecerlo con un conjunto de datos adicional.\n",
    "5. **Validar**: verificar que el conjunto de datos es consistente y de calidad. Por ejemplo, si una columna en datos tabulares representa una variable, debe tener el mismo tipo de datos. Si una fila representa una observación, debe tener datos solo de esa observación, etc. Algunas reglas de consistencia son: tipo de datos (enteros, punto flotante, cadenas de caracteres), rango de datos (e.g., 0-100; por ejemplo, si una columna son Años, no puede tener valores negativos o mayores a 150), unicidad (e.g., códigos postales o un ID), consistencia de expresiones (e.g., usar solo una entre CP, C.P., Código Postal, CodPost, etc), valores nulos.\n",
    "\n",
    "## `tidy` data\n",
    "\n",
    "\"A dataset is a collection of values, usually either numbers (if quantitative) or strings AKA text data (if qualitative). Values are organised in two ways. Every value belongs to a variable and an observation. A variable contains all values that measure the same underlying attribute (like height, temperature, duration) across units. An observation contains all values measured on the same unit (like a person, or a day, or a city) across attributes.\" Wickham, 2014\n",
    "\n",
    "El formato [`tidy`](https://cran.r-project.org/web/packages/tidyr/vignettes/tidy-data.html#:~:text=Tidy%20data%20is%20a%20standard,Every%20row%20is%20an%20observation.) es un estándar de presentación que mapea el significado de un conjunto de datos a su estructura. Consiste básicamente en las siguientes tres reglas:\n",
    "\n",
    "1. Cada columna es una variable.\n",
    "2. Cada fila es una observación.\n",
    "3. Cada celda es un valor único.\n",
    "\n",
    "\n",
    "<center><img src=\"/home/mrrobot/Documentos/GitHub/Analisis_multivariado/img/tidy-1.png\" width=460/></center>\n",
    "\n",
    "## `{dplyr}`\n",
    "\n",
    "[`{dplyr}`](https://dplyr.tidyverse.org/) es un paquete para la manipulación de datos que consiste en un conjunto de 'verbos' (o funciones) como:\n",
    "\n",
    "- `mutate()`: añade nuevas variables (columnas) \n",
    "- `select()`: seleccionar columnas (variables) de un `data frame` *por su nombre* y retorna un `data frame` con solo las columnas seleccionadas.\n",
    "- `filter()`: selecciona *casos* (filas) por su valor. Necesita una expresión lógica con la cual realizar la selección.\n",
    "- `summarise()`: crea un nuevo `data frame` basado en combinaciones únicas de variables agrupadoras.\n",
    "\n",
    "## `{tidyr}`\n",
    "\n",
    "Las funciones del paquete [`{tidyr}`](https://tidyr.tidyverse.org/) están en las siguientes categorías\n",
    "\n",
    "- Pivotar: convertir datos entre formato largo y formato amplio. Se usan principalmente dos funciones\n",
    "  - `pivot_longer()`, que incrementa el número de filas y reduce el número de columnas.\n",
    "  - `pivot_wider()`, que hace lo contrario.\n",
    "- Rectangular: que convierte listas de datos anidados (como en formato JSON) en tablas rectangulares. \n",
    "  - `unnest_longer()`: cambia cada elemento de una lista-columna en una fila.\n",
    "  - `unnest_wider()`: cambia cada elemento de una lista-columna en una columna.\n",
    "  \n",
    "\n",
    "A continuación veremos cómo usar diversas funciones de `{dplyr}` y `{tidyr}` para dejar nuestros datos en el estandar de `tidy data`."
   ]
  },
  {
   "cell_type": "markdown",
   "metadata": {},
   "source": [
    "Comenzamos instalando el metapaquete `{tidyverse}`, que contiene a los paquetes `{dplyr}` y `{tidyr}` (además de otros que usaremos en otros tutoriales)."
   ]
  },
  {
   "cell_type": "code",
   "execution_count": 3,
   "metadata": {
    "vscode": {
     "languageId": "r"
    }
   },
   "outputs": [],
   "source": [
    "# correr solo una vez si no se tiene instalado ya\n",
    "# install.packages('tidyverse') # descomentar para instalar, puede tardar"
   ]
  },
  {
   "cell_type": "markdown",
   "metadata": {},
   "source": [
    "Para ejemplificar algunos usos, usaremos dos datasets que vienen junto con `{tidyverse}`:\n",
    "- `mpg`: es un conjunto de datos de economía de combustible entre 1999 y 2008 para 38 modelos de automóviles. Contiene 11 variables:\n",
    "  - manufacturer, model, displ (cilindrada), year, cyl (número de cilindros), trans (transmisión mecánica o automática), drv (tracción, 4 tipos), cty (millas (urbanas) recorridas por galón), hwy (millas (en carretera) recorridas por galón), fl (tipo de combustible), class (tipo de coche).\n",
    "- `relig_income`: encuesta del Pew Research Center sobre la religión y el ingreso. Contiene las variables:\n",
    "  - Religión (religión con la que se asocian) y 17 variables categóricas más sobre el ingreso (e.g., `<$10k`, `$10-20k`, etc.)."
   ]
  },
  {
   "cell_type": "code",
   "execution_count": 1,
   "metadata": {
    "vscode": {
     "languageId": "r"
    }
   },
   "outputs": [
    {
     "data": {
      "text/html": [
       "<table class=\"dataframe\">\n",
       "<caption>A tibble: 6 × 11</caption>\n",
       "<thead>\n",
       "\t<tr><th scope=col>manufacturer</th><th scope=col>model</th><th scope=col>displ</th><th scope=col>year</th><th scope=col>cyl</th><th scope=col>trans</th><th scope=col>drv</th><th scope=col>cty</th><th scope=col>hwy</th><th scope=col>fl</th><th scope=col>class</th></tr>\n",
       "\t<tr><th scope=col>&lt;chr&gt;</th><th scope=col>&lt;chr&gt;</th><th scope=col>&lt;dbl&gt;</th><th scope=col>&lt;int&gt;</th><th scope=col>&lt;int&gt;</th><th scope=col>&lt;chr&gt;</th><th scope=col>&lt;chr&gt;</th><th scope=col>&lt;int&gt;</th><th scope=col>&lt;int&gt;</th><th scope=col>&lt;chr&gt;</th><th scope=col>&lt;chr&gt;</th></tr>\n",
       "</thead>\n",
       "<tbody>\n",
       "\t<tr><td>audi</td><td>a4</td><td>1.8</td><td>1999</td><td>4</td><td>auto(l5)  </td><td>f</td><td>18</td><td>29</td><td>p</td><td>compact</td></tr>\n",
       "\t<tr><td>audi</td><td>a4</td><td>1.8</td><td>1999</td><td>4</td><td>manual(m5)</td><td>f</td><td>21</td><td>29</td><td>p</td><td>compact</td></tr>\n",
       "\t<tr><td>audi</td><td>a4</td><td>2.0</td><td>2008</td><td>4</td><td>manual(m6)</td><td>f</td><td>20</td><td>31</td><td>p</td><td>compact</td></tr>\n",
       "\t<tr><td>audi</td><td>a4</td><td>2.0</td><td>2008</td><td>4</td><td>auto(av)  </td><td>f</td><td>21</td><td>30</td><td>p</td><td>compact</td></tr>\n",
       "\t<tr><td>audi</td><td>a4</td><td>2.8</td><td>1999</td><td>6</td><td>auto(l5)  </td><td>f</td><td>16</td><td>26</td><td>p</td><td>compact</td></tr>\n",
       "\t<tr><td>audi</td><td>a4</td><td>2.8</td><td>1999</td><td>6</td><td>manual(m5)</td><td>f</td><td>18</td><td>26</td><td>p</td><td>compact</td></tr>\n",
       "</tbody>\n",
       "</table>\n"
      ],
      "text/latex": [
       "A tibble: 6 × 11\n",
       "\\begin{tabular}{lllllllllll}\n",
       " manufacturer & model & displ & year & cyl & trans & drv & cty & hwy & fl & class\\\\\n",
       " <chr> & <chr> & <dbl> & <int> & <int> & <chr> & <chr> & <int> & <int> & <chr> & <chr>\\\\\n",
       "\\hline\n",
       "\t audi & a4 & 1.8 & 1999 & 4 & auto(l5)   & f & 18 & 29 & p & compact\\\\\n",
       "\t audi & a4 & 1.8 & 1999 & 4 & manual(m5) & f & 21 & 29 & p & compact\\\\\n",
       "\t audi & a4 & 2.0 & 2008 & 4 & manual(m6) & f & 20 & 31 & p & compact\\\\\n",
       "\t audi & a4 & 2.0 & 2008 & 4 & auto(av)   & f & 21 & 30 & p & compact\\\\\n",
       "\t audi & a4 & 2.8 & 1999 & 6 & auto(l5)   & f & 16 & 26 & p & compact\\\\\n",
       "\t audi & a4 & 2.8 & 1999 & 6 & manual(m5) & f & 18 & 26 & p & compact\\\\\n",
       "\\end{tabular}\n"
      ],
      "text/markdown": [
       "\n",
       "A tibble: 6 × 11\n",
       "\n",
       "| manufacturer &lt;chr&gt; | model &lt;chr&gt; | displ &lt;dbl&gt; | year &lt;int&gt; | cyl &lt;int&gt; | trans &lt;chr&gt; | drv &lt;chr&gt; | cty &lt;int&gt; | hwy &lt;int&gt; | fl &lt;chr&gt; | class &lt;chr&gt; |\n",
       "|---|---|---|---|---|---|---|---|---|---|---|\n",
       "| audi | a4 | 1.8 | 1999 | 4 | auto(l5)   | f | 18 | 29 | p | compact |\n",
       "| audi | a4 | 1.8 | 1999 | 4 | manual(m5) | f | 21 | 29 | p | compact |\n",
       "| audi | a4 | 2.0 | 2008 | 4 | manual(m6) | f | 20 | 31 | p | compact |\n",
       "| audi | a4 | 2.0 | 2008 | 4 | auto(av)   | f | 21 | 30 | p | compact |\n",
       "| audi | a4 | 2.8 | 1999 | 6 | auto(l5)   | f | 16 | 26 | p | compact |\n",
       "| audi | a4 | 2.8 | 1999 | 6 | manual(m5) | f | 18 | 26 | p | compact |\n",
       "\n"
      ],
      "text/plain": [
       "  manufacturer model displ year cyl trans      drv cty hwy fl class  \n",
       "1 audi         a4    1.8   1999 4   auto(l5)   f   18  29  p  compact\n",
       "2 audi         a4    1.8   1999 4   manual(m5) f   21  29  p  compact\n",
       "3 audi         a4    2.0   2008 4   manual(m6) f   20  31  p  compact\n",
       "4 audi         a4    2.0   2008 4   auto(av)   f   21  30  p  compact\n",
       "5 audi         a4    2.8   1999 6   auto(l5)   f   16  26  p  compact\n",
       "6 audi         a4    2.8   1999 6   manual(m5) f   18  26  p  compact"
      ]
     },
     "metadata": {},
     "output_type": "display_data"
    }
   ],
   "source": [
    "# Cargar el paquete tidyverse\n",
    "suppressPackageStartupMessages(library(tidyverse, warn.conflicts = FALSE))\n",
    "# visualizar las primeras 6 filas\n",
    "head(mpg)"
   ]
  },
  {
   "cell_type": "code",
   "execution_count": 4,
   "metadata": {
    "vscode": {
     "languageId": "r"
    }
   },
   "outputs": [
    {
     "data": {
      "text/html": [
       "<table class=\"dataframe\">\n",
       "<caption>A tibble: 6 × 12</caption>\n",
       "<thead>\n",
       "\t<tr><th scope=col>manufacturer</th><th scope=col>model</th><th scope=col>displ</th><th scope=col>year</th><th scope=col>cyl</th><th scope=col>trans</th><th scope=col>drv</th><th scope=col>cty</th><th scope=col>hwy</th><th scope=col>fl</th><th scope=col>class</th><th scope=col>avg_mpg</th></tr>\n",
       "\t<tr><th scope=col>&lt;chr&gt;</th><th scope=col>&lt;chr&gt;</th><th scope=col>&lt;dbl&gt;</th><th scope=col>&lt;int&gt;</th><th scope=col>&lt;int&gt;</th><th scope=col>&lt;chr&gt;</th><th scope=col>&lt;chr&gt;</th><th scope=col>&lt;int&gt;</th><th scope=col>&lt;int&gt;</th><th scope=col>&lt;chr&gt;</th><th scope=col>&lt;chr&gt;</th><th scope=col>&lt;dbl&gt;</th></tr>\n",
       "</thead>\n",
       "<tbody>\n",
       "\t<tr><td>audi</td><td>a4</td><td>1.8</td><td>1999</td><td>4</td><td>auto(l5)  </td><td>f</td><td>18</td><td>29</td><td>p</td><td>compact</td><td>23.5</td></tr>\n",
       "\t<tr><td>audi</td><td>a4</td><td>1.8</td><td>1999</td><td>4</td><td>manual(m5)</td><td>f</td><td>21</td><td>29</td><td>p</td><td>compact</td><td>25.0</td></tr>\n",
       "\t<tr><td>audi</td><td>a4</td><td>2.0</td><td>2008</td><td>4</td><td>manual(m6)</td><td>f</td><td>20</td><td>31</td><td>p</td><td>compact</td><td>25.5</td></tr>\n",
       "\t<tr><td>audi</td><td>a4</td><td>2.0</td><td>2008</td><td>4</td><td>auto(av)  </td><td>f</td><td>21</td><td>30</td><td>p</td><td>compact</td><td>25.5</td></tr>\n",
       "\t<tr><td>audi</td><td>a4</td><td>2.8</td><td>1999</td><td>6</td><td>auto(l5)  </td><td>f</td><td>16</td><td>26</td><td>p</td><td>compact</td><td>21.0</td></tr>\n",
       "\t<tr><td>audi</td><td>a4</td><td>2.8</td><td>1999</td><td>6</td><td>manual(m5)</td><td>f</td><td>18</td><td>26</td><td>p</td><td>compact</td><td>22.0</td></tr>\n",
       "</tbody>\n",
       "</table>\n"
      ],
      "text/latex": [
       "A tibble: 6 × 12\n",
       "\\begin{tabular}{llllllllllll}\n",
       " manufacturer & model & displ & year & cyl & trans & drv & cty & hwy & fl & class & avg\\_mpg\\\\\n",
       " <chr> & <chr> & <dbl> & <int> & <int> & <chr> & <chr> & <int> & <int> & <chr> & <chr> & <dbl>\\\\\n",
       "\\hline\n",
       "\t audi & a4 & 1.8 & 1999 & 4 & auto(l5)   & f & 18 & 29 & p & compact & 23.5\\\\\n",
       "\t audi & a4 & 1.8 & 1999 & 4 & manual(m5) & f & 21 & 29 & p & compact & 25.0\\\\\n",
       "\t audi & a4 & 2.0 & 2008 & 4 & manual(m6) & f & 20 & 31 & p & compact & 25.5\\\\\n",
       "\t audi & a4 & 2.0 & 2008 & 4 & auto(av)   & f & 21 & 30 & p & compact & 25.5\\\\\n",
       "\t audi & a4 & 2.8 & 1999 & 6 & auto(l5)   & f & 16 & 26 & p & compact & 21.0\\\\\n",
       "\t audi & a4 & 2.8 & 1999 & 6 & manual(m5) & f & 18 & 26 & p & compact & 22.0\\\\\n",
       "\\end{tabular}\n"
      ],
      "text/markdown": [
       "\n",
       "A tibble: 6 × 12\n",
       "\n",
       "| manufacturer &lt;chr&gt; | model &lt;chr&gt; | displ &lt;dbl&gt; | year &lt;int&gt; | cyl &lt;int&gt; | trans &lt;chr&gt; | drv &lt;chr&gt; | cty &lt;int&gt; | hwy &lt;int&gt; | fl &lt;chr&gt; | class &lt;chr&gt; | avg_mpg &lt;dbl&gt; |\n",
       "|---|---|---|---|---|---|---|---|---|---|---|---|\n",
       "| audi | a4 | 1.8 | 1999 | 4 | auto(l5)   | f | 18 | 29 | p | compact | 23.5 |\n",
       "| audi | a4 | 1.8 | 1999 | 4 | manual(m5) | f | 21 | 29 | p | compact | 25.0 |\n",
       "| audi | a4 | 2.0 | 2008 | 4 | manual(m6) | f | 20 | 31 | p | compact | 25.5 |\n",
       "| audi | a4 | 2.0 | 2008 | 4 | auto(av)   | f | 21 | 30 | p | compact | 25.5 |\n",
       "| audi | a4 | 2.8 | 1999 | 6 | auto(l5)   | f | 16 | 26 | p | compact | 21.0 |\n",
       "| audi | a4 | 2.8 | 1999 | 6 | manual(m5) | f | 18 | 26 | p | compact | 22.0 |\n",
       "\n"
      ],
      "text/plain": [
       "  manufacturer model displ year cyl trans      drv cty hwy fl class   avg_mpg\n",
       "1 audi         a4    1.8   1999 4   auto(l5)   f   18  29  p  compact 23.5   \n",
       "2 audi         a4    1.8   1999 4   manual(m5) f   21  29  p  compact 25.0   \n",
       "3 audi         a4    2.0   2008 4   manual(m6) f   20  31  p  compact 25.5   \n",
       "4 audi         a4    2.0   2008 4   auto(av)   f   21  30  p  compact 25.5   \n",
       "5 audi         a4    2.8   1999 6   auto(l5)   f   16  26  p  compact 21.0   \n",
       "6 audi         a4    2.8   1999 6   manual(m5) f   18  26  p  compact 22.0   "
      ]
     },
     "metadata": {},
     "output_type": "display_data"
    },
    {
     "data": {
      "text/html": [
       "<style>\n",
       ".list-inline {list-style: none; margin:0; padding: 0}\n",
       ".list-inline>li {display: inline-block}\n",
       ".list-inline>li:not(:last-child)::after {content: \"\\00b7\"; padding: 0 .5ex}\n",
       "</style>\n",
       "<ol class=list-inline><li>'audi'</li><li>'chevrolet'</li><li>'dodge'</li><li>'ford'</li><li>'honda'</li><li>'hyundai'</li><li>'jeep'</li><li>'land rover'</li><li>'lincoln'</li><li>'mercury'</li><li>'nissan'</li><li>'pontiac'</li><li>'subaru'</li><li>'toyota'</li><li>'volkswagen'</li></ol>\n"
      ],
      "text/latex": [
       "\\begin{enumerate*}\n",
       "\\item 'audi'\n",
       "\\item 'chevrolet'\n",
       "\\item 'dodge'\n",
       "\\item 'ford'\n",
       "\\item 'honda'\n",
       "\\item 'hyundai'\n",
       "\\item 'jeep'\n",
       "\\item 'land rover'\n",
       "\\item 'lincoln'\n",
       "\\item 'mercury'\n",
       "\\item 'nissan'\n",
       "\\item 'pontiac'\n",
       "\\item 'subaru'\n",
       "\\item 'toyota'\n",
       "\\item 'volkswagen'\n",
       "\\end{enumerate*}\n"
      ],
      "text/markdown": [
       "1. 'audi'\n",
       "2. 'chevrolet'\n",
       "3. 'dodge'\n",
       "4. 'ford'\n",
       "5. 'honda'\n",
       "6. 'hyundai'\n",
       "7. 'jeep'\n",
       "8. 'land rover'\n",
       "9. 'lincoln'\n",
       "10. 'mercury'\n",
       "11. 'nissan'\n",
       "12. 'pontiac'\n",
       "13. 'subaru'\n",
       "14. 'toyota'\n",
       "15. 'volkswagen'\n",
       "\n",
       "\n"
      ],
      "text/plain": [
       " [1] \"audi\"       \"chevrolet\"  \"dodge\"      \"ford\"       \"honda\"     \n",
       " [6] \"hyundai\"    \"jeep\"       \"land rover\" \"lincoln\"    \"mercury\"   \n",
       "[11] \"nissan\"     \"pontiac\"    \"subaru\"     \"toyota\"     \"volkswagen\""
      ]
     },
     "metadata": {},
     "output_type": "display_data"
    }
   ],
   "source": [
    "# crear una nueva variable de millas por galón que sea el promedio de millas\n",
    "# en la ciudad y millas en carretera\n",
    "mpg <- mpg %>%\n",
    "   mutate(avg_mpg = (cty + hwy) / 2)\n",
    "# visualizar las primeras 6 filas\n",
    "head(mpg)"
   ]
  },
  {
   "cell_type": "markdown",
   "metadata": {},
   "source": [
    "Para seleccionar una o más variables y que las retorne como `data.frame` o `tibble` usamos  `select()`."
   ]
  },
  {
   "cell_type": "code",
   "execution_count": 11,
   "metadata": {
    "vscode": {
     "languageId": "r"
    }
   },
   "outputs": [
    {
     "data": {
      "text/html": [
       "<table class=\"dataframe\">\n",
       "<caption>A tibble: 6 × 2</caption>\n",
       "<thead>\n",
       "\t<tr><th scope=col>manufacturer</th><th scope=col>cyl</th></tr>\n",
       "\t<tr><th scope=col>&lt;chr&gt;</th><th scope=col>&lt;int&gt;</th></tr>\n",
       "</thead>\n",
       "<tbody>\n",
       "\t<tr><td>audi</td><td>4</td></tr>\n",
       "\t<tr><td>audi</td><td>4</td></tr>\n",
       "\t<tr><td>audi</td><td>4</td></tr>\n",
       "\t<tr><td>audi</td><td>4</td></tr>\n",
       "\t<tr><td>audi</td><td>6</td></tr>\n",
       "\t<tr><td>audi</td><td>6</td></tr>\n",
       "</tbody>\n",
       "</table>\n"
      ],
      "text/latex": [
       "A tibble: 6 × 2\n",
       "\\begin{tabular}{ll}\n",
       " manufacturer & cyl\\\\\n",
       " <chr> & <int>\\\\\n",
       "\\hline\n",
       "\t audi & 4\\\\\n",
       "\t audi & 4\\\\\n",
       "\t audi & 4\\\\\n",
       "\t audi & 4\\\\\n",
       "\t audi & 6\\\\\n",
       "\t audi & 6\\\\\n",
       "\\end{tabular}\n"
      ],
      "text/markdown": [
       "\n",
       "A tibble: 6 × 2\n",
       "\n",
       "| manufacturer &lt;chr&gt; | cyl &lt;int&gt; |\n",
       "|---|---|\n",
       "| audi | 4 |\n",
       "| audi | 4 |\n",
       "| audi | 4 |\n",
       "| audi | 4 |\n",
       "| audi | 6 |\n",
       "| audi | 6 |\n",
       "\n"
      ],
      "text/plain": [
       "  manufacturer cyl\n",
       "1 audi         4  \n",
       "2 audi         4  \n",
       "3 audi         4  \n",
       "4 audi         4  \n",
       "5 audi         6  \n",
       "6 audi         6  "
      ]
     },
     "metadata": {},
     "output_type": "display_data"
    }
   ],
   "source": [
    "mpg %>%\n",
    "  select(manufacturer, cyl) %>%\n",
    "  # para mostrar solo las primeras 6 filas\n",
    "  head()"
   ]
  },
  {
   "cell_type": "code",
   "execution_count": 10,
   "metadata": {
    "vscode": {
     "languageId": "r"
    }
   },
   "outputs": [
    {
     "data": {
      "text/html": [
       "<table class=\"dataframe\">\n",
       "<caption>A tibble: 6 × 3</caption>\n",
       "<thead>\n",
       "\t<tr><th scope=col>manufacturer</th><th scope=col>cyl</th><th scope=col>displ</th></tr>\n",
       "\t<tr><th scope=col>&lt;chr&gt;</th><th scope=col>&lt;int&gt;</th><th scope=col>&lt;dbl&gt;</th></tr>\n",
       "</thead>\n",
       "<tbody>\n",
       "\t<tr><td>audi</td><td>4</td><td>1.8</td></tr>\n",
       "\t<tr><td>audi</td><td>4</td><td>1.8</td></tr>\n",
       "\t<tr><td>audi</td><td>4</td><td>2.0</td></tr>\n",
       "\t<tr><td>audi</td><td>4</td><td>2.0</td></tr>\n",
       "\t<tr><td>audi</td><td>6</td><td>2.8</td></tr>\n",
       "\t<tr><td>audi</td><td>6</td><td>2.8</td></tr>\n",
       "</tbody>\n",
       "</table>\n"
      ],
      "text/latex": [
       "A tibble: 6 × 3\n",
       "\\begin{tabular}{lll}\n",
       " manufacturer & cyl & displ\\\\\n",
       " <chr> & <int> & <dbl>\\\\\n",
       "\\hline\n",
       "\t audi & 4 & 1.8\\\\\n",
       "\t audi & 4 & 1.8\\\\\n",
       "\t audi & 4 & 2.0\\\\\n",
       "\t audi & 4 & 2.0\\\\\n",
       "\t audi & 6 & 2.8\\\\\n",
       "\t audi & 6 & 2.8\\\\\n",
       "\\end{tabular}\n"
      ],
      "text/markdown": [
       "\n",
       "A tibble: 6 × 3\n",
       "\n",
       "| manufacturer &lt;chr&gt; | cyl &lt;int&gt; | displ &lt;dbl&gt; |\n",
       "|---|---|---|\n",
       "| audi | 4 | 1.8 |\n",
       "| audi | 4 | 1.8 |\n",
       "| audi | 4 | 2.0 |\n",
       "| audi | 4 | 2.0 |\n",
       "| audi | 6 | 2.8 |\n",
       "| audi | 6 | 2.8 |\n",
       "\n"
      ],
      "text/plain": [
       "  manufacturer cyl displ\n",
       "1 audi         4   1.8  \n",
       "2 audi         4   1.8  \n",
       "3 audi         4   2.0  \n",
       "4 audi         4   2.0  \n",
       "5 audi         6   2.8  \n",
       "6 audi         6   2.8  "
      ]
     },
     "metadata": {},
     "output_type": "display_data"
    }
   ],
   "source": [
    "# seleccinar manufacturer, cyl y displ y asignarlas a un objeto\n",
    "mcd <- mpg %>%\n",
    "  select(manufacturer, cyl, displ)\n",
    "head(mcd)"
   ]
  },
  {
   "cell_type": "code",
   "execution_count": 12,
   "metadata": {
    "vscode": {
     "languageId": "r"
    }
   },
   "outputs": [
    {
     "data": {
      "text/html": [
       "<table class=\"dataframe\">\n",
       "<caption>A tibble: 6 × 11</caption>\n",
       "<thead>\n",
       "\t<tr><th scope=col>religion</th><th scope=col>&lt;$10k</th><th scope=col>$10-20k</th><th scope=col>$20-30k</th><th scope=col>$30-40k</th><th scope=col>$40-50k</th><th scope=col>$50-75k</th><th scope=col>$75-100k</th><th scope=col>$100-150k</th><th scope=col>&gt;150k</th><th scope=col>Don't know/refused</th></tr>\n",
       "\t<tr><th scope=col>&lt;chr&gt;</th><th scope=col>&lt;dbl&gt;</th><th scope=col>&lt;dbl&gt;</th><th scope=col>&lt;dbl&gt;</th><th scope=col>&lt;dbl&gt;</th><th scope=col>&lt;dbl&gt;</th><th scope=col>&lt;dbl&gt;</th><th scope=col>&lt;dbl&gt;</th><th scope=col>&lt;dbl&gt;</th><th scope=col>&lt;dbl&gt;</th><th scope=col>&lt;dbl&gt;</th></tr>\n",
       "</thead>\n",
       "<tbody>\n",
       "\t<tr><td>Agnostic          </td><td> 27</td><td> 34</td><td>  60</td><td> 81</td><td> 76</td><td> 137</td><td>122</td><td>109</td><td> 84</td><td>  96</td></tr>\n",
       "\t<tr><td>Atheist           </td><td> 12</td><td> 27</td><td>  37</td><td> 52</td><td> 35</td><td>  70</td><td> 73</td><td> 59</td><td> 74</td><td>  76</td></tr>\n",
       "\t<tr><td>Buddhist          </td><td> 27</td><td> 21</td><td>  30</td><td> 34</td><td> 33</td><td>  58</td><td> 62</td><td> 39</td><td> 53</td><td>  54</td></tr>\n",
       "\t<tr><td>Catholic          </td><td>418</td><td>617</td><td> 732</td><td>670</td><td>638</td><td>1116</td><td>949</td><td>792</td><td>633</td><td>1489</td></tr>\n",
       "\t<tr><td>Don’t know/refused</td><td> 15</td><td> 14</td><td>  15</td><td> 11</td><td> 10</td><td>  35</td><td> 21</td><td> 17</td><td> 18</td><td> 116</td></tr>\n",
       "\t<tr><td>Evangelical Prot  </td><td>575</td><td>869</td><td>1064</td><td>982</td><td>881</td><td>1486</td><td>949</td><td>723</td><td>414</td><td>1529</td></tr>\n",
       "</tbody>\n",
       "</table>\n"
      ],
      "text/latex": [
       "A tibble: 6 × 11\n",
       "\\begin{tabular}{lllllllllll}\n",
       " religion & <\\$10k & \\$10-20k & \\$20-30k & \\$30-40k & \\$40-50k & \\$50-75k & \\$75-100k & \\$100-150k & >150k & Don't know/refused\\\\\n",
       " <chr> & <dbl> & <dbl> & <dbl> & <dbl> & <dbl> & <dbl> & <dbl> & <dbl> & <dbl> & <dbl>\\\\\n",
       "\\hline\n",
       "\t Agnostic           &  27 &  34 &   60 &  81 &  76 &  137 & 122 & 109 &  84 &   96\\\\\n",
       "\t Atheist            &  12 &  27 &   37 &  52 &  35 &   70 &  73 &  59 &  74 &   76\\\\\n",
       "\t Buddhist           &  27 &  21 &   30 &  34 &  33 &   58 &  62 &  39 &  53 &   54\\\\\n",
       "\t Catholic           & 418 & 617 &  732 & 670 & 638 & 1116 & 949 & 792 & 633 & 1489\\\\\n",
       "\t Don’t know/refused &  15 &  14 &   15 &  11 &  10 &   35 &  21 &  17 &  18 &  116\\\\\n",
       "\t Evangelical Prot   & 575 & 869 & 1064 & 982 & 881 & 1486 & 949 & 723 & 414 & 1529\\\\\n",
       "\\end{tabular}\n"
      ],
      "text/markdown": [
       "\n",
       "A tibble: 6 × 11\n",
       "\n",
       "| religion &lt;chr&gt; | &lt;$10k &lt;dbl&gt; | $10-20k &lt;dbl&gt; | $20-30k &lt;dbl&gt; | $30-40k &lt;dbl&gt; | $40-50k &lt;dbl&gt; | $50-75k &lt;dbl&gt; | $75-100k &lt;dbl&gt; | $100-150k &lt;dbl&gt; | &gt;150k &lt;dbl&gt; | Don't know/refused &lt;dbl&gt; |\n",
       "|---|---|---|---|---|---|---|---|---|---|---|\n",
       "| Agnostic           |  27 |  34 |   60 |  81 |  76 |  137 | 122 | 109 |  84 |   96 |\n",
       "| Atheist            |  12 |  27 |   37 |  52 |  35 |   70 |  73 |  59 |  74 |   76 |\n",
       "| Buddhist           |  27 |  21 |   30 |  34 |  33 |   58 |  62 |  39 |  53 |   54 |\n",
       "| Catholic           | 418 | 617 |  732 | 670 | 638 | 1116 | 949 | 792 | 633 | 1489 |\n",
       "| Don’t know/refused |  15 |  14 |   15 |  11 |  10 |   35 |  21 |  17 |  18 |  116 |\n",
       "| Evangelical Prot   | 575 | 869 | 1064 | 982 | 881 | 1486 | 949 | 723 | 414 | 1529 |\n",
       "\n"
      ],
      "text/plain": [
       "  religion           <$10k $10-20k $20-30k $30-40k $40-50k $50-75k $75-100k\n",
       "1 Agnostic            27    34       60     81      76      137    122     \n",
       "2 Atheist             12    27       37     52      35       70     73     \n",
       "3 Buddhist            27    21       30     34      33       58     62     \n",
       "4 Catholic           418   617      732    670     638     1116    949     \n",
       "5 Don’t know/refused  15    14       15     11      10       35     21     \n",
       "6 Evangelical Prot   575   869     1064    982     881     1486    949     \n",
       "  $100-150k >150k Don't know/refused\n",
       "1 109        84     96              \n",
       "2  59        74     76              \n",
       "3  39        53     54              \n",
       "4 792       633   1489              \n",
       "5  17        18    116              \n",
       "6 723       414   1529              "
      ]
     },
     "metadata": {},
     "output_type": "display_data"
    }
   ],
   "source": [
    "# imprimir en consola y observar su estructura\n",
    "head(relig_income)"
   ]
  },
  {
   "cell_type": "markdown",
   "metadata": {},
   "source": [
    "Los nombres de las columnas no definen variables. De hecho, todos los nombres pertenecen a una variable (ingreso). Tenemos transformar el conjunto de datos de `wide` a `long` para eso, usamos `pivot_longer()` del paquete `tidyr`."
   ]
  },
  {
   "cell_type": "code",
   "execution_count": null,
   "metadata": {
    "vscode": {
     "languageId": "r"
    }
   },
   "outputs": [],
   "source": [
    "relig_income %>% # función 'pipe'\n",
    "  pivot_longer(\n",
    "    cols = -religion, # todas excepto religion, más rápido\n",
    "    names_to = 'income', # crea variable 'income' con nombres de columnas\n",
    "    values_to = 'freq' # crea var 'freq' con los valores de las columnas\n",
    "  ) \n",
    "\n",
    "# asignar a relig_income_tidy\n",
    "relig_income_tidy <- relig_income %>% \n",
    "  pivot_longer(\n",
    "    cols = -religion,\n",
    "    names_to = 'income',\n",
    "    values_to = 'freq'\n",
    "  )\n",
    "\n",
    "# ver primeros 6 de relig_income_tidy\n",
    "head(relig_income_tidy)"
   ]
  },
  {
   "cell_type": "markdown",
   "metadata": {},
   "source": [
    "## Valores perdidos explícitos e implícitos\n",
    "\n",
    "Los valores perdidos *explícitos* son valores en donde aparece un `NA` para una combinación de filas y columnas. \n",
    "\n",
    "Los valores perdidos *implícitos* es la ausencia de un valor que debería estar. "
   ]
  },
  {
   "cell_type": "markdown",
   "metadata": {},
   "source": [
    "Una forma en la que los perdidos explícitos sucede de forma natural es cuando un valor de una celda se repite y, por lo tanto, se omite. Al cargarlo en R, por defecto se llena con `NA`."
   ]
  },
  {
   "cell_type": "code",
   "execution_count": 27,
   "metadata": {
    "vscode": {
     "languageId": "r"
    }
   },
   "outputs": [
    {
     "data": {
      "text/html": [
       "<table class=\"dataframe\">\n",
       "<caption>A tibble: 4 × 3</caption>\n",
       "<thead>\n",
       "\t<tr><th scope=col>person</th><th scope=col>treatment</th><th scope=col>response</th></tr>\n",
       "\t<tr><th scope=col>&lt;chr&gt;</th><th scope=col>&lt;dbl&gt;</th><th scope=col>&lt;dbl&gt;</th></tr>\n",
       "</thead>\n",
       "<tbody>\n",
       "\t<tr><td>Derrick Whitmore</td><td>1</td><td> 7</td></tr>\n",
       "\t<tr><td>NA              </td><td>2</td><td>10</td></tr>\n",
       "\t<tr><td>NA              </td><td>3</td><td>NA</td></tr>\n",
       "\t<tr><td>Katherine Burke </td><td>1</td><td> 4</td></tr>\n",
       "</tbody>\n",
       "</table>\n"
      ],
      "text/latex": [
       "A tibble: 4 × 3\n",
       "\\begin{tabular}{lll}\n",
       " person & treatment & response\\\\\n",
       " <chr> & <dbl> & <dbl>\\\\\n",
       "\\hline\n",
       "\t Derrick Whitmore & 1 &  7\\\\\n",
       "\t NA               & 2 & 10\\\\\n",
       "\t NA               & 3 & NA\\\\\n",
       "\t Katherine Burke  & 1 &  4\\\\\n",
       "\\end{tabular}\n"
      ],
      "text/markdown": [
       "\n",
       "A tibble: 4 × 3\n",
       "\n",
       "| person &lt;chr&gt; | treatment &lt;dbl&gt; | response &lt;dbl&gt; |\n",
       "|---|---|---|\n",
       "| Derrick Whitmore | 1 |  7 |\n",
       "| NA               | 2 | 10 |\n",
       "| NA               | 3 | NA |\n",
       "| Katherine Burke  | 1 |  4 |\n",
       "\n"
      ],
      "text/plain": [
       "  person           treatment response\n",
       "1 Derrick Whitmore 1          7      \n",
       "2 NA               2         10      \n",
       "3 NA               3         NA      \n",
       "4 Katherine Burke  1          4      "
      ]
     },
     "metadata": {},
     "output_type": "display_data"
    }
   ],
   "source": [
    "treatment <- tribble(\n",
    "  ~person,           ~treatment, ~response,\n",
    "  \"Derrick Whitmore\", 1,         7,\n",
    "  NA,                 2,         10,\n",
    "  NA,                 3,         NA,\n",
    "  \"Katherine Burke\",  1,         4\n",
    ")\n",
    "treatment"
   ]
  },
  {
   "cell_type": "markdown",
   "metadata": {},
   "source": [
    "Si es el caso, esos valores se pueden rellenar con el último dato completo, una técnica que se llama, en inglés, *last observation carried forward* (LOCF)."
   ]
  },
  {
   "cell_type": "code",
   "execution_count": 29,
   "metadata": {
    "vscode": {
     "languageId": "r"
    }
   },
   "outputs": [
    {
     "data": {
      "text/html": [
       "<table class=\"dataframe\">\n",
       "<caption>A tibble: 4 × 3</caption>\n",
       "<thead>\n",
       "\t<tr><th scope=col>person</th><th scope=col>treatment</th><th scope=col>response</th></tr>\n",
       "\t<tr><th scope=col>&lt;chr&gt;</th><th scope=col>&lt;dbl&gt;</th><th scope=col>&lt;dbl&gt;</th></tr>\n",
       "</thead>\n",
       "<tbody>\n",
       "\t<tr><td>Derrick Whitmore</td><td>1</td><td> 7</td></tr>\n",
       "\t<tr><td>Derrick Whitmore</td><td>2</td><td>10</td></tr>\n",
       "\t<tr><td>Derrick Whitmore</td><td>3</td><td>NA</td></tr>\n",
       "\t<tr><td>Katherine Burke </td><td>1</td><td> 4</td></tr>\n",
       "</tbody>\n",
       "</table>\n"
      ],
      "text/latex": [
       "A tibble: 4 × 3\n",
       "\\begin{tabular}{lll}\n",
       " person & treatment & response\\\\\n",
       " <chr> & <dbl> & <dbl>\\\\\n",
       "\\hline\n",
       "\t Derrick Whitmore & 1 &  7\\\\\n",
       "\t Derrick Whitmore & 2 & 10\\\\\n",
       "\t Derrick Whitmore & 3 & NA\\\\\n",
       "\t Katherine Burke  & 1 &  4\\\\\n",
       "\\end{tabular}\n"
      ],
      "text/markdown": [
       "\n",
       "A tibble: 4 × 3\n",
       "\n",
       "| person &lt;chr&gt; | treatment &lt;dbl&gt; | response &lt;dbl&gt; |\n",
       "|---|---|---|\n",
       "| Derrick Whitmore | 1 |  7 |\n",
       "| Derrick Whitmore | 2 | 10 |\n",
       "| Derrick Whitmore | 3 | NA |\n",
       "| Katherine Burke  | 1 |  4 |\n",
       "\n"
      ],
      "text/plain": [
       "  person           treatment response\n",
       "1 Derrick Whitmore 1          7      \n",
       "2 Derrick Whitmore 2         10      \n",
       "3 Derrick Whitmore 3         NA      \n",
       "4 Katherine Burke  1          4      "
      ]
     },
     "metadata": {},
     "output_type": "display_data"
    }
   ],
   "source": [
    "treatment %>%\n",
    "  fill(person)"
   ]
  },
  {
   "cell_type": "markdown",
   "metadata": {},
   "source": [
    "Si queremos hacer lo mismo en todas las columnas (asumiendo que un dato repetido no se escriba en esas variables), usamos simplemente"
   ]
  },
  {
   "cell_type": "code",
   "execution_count": 30,
   "metadata": {
    "vscode": {
     "languageId": "r"
    }
   },
   "outputs": [
    {
     "data": {
      "text/html": [
       "<table class=\"dataframe\">\n",
       "<caption>A tibble: 4 × 3</caption>\n",
       "<thead>\n",
       "\t<tr><th scope=col>person</th><th scope=col>treatment</th><th scope=col>response</th></tr>\n",
       "\t<tr><th scope=col>&lt;chr&gt;</th><th scope=col>&lt;dbl&gt;</th><th scope=col>&lt;dbl&gt;</th></tr>\n",
       "</thead>\n",
       "<tbody>\n",
       "\t<tr><td>Derrick Whitmore</td><td>1</td><td> 7</td></tr>\n",
       "\t<tr><td>Derrick Whitmore</td><td>2</td><td>10</td></tr>\n",
       "\t<tr><td>Derrick Whitmore</td><td>3</td><td>10</td></tr>\n",
       "\t<tr><td>Katherine Burke </td><td>1</td><td> 4</td></tr>\n",
       "</tbody>\n",
       "</table>\n"
      ],
      "text/latex": [
       "A tibble: 4 × 3\n",
       "\\begin{tabular}{lll}\n",
       " person & treatment & response\\\\\n",
       " <chr> & <dbl> & <dbl>\\\\\n",
       "\\hline\n",
       "\t Derrick Whitmore & 1 &  7\\\\\n",
       "\t Derrick Whitmore & 2 & 10\\\\\n",
       "\t Derrick Whitmore & 3 & 10\\\\\n",
       "\t Katherine Burke  & 1 &  4\\\\\n",
       "\\end{tabular}\n"
      ],
      "text/markdown": [
       "\n",
       "A tibble: 4 × 3\n",
       "\n",
       "| person &lt;chr&gt; | treatment &lt;dbl&gt; | response &lt;dbl&gt; |\n",
       "|---|---|---|\n",
       "| Derrick Whitmore | 1 |  7 |\n",
       "| Derrick Whitmore | 2 | 10 |\n",
       "| Derrick Whitmore | 3 | 10 |\n",
       "| Katherine Burke  | 1 |  4 |\n",
       "\n"
      ],
      "text/plain": [
       "  person           treatment response\n",
       "1 Derrick Whitmore 1          7      \n",
       "2 Derrick Whitmore 2         10      \n",
       "3 Derrick Whitmore 3         10      \n",
       "4 Katherine Burke  1          4      "
      ]
     },
     "metadata": {},
     "output_type": "display_data"
    }
   ],
   "source": [
    "treatment %>%\n",
    "  fill(everything())"
   ]
  },
  {
   "cell_type": "code",
   "execution_count": 31,
   "metadata": {
    "vscode": {
     "languageId": "r"
    }
   },
   "outputs": [
    {
     "data": {
      "text/html": [
       "<table class=\"dataframe\">\n",
       "<caption>A tibble: 7 × 3</caption>\n",
       "<thead>\n",
       "\t<tr><th scope=col>year</th><th scope=col>qtr</th><th scope=col>price</th></tr>\n",
       "\t<tr><th scope=col>&lt;dbl&gt;</th><th scope=col>&lt;dbl&gt;</th><th scope=col>&lt;dbl&gt;</th></tr>\n",
       "</thead>\n",
       "<tbody>\n",
       "\t<tr><td>2020</td><td>1</td><td>1.88</td></tr>\n",
       "\t<tr><td>2020</td><td>2</td><td>0.59</td></tr>\n",
       "\t<tr><td>2020</td><td>3</td><td>0.35</td></tr>\n",
       "\t<tr><td>2020</td><td>4</td><td>  NA</td></tr>\n",
       "\t<tr><td>2021</td><td>2</td><td>0.92</td></tr>\n",
       "\t<tr><td>2021</td><td>3</td><td>0.17</td></tr>\n",
       "\t<tr><td>2021</td><td>4</td><td>2.66</td></tr>\n",
       "</tbody>\n",
       "</table>\n"
      ],
      "text/latex": [
       "A tibble: 7 × 3\n",
       "\\begin{tabular}{lll}\n",
       " year & qtr & price\\\\\n",
       " <dbl> & <dbl> & <dbl>\\\\\n",
       "\\hline\n",
       "\t 2020 & 1 & 1.88\\\\\n",
       "\t 2020 & 2 & 0.59\\\\\n",
       "\t 2020 & 3 & 0.35\\\\\n",
       "\t 2020 & 4 &   NA\\\\\n",
       "\t 2021 & 2 & 0.92\\\\\n",
       "\t 2021 & 3 & 0.17\\\\\n",
       "\t 2021 & 4 & 2.66\\\\\n",
       "\\end{tabular}\n"
      ],
      "text/markdown": [
       "\n",
       "A tibble: 7 × 3\n",
       "\n",
       "| year &lt;dbl&gt; | qtr &lt;dbl&gt; | price &lt;dbl&gt; |\n",
       "|---|---|---|\n",
       "| 2020 | 1 | 1.88 |\n",
       "| 2020 | 2 | 0.59 |\n",
       "| 2020 | 3 | 0.35 |\n",
       "| 2020 | 4 |   NA |\n",
       "| 2021 | 2 | 0.92 |\n",
       "| 2021 | 3 | 0.17 |\n",
       "| 2021 | 4 | 2.66 |\n",
       "\n"
      ],
      "text/plain": [
       "  year qtr price\n",
       "1 2020 1   1.88 \n",
       "2 2020 2   0.59 \n",
       "3 2020 3   0.35 \n",
       "4 2020 4     NA \n",
       "5 2021 2   0.92 \n",
       "6 2021 3   0.17 \n",
       "7 2021 4   2.66 "
      ]
     },
     "metadata": {},
     "output_type": "display_data"
    }
   ],
   "source": [
    "stocks <- tibble(\n",
    "  year  = c(2020, 2020, 2020, 2020, 2021, 2021, 2021),\n",
    "  qtr   = c(   1,    2,    3,    4,    2,    3,    4),\n",
    "  price = c(1.88, 0.59, 0.35,   NA, 0.92, 0.17, 2.66)\n",
    ")\n",
    "stocks"
   ]
  },
  {
   "cell_type": "markdown",
   "metadata": {},
   "source": [
    "En este conjunto de datos, la variable `price` tiene un faltante explícito (`NA` en el cuarto trimestre del 2020), pero también tiene un faltante implícito en el primer trimestre del 2021. Usando `pivot_wider` (que cambia de `long` a `wider`) se puede hacer explícito, porque cada combinación de variables y unidades de observación (columnas y filas) debe tener un valor, por lo que la celda `[2021, 1]` se rellena con `NA`. "
   ]
  },
  {
   "cell_type": "code",
   "execution_count": 26,
   "metadata": {
    "vscode": {
     "languageId": "r"
    }
   },
   "outputs": [
    {
     "data": {
      "text/html": [
       "<table class=\"dataframe\">\n",
       "<caption>A tibble: 2 × 5</caption>\n",
       "<thead>\n",
       "\t<tr><th scope=col>year</th><th scope=col>1</th><th scope=col>2</th><th scope=col>3</th><th scope=col>4</th></tr>\n",
       "\t<tr><th scope=col>&lt;dbl&gt;</th><th scope=col>&lt;dbl&gt;</th><th scope=col>&lt;dbl&gt;</th><th scope=col>&lt;dbl&gt;</th><th scope=col>&lt;dbl&gt;</th></tr>\n",
       "</thead>\n",
       "<tbody>\n",
       "\t<tr><td>2020</td><td>1.88</td><td>0.59</td><td>0.35</td><td>  NA</td></tr>\n",
       "\t<tr><td>2021</td><td>  NA</td><td>0.92</td><td>0.17</td><td>2.66</td></tr>\n",
       "</tbody>\n",
       "</table>\n"
      ],
      "text/latex": [
       "A tibble: 2 × 5\n",
       "\\begin{tabular}{lllll}\n",
       " year & 1 & 2 & 3 & 4\\\\\n",
       " <dbl> & <dbl> & <dbl> & <dbl> & <dbl>\\\\\n",
       "\\hline\n",
       "\t 2020 & 1.88 & 0.59 & 0.35 &   NA\\\\\n",
       "\t 2021 &   NA & 0.92 & 0.17 & 2.66\\\\\n",
       "\\end{tabular}\n"
      ],
      "text/markdown": [
       "\n",
       "A tibble: 2 × 5\n",
       "\n",
       "| year &lt;dbl&gt; | 1 &lt;dbl&gt; | 2 &lt;dbl&gt; | 3 &lt;dbl&gt; | 4 &lt;dbl&gt; |\n",
       "|---|---|---|---|---|\n",
       "| 2020 | 1.88 | 0.59 | 0.35 |   NA |\n",
       "| 2021 |   NA | 0.92 | 0.17 | 2.66 |\n",
       "\n"
      ],
      "text/plain": [
       "  year 1    2    3    4   \n",
       "1 2020 1.88 0.59 0.35   NA\n",
       "2 2021   NA 0.92 0.17 2.66"
      ]
     },
     "metadata": {},
     "output_type": "display_data"
    }
   ],
   "source": [
    "stocks %>%\n",
    "  pivot_wider(\n",
    "    names_from = qtr,\n",
    "    values_from = price\n",
    "  )"
   ]
  },
  {
   "cell_type": "markdown",
   "metadata": {},
   "source": [
    "Por otro lado, si conocemos el valor que debería tener un faltante, podemos reemplazar el `NA` un valor explícito usando la función `complete()`. Los argumentos de esta función son `data` y las columnas que se quieren expandir por combinaciones únicas de valores. En este caso, queremos un valor de `price` por cada combinación única de `year` y `qtr` (trimestre). El tercer agrumento es `fill`, que espera una lista con nombres de las columnas a ser expandidas y los valores que debe sustituir en vez de `NA`, pero ojo: si el cuarto argumento, `explicit` se deja por defecto (`TRUE`) se reemplazan tanto los faltantes explícitos como implícitos. Cambiar `explicit` a `FALSE` provoca que *solo* los implícitos sean reemplazados por el valor indicado en `fill`."
   ]
  },
  {
   "cell_type": "code",
   "execution_count": 24,
   "metadata": {
    "vscode": {
     "languageId": "r"
    }
   },
   "outputs": [
    {
     "data": {
      "text/html": [
       "<table class=\"dataframe\">\n",
       "<caption>A tibble: 8 × 3</caption>\n",
       "<thead>\n",
       "\t<tr><th scope=col>year</th><th scope=col>qtr</th><th scope=col>price</th></tr>\n",
       "\t<tr><th scope=col>&lt;dbl&gt;</th><th scope=col>&lt;dbl&gt;</th><th scope=col>&lt;dbl&gt;</th></tr>\n",
       "</thead>\n",
       "<tbody>\n",
       "\t<tr><td>2020</td><td>1</td><td>1.88</td></tr>\n",
       "\t<tr><td>2020</td><td>2</td><td>0.59</td></tr>\n",
       "\t<tr><td>2020</td><td>3</td><td>0.35</td></tr>\n",
       "\t<tr><td>2020</td><td>4</td><td>  NA</td></tr>\n",
       "\t<tr><td>2021</td><td>1</td><td>0.00</td></tr>\n",
       "\t<tr><td>2021</td><td>2</td><td>0.92</td></tr>\n",
       "\t<tr><td>2021</td><td>3</td><td>0.17</td></tr>\n",
       "\t<tr><td>2021</td><td>4</td><td>2.66</td></tr>\n",
       "</tbody>\n",
       "</table>\n"
      ],
      "text/latex": [
       "A tibble: 8 × 3\n",
       "\\begin{tabular}{lll}\n",
       " year & qtr & price\\\\\n",
       " <dbl> & <dbl> & <dbl>\\\\\n",
       "\\hline\n",
       "\t 2020 & 1 & 1.88\\\\\n",
       "\t 2020 & 2 & 0.59\\\\\n",
       "\t 2020 & 3 & 0.35\\\\\n",
       "\t 2020 & 4 &   NA\\\\\n",
       "\t 2021 & 1 & 0.00\\\\\n",
       "\t 2021 & 2 & 0.92\\\\\n",
       "\t 2021 & 3 & 0.17\\\\\n",
       "\t 2021 & 4 & 2.66\\\\\n",
       "\\end{tabular}\n"
      ],
      "text/markdown": [
       "\n",
       "A tibble: 8 × 3\n",
       "\n",
       "| year &lt;dbl&gt; | qtr &lt;dbl&gt; | price &lt;dbl&gt; |\n",
       "|---|---|---|\n",
       "| 2020 | 1 | 1.88 |\n",
       "| 2020 | 2 | 0.59 |\n",
       "| 2020 | 3 | 0.35 |\n",
       "| 2020 | 4 |   NA |\n",
       "| 2021 | 1 | 0.00 |\n",
       "| 2021 | 2 | 0.92 |\n",
       "| 2021 | 3 | 0.17 |\n",
       "| 2021 | 4 | 2.66 |\n",
       "\n"
      ],
      "text/plain": [
       "  year qtr price\n",
       "1 2020 1   1.88 \n",
       "2 2020 2   0.59 \n",
       "3 2020 3   0.35 \n",
       "4 2020 4     NA \n",
       "5 2021 1   0.00 \n",
       "6 2021 2   0.92 \n",
       "7 2021 3   0.17 \n",
       "8 2021 4   2.66 "
      ]
     },
     "metadata": {},
     "output_type": "display_data"
    }
   ],
   "source": [
    "stocks %>%\n",
    "  complete(year, qtr, fill = list(price = 0), explicit = FALSE)"
   ]
  },
  {
   "cell_type": "code",
   "execution_count": 25,
   "metadata": {
    "vscode": {
     "languageId": "r"
    }
   },
   "outputs": [
    {
     "data": {
      "text/html": [
       "<table class=\"dataframe\">\n",
       "<caption>A tibble: 2 × 5</caption>\n",
       "<thead>\n",
       "\t<tr><th scope=col>year</th><th scope=col>1</th><th scope=col>2</th><th scope=col>3</th><th scope=col>4</th></tr>\n",
       "\t<tr><th scope=col>&lt;dbl&gt;</th><th scope=col>&lt;dbl&gt;</th><th scope=col>&lt;dbl&gt;</th><th scope=col>&lt;dbl&gt;</th><th scope=col>&lt;dbl&gt;</th></tr>\n",
       "</thead>\n",
       "<tbody>\n",
       "\t<tr><td>2020</td><td>1.88</td><td>0.59</td><td>0.35</td><td>  NA</td></tr>\n",
       "\t<tr><td>2021</td><td>0.00</td><td>0.92</td><td>0.17</td><td>2.66</td></tr>\n",
       "</tbody>\n",
       "</table>\n"
      ],
      "text/latex": [
       "A tibble: 2 × 5\n",
       "\\begin{tabular}{lllll}\n",
       " year & 1 & 2 & 3 & 4\\\\\n",
       " <dbl> & <dbl> & <dbl> & <dbl> & <dbl>\\\\\n",
       "\\hline\n",
       "\t 2020 & 1.88 & 0.59 & 0.35 &   NA\\\\\n",
       "\t 2021 & 0.00 & 0.92 & 0.17 & 2.66\\\\\n",
       "\\end{tabular}\n"
      ],
      "text/markdown": [
       "\n",
       "A tibble: 2 × 5\n",
       "\n",
       "| year &lt;dbl&gt; | 1 &lt;dbl&gt; | 2 &lt;dbl&gt; | 3 &lt;dbl&gt; | 4 &lt;dbl&gt; |\n",
       "|---|---|---|---|---|\n",
       "| 2020 | 1.88 | 0.59 | 0.35 |   NA |\n",
       "| 2021 | 0.00 | 0.92 | 0.17 | 2.66 |\n",
       "\n"
      ],
      "text/plain": [
       "  year 1    2    3    4   \n",
       "1 2020 1.88 0.59 0.35   NA\n",
       "2 2021 0.00 0.92 0.17 2.66"
      ]
     },
     "metadata": {},
     "output_type": "display_data"
    }
   ],
   "source": [
    "# pivotar de nuevo\n",
    "stocks %>%\n",
    "  complete(year, qtr, fill = list(price = 0), explicit = FALSE) %>%\n",
    "  pivot_wider(\n",
    "    names_from = qtr,\n",
    "    values_from = price\n",
    "  )"
   ]
  }
 ],
 "metadata": {
  "interpreter": {
   "hash": "250f9a87e4fb839d4a665aae3d7395b3ec2b811dfe95dbba6380d56bd4036337"
  },
  "kernelspec": {
   "display_name": "R",
   "language": "R",
   "name": "ir"
  },
  "language_info": {
   "codemirror_mode": "r",
   "file_extension": ".r",
   "mimetype": "text/x-r-source",
   "name": "R",
   "pygments_lexer": "r",
   "version": "4.2.0"
  },
  "orig_nbformat": 4
 },
 "nbformat": 4,
 "nbformat_minor": 2
}
