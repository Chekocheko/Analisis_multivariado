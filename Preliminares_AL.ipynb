{
 "cells": [
  {
   "attachments": {},
   "cell_type": "markdown",
   "metadata": {},
   "source": [
    "# Preliminares\n",
    "\n",
    "### Inversa\n",
    "\n",
    ">Función `solve(A)` en R.\n",
    "\n",
    "Considerar la matriz cuadrada $A_{p\\times p}$. Sea la matriz cuadrada $B_{p\\times p}$ una matriz con la propiedad de $AB = I = BA$. En este caso, $B_{p\\times p}$ es llamada _la inversa_ de $A$, y se denota como $A^{-1}$. La matrix $I$ es una matriz especial cuyas diagonales son 1, y por encima y debajo de las diagonales solo hay 0s.\n",
    "\n",
    "$$\n",
    "  I_{p\\times p}= \\begin{bmatrix}\n",
    "  1 & 0 & 0 & \\cdots & 0\\\\\n",
    "  0 & 1 & 0  & \\cdots & 0 \\\\\n",
    "  0 & 0 & 1 & \\cdots & 0 \\\\\n",
    "  \\vdots & \\vdots & \\vdots & \\ddots & \\vdots \\\\\n",
    "  0 & 0 & 0 & \\cdots & 1\n",
    "  \\end{bmatrix}\n",
    "$$\n",
    "\n",
    "Considerar las matrices\n",
    "\n",
    "$$\n",
    "  A = \\begin{bmatrix}\n",
    "  a_{11} & a_{12} \\\\\n",
    "  a_{21} & a_{22}\n",
    "  \\end{bmatrix}\\quad\n",
    "  A' = \\begin{bmatrix}\n",
    "  a_{22} & -a_{12} \\\\\n",
    "  -a_{21} & a_{11}\n",
    "  \\end{bmatrix}\n",
    "$$\n",
    "\n",
    "El producto de ambas es\n",
    "\n",
    "$$\n",
    "  AA' = \\begin{bmatrix}\n",
    "    a_{11}a_{22} - a_{12}a_{21} & 0 \\\\\n",
    "    0 & a_{11}a_{22} - a_{12}a_{21}\n",
    "  \\end{bmatrix} = (a_{11}a_{22} - a_{12}a_{21})I\n",
    "$$\n",
    "\n",
    "Dado que $AA^{-1} = I$, entonces\n",
    "\n",
    "$$\n",
    "  A^{-1} = \\frac{1}{a_{11}a_{22} - a_{12}a_{21}}A' = \\frac{1}{a_{11}a_{22} - a_{12}a_{21}}\\begin{bmatrix}\n",
    "  a_{22} & -a_{12} \\\\\n",
    "  -a_{21} & a_{11}\n",
    "  \\end{bmatrix} \\tag{1}\n",
    "$$\n",
    "\n",
    "**Nota**: para que $A^{-1}$ exista, es decir, para que $A$ sea _invertible_, $a_{11}a_{22} - a_{12}a_{21} \\neq 0$.\n"
   ]
  },
  {
   "attachments": {},
   "cell_type": "markdown",
   "metadata": {},
   "source": [
    "### Determinante\n",
    "> Función `det(A)` en R.\n",
    "\n",
    "Los determinantes solo están definidos para matrices cuadradas $A_{p\\times p}$ (matrices que tienen el mismo número de filas que de columnas). El determinante $\\text{det}(A)$ o $|A|$ es una función que mapea $A$ a números reales.\n",
    "\n",
    "De la sección [Inversa](#inversa), sabemos que para una matriz de $2\\times 2$, $A^{-1}$ existe si y solo si $a_{11}a_{22} - a_{12}a_{21} \\neq 0$. Esta cantidad es el determinante de $A\\in \\mathbb{R}^{2\\times 2}$, es decir\n",
    "\n",
    "$$\n",
    "  \\text{det}(A)_{2\\times 2} = a_{11}a_{22} - a_{12}a_{21}\\tag{2}\n",
    "$$\n",
    "\n",
    "**Nota**: Tanto en [Inversa](#inversa) como en [Determinante](#determinante) se usó un ejemplo de una matriz sencilla de $2\\times 2$. En general, para cualquier matriz $A_{p\\times p}$, para que $A^{-1}$ exista, $\\text{det}(A_{p\\times p})\\neq 0$. Es decir, _una matriz cuadrada es invertible **si y solo si** su determinante es diferente de 0._\n",
    "\n",
    "Se da ahora una expresión general para obtener el determinante de cualquier matriz cuadrada. Sea $A$ la matriz cuadrada ${p\\times p}$. Para todo $j=1, \\dots, p$, el determinante expandido a través de la fila $j$ se obtiene con\n",
    "\n",
    "$$\n",
    "  \\text{det}(A) = |A| = \\sum_{k=1}^{p}(-1)^{k+j}a_{jk}\\text{det}(A_{j,k}) \\tag{3}\n",
    "$$\n",
    "\n",
    "En donde $A_{j,k}\\in \\mathbb{R}^{(p-1)\\times (p-1)}$ es una _submatriz_ que obtenemos eliminando la fila $j$ y la columna $k$, y $a_{jk}$ es la entrada de la matriz $A$ en la fila $j$ y columna $k$. A la ecuación (2) se le conoce como la expansión de Laplace.\n",
    "\n",
    "Por ejemplo\n",
    "\n",
    "$$\n",
    "  A = \\begin{bmatrix}\n",
    "  1 & 2 & 3\\\\\n",
    "  3 & 1 & 2\\\\\n",
    "  0 & 0 & 1\n",
    "  \\end{bmatrix}\n",
    "$$\n",
    "\n",
    "Usando la expansión de Laplace a en la primera fila, aplicando (2) obtenemos\n",
    "\n",
    "$$\n",
    "  |A| = \\begin{vmatrix}\n",
    "  1 & 2 & 3\\\\\n",
    "  3 & 1 & 2\\\\\n",
    "  0 & 0 & 1\n",
    "  \\end{vmatrix} = %\n",
    "  \\underbrace{(-1)^{1+1}\\times 1 \\begin{vmatrix}\n",
    "  1 & 2\\\\\n",
    "  0 & 1\n",
    "  \\end{vmatrix}}_{k=1} %\n",
    "  + \\underbrace{(-1)^{1+2}\\times 2\\begin{vmatrix}\n",
    "  3 & 2\\\\\n",
    "  0 & 1\n",
    "  \\end{vmatrix}}_{k=2} %\n",
    "    + \\underbrace{(-1)^{1+3}\\times 3\\begin{vmatrix}\n",
    "  3 & 1\\\\\n",
    "  0 & 0\n",
    "  \\end{vmatrix}}_{k=3}\n",
    "$$\n",
    "\n",
    "Podemos ahora calcular los determinantes $2\\times 2$ usando la ecuación (2). Por ejemplo,\n",
    "\n",
    "$$\n",
    "  \\begin{vmatrix}\n",
    "  1 & 2\\\\\n",
    "  0 & 1\n",
    "  \\end{vmatrix} = 1\\times 1 - 0\\times 2 = 1-0\n",
    "$$\n",
    "\n",
    "Con lo que tenemos al final $\\text{det}(A) = -5$.\n"
   ]
  },
  {
   "attachments": {},
   "cell_type": "markdown",
   "metadata": {},
   "source": [
    "En `R`"
   ]
  },
  {
   "cell_type": "code",
   "execution_count": 1,
   "metadata": {
    "vscode": {
     "languageId": "r"
    }
   },
   "outputs": [
    {
     "data": {
      "text/html": [
       "-5"
      ],
      "text/latex": [
       "-5"
      ],
      "text/markdown": [
       "-5"
      ],
      "text/plain": [
       "[1] -5"
      ]
     },
     "metadata": {},
     "output_type": "display_data"
    },
    {
     "data": {
      "text/html": [
       "<table class=\"dataframe\">\n",
       "<caption>A matrix: 3 × 3 of type dbl</caption>\n",
       "<tbody>\n",
       "\t<tr><td>-0.2</td><td> 0.4</td><td>-0.2</td></tr>\n",
       "\t<tr><td> 0.6</td><td>-0.2</td><td>-1.4</td></tr>\n",
       "\t<tr><td> 0.0</td><td> 0.0</td><td> 1.0</td></tr>\n",
       "</tbody>\n",
       "</table>\n"
      ],
      "text/latex": [
       "A matrix: 3 × 3 of type dbl\n",
       "\\begin{tabular}{lll}\n",
       "\t -0.2 &  0.4 & -0.2\\\\\n",
       "\t  0.6 & -0.2 & -1.4\\\\\n",
       "\t  0.0 &  0.0 &  1.0\\\\\n",
       "\\end{tabular}\n"
      ],
      "text/markdown": [
       "\n",
       "A matrix: 3 × 3 of type dbl\n",
       "\n",
       "| -0.2 |  0.4 | -0.2 |\n",
       "|  0.6 | -0.2 | -1.4 |\n",
       "|  0.0 |  0.0 |  1.0 |\n",
       "\n"
      ],
      "text/plain": [
       "     [,1] [,2] [,3]\n",
       "[1,] -0.2  0.4 -0.2\n",
       "[2,]  0.6 -0.2 -1.4\n",
       "[3,]  0.0  0.0  1.0"
      ]
     },
     "metadata": {},
     "output_type": "display_data"
    }
   ],
   "source": [
    "A <- matrix(\n",
    "  c(\n",
    "    1, 2, 3,\n",
    "    3, 1, 2,\n",
    "    0, 0, 1\n",
    "  ),\n",
    "  byrow = TRUE, # especificar que el orden sea por fila de 3 en 3\n",
    "  ncol = 3\n",
    ")\n",
    "# el determinante\n",
    "det(A)\n",
    "# la inversa se obtiene con\n",
    "solve(A)"
   ]
  },
  {
   "attachments": {},
   "cell_type": "markdown",
   "metadata": {},
   "source": [
    "### Núcleo (kernel o espacio nulo)\n",
    "\n",
    "Considerar la siguiente ecuación\n",
    "\n",
    "$$\n",
    "  A \\mathbf{x} = \\mathbf{0}\n",
    "$$\n",
    "\n",
    "El kernel $\\text{ker}(A\\mathbf{x})$ captura todas las posibles combinaciones lineales $a_1x_1 + \\dots + a_px_p$ que producen $\\mathbf{0}$. En ese sentido, el kernel es un subespacio de soluciones para $A \\mathbf{x} = \\mathbf{0}$.\n"
   ]
  },
  {
   "attachments": {},
   "cell_type": "markdown",
   "metadata": {},
   "source": [
    "### Eigenvalores y eigenvectores\n",
    "> Función `eigen(A)` en R.\n",
    "\n",
    "Considerar la matriz cuadrada $A_{p\\times p}$. Si existe un escalar $\\lambda$ y un vector $\\mathbf{x}$ tal que\n",
    "\n",
    "$$\n",
    "  A\\mathbf{x} = \\lambda\\mathbf{x} \\tag{4}\n",
    "$$\n",
    "\n",
    "La ecuación (3) es llamada _la ecuación de eigenvalores_. $\\lambda$ es un _eigenvalor_ (valor propio) y $\\mathbf{x}$ un eigenvector.\n",
    "\n",
    "Un eigenvalor $\\lambda$ es la raíz del polinomio de orden $p$,\n",
    "\n",
    "$$\n",
    "  (A - \\lambda I)\\mathbf{x}=\\mathbf{0} \\tag{5}\n",
    "$$\n",
    "\n",
    "por lo que hay $p$ eigenvalores de $A$. A cada eigenvalor $\\lambda_j$ le corresponde un eigenvector $x_j$. Dado que $\\mathbf{x} \\neq \\mathbf{0}$, la ecuación (4) implica que $(A - \\lambda I) =\\mathbf{0}$, y el kernel $\\text{ker}(A - \\lambda I)$ debe contener más elementos que no sean $\\mathbf{0}$, es decir $x \\in \\text{ker}(A-\\lambda I)$, por lo que la matriz no es invertible y su determinante es 0, es decir\n",
    "\n",
    "$$\n",
    "  \\text{det}(A - \\lambda I) = 0 \\tag{6}\n",
    "$$\n",
    "\n",
    "A la ecuación (5) se le conoce como _polinomio característico_. En la matriz\n",
    "\n",
    "$$\n",
    "  A = \\begin{bmatrix}\n",
    "  4 & 2 \\\\\n",
    "  1 & 3\n",
    "  \\end{bmatrix}\n",
    "$$\n",
    "\n",
    "Su polinomio característico es\n",
    "\n",
    "$$\n",
    "p_A(\\lambda) = \\text{det}(A - \\lambda I) = \\text{det} %\n",
    "\\left( %\n",
    "\\begin{bmatrix}\n",
    "  4 & 2 \\\\\n",
    "  1 & 3\n",
    "\\end{bmatrix} - %\n",
    "\\begin{bmatrix}\n",
    "  \\lambda & 0 \\\\\n",
    "  0 & \\lambda\n",
    "\\end{bmatrix}\n",
    "\\right) =\n",
    "\\begin{vmatrix}\n",
    "  4 - \\lambda & 2 \\\\\n",
    "  1           & 3 - \\lambda\n",
    "\\end{vmatrix}\n",
    "$$\n",
    "\n",
    "Que se reduce a\n",
    "\n",
    "$$\n",
    "  p_A(\\lambda) = (4 - \\lambda)(3 - \\lambda) - 2 = 0\n",
    "$$\n",
    "\n",
    "Y factorizando\n",
    "\n",
    "$$\n",
    "  p_A(\\lambda) = (2 - \\lambda)(5 - \\lambda) = 0\n",
    "$$\n",
    "\n",
    "Cuyas soluciones son $\\lambda_1 = 2, \\lambda_2 = 5$.\n",
    "\n",
    "Los eigenvectores se pueden encontrar sustituyendo los eigenvalores en\n",
    "\n",
    "$$\n",
    "  \\begin{bmatrix}\n",
    "  4 - \\lambda & 2 \\\\\n",
    "  1           & 3 - \\lambda\n",
    "\\end{bmatrix}\\mathbf{x} = \\mathbf{0}\n",
    "$$\n",
    "\n",
    "**Nota**: el determinante de $A$ es el producto de sus eigenvalores\n",
    "\n",
    "$$\n",
    "  \\text{det}(A) = \\prod_{i=1}^n \\lambda_i\n",
    "$$\n",
    "\n",
    "> TL;DR: los eigen valores se pueden obtener resolviendo la ecuación $\\det(A-\\lambda I)=0$ y despejando para $\\lambda$.\n",
    "> O usando `eigen(A)$values` en R. Se ilustra a continuación"
   ]
  },
  {
   "cell_type": "code",
   "execution_count": 2,
   "metadata": {
    "vscode": {
     "languageId": "r"
    }
   },
   "outputs": [
    {
     "data": {
      "text/html": [
       "<table class=\"dataframe\">\n",
       "<caption>A matrix: 2 × 2 of type dbl</caption>\n",
       "<tbody>\n",
       "\t<tr><td>4</td><td>2</td></tr>\n",
       "\t<tr><td>1</td><td>3</td></tr>\n",
       "</tbody>\n",
       "</table>\n"
      ],
      "text/latex": [
       "A matrix: 2 × 2 of type dbl\n",
       "\\begin{tabular}{ll}\n",
       "\t 4 & 2\\\\\n",
       "\t 1 & 3\\\\\n",
       "\\end{tabular}\n"
      ],
      "text/markdown": [
       "\n",
       "A matrix: 2 × 2 of type dbl\n",
       "\n",
       "| 4 | 2 |\n",
       "| 1 | 3 |\n",
       "\n"
      ],
      "text/plain": [
       "     [,1] [,2]\n",
       "[1,] 4    2   \n",
       "[2,] 1    3   "
      ]
     },
     "metadata": {},
     "output_type": "display_data"
    },
    {
     "data": {
      "text/html": [
       "<style>\n",
       ".list-inline {list-style: none; margin:0; padding: 0}\n",
       ".list-inline>li {display: inline-block}\n",
       ".list-inline>li:not(:last-child)::after {content: \"\\00b7\"; padding: 0 .5ex}\n",
       "</style>\n",
       "<ol class=list-inline><li>5</li><li>2</li></ol>\n"
      ],
      "text/latex": [
       "\\begin{enumerate*}\n",
       "\\item 5\n",
       "\\item 2\n",
       "\\end{enumerate*}\n"
      ],
      "text/markdown": [
       "1. 5\n",
       "2. 2\n",
       "\n",
       "\n"
      ],
      "text/plain": [
       "[1] 5 2"
      ]
     },
     "metadata": {},
     "output_type": "display_data"
    }
   ],
   "source": [
    "# Nota: c(4, 2, 1, 3) produce un vector; ncol especifica cuántas columnas,\n",
    "# por lo que el número de filas se calcula en automático como length/ncol.\n",
    "# byrow = TRUE indica que los datos se acomoden por filas rellenando las columnas.\n",
    "A <- matrix(c(4, 2, 1, 3), ncol = 2, byrow = TRUE)\n",
    "A\n",
    "eigen(A)$values"
   ]
  },
  {
   "attachments": {},
   "cell_type": "markdown",
   "metadata": {},
   "source": [
    "### Descomposición espectral\n",
    "\n",
    "La matriz cuadrada $A_{p\\times p}$ puede se reescrita como\n",
    "\n",
    "$$\n",
    "  A = \\mathbf{P} D \\mathbf{P}^{-1} \\tag{7}\n",
    "$$\n",
    "\n",
    "En donde la matriz diagonal $D = \\text{diag}(\\lambda_1, \\lambda_2,\\dots,\\lambda_p)$.\n",
    "\n",
    "**Nota**: Cuando $A$ es simétrica, $\\mathbf{P}$ es ortogonal, lo que significa que $\\mathbf{P}\\mathbf{P}^\\top=\\mathbf{P}\\mathbf{P}^{-1}=I$, o lo que es lo mismo, $\\mathbf{P}^\\top=\\mathbf{P}^{-1}$, por lo que\n",
    "\n",
    "$$\n",
    "  A = \\mathbf{P} D \\mathbf{P}^\\top\n",
    "$$\n",
    "\n",
    "### Matrices triangulares y factorización de Cholesky\n",
    "\n",
    "Una matriz simétrica definida positiva $A \\in \\mathbb{R}^{p\\times p}$ puede ser factorizada como el producto \n",
    "\n",
    "$$A = LL^\\top$$\n",
    "\n",
    "En donde $L$ es la matriz triangular inferior, una matriz cuadrada especial cuyas entradas por encima de la diagonal son 0s.\n",
    "\n",
    "$$\n",
    "  L = \\begin{bmatrix}\n",
    "    l_{11} & 0 & \\cdots & \\cdots & 0 \\\\\n",
    "    l_{12} & l_{22} & \\ddots &  & \\vdots\\\\\n",
    "    \\vdots & \\ddots & \\ddots & \\ddots & \\vdots\\\\\n",
    "    \\vdots &  & \\ddots & \\ddots & 0\\\\\n",
    "    l_{1p} & \\cdots & \\cdots & l_{p-1p} & l_{pp}\n",
    "\\end{bmatrix}\n",
    "$$\n",
    "\n",
    "En `R` se obtiene con la función `chol()`."
   ]
  },
  {
   "cell_type": "code",
   "execution_count": 3,
   "metadata": {
    "vscode": {
     "languageId": "r"
    }
   },
   "outputs": [
    {
     "data": {
      "text/html": [
       "<dl>\n",
       "\t<dt>$APDP</dt>\n",
       "\t\t<dd><table class=\"dataframe\">\n",
       "<caption>A matrix: 2 × 2 of type dbl</caption>\n",
       "<tbody>\n",
       "\t<tr><td>-3</td><td> 5</td></tr>\n",
       "\t<tr><td> 4</td><td>-2</td></tr>\n",
       "</tbody>\n",
       "</table>\n",
       "</dd>\n",
       "\t<dt>$A</dt>\n",
       "\t\t<dd><table class=\"dataframe\">\n",
       "<caption>A matrix: 2 × 2 of type dbl</caption>\n",
       "<tbody>\n",
       "\t<tr><td>-3</td><td> 5</td></tr>\n",
       "\t<tr><td> 4</td><td>-2</td></tr>\n",
       "</tbody>\n",
       "</table>\n",
       "</dd>\n",
       "</dl>\n"
      ],
      "text/latex": [
       "\\begin{description}\n",
       "\\item[\\$APDP] A matrix: 2 × 2 of type dbl\n",
       "\\begin{tabular}{ll}\n",
       "\t -3 &  5\\\\\n",
       "\t  4 & -2\\\\\n",
       "\\end{tabular}\n",
       "\n",
       "\\item[\\$A] A matrix: 2 × 2 of type dbl\n",
       "\\begin{tabular}{ll}\n",
       "\t -3 &  5\\\\\n",
       "\t  4 & -2\\\\\n",
       "\\end{tabular}\n",
       "\n",
       "\\end{description}\n"
      ],
      "text/markdown": [
       "$APDP\n",
       ":   \n",
       "A matrix: 2 × 2 of type dbl\n",
       "\n",
       "| -3 |  5 |\n",
       "|  4 | -2 |\n",
       "\n",
       "\n",
       "$A\n",
       ":   \n",
       "A matrix: 2 × 2 of type dbl\n",
       "\n",
       "| -3 |  5 |\n",
       "|  4 | -2 |\n",
       "\n",
       "\n",
       "\n",
       "\n"
      ],
      "text/plain": [
       "$APDP\n",
       "     [,1] [,2]\n",
       "[1,]   -3    5\n",
       "[2,]    4   -2\n",
       "\n",
       "$A\n",
       "     [,1] [,2]\n",
       "[1,]   -3    5\n",
       "[2,]    4   -2\n"
      ]
     },
     "metadata": {},
     "output_type": "display_data"
    }
   ],
   "source": [
    "## eigenvalores y descomposición espectral\n",
    "# Crear A\n",
    "A <- matrix(\n",
    "  data = c(-3, 4, 5, -2),\n",
    "  nrow = 2\n",
    ")\n",
    "\n",
    "# eigenvalores y eigenvectores usando la función eigen(), ?eigen para ayuda\n",
    "# retorna un objeto de dos elementos: los eigenvalores y los eigenvectores\n",
    "eig <- eigen(A) # desc. espectral\n",
    "\n",
    "# crear P\n",
    "P <- eig$vectors\n",
    "\n",
    "# crear la diagonal de eigenvalores D\n",
    "D <- diag(eig$values)\n",
    "# verificar eq 7; la inversa de P se obtiene con solve(P)\n",
    "list(\n",
    "  APDP = P %*% D %*% solve(P),\n",
    "  A = A\n",
    ")\n"
   ]
  },
  {
   "cell_type": "code",
   "execution_count": 4,
   "metadata": {
    "vscode": {
     "languageId": "r"
    }
   },
   "outputs": [
    {
     "data": {
      "text/html": [
       "-14"
      ],
      "text/latex": [
       "-14"
      ],
      "text/markdown": [
       "-14"
      ],
      "text/plain": [
       "[1] -14"
      ]
     },
     "metadata": {},
     "output_type": "display_data"
    },
    {
     "data": {
      "text/html": [
       "-14"
      ],
      "text/latex": [
       "-14"
      ],
      "text/markdown": [
       "-14"
      ],
      "text/plain": [
       "[1] -14"
      ]
     },
     "metadata": {},
     "output_type": "display_data"
    }
   ],
   "source": [
    "# determinante es igual al producto de los eigenvalores\n",
    "det(A)\n",
    "prod(eig$values)"
   ]
  },
  {
   "cell_type": "code",
   "execution_count": 5,
   "metadata": {
    "vscode": {
     "languageId": "r"
    }
   },
   "outputs": [
    {
     "data": {
      "text/html": [
       "<table class=\"dataframe\">\n",
       "<caption>A matrix: 3 × 3 of type dbl</caption>\n",
       "<tbody>\n",
       "\t<tr><td>-0.5843738</td><td>-0.6345775</td><td>-0.5057852</td></tr>\n",
       "\t<tr><td> 0.5449251</td><td> 0.1549789</td><td>-0.8240377</td></tr>\n",
       "\t<tr><td> 0.6013018</td><td>-0.7571611</td><td> 0.2552315</td></tr>\n",
       "</tbody>\n",
       "</table>\n"
      ],
      "text/latex": [
       "A matrix: 3 × 3 of type dbl\n",
       "\\begin{tabular}{lll}\n",
       "\t -0.5843738 & -0.6345775 & -0.5057852\\\\\n",
       "\t  0.5449251 &  0.1549789 & -0.8240377\\\\\n",
       "\t  0.6013018 & -0.7571611 &  0.2552315\\\\\n",
       "\\end{tabular}\n"
      ],
      "text/markdown": [
       "\n",
       "A matrix: 3 × 3 of type dbl\n",
       "\n",
       "| -0.5843738 | -0.6345775 | -0.5057852 |\n",
       "|  0.5449251 |  0.1549789 | -0.8240377 |\n",
       "|  0.6013018 | -0.7571611 |  0.2552315 |\n",
       "\n"
      ],
      "text/plain": [
       "     [,1]       [,2]       [,3]      \n",
       "[1,] -0.5843738 -0.6345775 -0.5057852\n",
       "[2,]  0.5449251  0.1549789 -0.8240377\n",
       "[3,]  0.6013018 -0.7571611  0.2552315"
      ]
     },
     "metadata": {},
     "output_type": "display_data"
    },
    {
     "data": {
      "text/html": [
       "<table class=\"dataframe\">\n",
       "<caption>A matrix: 3 × 3 of type dbl</caption>\n",
       "<tbody>\n",
       "\t<tr><td>-0.5843738</td><td>-0.6345775</td><td>-0.5057852</td></tr>\n",
       "\t<tr><td> 0.5449251</td><td> 0.1549789</td><td>-0.8240377</td></tr>\n",
       "\t<tr><td> 0.6013018</td><td>-0.7571611</td><td> 0.2552315</td></tr>\n",
       "</tbody>\n",
       "</table>\n"
      ],
      "text/latex": [
       "A matrix: 3 × 3 of type dbl\n",
       "\\begin{tabular}{lll}\n",
       "\t -0.5843738 & -0.6345775 & -0.5057852\\\\\n",
       "\t  0.5449251 &  0.1549789 & -0.8240377\\\\\n",
       "\t  0.6013018 & -0.7571611 &  0.2552315\\\\\n",
       "\\end{tabular}\n"
      ],
      "text/markdown": [
       "\n",
       "A matrix: 3 × 3 of type dbl\n",
       "\n",
       "| -0.5843738 | -0.6345775 | -0.5057852 |\n",
       "|  0.5449251 |  0.1549789 | -0.8240377 |\n",
       "|  0.6013018 | -0.7571611 |  0.2552315 |\n",
       "\n"
      ],
      "text/plain": [
       "     [,1]       [,2]       [,3]      \n",
       "[1,] -0.5843738 -0.6345775 -0.5057852\n",
       "[2,]  0.5449251  0.1549789 -0.8240377\n",
       "[3,]  0.6013018 -0.7571611  0.2552315"
      ]
     },
     "metadata": {},
     "output_type": "display_data"
    },
    {
     "data": {
      "text/html": [
       "<table class=\"dataframe\">\n",
       "<caption>A matrix: 3 × 3 of type dbl</caption>\n",
       "<tbody>\n",
       "\t<tr><td>1</td><td>4</td><td>2</td></tr>\n",
       "\t<tr><td>4</td><td>1</td><td>3</td></tr>\n",
       "\t<tr><td>2</td><td>3</td><td>1</td></tr>\n",
       "</tbody>\n",
       "</table>\n"
      ],
      "text/latex": [
       "A matrix: 3 × 3 of type dbl\n",
       "\\begin{tabular}{lll}\n",
       "\t 1 & 4 & 2\\\\\n",
       "\t 4 & 1 & 3\\\\\n",
       "\t 2 & 3 & 1\\\\\n",
       "\\end{tabular}\n"
      ],
      "text/markdown": [
       "\n",
       "A matrix: 3 × 3 of type dbl\n",
       "\n",
       "| 1 | 4 | 2 |\n",
       "| 4 | 1 | 3 |\n",
       "| 2 | 3 | 1 |\n",
       "\n"
      ],
      "text/plain": [
       "     [,1] [,2] [,3]\n",
       "[1,] 1    4    2   \n",
       "[2,] 4    1    3   \n",
       "[3,] 2    3    1   "
      ]
     },
     "metadata": {},
     "output_type": "display_data"
    },
    {
     "data": {
      "text/html": [
       "<table class=\"dataframe\">\n",
       "<caption>A matrix: 3 × 3 of type dbl</caption>\n",
       "<tbody>\n",
       "\t<tr><td>1</td><td>4</td><td>2</td></tr>\n",
       "\t<tr><td>4</td><td>1</td><td>3</td></tr>\n",
       "\t<tr><td>2</td><td>3</td><td>1</td></tr>\n",
       "</tbody>\n",
       "</table>\n"
      ],
      "text/latex": [
       "A matrix: 3 × 3 of type dbl\n",
       "\\begin{tabular}{lll}\n",
       "\t 1 & 4 & 2\\\\\n",
       "\t 4 & 1 & 3\\\\\n",
       "\t 2 & 3 & 1\\\\\n",
       "\\end{tabular}\n"
      ],
      "text/markdown": [
       "\n",
       "A matrix: 3 × 3 of type dbl\n",
       "\n",
       "| 1 | 4 | 2 |\n",
       "| 4 | 1 | 3 |\n",
       "| 2 | 3 | 1 |\n",
       "\n"
      ],
      "text/plain": [
       "     [,1] [,2] [,3]\n",
       "[1,] 1    4    2   \n",
       "[2,] 4    1    3   \n",
       "[3,] 2    3    1   "
      ]
     },
     "metadata": {},
     "output_type": "display_data"
    }
   ],
   "source": [
    "# Ahora verificamos que si A es simétrica, P es ortogonal\n",
    "# A simétrica\n",
    "A <- matrix(\n",
    "  data = c(1, 4, 2, 4, 1, 3, 2, 3, 1),\n",
    "  nrow = 3\n",
    ")\n",
    "eig <- eigen(A)\n",
    "# P\n",
    "P <- eig$vectors\n",
    "# Inversa de P\n",
    "solve(P)\n",
    "# transpuesta de P\n",
    "t(P)\n",
    "\n",
    "A # A es igual al producto PDP'\n",
    "P %*% diag(eig$values) %*% t(P)"
   ]
  }
 ],
 "metadata": {
  "kernelspec": {
   "display_name": "R",
   "language": "R",
   "name": "ir"
  },
  "language_info": {
   "codemirror_mode": "r",
   "file_extension": ".r",
   "mimetype": "text/x-r-source",
   "name": "R",
   "pygments_lexer": "r",
   "version": "4.2.2"
  },
  "orig_nbformat": 4,
  "vscode": {
   "interpreter": {
    "hash": "e7370f93d1d0cde622a1f8e1c04877d8463912d04d973331ad4851f04de6915a"
   }
  }
 },
 "nbformat": 4,
 "nbformat_minor": 2
}
