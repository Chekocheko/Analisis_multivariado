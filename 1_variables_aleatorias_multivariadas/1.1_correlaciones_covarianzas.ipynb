{
 "cells": [
  {
   "cell_type": "markdown",
   "metadata": {},
   "source": [
    "# Tema 1. Variables aleatorias multivariadas.\n",
    "## 1.1. Correlaciones y covarianzas.\n",
    "\n",
    "<p align=\"right\">\n",
    "Autor: Emmanuel Alcalá\n",
    "<br>\n",
    "<a href=\"https://scholar.google.com.mx/citations?hl=en&user=3URusCgAAAAJ&view_op=list_works&sortby=pubdate\">Google Scholar</a>\n",
    "</p>\n",
    "\n",
    "---\n",
    "\n",
    "### 0. Preliminares\n",
    "\n",
    "**Producto punto (o producto interno)**\n",
    "\n",
    "Dados dos vectores columna $\\mathbf{a} = [a_1, a_2, \\dots , a_n]^\\top$ y $\\mathbf{b} = [b_1, b_2, \\dots , b_n]^\\top$, el producto punto de ambos vectores es definido como\n",
    "\n",
    "$$\n",
    "\\mathbf{a}^\\top \\mathbf{b} =%\n",
    "\\begin{bmatrix}\n",
    "  a_1 & a_2 & \\dots & a_n\n",
    "\\end{bmatrix} \\begin{bmatrix}\n",
    "  b_1 \\\\\n",
    "  b_2 \\\\\n",
    "  \\vdots \\\\\n",
    "  b_n\n",
    "\\end{bmatrix} =%\n",
    "\\sum_{i=1}^n a_ib_i = a_1b_1 + a_2b_2 + \\dots + a_nb_n\n",
    "$$\n",
    "\n",
    "Por ejemplo, si $\\mathbf{a}$ es un vector de probabilidades $p_i = 1/n$ y $\\mathbf{b}$ una variable aleatoria $x$, el producto punto $\\mathbf{p}^\\top \\mathbf{x}$ es el promedio \n",
    "\n",
    "$$\n",
    "\\mathbf{p}^\\top \\mathbf{x} = \\sum_{i=1}^n \\frac{1}{n} x_i = \\frac{1}{n} \\sum_{i=1}^n x_i\n",
    "$$\n",
    "\n",
    "**Producto de dos matrices**\n",
    "\n",
    "Dadas dos matrices $\\mathbf{A} \\text{ y } \\mathbf{B}$, su producto se define como\n",
    "\n",
    "$$\n",
    "  \\mathbf{A}\\mathbf{B}\n",
    "$$\n",
    "\n",
    "\n",
    "---\n",
    "\n",
    "En `R` el producto punto se obtiene con el comando `%*%`. Por ejemplo, para calcular el producto punto $\\mathbf{a}^\\top \\mathbf{b}$ se obtiene como `a %*% b`, lo que es equivalente a `sum(a * b)`.\n",
    "\n",
    "La multiplicación de matrices también se obtiene con `%*%`. Así, $\\mathbf{A}\\mathbf{B} = \\mathbf{C}$ se obtiene `A %*% B`.\n"
   ]
  },
  {
   "cell_type": "code",
   "execution_count": 53,
   "metadata": {
    "vscode": {
     "languageId": "r"
    }
   },
   "outputs": [
    {
     "name": "stdout",
     "output_type": "stream",
     "text": [
      "  mean_dot =  7 \n",
      "    by def =  7 \n",
      " mean_base =  7"
     ]
    }
   ],
   "source": [
    "# vector de resultados\n",
    "x <- c(10, 5, 6)\n",
    "# vector de probabilidades\n",
    "px <- rep(1 / length(x), length(x))\n",
    "# imprimir resultados\n",
    "cat(\n",
    "  \"  mean_dot = \",\n",
    "  x %*% px,\n",
    "    \"\\n\",\n",
    "  \"   by def = \",\n",
    "  sum(px * x),\n",
    "  \"\\n\",\n",
    "  \"mean_base = \",\n",
    "  mean(x)\n",
    ")"
   ]
  },
  {
   "cell_type": "markdown",
   "metadata": {},
   "source": [
    "**1.1.1. Covarianza univariada**\n",
    "\n",
    "El valor esperado, o media o primer momento, de la variable aleatoria $X$ es\n",
    "\n",
    "$$\n",
    "\\begin{equation*}\n",
    "  \\mathbb{E}_X{x} = \\begin{cases}\n",
    "    \\sum_x xf(x) &\\text{ si $X$ es discreta}\\\\\n",
    "    \\int x f(x) \\text{d}x &\\text{ si $X$ es continua}\n",
    "  \\end{cases}\\tag{1}\n",
    "\\end{equation*}\n",
    "$$\n",
    "\n",
    "Si el contexto no es ambiguo, se escribe simplemente $\\mathbb{E}[x]$. $f(x)$ es una distribución de probabilidad. Se puede pensar en $\\mathbb{E}[x]$ como un promedio de muestras $X_1, ..., X_n$, con $f(x) = 1/n$\n",
    "\n",
    "$$\n",
    "\\begin{equation*}\n",
    "  \\mathbb{E}[x] \\approx \\frac{1}{n}\\sum_{i=1}^n X_i \\tag{2}\n",
    "\\end{equation*}\n",
    "$$\n",
    "\n",
    "La covarianza es una medida de dependencia entre dos variables aleatorias. Dadas dos variables univariadas $X, Y \\in \\mathbb{R}$, con realizaciones $x, y$, la covarianza es definida como el producto esperado de sus desviaciones con respecto a sus medias:\n",
    "\n",
    "$$\n",
    "\\begin{equation*}\n",
    "\\text{Cov}_{X,Y}[x, y] := \\mathbb{E}_{X,Y}\\left [(x - \\mathbb{E}_X[x])(y - \\mathbb{E}_Y[y]) \\right] \\tag{3}\n",
    "\\end{equation*}\n",
    "$$\n",
    "\n",
    "en donde $\\mathbb{E}_X[x], \\mathbb{E}_Y[y]$ es la media de $x$ y $y$ respectivamente. Notar que $\\text{Cov}_{X,Y}[x, y]$ se puede escribir como\n",
    "\n",
    "$$\n",
    "\\begin{equation*}\n",
    "  \\text{Cov}_{X,Y}[x, y] = \\sum_{x,y}f(x,y)(x - \\mathbb{E}[x])(y - \\mathbb{E}[y])\n",
    "\\end{equation*} \\tag{4}\n",
    "$$\n",
    "\n",
    "Si $(x, y)$ tienen iguales probabilidades $1/n$, entonces la covarianza es\n",
    "\n",
    "$$\n",
    "\\begin{equation*}\n",
    "  \\text{Cov}_{X,Y}[x, y] = \\frac{1}{n} \\sum_{x,y}(x - \\mathbb{E}[x])(y - \\mathbb{E}[y])\\tag{5}\n",
    "\\end{equation*}\n",
    "$$\n",
    "\n",
    "Si denotamos $x_0 = (x - \\mathbb{E}[x])$ y  $y_0 = (y - \\mathbb{E}[y])$ como como $x$ centrada y $y$ centradas con respecto a su media, la covarianza es \n",
    "\n",
    "$$\n",
    "\\begin{equation*}\n",
    "  \\text{Cov}_{X,Y}[x, y] = \\frac{1}{n} \\mathbf{x}_0^\\top \\mathbf{y}_0\\tag{6}\n",
    "\\end{equation*}\n",
    "$$\n",
    "\n",
    "En donde $\\mathbf{x}_0^\\top \\mathbf{y}_0$ es el producto punto de los vectores centrados. \n",
    "\n",
    "### 1.1.2. Correlación univariada\n",
    "\n",
    "Comenzamos por encontrar el ángulo $\\theta$ entre los vectores centrados $\\mathbf{x}_0, \\mathbf{y}_0$, para lo cual usamos la definición \n",
    "\n",
    "$$\n",
    "\\begin{align*}\n",
    " \\mathbf{x}_0^\\top \\mathbf{y}_0 &= \\| \\mathbf{x}_0 \\| \\|  \\mathbf{y}_0 \\| \\cos \\theta\\\\\n",
    " \\cos \\theta  &=  \\frac{\\mathbf{x}_0^\\top \\mathbf{y}_0}{ \\|\\mathbf{x}_0\\| \\|\\mathbf{y}_0\\|}\n",
    "\\end{align*} \\tag{7}\n",
    "$$\n",
    "\n",
    "En donde $\\| \\mathbf{x_0} \\|$ es llamada norma $L^2$, que no es otra cosa que la distancia euclidiana de un vector con respecto a su origen. Su definición es la raíz cuadrada del producto punto de un vector consigo mismo:\n",
    "\n",
    "$$\n",
    "\\begin{align*}\n",
    "  \\| \\mathbf{x}_0 \\| = \\sqrt{\\mathbf{x}_0^\\top \\mathbf{x}_0} = \\sqrt{x_0(1)^2 + x_0(2)^2 + \\dots  } \\tag{8}\n",
    "\\end{align*}\n",
    "$$\n",
    "\n",
    "Notar lo siguiente: la definición de la varianza es el valor esperado de las desviaciones cuadradas de $x$ con respecto a su media, $x - \\mathbb{E}[x]$\n",
    "\n",
    "$$\n",
    "\\begin{align*}\n",
    "\\text{Var}[x] &= \\mathbb{E}[(x - \\mathbb{E}[x])^2] = \\frac{1}{n}\\sum_{X} (x - \\mathbb{E}[x])^2\\\\\n",
    "\\text{Var}[x] &= \\frac{1}{n}\\sum_{X} x_0^2 = \\frac{1}{n}\\mathbf{x}_0^\\top \\mathbf{x}_0 \\tag{9}\n",
    "\\end{align*}\n",
    "$$\n",
    "\n",
    "Dado que la desviación estándar es $\\text{SD}[x] = \\sqrt{\\text{Var}[x]}$, combinando $(8)$ y $(9)$ tenemos lo siguiente:\n",
    "\n",
    "$$\n",
    "\\begin{equation*}\n",
    "\\text{SD}[x] = \\sqrt{\\text{Var}[x]} = \\sqrt{\\frac{1}{n}\\sum_{X} x_0^2} = \\sqrt{1/n}\\| \\mathbf{x}_0 \\| \\tag{10}\n",
    "\\end{equation*}\n",
    "$$\n",
    "\n",
    "Si dividimos $\\text{Cov}[x, y]$ entre el producto de las desviaciones de $x$ y $y$, $\\text{SD}[x] \\cdot \\text{SD}[y] $ tenemos \n",
    "\n",
    "$$\n",
    "\\frac{\\frac{1}{n} \\mathbf{x}_0^\\top \\mathbf{y}_0}{\\sqrt{1/n}\\| \\mathbf{x}_0 \\| \\sqrt{1/n}\\| \\mathbf{y}_0 \\| } \n",
    "$$\n",
    "\n",
    "A la cantidad que resulta se le conoce como coeficiente de correlación, $\\rho$. Notar que, reacomodando ($\\sqrt{1/n} \\times \\sqrt{1/n} = 1/n$), $\\rho$ es el coseno de similitud definido en $(7)$\n",
    "\n",
    "$$\n",
    "  \\begin{align*}\n",
    "    \\rho = \\cos \\theta &= \\frac{\\frac{1}{n} \\mathbf{x}_0^\\top \\mathbf{y}_0}{\\sqrt{1/n}\\| \\mathbf{x}_0 \\| \\sqrt{1/n}\\| \\mathbf{y}_0 \\| }\\\\\n",
    "      &= \\frac{\\mathbf{x}_0^\\top \\mathbf{y}_0}{\\| \\mathbf{x}_0 \\| \\| \\mathbf{y}_0 \\| }\n",
    "  \\end{align*}\\tag{11}\n",
    "$$\n",
    "\n",
    "Esta forma de definirlo tiene propiedades interesantes. Por álgebra lineal, sabemos que si dos vectores $\\mathbf{a}, \\mathbf{b}$ son ortogonales (i.e., $\\theta = 90^\\circ$) su producto punto $\\mathbf{a}^\\top \\mathbf{b} = 0$, y por lo tanto son linealmente independientes. Si dos vectores centrados son ortogonales, $\\mathbf{x}_0^\\top \\mathbf{y}_0 = 0$ y por lo tanto $\\rho = 0$. Es decir, $\\rho = 0$ indica que existe independencia lineal entre los vectores.\n",
    "\n",
    "Otra observación interesante es la siguiente. Definamos la estandarización de $x$ como la transformación lineal:\n",
    "\n",
    "$$\n",
    "  z(x) = \\frac{x - \\mu}{\\text{SD}[x]} = \\frac{x_0}{\\text{SD}[x]}\n",
    "$$\n",
    "\n",
    "Ahora $z(x)$ es una transformación de $x$ que consiste en centrarla y dividirla por su desviación estándar. Por la eq. 11, podemos decir que la correlación $\\rho$ es el producto punto de los vectores centrados $\\mathbf{x}_0$ y $\\mathbf{y}_0$ *divididos* por el producto de las desviaciones estándar, lo que es equivalente a \n",
    "\n",
    "$$\n",
    "  \\rho = \\frac{x_0}{\\text{SD}[x]} \\times  \\frac{y_0}{\\text{SD}[y]} = z(x)\\times z(y)\n",
    "$$\n",
    "\n",
    "Podemos ver que la eq. 11 es equivalente a la covarianza de las variables estandarizadas.\n",
    "\n",
    "$$\n",
    "  \\rho = \\text{Cov}[z_x, z_y] = \\frac{1}{n}\\mathbf{z}_x^\\top\\mathbf{z}_y \\tag{12}\n",
    "$$\n",
    "\n",
    "---\n",
    "\n",
    "Propiedades de $\\rho$:\n",
    "\n",
    "1. $-1 \\leq \\rho \\leq 1$.\n",
    "2. Mide relación (dependencia) lineal.\n",
    "3. $\\rho$ no cambia con transformaciones lineales (suma o multiplicación con mismo signo).\n",
    "\n",
    "---\n",
    "\n",
    "A continuación mostraremos algunos de estos importantes resultados usando código de R. Notar que en las definiciones dadas han sido para una población, no para una muestra."
   ]
  },
  {
   "cell_type": "code",
   "execution_count": 33,
   "metadata": {
    "vscode": {
     "languageId": "r"
    }
   },
   "outputs": [
    {
     "name": "stdout",
     "output_type": "stream",
     "text": [
      "cov_dot_def: 0.009486\n",
      "  cov_r_fun: 0.009486"
     ]
    }
   ],
   "source": [
    "# eq 6: mostrar que la covarianza (x,y) es igual al producto punto de\n",
    "# los vectores centrados divididos por (n - 1) (por qué?). Usar la función\n",
    "# cov(x,y) nativa de R.\n",
    "\n",
    "center <- function(x) x - mean(x)\n",
    "dot_prod <- function(x, y) x %*% y\n",
    "\n",
    "cov_dot <- function(x, y) {\n",
    "  n <- length(x)\n",
    "  x0 <- center(x)\n",
    "  y0 <- center(y)\n",
    "  # dividir por (n-1) porque es la covarianza muestral\n",
    "  (1 / (n - 1)) * dot_prod(x0, y0) |> as.numeric()\n",
    "}\n",
    "\n",
    "set.seed(89)\n",
    "x <- rnorm(150)\n",
    "y <- rnorm(150, 5)\n",
    "\n",
    "cat(\n",
    "  sprintf(\n",
    "    \"cov_dot_def: %0.6f\\n  cov_r_fun: %0.6f\",\n",
    "    cov_dot(x, y),\n",
    "    cov(x, y)\n",
    "  )\n",
    ")"
   ]
  },
  {
   "cell_type": "code",
   "execution_count": 29,
   "metadata": {
    "vscode": {
     "languageId": "r"
    }
   },
   "outputs": [
    {
     "name": "stdout",
     "output_type": "stream",
     "text": [
      " sd(x)_norm: 1.042977\n",
      "sd(x)_r_fun: 1.042977"
     ]
    }
   ],
   "source": [
    "# eq 10: mostrar que la desviación estándar de x es la norma de x centrado\n",
    "# multiplicado por por la raíz del recíproco de (n-1). Usar la función sd(x)\n",
    "# nativa de R.\n",
    "\n",
    "# de la definicion\n",
    "\n",
    "sd_x <- function(x) {\n",
    "  # centrar x\n",
    "  x0 <- center(x)\n",
    "  nsample <- length(x0) - 1\n",
    "  # obtener la norma\n",
    "  norm_x0 <- norm(x0, type = \"2\")\n",
    "  norm_x0 * sqrt(1 / nsample)\n",
    "}\n",
    "\n",
    "set.seed(89)\n",
    "x <- rnorm(150)\n",
    "\n",
    "cat(\n",
    "  sprintf(\n",
    "    \" sd(x)_norm: %0.6f\\nsd(x)_r_fun: %0.6f\", sd_x(x), sd(x)\n",
    "  )\n",
    ")"
   ]
  },
  {
   "cell_type": "code",
   "execution_count": 25,
   "metadata": {
    "vscode": {
     "languageId": "r"
    }
   },
   "outputs": [
    {
     "name": "stdout",
     "output_type": "stream",
     "text": [
      "cos theta: 0.009196\n",
      "      rho: 0.009196"
     ]
    },
    {
     "data": {
      "image/png": "[encoded data removed]",
      "text/plain": [
       "plot without title"
      ]
     },
     "metadata": {
      "image/png": {
       "height": 420,
       "width": 420
      }
     },
     "output_type": "display_data"
    }
   ],
   "source": [
    "# eq 11: mostrar que el coeficiente de correlación es igual al coseno de similitud\n",
    "# para los vectores centrados x0, y0. Usar la funcion cor(x,y) nativa de R.\n",
    "\n",
    "cosine_sim <- function(x, y) {\n",
    "  # obtener el producto punto\n",
    "  dot_xy <- dot_prod(x, y)\n",
    "  # obtener la norma L2\n",
    "  norm_x <- norm(x, type = \"2\")\n",
    "  norm_y <- norm(y, type = \"2\")\n",
    "  dot_xy / (norm_x * norm_y) |> as.numeric()\n",
    "}\n",
    "\n",
    "set.seed(89)\n",
    "x <- rnorm(150)\n",
    "y <- rnorm(150, 5)\n",
    "plot(x, y)\n",
    "# centrar vectores\n",
    "x0 <- center(x)\n",
    "y0 <- center(y)\n",
    "\n",
    "# cat(\n",
    "#   \"cos theta = \",\n",
    "#   cosine_sim(x0, y0) |> round(6),\n",
    "#   \"\\n\",\n",
    "#   \"     rho = \",\n",
    "#   cor(x, y) |> round(6)\n",
    "# )\n",
    "cat(\n",
    "  sprintf(\n",
    "    \"cos theta: %0.6f\\n      rho: %0.6f\", cosine_sim(x0, y0), cor(x, y)\n",
    "  )\n",
    ")"
   ]
  },
  {
   "cell_type": "code",
   "execution_count": 87,
   "metadata": {
    "vscode": {
     "languageId": "r"
    }
   },
   "outputs": [
    {
     "data": {
      "text/html": [
       "<table class=\"dataframe\">\n",
       "<caption>A matrix: 3 × 1 of type dbl</caption>\n",
       "<tbody>\n",
       "\t<tr><th scope=row>cor_by_def</th><td>0.009196</td></tr>\n",
       "\t<tr><th scope=row>cor_r_base</th><td>0.009196</td></tr>\n",
       "\t<tr><th scope=row>cor_cov_z</th><td>0.009196</td></tr>\n",
       "</tbody>\n",
       "</table>\n"
      ],
      "text/latex": [
       "A matrix: 3 × 1 of type dbl\n",
       "\\begin{tabular}{r|l}\n",
       "\tcor\\_by\\_def & 0.009196\\\\\n",
       "\tcor\\_r\\_base & 0.009196\\\\\n",
       "\tcor\\_cov\\_z & 0.009196\\\\\n",
       "\\end{tabular}\n"
      ],
      "text/markdown": [
       "\n",
       "A matrix: 3 × 1 of type dbl\n",
       "\n",
       "| cor_by_def | 0.009196 |\n",
       "| cor_r_base | 0.009196 |\n",
       "| cor_cov_z | 0.009196 |\n",
       "\n"
      ],
      "text/plain": [
       "           [,1]    \n",
       "cor_by_def 0.009196\n",
       "cor_r_base 0.009196\n",
       "cor_cov_z  0.009196"
      ]
     },
     "metadata": {},
     "output_type": "display_data"
    }
   ],
   "source": [
    "# eq 12: mostrar que la correlación es igual a la covarianza de las variables estandarizadas\n",
    "# nota: en R existe la función scale que centre y escala (divide por SD) las variables,\n",
    "# pero vamos a hacer la nuestra para ilustrar\n",
    "z_score <- function(x) {\n",
    "  (x - mean(x)) / sd(x)\n",
    "}\n",
    "set.seed(89)\n",
    "x <- rnorm(150)\n",
    "y <- rnorm(150, 5)\n",
    "# centrar vectores\n",
    "z_x <- z_score(x)\n",
    "z_y <- z_score(y)\n",
    "\n",
    "t(data.frame(\n",
    "  cor_by_def = (1 / (length(x) - 1)) * z_x %*% z_y,\n",
    "  cor_r_base = cor(x, y),\n",
    "  cor_cov_z = cov(z_x, z_y)\n",
    ")) |> round(6)"
   ]
  },
  {
   "cell_type": "markdown",
   "metadata": {},
   "source": [
    "Las propiedades (1) y (2) son fáciles de verificar numéricamente."
   ]
  },
  {
   "cell_type": "code",
   "execution_count": 34,
   "metadata": {
    "vscode": {
     "languageId": "r"
    }
   },
   "outputs": [
    {
     "name": "stdout",
     "output_type": "stream",
     "text": [
      "[1] \"La correlación es de -0.003\"\n"
     ]
    },
    {
     "data": {
      "image/png": "[encoded data removed]",
      "text/plain": [
       "plot without title"
      ]
     },
     "metadata": {
      "image/png": {
       "height": 420,
       "width": 420
      }
     },
     "output_type": "display_data"
    }
   ],
   "source": [
    "# rho solo mide dependencia lineal, no dependencia en general\n",
    "fun_quadratic <- function(x) {\n",
    "  xmax <- max(x)\n",
    "  x*(xmax - x) + rnorm(length(x), 0, 0.1*xmax)\n",
    "}\n",
    "set.seed(456)\n",
    "x <- seq(0, 10, 0.1)\n",
    "y <- fun_quadratic(x)\n",
    "plot(x, y)\n",
    "abline(lm(y ~ x))\n",
    "print(\n",
    "  sprintf(\n",
    "    'La correlación es de %0.3f', cor(x,y)\n",
    "  )\n",
    ")"
   ]
  },
  {
   "cell_type": "markdown",
   "metadata": {},
   "source": [
    "**Off topic**: si $\\rho$ no sirve para medir dependencia no lineal, ¿qué podemos usar?\n",
    "\n",
    "Para medir dependencia *no lineal* existen alternativas, como la información mutua o la correlación de la distancia.\n",
    "\n",
    "Para calcular la información mutua instalamos el paquete `infotheo` usando `install.packages('infotheo')`, y para correlación de la distancia instalamos `energy` de la misma manera."
   ]
  },
  {
   "cell_type": "code",
   "execution_count": 36,
   "metadata": {
    "vscode": {
     "languageId": "r"
    }
   },
   "outputs": [
    {
     "name": "stdout",
     "output_type": "stream",
     "text": [
      "MultInf: 1.221\n",
      "CorDist: 0.488\n",
      "Ambas diferente de 0"
     ]
    }
   ],
   "source": [
    "# cargamos los paquetes\n",
    "library(infotheo)\n",
    "library(energy)\n",
    "set.seed(456)\n",
    "x <- seq(0, 10, 0.1)\n",
    "y <- fun_quadratic(x)\n",
    "# crear df para discretizar en bins\n",
    "df_raw <- data.frame(x = x, y = y)\n",
    "# cantidad de bines recomendado la raíz cuadrada de N\n",
    "df_discretized <- discretize(X = df_raw, nbins = sqrt(NROW(df_raw)))\n",
    "# calcular la información mutua\n",
    "mut_info <- multiinformation(df_discretized, method = \"mm\")\n",
    "# calcular la correlación de la distancia\n",
    "cor_dist <- dcor(x, y)\n",
    "\n",
    "cat(\n",
    "  sprintf(\n",
    "    \"MultInf: %0.3f\\nCorDist: %0.3f\\nAmbas diferente de 0\",\n",
    "    mut_info, cor_dist\n",
    "  )\n",
    ")"
   ]
  },
  {
   "cell_type": "code",
   "execution_count": 45,
   "metadata": {
    "vscode": {
     "languageId": "r"
    }
   },
   "outputs": [
    {
     "name": "stdout",
     "output_type": "stream",
     "text": [
      " OriginalRho: 0.823\n",
      "LineTransRho: 0.823"
     ]
    }
   ],
   "source": [
    "# invariante a transformaciones lineales\n",
    "x <- seq(0, 10, 0.1)\n",
    "set.seed(456)\n",
    "y <- x + rnorm(length(x), 1, 2)\n",
    "original_rho <- cor(x, y)\n",
    "# multiplicar x por 2, sumar 3 a y\n",
    "transformed_rho <- cor(x * 2, y + 3)\n",
    "cat(\n",
    "  sprintf(\n",
    "    \" OriginalRho: %0.3f\\nLineTransRho: %0.3f\",\n",
    "    original_rho, transformed_rho\n",
    "  )\n",
    ")"
   ]
  },
  {
   "cell_type": "markdown",
   "metadata": {},
   "source": [
    "### 1.1.2. Covarianza multivariada\n",
    "\n",
    "#### Datos multivariados\n",
    "\n",
    "Los datos multivariados surgen cuando, para investigar algún fenóomeno o proceso, se seleccionan $p\\geq 1$ *variables* o características para medir. Todos los valores se miden para una misma *unidad observacional* (individuo, objeto, proceso, máquina, etc.). Esas variables son llamadas *dimensiones*.\n",
    "\n",
    "El análisis multivariado tiene como objeto el análisis y entendimiento de datos en varias dimensiones. Partimos de un arreglo $\\textbf{X} \\in \\mathbb{R}^p$.\n",
    "\n",
    "Denotamos como $x_{jk}$ a la $k$ variable (columna) medida en la $j$ observación (fila). Cada $x_{j}$ tiene $p$ dimensiones (o variables/columnas). \n",
    "\n",
    "$$\n",
    "\\text{tamaño muestral }n\n",
    "\\left\\{\n",
    "\\begin{array}{c|cccccc}\n",
    "& \\text{Variable } 1  & \\text{Variable } 2  & \\dots & \\text{Variable } k & \\dots  & \\text{Variable } p \\\\ \\hline\n",
    "\\text{Ob }1 & {x}_{11} & {x}_{12} & \\dots & x_{1k}  & \\dots & {x}_{1p} \\\\\n",
    "\\text{Ob } 2 & {x}_{21} & {x}_{22} & \\dots & x_{2k}  & \\dots & {x}_{2p}\\\\\n",
    "\\vdots & \\vdots & \\vdots & \\vdots & \\vdots & \\vdots & \\vdots  \\\\\n",
    "\\text{Ob } j & {x}_{j1} & {x}_{j2} & \\dots & x_{jk}  & \\dots & {x}_{jp} \\\\\n",
    "\\vdots & \\vdots & \\vdots & \\vdots & \\vdots & \\vdots & \\vdots  \\\\\n",
    "\\text{Ob } n & {x}_{n1} & {x}_{n2} & \\dots & x_{nk}  & \\dots & {x}_{np}\n",
    "\\end{array}\\right.\n",
    "$$\n",
    "\n",
    "**Ejemplo:**\n",
    "\n",
    "Una selección de 4 recibos de una librería se obtuvieron para evaluar la venta de libros. Cada recibo tenía el número de libros vendidos y la cantidad de cada venta. Sea la primera variable la vanta en dólares y la segunda el número de libros. Podemos considerar el número correspondiente de recibos como cuatro mediciones de dos variables. Los datos en forma tabular serían \n",
    "\n",
    "$$\n",
    "\\begin{array}{c | c c}\n",
    "      & \\text{Variable } 1 \\ (\\text{dólares}) & \\text{Variable } 2 \\ (n\\text{ libros}) \\\\ \n",
    "  \\hline\n",
    "  \\text{ítem }1 & 42 & 4\\\\ \n",
    "  \\text{ítem }2 &  52 & 5\\\\ \n",
    "  \\text{ítem }3 &  48 & 4\\\\\n",
    "  \\text{ítem }4 &  58&  3\\\\\n",
    "  \\hline\n",
    "\\end{array}\n",
    "$$\n",
    "\n",
    "En notación matricial\n",
    "\n",
    "$$\n",
    "  \\textbf{X} = \\begin{bmatrix}\n",
    "    42 & 4\\\\\n",
    "    52 & 5\\\\\n",
    "    48 & 4\\\\\n",
    "    58 & 3\\\\\n",
    "  \\end{bmatrix}\n",
    "$$\n",
    "\n",
    "---\n",
    "\n",
    "**Covarianza**\n",
    "\n",
    "La covarianza entre todos los elementos es una matriz, la matriz de covarianza (o varianza-covarianza)\n",
    "\n",
    "$$\n",
    "  \\Sigma = \\begin{bmatrix}\n",
    "  \\sigma_{X_1X_1} & \\dots & \\sigma_{X_1X_p} \\\\\n",
    "  \\vdots & \\ddots & \\vdots \\\\\n",
    "  \\sigma_{X_pX_1} & \\dots & \\sigma_{X_pX_p}\n",
    "  \\end{bmatrix}\n",
    "$$\n",
    "\n",
    "Para abreviar, $\\sigma_{X_1X_1}$ se puede denotar simplemente como $\\sigma_{11}$. Dado que estaremos trabajando con muestras, estaremos interesados solo en la covarianza muestral.s\n",
    "\n",
    "La matriz de covarianza muestral se denota con $S$\n",
    "\n",
    "\n",
    "$$\n",
    "  S = \\begin{bmatrix}\n",
    "    S_{11} & \\dots & S_{1p} \\\\\n",
    "  \\vdots & \\ddots & \\vdots \\\\\n",
    "  S_{p1} & \\dots & S_{pp}\n",
    "  \\end{bmatrix}\n",
    "$$\n",
    "\n",
    "La covarianza muestral entre dos variables $j$ y $k$, $S_{jk}$, se calcula como \n",
    "\n",
    "$$\n",
    "  S_{jk} = \\frac{1}{n-1}\\sum_{i=1}^n(x_{ij} - \\mathbf{E}[x_j])(x_{ik} - \\mathbf{E}[x_k]) \\tag{13}\n",
    "$$\n",
    "\n",
    "sobre $i=1, 2, ..., n$ con tamaño de muestra $n$ (la cantidad de filas en $\\mathbf{X}$). En donde $\\mathbf{E}[x_j] = \\bar{x}_j$ es el promedio o valor esperado de la variable $x_j$ (e igual para $k$)\n",
    "\n",
    "Los elementos de la diagonal, la covarianza de una variable con respecto a sí misma (i.e., $j=k$), son las varianzas muestrales\n",
    "\n",
    "$$\n",
    "  \\begin{align*}\n",
    "    \\text{Cov}[x,x] &= \\text{Cov}[x, x] = \\frac{1}{n-1} \\sum_{x}(x - \\bar{x})(x - \\bar{x})\\quad \\text{ (por eq. 5)}\\\\ \n",
    "    &= \\frac{1}{n-1} \\sum_{x}(x - \\bar{x})^2 = \\text{Var}[x] = S^2_X \\quad \\text{ (por eq. 9)}\n",
    "  \\end{align*}\n",
    "$$\n",
    "\n",
    "Si centramos las variables restando la media obtenemos $x_0 = x - \\bar{x}$. Definimos la matriz centrada $\\mathbf{X_0}$ como\n",
    "\n",
    "$$\n",
    "\\mathbf{X_0} = \\begin{bmatrix}\n",
    "  {x}_{11} - \\bar{x}_1  & {x}_{12} - \\bar{x}_2 & \\dots & {x}_{1p} - \\bar{x}_p \\\\\n",
    "  {x}_{21} - \\bar{x}_1  & {x}_{22} - \\bar{x}_2 & \\dots & {x}_{2p} - \\bar{x}_p \\\\\n",
    "   & & \\vdots & \\\\ \n",
    "  {x}_{n1} - \\bar{x}_1  & {x}_{n2} - \\bar{x}_2 & \\dots & {x}_{np} - \\bar{x}_p\n",
    "\\end{bmatrix}\n",
    "$$\n",
    "\n",
    "Notar que a cada entrada le restamos la media de su columna. Por analogía con la eq. 10, paro ahora usando matrices centradas en vez de vectores, la matriz de covarianza es\n",
    "\n",
    "$$\n",
    "  S = \\frac{1}{n-1}\\mathbf{X_0}^\\top \\mathbf{X_0} \\tag{14}\n",
    "$$\n",
    "\n",
    "**Correlación**\n",
    "\n",
    "La matriz de correlaciones $\\mathbf{R}$ es similar a la matriz de covarianzas:\n",
    "\n",
    "$$\n",
    "  \\mathbf{R} = \\begin{bmatrix}\n",
    "    R_{11} & \\dots & R_{1p} \\\\\n",
    "  \\vdots & \\ddots & \\vdots \\\\\n",
    "  R_{p1} & \\dots & R_{pp}\n",
    "  \\end{bmatrix}\n",
    "$$\n",
    "\n",
    "Pero ahora, la correlación $R_{jk},\\,j=k$ de una variable consigo misma es 1.\n",
    "\n",
    "$$\n",
    "  \\mathbf{R} = \\begin{bmatrix}\n",
    "    1 & \\dots & R_{1p} \\\\\n",
    "  \\vdots & \\ddots & \\vdots \\\\\n",
    "  R_{p1} & \\dots & 1\n",
    "  \\end{bmatrix}\n",
    "$$\n",
    "\n",
    "Recordando la relación dada en eq. 12 de la correlación con respecto a las variables estandarizadas, cada entrada en la matriz de correlaciones es\n",
    "\n",
    "$$\n",
    "\\begin{align*}\n",
    "    \\mathbf{R} &= %\n",
    "  \\begin{bmatrix}\n",
    "      \\frac{1}{n-1}\\mathbf{z}_1^\\top\\mathbf{z}_1 & \\dots & \\frac{1}{n-1}\\mathbf{z}_1^\\top\\mathbf{z}_p \\\\\n",
    "      \\vdots & \\ddots & \\vdots \\\\\n",
    "      \\frac{1}{n-1}\\mathbf{z}_p^\\top\\mathbf{z}_1 & \\dots & \\frac{1}{n-1}\\mathbf{z}_p^\\top\\mathbf{z}_p\n",
    "  \\end{bmatrix}\\\\\n",
    "   &= \\frac{1}{n-1}%\n",
    "   \\begin{bmatrix}\n",
    "      \\mathbf{z}_1^\\top\\mathbf{z}_1 & \\dots & \\mathbf{z}_1^\\top\\mathbf{z}_p \\\\\n",
    "      \\vdots & \\ddots & \\vdots \\\\\n",
    "      \\mathbf{z}_p^\\top\\mathbf{z}_1 & \\dots & \\mathbf{z}_p^\\top\\mathbf{z}_p\n",
    "  \\end{bmatrix}\n",
    "\\end{align*} \n",
    "$$\n",
    "\n",
    "$$\n",
    "  \\mathbf{R} = \\frac{1}{n-1}\\mathbf{Z}^\\top\\mathbf{Z}\\tag{15}\n",
    "$$"
   ]
  },
  {
   "cell_type": "code",
   "execution_count": 24,
   "metadata": {
    "vscode": {
     "languageId": "r"
    }
   },
   "outputs": [
    {
     "data": {
      "text/html": [
       "<dl>\n",
       "\t<dt>$`Cov R Base`</dt>\n",
       "\t\t<dd><table class=\"dataframe\">\n",
       "<caption>A matrix: 2 × 2 of type dbl</caption>\n",
       "<thead>\n",
       "\t<tr><th></th><th scope=col>X_1</th><th scope=col>X_2</th></tr>\n",
       "</thead>\n",
       "<tbody>\n",
       "\t<tr><th scope=row>X_1</th><td>45.33333</td><td>-2.0000000</td></tr>\n",
       "\t<tr><th scope=row>X_2</th><td>-2.00000</td><td> 0.6666667</td></tr>\n",
       "</tbody>\n",
       "</table>\n",
       "</dd>\n",
       "\t<dt>$`Cof definition`</dt>\n",
       "\t\t<dd><table class=\"dataframe\">\n",
       "<caption>A matrix: 4 × 2 of type dbl</caption>\n",
       "<thead>\n",
       "\t<tr><th scope=col>X_1</th><th scope=col>X_2</th></tr>\n",
       "</thead>\n",
       "<tbody>\n",
       "\t<tr><td>21.333333</td><td>0.0000000</td></tr>\n",
       "\t<tr><td> 1.333333</td><td>0.3333333</td></tr>\n",
       "\t<tr><td> 1.333333</td><td>0.0000000</td></tr>\n",
       "\t<tr><td>21.333333</td><td>0.3333333</td></tr>\n",
       "</tbody>\n",
       "</table>\n",
       "</dd>\n",
       "</dl>\n"
      ],
      "text/latex": [
       "\\begin{description}\n",
       "\\item[\\$`Cov R Base`] A matrix: 2 × 2 of type dbl\n",
       "\\begin{tabular}{r|ll}\n",
       "  & X\\_1 & X\\_2\\\\\n",
       "\\hline\n",
       "\tX\\_1 & 45.33333 & -2.0000000\\\\\n",
       "\tX\\_2 & -2.00000 &  0.6666667\\\\\n",
       "\\end{tabular}\n",
       "\n",
       "\\item[\\$`Cof definition`] A matrix: 4 × 2 of type dbl\n",
       "\\begin{tabular}{ll}\n",
       " X\\_1 & X\\_2\\\\\n",
       "\\hline\n",
       "\t 21.333333 & 0.0000000\\\\\n",
       "\t  1.333333 & 0.3333333\\\\\n",
       "\t  1.333333 & 0.0000000\\\\\n",
       "\t 21.333333 & 0.3333333\\\\\n",
       "\\end{tabular}\n",
       "\n",
       "\\end{description}\n"
      ],
      "text/markdown": [
       "$`Cov R Base`\n",
       ":   \n",
       "A matrix: 2 × 2 of type dbl\n",
       "\n",
       "| <!--/--> | X_1 | X_2 |\n",
       "|---|---|---|\n",
       "| X_1 | 45.33333 | -2.0000000 |\n",
       "| X_2 | -2.00000 |  0.6666667 |\n",
       "\n",
       "\n",
       "$`Cof definition`\n",
       ":   \n",
       "A matrix: 4 × 2 of type dbl\n",
       "\n",
       "| X_1 | X_2 |\n",
       "|---|---|\n",
       "| 21.333333 | 0.0000000 |\n",
       "|  1.333333 | 0.3333333 |\n",
       "|  1.333333 | 0.0000000 |\n",
       "| 21.333333 | 0.3333333 |\n",
       "\n",
       "\n",
       "\n",
       "\n"
      ],
      "text/plain": [
       "$`Cov R Base`\n",
       "         X_1        X_2\n",
       "X_1 45.33333 -2.0000000\n",
       "X_2 -2.00000  0.6666667\n",
       "\n",
       "$`Cof definition`\n",
       "           X_1       X_2\n",
       "[1,] 21.333333 0.0000000\n",
       "[2,]  1.333333 0.3333333\n",
       "[3,]  1.333333 0.0000000\n",
       "[4,] 21.333333 0.3333333\n",
       "attr(,\"scaled:center\")\n",
       "X_1 X_2 \n",
       " 50   4 \n"
      ]
     },
     "metadata": {},
     "output_type": "display_data"
    }
   ],
   "source": [
    "# usamos los datos del ejemplo anterior\n",
    "X <- data.frame(\n",
    "  X_1 = c(42, 52, 48, 58),\n",
    "  X_2 = c(4, 5, 4, 3)\n",
    ")\n",
    "# la matriz de covarianza usando la función nativa de R es\n",
    "cov_r_base <- cov(X)\n",
    "# la matriz de covarianza usando la definición de eq 13 es\n",
    "X0 <- scale(X, scale = FALSE)\n",
    "cov_def <- (1 / (nrow(X) - 1)) * t(X0) %*% X0\n",
    "\n",
    "list(\n",
    "  `Cov R Base` = cov_r_base,\n",
    "  `Cof definition` = cov_def\n",
    ")"
   ]
  },
  {
   "cell_type": "code",
   "execution_count": 68,
   "metadata": {
    "vscode": {
     "languageId": "r"
    }
   },
   "outputs": [
    {
     "name": "stdout",
     "output_type": "stream",
     "text": [
      "    var_r_base var_diag_cov_matrix\n",
      "X_1 45.3333333          45.3333333\n",
      "X_2  0.6666667           0.6666667\n"
     ]
    }
   ],
   "source": [
    "# La diagonal de la matriz de covarianza son las varianzas\n",
    "var1 <- var(X0[ ,1]) # varianza de la columna 1\n",
    "var2 <- var(X0[ ,2]) # varianza de la columna 2\n",
    "df_var <- data.frame(\n",
    "  var_r_base = c(var1, var2),\n",
    "  var_diag_cov_matrix = diag(cov_def)\n",
    ")\n",
    "\n",
    "print(df_var)"
   ]
  },
  {
   "cell_type": "code",
   "execution_count": 95,
   "metadata": {
    "vscode": {
     "languageId": "r"
    }
   },
   "outputs": [
    {
     "data": {
      "text/html": [
       "<dl>\n",
       "\t<dt>$cor_Z_def</dt>\n",
       "\t\t<dd><table class=\"dataframe\">\n",
       "<caption>A matrix: 2 × 2 of type dbl</caption>\n",
       "<thead>\n",
       "\t<tr><th></th><th scope=col>X_1</th><th scope=col>X_2</th></tr>\n",
       "</thead>\n",
       "<tbody>\n",
       "\t<tr><th scope=row>X_1</th><td> 1.0000000</td><td>-0.3638034</td></tr>\n",
       "\t<tr><th scope=row>X_2</th><td>-0.3638034</td><td> 1.0000000</td></tr>\n",
       "</tbody>\n",
       "</table>\n",
       "</dd>\n",
       "\t<dt>$cor_X_base</dt>\n",
       "\t\t<dd><table class=\"dataframe\">\n",
       "<caption>A matrix: 2 × 2 of type dbl</caption>\n",
       "<thead>\n",
       "\t<tr><th></th><th scope=col>X_1</th><th scope=col>X_2</th></tr>\n",
       "</thead>\n",
       "<tbody>\n",
       "\t<tr><th scope=row>X_1</th><td> 1.0000000</td><td>-0.3638034</td></tr>\n",
       "\t<tr><th scope=row>X_2</th><td>-0.3638034</td><td> 1.0000000</td></tr>\n",
       "</tbody>\n",
       "</table>\n",
       "</dd>\n",
       "</dl>\n"
      ],
      "text/latex": [
       "\\begin{description}\n",
       "\\item[\\$cor\\_Z\\_def] A matrix: 2 × 2 of type dbl\n",
       "\\begin{tabular}{r|ll}\n",
       "  & X\\_1 & X\\_2\\\\\n",
       "\\hline\n",
       "\tX\\_1 &  1.0000000 & -0.3638034\\\\\n",
       "\tX\\_2 & -0.3638034 &  1.0000000\\\\\n",
       "\\end{tabular}\n",
       "\n",
       "\\item[\\$cor\\_X\\_base] A matrix: 2 × 2 of type dbl\n",
       "\\begin{tabular}{r|ll}\n",
       "  & X\\_1 & X\\_2\\\\\n",
       "\\hline\n",
       "\tX\\_1 &  1.0000000 & -0.3638034\\\\\n",
       "\tX\\_2 & -0.3638034 &  1.0000000\\\\\n",
       "\\end{tabular}\n",
       "\n",
       "\\end{description}\n"
      ],
      "text/markdown": [
       "$cor_Z_def\n",
       ":   \n",
       "A matrix: 2 × 2 of type dbl\n",
       "\n",
       "| <!--/--> | X_1 | X_2 |\n",
       "|---|---|---|\n",
       "| X_1 |  1.0000000 | -0.3638034 |\n",
       "| X_2 | -0.3638034 |  1.0000000 |\n",
       "\n",
       "\n",
       "$cor_X_base\n",
       ":   \n",
       "A matrix: 2 × 2 of type dbl\n",
       "\n",
       "| <!--/--> | X_1 | X_2 |\n",
       "|---|---|---|\n",
       "| X_1 |  1.0000000 | -0.3638034 |\n",
       "| X_2 | -0.3638034 |  1.0000000 |\n",
       "\n",
       "\n",
       "\n",
       "\n"
      ],
      "text/plain": [
       "$cor_Z_def\n",
       "           X_1        X_2\n",
       "X_1  1.0000000 -0.3638034\n",
       "X_2 -0.3638034  1.0000000\n",
       "\n",
       "$cor_X_base\n",
       "           X_1        X_2\n",
       "X_1  1.0000000 -0.3638034\n",
       "X_2 -0.3638034  1.0000000\n"
      ]
     },
     "metadata": {},
     "output_type": "display_data"
    }
   ],
   "source": [
    "# e1. 15: corroborar que da la misma matriz de correlaciones que la función de R nativa\n",
    "Z <- scale(X)\n",
    "cor_Z_def <- (1 / (nrow(X) - 1)) * t(Z) %*% Z\n",
    "cor_X_base <- cor(X)\n",
    "list(\n",
    "  cor_Z_def = cor_Z_def,\n",
    "  cor_X_base = cor_X_base\n",
    ")"
   ]
  },
  {
   "cell_type": "markdown",
   "metadata": {},
   "source": [
    "#### Gráficos de matriz de correlaciones\n",
    "\n",
    "Cuando se tienen datos multivariados, una forma de ver relaciones entre las variables, para medir dependencia lineal, es creando una matriz de correlaciones de las variables numéricas y graficarlas. El gráfico resultante suele ser llamado gráfico de correlaciones, que es una representación gráfica de la matriz. Dado que la escala de la correlación diverge, es decir, va de [-1, 0] y de [0, 1], es recomendable escoger una paleta de tres colores diferentes con un color en el valor central."
   ]
  },
  {
   "cell_type": "code",
   "execution_count": 22,
   "metadata": {
    "vscode": {
     "languageId": "r"
    }
   },
   "outputs": [
    {
     "data": {
      "image/png": "[encoded data removed]",
      "text/plain": [
       "plot without title"
      ]
     },
     "metadata": {
      "image/png": {
       "height": 420,
       "width": 420
      }
     },
     "output_type": "display_data"
    }
   ],
   "source": [
    "library(tidyr)\n",
    "library(ggplot2)\n",
    "X <- data.frame(\n",
    "  X_1 = c(42, 52, 48, 58),\n",
    "  X_2 = c(4, 5, 4, 3)\n",
    ")\n",
    "X_cor <- cor(X) |> reshape2::melt()\n",
    "\n",
    "ggplot(\n",
    "  data = X_cor,\n",
    "  aes(\n",
    "    x = Var1,\n",
    "    y = Var2,\n",
    "    fill = value\n",
    "  )\n",
    ") +\n",
    "  geom_tile(color = 0) +\n",
    "  scale_fill_gradient2(\n",
    "    low = \"navy\",\n",
    "    high = \"red4\",\n",
    "    mid = \"white\",\n",
    "    midpoint = 0,\n",
    "    limit = c(-1, 1),\n",
    "    space = \"Lab\",\n",
    "    name = \"Pearson\\nCorrelation\"\n",
    "  ) +\n",
    "  geom_text(\n",
    "    aes(Var2, Var1,\n",
    "      label = value |> round(3)\n",
    "    ),\n",
    "    color = \"white\", size = 5\n",
    "  )"
   ]
  },
  {
   "cell_type": "markdown",
   "metadata": {},
   "source": [
    "**Aplicaciones**\n",
    "\n",
    "Una de las utilidades de la matriz de correlaciones la extracción de características (*feature extraction*). Si dos variables correlacionan entre sí, entonces una de ellas contiene información redundante, por lo que no es necesario ingresar ambas."
   ]
  }
 ],
 "metadata": {
  "kernelspec": {
   "display_name": "R",
   "language": "R",
   "name": "ir"
  },
  "language_info": {
   "codemirror_mode": "r",
   "file_extension": ".r",
   "mimetype": "text/x-r-source",
   "name": "R",
   "pygments_lexer": "r",
   "version": "4.2.1"
  },
  "orig_nbformat": 4
 },
 "nbformat": 4,
 "nbformat_minor": 2
}
