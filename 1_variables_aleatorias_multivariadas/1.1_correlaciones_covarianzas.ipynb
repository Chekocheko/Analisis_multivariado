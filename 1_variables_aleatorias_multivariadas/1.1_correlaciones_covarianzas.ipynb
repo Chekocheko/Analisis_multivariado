{
 "cells": [
  {
   "cell_type": "markdown",
   "metadata": {},
   "source": [
    "# Tema 1. Variables aleatorias multivariadas.\n",
    "## Correlaciones y covarianzas.\n",
    "\n",
    "<p align=\"right\">\n",
    "Autor: Emmanuel Alcalá\n",
    "<br>\n",
    "<a href=\"https://scholar.google.com.mx/citations?hl=en&user=3URusCgAAAAJ&view_op=list_works&sortby=pubdate\">Google Scholar</a>\n",
    "</p>\n",
    "\n",
    "---\n",
    "\n",
    "# 0. Preliminares\n",
    "\n",
    "**Producto punto (o producto interno)**\n",
    "\n",
    "Dados dos vectores columna $\\mathbf{a} = [a_1, a_2, \\dots , a_n]^\\top$ y $\\mathbf{b} = [b_1, b_2, \\dots , b_n]^\\top$, el producto punto de ambos vectores es definido como\n",
    "\n",
    "$$\n",
    "\\mathbf{a}^\\top \\mathbf{b} =%\n",
    "\\begin{bmatrix}\n",
    "  a_1 & a_2 & \\dots & a_n\n",
    "\\end{bmatrix} \\begin{bmatrix}\n",
    "  b_1 \\\\\n",
    "  b_2 \\\\\n",
    "  \\vdots \\\\\n",
    "  b_n\n",
    "\\end{bmatrix} =%\n",
    "\\sum_{i=1}^n a_ib_i = a_1b_1 + a_2b_2 + \\dots + a_nb_n\n",
    "$$\n",
    "\n",
    "Por ejemplo, si $\\mathbf{a}$ es un vector de probabilidades $p_i = 1/n$ y $\\mathbf{b}$ una variable aleatoria $x$, el producto punto $\\mathbf{p}^\\top \\mathbf{x}$ es el promedio \n",
    "\n",
    "$$\n",
    "\\mathbf{p}^\\top \\mathbf{x} = \\sum_{i=1}^n \\frac{1}{n} x_i = \\frac{1}{n} \\sum_{i=1}^n x_i\n",
    "$$"
   ]
  },
  {
   "cell_type": "code",
   "execution_count": 53,
   "metadata": {
    "vscode": {
     "languageId": "r"
    }
   },
   "outputs": [
    {
     "name": "stdout",
     "output_type": "stream",
     "text": [
      "  mean_dot =  7 \n",
      "    by def =  7 \n",
      " mean_base =  7"
     ]
    }
   ],
   "source": [
    "# vector de resultados\n",
    "x <- c(10, 5, 6)\n",
    "# vector de probabilidades\n",
    "px <- rep(1 / length(x), length(x))\n",
    "# imprimir resultados\n",
    "cat(\n",
    "  \"  mean_dot = \",\n",
    "  x %*% px,\n",
    "    \"\\n\",\n",
    "  \"   by def = \",\n",
    "  sum(px * x),\n",
    "  \"\\n\",\n",
    "  \"mean_base = \",\n",
    "  mean(x)\n",
    ")"
   ]
  },
  {
   "cell_type": "markdown",
   "metadata": {},
   "source": [
    "# 1. Variables aleatorias multivariadas\n",
    "## 1.1. Correlaciones y covarianzas"
   ]
  },
  {
   "cell_type": "markdown",
   "metadata": {},
   "source": [
    "**1.1.1. Covarianza univariada**\n",
    "\n",
    "El valor esperado, o media o primer momento, de la variable aleatoria $X$ es\n",
    "\n",
    "$$\n",
    "\\begin{equation*}\n",
    "  \\mathbb{E}_X{x} = \\begin{cases}\n",
    "    \\sum_x xf(x) &\\text{ si $X$ es discreta}\\\\\n",
    "    \\int x f(x) \\text{d}x &\\text{ si $X$ es continua}\n",
    "  \\end{cases}\\tag{1}\n",
    "\\end{equation*}\n",
    "$$\n",
    "\n",
    "Si el contexto no es ambiguo, se escribe simplemente $\\mathbb{E}[x]$. $f(x)$ es una distribución de probabilidad. Se puede pensar en $\\mathbb{E}[x]$ como un promedio de muestras $X_1, ..., X_n$, con $f(x) = 1/n$\n",
    "\n",
    "$$\n",
    "\\begin{equation*}\n",
    "  \\mathbb{E}[x] \\approx \\frac{1}{n}\\sum_{i=1}^n X_i \\tag{2}\n",
    "\\end{equation*}\n",
    "$$\n",
    "\n",
    "La covarianza es una medida de dependencia entre dos variables aleatorias. Dadas dos variables univariadas $X, Y \\in \\mathbb{R}$, con realizaciones $x, y$, la covarianza es definida como el producto esperado de sus desviaciones con respecto a sus medias:\n",
    "\n",
    "$$\n",
    "\\begin{equation*}\n",
    "\\text{Cov}_{X,Y}[x, y] := \\mathbb{E}_{X,Y}\\left [(x - \\mathbb{E}_X[x])(y - \\mathbb{E}_Y[y]) \\right] \\tag{3}\n",
    "\\end{equation*}\n",
    "$$\n",
    "\n",
    "en donde $\\mathbb{E}_X[x], \\mathbb{E}_Y[y]$ es la media de $x$ y $y$ respectivamente. Notar que $\\text{Cov}_{X,Y}[x, y]$ se puede escribir como\n",
    "\n",
    "$$\n",
    "\\begin{equation*}\n",
    "  \\text{Cov}_{X,Y}[x, y] = \\sum_{x,y}f(x,y)(x - \\mathbb{E}[x])(y - \\mathbb{E}[y])\n",
    "\\end{equation*} \\tag{4}\n",
    "$$\n",
    "\n",
    "Si $(x, y)$ tienen iguales probabilidades $1/n$, entonces la covarianza es\n",
    "\n",
    "$$\n",
    "\\begin{equation*}\n",
    "  \\text{Cov}_{X,Y}[x, y] = \\frac{1}{n} \\sum_{x,y}(x - \\mathbb{E}[x])(y - \\mathbb{E}[y])\\tag{5}\n",
    "\\end{equation*}\n",
    "$$\n",
    "\n",
    "Si denotamos $x_0 = (x - \\mathbb{E}[x])$ y  $y_0 = (y - \\mathbb{E}[y])$ como como $x$ centrada y $y$ centradas con respecto a su media, la covarianza es \n",
    "\n",
    "$$\n",
    "\\begin{equation*}\n",
    "  \\text{Cov}_{X,Y}[x, y] = \\frac{1}{n} \\mathbf{x}_0^\\top \\mathbf{y}_0\\tag{6}\n",
    "\\end{equation*}\n",
    "$$\n",
    "\n",
    "En donde $\\mathbf{x}_0^\\top \\mathbf{y}_0$ es el producto punto de los vectores centrados. \n",
    "\n",
    "**1.1.2. Correlación univariada**\n",
    "\n",
    "Comenzamos por encontrar el ángulo $\\theta$ entre los vectores centrados $\\mathbf{x}_0, \\mathbf{y}_0$, para lo cual usamos la definición \n",
    "\n",
    "$$\n",
    "\\begin{align*}\n",
    " \\mathbf{x}_0^\\top \\mathbf{y}_0 &= \\| \\mathbf{x}_0 \\| \\|  \\mathbf{y}_0 \\| \\cos \\theta\\\\\n",
    " \\cos \\theta  &=  \\frac{\\mathbf{x}_0^\\top \\mathbf{y}_0}{ \\|\\mathbf{x}_0\\| \\|\\mathbf{y}_0\\|}\n",
    "\\end{align*} \\tag{7}\n",
    "$$\n",
    "\n",
    "En donde $\\| \\mathbf{x_0} \\|$ es llamada norma $L^2$, que no es otra cosa que la distancia euclidiana de un vector con respecto a su origen. Su definición es la raíz cuadrada del producto punto de un vector consigo mismo:\n",
    "\n",
    "$$\n",
    "\\begin{align*}\n",
    "  \\| \\mathbf{x}_0 \\| = \\sqrt{\\mathbf{x}_0^\\top \\mathbf{x}_0} = \\sqrt{x_0(1)^2 + x_0(2)^2 + \\dots  } \\tag{8}\n",
    "\\end{align*}\n",
    "$$\n",
    "\n",
    "Notar lo siguiente: la definición de la varianza es el valor esperado de las desviaciones cuadradas de $x$ con respecto a su media, $x - \\mathbb{E}[x]$\n",
    "\n",
    "$$\n",
    "\\begin{align*}\n",
    "\\text{Var}[x] &= \\mathbb{E}[(x - \\mathbb{E}[x])^2] = \\frac{1}{n}\\sum_{X} (x - \\mathbb{E}[x])^2\\\\\n",
    "\\text{Var}[x] &= \\frac{1}{n}\\sum_{X} x_0^2 = \\frac{1}{n}\\mathbf{x}_0^\\top \\mathbf{x}_0 \\tag{9}\n",
    "\\end{align*}\n",
    "$$\n",
    "\n",
    "Dado que la desviación estándar es $\\text{SD}[x] = \\sqrt{\\text{Var}[x]}$, combinando $(8)$ y $(9)$ tenemos lo siguiente:\n",
    "\n",
    "$$\n",
    "\\begin{equation*}\n",
    "\\text{SD}[x] = \\sqrt{\\text{Var}[x]} = \\sqrt{\\frac{1}{n}\\sum_{X} x_0^2} = \\sqrt{1/n}\\| \\mathbf{x}_0 \\| \\tag{10}\n",
    "\\end{equation*}\n",
    "$$\n",
    "\n",
    "Si dividimos $\\text{Cov}[x, y]$ entre el producto de las desviaciones de $x$ y $y$, $\\text{SD}[x] \\cdot \\text{SD}[y] $ tenemos \n",
    "\n",
    "$$\n",
    "\\frac{\\frac{1}{n} \\mathbf{x}_0^\\top \\mathbf{y}_0}{\\sqrt{1/n}\\| \\mathbf{x}_0 \\| \\sqrt{1/n}\\| \\mathbf{y}_0 \\| } \n",
    "$$\n",
    "\n",
    "A la cantidad que resulta se le conoce como coeficiente de correlación, $\\rho$. Notar que, reacomodando ($\\sqrt{1/n} \\times \\sqrt{1/n} = 1/n$), $\\rho$ es el coseno de similitud definido en $(7)$\n",
    "\n",
    "$$\n",
    "  \\begin{align*}\n",
    "    \\rho = \\cos \\theta &= \\frac{\\frac{1}{n} \\mathbf{x}_0^\\top \\mathbf{y}_0}{\\sqrt{1/n}\\| \\mathbf{x}_0 \\| \\sqrt{1/n}\\| \\mathbf{y}_0 \\| }\\\\\n",
    "      &= \\frac{\\mathbf{x}_0^\\top \\mathbf{y}_0}{\\| \\mathbf{x}_0 \\| \\| \\mathbf{y}_0 \\| }\n",
    "  \\end{align*}\\tag{11}\n",
    "$$\n",
    "\n",
    "Esta forma de definirlo tiene propiedades interesantes. Por álgebra lineal, sabemos que si dos vectores $\\mathbf{a}, \\mathbf{b}$ son ortogonales (i.e., $\\theta = 90^\\circ$) su producto punto $\\mathbf{a}^\\top \\mathbf{b} = 0$, y por lo tanto son linealmente independientes. Si dos vectores centrados son ortogonales, $\\mathbf{x}_0^\\top \\mathbf{y}_0 = 0$ y por lo tanto $\\rho = 0$. Es decir, $\\rho = 0$ indica que existe independencia lineal entre los vectores.\n",
    "\n",
    "A continuación mostraremos algunos de estos importantes resultados usando código de R. Notar que en las definiciones dadas han sido para una población, no para una muestra."
   ]
  },
  {
   "cell_type": "code",
   "execution_count": 39,
   "metadata": {
    "vscode": {
     "languageId": "r"
    }
   },
   "outputs": [
    {
     "name": "stdout",
     "output_type": "stream",
     "text": [
      "cov_dot_def =  0.009486 \n",
      "  cov_r_fun =  0.009486"
     ]
    }
   ],
   "source": [
    "# eq 6: mostrar que la covarianza (x,y) es igual al producto punto de\n",
    "# los vectores centrados divididos por (n - 1) (por qué?). Usar la función\n",
    "# cov(x,y) nativa de R.\n",
    "\n",
    "center <- function(x) x - mean(x)\n",
    "dot_prod <- function(x, y) x %*% y\n",
    "\n",
    "cov_dot <- function(x, y) {\n",
    "  n <- length(x)\n",
    "  x0 <- center(x)\n",
    "  y0 <- center(y)\n",
    "  # dividir por (n-1) porque es la covarianza muestral\n",
    "  (1 / (n - 1)) * dot_prod(x0, y0) |> as.numeric()\n",
    "}\n",
    "\n",
    "set.seed(89)\n",
    "x <- rnorm(150)\n",
    "y <- rnorm(150, 5)\n",
    "\n",
    "cat(\n",
    "  \"cov_dot_def = \",\n",
    "  cov_dot(x, y) |> round(6),\n",
    "  \"\\n\",\n",
    "  \" cov_r_fun = \",\n",
    "  cov(x,y) |> round(6)\n",
    ")"
   ]
  },
  {
   "cell_type": "code",
   "execution_count": 36,
   "metadata": {
    "vscode": {
     "languageId": "r"
    }
   },
   "outputs": [
    {
     "name": "stdout",
     "output_type": "stream",
     "text": [
      "sd(x)_norm   =  1.042977 \n",
      " sd(x)_r_fun =  1.042977"
     ]
    }
   ],
   "source": [
    "# eq 10: mostrar que la desviación estándar de x es la norma de x centrado\n",
    "# multiplicado por por la raíz del recíproco de (n-1). Usar la función sd(x)\n",
    "# nativa de R.\n",
    "\n",
    "# de la definicion\n",
    "\n",
    "sd_x <- function(x) {\n",
    "  # centrar x\n",
    "  x0 <- center(x)\n",
    "  nsample <- length(x0) - 1\n",
    "  # obtener la norma\n",
    "  norm_x0 <- norm(x0, type = \"2\")\n",
    "  norm_x0 * sqrt(1 / nsample)\n",
    "}\n",
    "\n",
    "set.seed(89)\n",
    "x <- rnorm(150)\n",
    "\n",
    "cat(\n",
    "  \"sd(x)_norm   = \",\n",
    "  sd_x(x) |> round(6),\n",
    "  \"\\n\",\n",
    "  \"sd(x)_r_fun = \",\n",
    "  sd(x) |> round(6)\n",
    ")"
   ]
  },
  {
   "cell_type": "code",
   "execution_count": 38,
   "metadata": {
    "vscode": {
     "languageId": "r"
    }
   },
   "outputs": [
    {
     "name": "stdout",
     "output_type": "stream",
     "text": [
      "cos theta =  0.009196 \n",
      "      rho =  0.009196"
     ]
    },
    {
     "data": {
      "image/png": "[encoded data removed]",
      "text/plain": [
       "plot without title"
      ]
     },
     "metadata": {
      "image/png": {
       "height": 420,
       "width": 420
      }
     },
     "output_type": "display_data"
    }
   ],
   "source": [
    "# eq 11: mostrar que el coeficiente de correlación es igual al coseno de similitud\n",
    "# para los vectores centrados x0, y0. Usar la funcion cor(x,y) nativa de R.\n",
    "\n",
    "cosine_sim <- function(x, y) {\n",
    "  # obtener el producto punto\n",
    "  dot_xy <- dot_prod(x, y)\n",
    "  # obtener la norma L2\n",
    "  norm_x <- norm(x, type = \"2\")\n",
    "  norm_y <- norm(y, type = \"2\")\n",
    "  dot_xy / (norm_x * norm_y) |> as.numeric()\n",
    "}\n",
    "\n",
    "set.seed(89)\n",
    "x <- rnorm(150)\n",
    "y <- rnorm(150, 5)\n",
    "plot(x, y)\n",
    "# centrar vectores\n",
    "x0 <- center(x)\n",
    "y0 <- center(y)\n",
    "\n",
    "cat(\n",
    "  \"cos theta = \",\n",
    "  cosine_sim(x0, y0) |> round(6),\n",
    "  \"\\n\",\n",
    "  \"     rho = \",\n",
    "  cor(x, y) |> round(6)\n",
    ")"
   ]
  }
 ],
 "metadata": {
  "kernelspec": {
   "display_name": "R",
   "language": "R",
   "name": "ir"
  },
  "language_info": {
   "codemirror_mode": "r",
   "file_extension": ".r",
   "mimetype": "text/x-r-source",
   "name": "R",
   "pygments_lexer": "r",
   "version": "4.2.0"
  },
  "orig_nbformat": 4
 },
 "nbformat": 4,
 "nbformat_minor": 2
}
