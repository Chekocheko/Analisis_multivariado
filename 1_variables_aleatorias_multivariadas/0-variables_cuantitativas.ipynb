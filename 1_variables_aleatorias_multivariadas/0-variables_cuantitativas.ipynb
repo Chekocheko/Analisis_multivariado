{
 "cells": [
  {
   "attachments": {},
   "cell_type": "markdown",
   "metadata": {},
   "source": [
    "# Tema 0. Estadística descriptiva\n",
    "\n",
    "En la jerga de DS por *variable* vamos a entender la medición de una *característica* o *atributo*. Ejemplos de variables son: edad, peso, longitud, latitud, precio, ingreso, etc.\n",
    "\n",
    "## Clasificaciones de variables\n",
    "\n",
    "Las variables pueden ser clasificadas por su representación numérica, o por cómo son *medidas* (es decir, cómo son asignados números a los atributos de acuerdo a una regla, su escala de medición). Las variables también pueden ser clasificadas de acuerdo a cómo están asociadas unas con otras. \n",
    "\n",
    "---\n",
    "\n",
    "Esta es una clasificación de acuerdo a su representación numérica. Las variables discretas son contables infintas (pueden sear asignados números naturales $\\mathbb{N}=\\{1, 2, 3, \\dots\\}$). Las variables continuas son incontables infinitas (pueden ser asignadas a los números reales $\\mathbb{R}$).\n",
    "\n",
    "<figure>\n",
    "<p align=\"center\">\n",
    "  <img src=\"./img/variable_types.png\" width='50%' />\n",
    "      <figcaption>\n",
    "      <p align=\"center\"> Tipos de variables (tomada de OpenInstro Statistics)</p>\n",
    "      </figcaption>\n",
    "</p>\n",
    "</figure>\n",
    "\n",
    "Las variables categóricas podrían considerarse un tipo de variable discreta, pero no es del todo cierto. Las variables categóricas no tienen porqué seguir un orden en particular ni ser asignadas a un subconjunto de números. Por ejemplo, la variable sexo puede ser tan bien representada por (0, 1) como por (1, 2). La variable ordinal Nivel educativo puede ser tan bien representada con (0, 1, 2, 3) como por (1,2, 3, 4) etc.\n",
    "\n",
    "---\n",
    "\n",
    "De acuerdo a su nivel de medición, pueden ser clasificadas como nominales, ordinales, de intervalo y de razón. \n",
    "\n",
    "Las **variables con escala nominal** no tienen una correspondencia numérica específica. Se les asignan números solo para identificarlas. Las operaciones aritméticas de suma, resta, multiplicación, división, etc, no tienen sentido, porque el número que se les asigna no implica más o menos cantidad de su atributo. La única operación permitida es la de conteo, su estadística descriptiva se hace con frecuencias y porcentajes.\n",
    "\n",
    "Las **variables en escala ordinal** tampoco tienen una correspondencia, siempre y cuando sean asignados valores que preserven el orden de rango. No pueden describir grados de diferencia ni magnitud relativa entre dos observaciones con diferente orden. Por ejemplo, Alberto califica de bueno un libro que Luis calificó con de malo en una escala de $\\{\\text{pésimo, malo, regular, bueno, excelente}\\}$. No podemos decir que el libro fue doblemente bueno para Alberto que para Luis. También se pueden describir con frecuencias y porcentajes, pero además con mediana y rango.\n",
    "\n",
    "Las **las variables en escala de intervalo** sí tienen una correspondencia precisa que debe preservar orden y magnitud. Se puede sumar y restar con valores en esta escala, pero no dividir ni multiplicar. El 0 es arbitrario (como en los grados Celcius) por lo que un 0 no implica ausencia del atributo, y no se puede decir que 20 °C es el doble de caliente que 10 °C. Todo intervalo en una escala de intervalo es igual que otro intervalo en la escala: $15-10=30 - 25$. Sus estadísticos descriptivos son media, desviación estándar, varianza (y por extensión mediana y rango).\n",
    "\n",
    "Las **variables en escala de razón** tienen todas las propiedades de las intervalares (conservan orden y magnitud), además de un 0 verdadero, en el que el 0 sí significa una ausencia de magnitud. Se puede sumar, restar, dividir y multiplicar en estas escalas. Pueden expresar magnitudes relativas (e.g., 4 metros es el doble de 2 metros). Sus estadísticos descriptivos, además de media, desviación estándar, varianza, mediana y rango, son la media geométrica, coeficiente de variación.\n",
    "\n",
    "## Estadísticos descriptivos56\n",
    "\n",
    "La estadística se divide clásicamente en dos grandes ramas: la descriptiva y la inferencial (a su vez en estimación y prueba de hipótesis). \n",
    "\n",
    "### De locación\n",
    "\n",
    "Encontrar valores típicos o centrales que describan bien los datos.\n",
    "\n",
    "- Media: $\\bar Y = \\sum_{i=1}^N Y_i/N$\n",
    "- Mediana: $\\tilde{Y} = Y_{[N+1]/2}$ si $N$ es impar; $\\tilde{Y} = (Y_{[N]/2} + Y_{[N/2 + 1]})/2$ si $N$ es par.\n",
    "- Moda: el valor \n",
    "\n"
   ]
  },
  {
   "cell_type": "code",
   "execution_count": 15,
   "metadata": {
    "vscode": {
     "languageId": "r"
    }
   },
   "outputs": [],
   "source": [
    "mean_fun <- function(x){\n",
    "  sum(x)/length(x)\n",
    "}\n",
    "\n",
    "median_fun <- function(x){\n",
    "  # sample size\n",
    "  N <- length(x)\n",
    "  # if N is even\n",
    "  if (N %% 2 == 0){\n",
    "    # [] subsetting (the index of an element)\n",
    "    # x[2] is the second value of x\n",
    "    (x[N / 2] + x[(N + 1) / 2]) / 2\n",
    "    \n",
    "  # if N is odd\n",
    "  } else {\n",
    "    x[(N + 1) / 2]\n",
    "  }\n",
    "}\n",
    "\n",
    "mode_fun <- function(x){\n",
    "  u <- unique(x)\n",
    "  tab <- tabulate(match(x, u))\n",
    "  u[tab == max(tab)]\n",
    "}\n",
    "\n",
    "mad_fun <- function(x) {\n",
    "  n <- length(x)\n",
    "  ab_dev <- abs(x - mean(x))\n",
    "  (1/n) * sum(ab_dev)\n",
    "}\n"
   ]
  },
  {
   "attachments": {},
   "cell_type": "markdown",
   "metadata": {},
   "source": [
    "### De dispersión\n",
    "\n",
    "- Rango intercuartílico, IQR: $Q_3 - Q_1$. \n",
    "- Varianza: $s^2=\\frac{1}{n-1}\\sum_{i=1}^n (y_i - \\bar y)^2$\n",
    "- Desviación estándar: $s = \\sqrt{s}$,\n",
    "- Desviación media absoluta: $\\text{MAD} = \\frac{1}{n-1}\\sum_{i=1}^n \\mid y_i - \\bar y\\mid$\n",
    "- Rango: $\\max(y) - \\min(y)$"
   ]
  },
  {
   "attachments": {},
   "cell_type": "markdown",
   "metadata": {},
   "source": [
    "Ejercicio:\n",
    "\n",
    "$x=(9, 10, 11, 11, 12, 14, 16, 17, 19, 21, 25, 31, 32, 41, 61)$\n",
    "\n",
    "Obtener:\n",
    "media, mediana, Q1, Q3, IQR, MAD y desviación estándar."
   ]
  },
  {
   "cell_type": "code",
   "execution_count": 16,
   "metadata": {
    "vscode": {
     "languageId": "r"
    }
   },
   "outputs": [
    {
     "data": {
      "text/html": [
       "17"
      ],
      "text/latex": [
       "17"
      ],
      "text/markdown": [
       "17"
      ],
      "text/plain": [
       "[1] 17"
      ]
     },
     "metadata": {},
     "output_type": "display_data"
    },
    {
     "data": {
      "text/html": [
       "22"
      ],
      "text/latex": [
       "22"
      ],
      "text/markdown": [
       "22"
      ],
      "text/plain": [
       "[1] 22"
      ]
     },
     "metadata": {},
     "output_type": "display_data"
    },
    {
     "data": {
      "text/html": [
       "<style>\n",
       ".dl-inline {width: auto; margin:0; padding: 0}\n",
       ".dl-inline>dt, .dl-inline>dd {float: none; width: auto; display: inline-block}\n",
       ".dl-inline>dt::after {content: \":\\0020\"; padding-right: .5ex}\n",
       ".dl-inline>dt:not(:first-of-type) {padding-left: .5ex}\n",
       "</style><dl class=dl-inline><dt>25%</dt><dd>11.5</dd><dt>75%</dt><dd>28</dd></dl>\n"
      ],
      "text/latex": [
       "\\begin{description*}\n",
       "\\item[25\\textbackslash{}\\%] 11.5\n",
       "\\item[75\\textbackslash{}\\%] 28\n",
       "\\end{description*}\n"
      ],
      "text/markdown": [
       "25%\n",
       ":   11.575%\n",
       ":   28\n",
       "\n"
      ],
      "text/plain": [
       " 25%  75% \n",
       "11.5 28.0 "
      ]
     },
     "metadata": {},
     "output_type": "display_data"
    },
    {
     "data": {
      "text/html": [
       "16.5"
      ],
      "text/latex": [
       "16.5"
      ],
      "text/markdown": [
       "16.5"
      ],
      "text/plain": [
       "[1] 16.5"
      ]
     },
     "metadata": {},
     "output_type": "display_data"
    },
    {
     "data": {
      "text/html": [
       "<strong>75%:</strong> 16.5"
      ],
      "text/latex": [
       "\\textbf{75\\textbackslash{}\\%:} 16.5"
      ],
      "text/markdown": [
       "**75%:** 16.5"
      ],
      "text/plain": [
       " 75% \n",
       "16.5 "
      ]
     },
     "metadata": {},
     "output_type": "display_data"
    },
    {
     "data": {
      "text/html": [
       "10.6666666666667"
      ],
      "text/latex": [
       "10.6666666666667"
      ],
      "text/markdown": [
       "10.6666666666667"
      ],
      "text/plain": [
       "[1] 10.66667"
      ]
     },
     "metadata": {},
     "output_type": "display_data"
    },
    {
     "data": {
      "text/html": [
       "14.2978519865248"
      ],
      "text/latex": [
       "14.2978519865248"
      ],
      "text/markdown": [
       "14.2978519865248"
      ],
      "text/plain": [
       "[1] 14.29785"
      ]
     },
     "metadata": {},
     "output_type": "display_data"
    }
   ],
   "source": [
    "x <- c(9, 10, 11, 11, 12, 14, 16, 17, 19, 21, 25, 31, 32, 41, 61)\n",
    "median_fun(x)\n",
    "mean_fun(x)\n",
    "quantile(x, prob = c(0.25, 0.75))\n",
    "IQR(x) # o\n",
    "diff(quantile(x, probs = c(0.25, 0.75)))\n",
    "\n",
    "# mad\n",
    "mad_fun(x)\n",
    "sd(x)"
   ]
  },
  {
   "cell_type": "code",
   "execution_count": 10,
   "metadata": {
    "vscode": {
     "languageId": "r"
    }
   },
   "outputs": [
    {
     "data": {
      "image/png": "[encoded data removed]",
      "text/plain": [
       "plot without title"
      ]
     },
     "metadata": {
      "image/png": {
       "height": 420,
       "width": 420
      }
     },
     "output_type": "display_data"
    }
   ],
   "source": [
    "boxplot(x)"
   ]
  },
  {
   "cell_type": "code",
   "execution_count": 17,
   "metadata": {
    "vscode": {
     "languageId": "r"
    }
   },
   "outputs": [
    {
     "data": {
      "image/png": "[encoded data removed]",
      "text/plain": [
       "Plot with title “Histogram of x”"
      ]
     },
     "metadata": {
      "image/png": {
       "height": 420,
       "width": 420
      }
     },
     "output_type": "display_data"
    }
   ],
   "source": [
    "hist(x)"
   ]
  }
 ],
 "metadata": {
  "kernelspec": {
   "display_name": "R",
   "language": "R",
   "name": "ir"
  },
  "language_info": {
   "codemirror_mode": "r",
   "file_extension": ".r",
   "mimetype": "text/x-r-source",
   "name": "R",
   "pygments_lexer": "r",
   "version": "4.2.2"
  },
  "orig_nbformat": 4
 },
 "nbformat": 4,
 "nbformat_minor": 2
}
