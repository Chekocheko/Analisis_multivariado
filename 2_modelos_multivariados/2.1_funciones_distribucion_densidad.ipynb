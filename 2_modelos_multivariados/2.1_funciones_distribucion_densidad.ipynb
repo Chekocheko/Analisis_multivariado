{
 "cells": [
  {
   "cell_type": "markdown",
   "metadata": {},
   "source": [
    "# 2. Modelos de distribución multivariados\n",
    "## 2.1. Funciones de distribución y densidad\n",
    "\n",
    "<p align=\"right\">\n",
    "Autor: Emmanuel Alcalá\n",
    "<br>\n",
    "<a href=\"https://scholar.google.com.mx/citations?hl=en&user=3URusCgAAAAJ&view_op=list_works&sortby=pubdate\">Google Scholar</a>\n",
    "</p>\n",
    "\n",
    "<p align=\"left\">\n",
    "<br>\n",
    "<a href=\"https://jealcalat.github.io/Analisis_multivariado/\">Regresar a la página del curso</a>\n",
    "</p>\n",
    "\n",
    "---\n"
   ]
  },
  {
   "cell_type": "markdown",
   "metadata": {},
   "source": [
    "## 2.0. Preliminares\n",
    "\n",
    "Referencia: [Capítulo 6 de Mathematics for Machine Learning](https://mml-book.github.io/book/mml-book.pdf)\n",
    "\n",
    "---\n",
    "\n",
    "### Variables aleatorias\n",
    "\n",
    "Suponer que $X$ representa una cantidad desconocida de interés, como la temperatura de una máquina. Si los valores de $X$ son desconocidos o cambian, decimos que $X$ es una variable aleatoria, o **VA**. El conjunto de todos los valores *posibles* se denota como $\\mathcal{X}$, llamado espacio muestral o espacio de estados. Un evento es un *sub*conjunto de valores del espacio muestral. Por ejemplo, si $\\mathcal{X}$ es el lado de un dado al ser lanzado, $\\mathcal{X} = \\{ 1, 2, 3, 4, 5, 6 \\}$, el evento \"cae 1\" se denota $X = 1$, y \"ver un número impar\" se denota $X \\in \\{ 1, 3, 4\\}$, el evento \"cae entre 4 y 6\" como $4 \\leq X \\leq 6$.\n",
    "\n",
    "**Nota**: no confundir el espacio muestral $\\mathcal{X}$ con la VA $X$. En el segundo caso, la VA toma valores numéricos (de hecho, es una función de los elementos de $\\mathcal{X}$).\n",
    "\n",
    "#### VA discretas\n",
    "\n",
    "Si $\\mathcal{X}$ es finito o contable infinito (cada miembro de $\\mathcal{X}$ puede asociarse con un elemento de $\\mathbb{N}$), entonces $X$ es una variable aleatoria *discreta*. En este caso, denotamos la probabilidad de un evento que $X$ toma como $\\text{Pr}(X=x)$. Definimos la **función de masa de probabilidad** (pmf en inglés) como la función que computa la probabilidad de cada valor de la VA\n",
    "\n",
    "$$\n",
    "  p(x) \\overset{\\Delta}{=} \\text{Pr}(X = x)\n",
    "$$\n",
    "\n",
    "$p(x)$ satisface $0\\leq p(x) \\leq 1$ y $\\sum_{x\\in \\mathcal{X}} p(x) = 1$.\n",
    "\n",
    "#### VA continuas\n",
    "\n",
    "Si $\\mathcal{X}\\in \\mathbb{R}$ es una función real, se denomina *variable aleatoria continua*. En este caso no se puede crear un conjunto contable de valores posibles que $X$ puede tomar, pero podemos crear un conjunto finito de *intervalos* en la linea real, y asociar los eventos de $X$ que están en esos intervalos.\n",
    "\n",
    "##### Distribución acumulada (cdf)\n",
    "\n",
    "Sea $A = (X \\leq a)$, $B = (X \\leq b)$ y $C = (a < X \\leq b)$ en donde $a < b$. Tenemos que $B$ es la unión de $A$ y $C$, es decir, $B$ toma todos los valores que toman $A$ y $C$. Dado que $A$ y $C$ son mutuamente excluyentes, la probabilidad de $B$ es\n",
    "\n",
    "$$\\text{Pr}(B) = \\text{Pr}(A) + \\text{Pr}(C)$$\n",
    "\n",
    "Y la probabilidad de estar en el intervalo $C$ como\n",
    "\n",
    "$$\\text{Pr}(C) = \\text{Pr}(B) - \\text{Pr}(A)$$\n",
    "\n",
    "Definimos la distribución de probabilidad acumulada como \n",
    "\n",
    "$$\n",
    "   P(x) \\overset{\\Delta}{=} \\text{Pr}(X \\leq x)\n",
    "$$\n",
    "\n",
    "Con esto, podemos calcular la probabilidad de estar en un intervalo como\n",
    "\n",
    "$$\n",
    "  \\text{Pr}(a < X \\leq b) = P(b) - P(a)\n",
    "$$\n",
    "\n",
    "En el siguiente gráfico se representa la función de probabilidad acumulada normal. "
   ]
  },
  {
   "cell_type": "code",
   "execution_count": 16,
   "metadata": {
    "vscode": {
     "languageId": "r"
    }
   },
   "outputs": [
    {
     "data": {
      "image/png": "[encoded data removed]",
      "text/plain": [
       "Plot with title “ cdf gaussiana”"
      ]
     },
     "metadata": {
      "image/png": {
       "height": 300,
       "width": 420
      }
     },
     "output_type": "display_data"
    }
   ],
   "source": [
    "par(las=1)\n",
    "options(repr.plot.width=7, repr.plot.height=5)\n",
    "curve(pnorm(x, mean = 0, sd = 1),\n",
    "  from = -3, to = 3, main = \" cdf gaussiana\",\n",
    "  xlab = 'X', ylab = expression(Pr(X <= x))\n",
    ")"
   ]
  }
 ],
 "metadata": {
  "kernelspec": {
   "display_name": "R",
   "language": "R",
   "name": "ir"
  },
  "language_info": {
   "codemirror_mode": "r",
   "file_extension": ".r",
   "mimetype": "text/x-r-source",
   "name": "R",
   "pygments_lexer": "r",
   "version": "4.2.1"
  },
  "orig_nbformat": 4,
  "vscode": {
   "interpreter": {
    "hash": "e7370f93d1d0cde622a1f8e1c04877d8463912d04d973331ad4851f04de6915a"
   }
  }
 },
 "nbformat": 4,
 "nbformat_minor": 2
}
