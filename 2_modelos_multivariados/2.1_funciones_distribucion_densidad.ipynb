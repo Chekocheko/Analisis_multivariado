{
 "cells": [
  {
   "cell_type": "markdown",
   "metadata": {},
   "source": [
    "# 2. Modelos de distribución multivariados\n",
    "## 2.1. Funciones de distribución y densidad\n",
    "\n",
    "<p align=\"right\">\n",
    "Autor: Emmanuel Alcalá\n",
    "<br>\n",
    "<a href=\"https://scholar.google.com.mx/citations?hl=en&user=3URusCgAAAAJ&view_op=list_works&sortby=pubdate\">Google Scholar</a>\n",
    "</p>\n",
    "\n",
    "<p align=\"left\">\n",
    "<br>\n",
    "<a href=\"https://jealcalat.github.io/Analisis_multivariado/\">Regresar a la página del curso</a>\n",
    "</p>\n",
    "\n",
    "---\n"
   ]
  },
  {
   "attachments": {},
   "cell_type": "markdown",
   "metadata": {},
   "source": [
    "## 2.1.0. Preliminares\n",
    "\n",
    "Referencia: [Capítulo 6 de Mathematics for Machine Learning](https://mml-book.github.io/book/mml-book.pdf)\n",
    "\n",
    "---\n",
    "\n",
    "### Variables aleatorias\n",
    "\n",
    "Suponer que $X$ representa una cantidad desconocida de interés, como la temperatura de una máquina. Si los valores de $X$ son desconocidos o cambian, decimos que $X$ es una variable aleatoria, o **VA**. El conjunto de todos los valores *posibles* se denota como $\\mathcal{X}$, llamado espacio muestral o espacio de estados. Un evento es un *sub*conjunto de valores del espacio muestral. Por ejemplo, si $\\mathcal{X}$ es el lado de un dado al ser lanzado, $\\mathcal{X} = \\{ 1, 2, 3, 4, 5, 6 \\}$, el evento \"cae 1\" se denota $X = 1$, y \"ver un número impar\" se denota $X \\in \\{ 1, 3, 4\\}$, el evento \"cae entre 4 y 6\" como $4 \\leq X \\leq 6$.\n",
    "\n",
    "**Nota**: no confundir el espacio muestral $\\mathcal{X}$ con la VA $X$. En el segundo caso, la VA toma valores numéricos, es una función de los elementos de $\\mathcal{X}$ que mapea de $\\mathcal{X}$ al conjunto de los reales o naturales. $\\mathcal{X}$ puede o no consistir en valores numéricos. Por ejemplo, si  el espacio muestral $\\mathcal{X}$ son los posibles resultados de lanzar dos monedas tenemos $\\mathcal{X}=\\{HH, HT, TT\\}$. Al evento \"cantidad de veces que sale caras, o $H$\", la variable $X$ mapea de $\\mathcal{X}$ tres posibles resultados: $X(HH)=2, X(HT)=1, H(TT)=0$."
   ]
  },
  {
   "attachments": {},
   "cell_type": "markdown",
   "metadata": {},
   "source": [
    "## 2.1.1. Variables aleatorias y sus distribuciones\n",
    "\n",
    "### VA discretas\n",
    "\n",
    "Si $\\mathcal{X}$ es finito o contable infinito (cada miembro de $\\mathcal{X}$ puede asociarse con un elemento de $\\mathbb{N}$), entonces $X$ es una variable aleatoria *discreta*. En este caso, denotamos la probabilidad de un evento que $X$ toma como $\\text{Pr}(X=x)$. Definimos la **función de masa de probabilidad** ($\\text{\\sf pmf}$ en inglés) como la función que computa la probabilidad de cada valor de la VA\n",
    "\n",
    "$$\n",
    "  p(x) \\overset{\\Delta}{=} \\text{Pr}(X = x)\n",
    "$$\n",
    "\n",
    "$p(x)$ satisface $0\\leq p(x) \\leq 1$ y $\\sum_{x\\in \\mathcal{X}} p(x) = 1$. \n",
    "\n",
    "Algunas propiedades de $\\Pr$ son:\n",
    "\n",
    "1. Si $\\emptyset$ es un conjunto nulo, entonces $\\Pr(\\emptyset)=0$.\n",
    "2. Si $A \\subset B$, entonces $\\Pr(A)\\leq \\Pr(B)$.\n",
    "3. Si $A^c$ denota el complemento de $A$, entonces $\\Pr(A^c)=1-\\Pr(A)$.\n",
    "4. Si $A \\cap B = \\emptyset$ denota la intersección nula de $A$ y $B$, entonces $\\Pr(A \\cup B)=\\Pr(A) + \\Pr(B)$, $\\Pr$ es aditiva para eventos disjuntos.\n",
    "5. De otra manera, para eventos arbitrarios $A, B$, $\\Pr(A \\cup B)=\\Pr(A) + \\Pr(B)-\\Pr(A\\cap B)$. \n",
    "6. Dos eventos $A$ y $B$ son independientes si $\\Pr(A \\cup B)=\\Pr(A)\\Pr(B)$. \n",
    "   Por ejemplo, lanzar una moneda dos veces. Cada lanzamiento es independiente del otro. Si queremos saber la probabilidad de que en ambos lanzamientos salga caras, esa probabilidad sería $\\Pr(H_1\\cap H_2)=(1/2)(1/2)$.\n",
    "\n",
    "---\n",
    "\n",
    "Podemos imaginarnos la distribución de probabilidad de muchas variables aleatorias como el llenado de un arreglo multidimensional. Por ejemplo, en la siguiente imagen (MML-6.2)\n",
    "\n",
    "<p align=\"center\">\n",
    "  <img src=\"img/rv_array.png\" width='30%' />\n",
    "</p>\n",
    "\n",
    "muestra dos variables aleatorias bivariadas, $X$ (que puede tomar valores $x_i, i = 1, 2, \\dots, M$) y $Y$ (que puede tomar valores $j=1, 2, \\dots, L$). La probabilidad (*conjunta*) de que $X=x, Y=y$ se define como\n",
    "\n",
    "$$\n",
    "  p(x, y) \\overset{\\Delta}{=} \\text{Pr}(X = x, Y = y)\n",
    "$$\n",
    "\n",
    "$p(x, y)$ se lee \"la probabilidad de $x$ y $y$\", en ocasiones escrito usando notación de teoría de conjuntos como $p(x \\cap y)$. Cada entrada (cada celda) en la tabla se calcula contando la cantidad de casos que $(x_i,y_j)$ suceden conjuntamente\n",
    "\n",
    "$$\n",
    "\\text{Pr}(X = x_i, Y = y_i) = \\frac{n_{ij}}{N} \\tag{1}\n",
    "$$\n",
    "\n",
    "En la tabla, si contamos todos los casos de la fila $j$ tenemos la cantidad total de veces que $y_j$ sucede, y lo llamamos $r_j$. Si contamos la columna $i$ tenemos la cantidad total de veces que $x_i$ sucede, y que llamamos $c_i$.\n",
    "\n",
    "La *probabilidad marginal* de $x$, es decir, la probabilidad que $X=x$ sin importar el valor de $Y$ se escribe como $p(x)$ y se calcula como sigue\n",
    "\n",
    "$$\n",
    "  p(X = x_i) = p(x_i) = \\frac{c_i}{N} \\tag{2}\n",
    "$$\n",
    "\n",
    "El número de casos en la columna $i$ es la suma de casos en cada celda *en esa columna*, por lo que $c_i = \\sum_j n_{ij}$ (dejando fija $i$). Por lo tanto, \n",
    "\n",
    "$$\n",
    "  p(x_i) = \\sum_{j=1}^Lp(x_i, y_j) \\tag{3}\n",
    "$$\n",
    "\n",
    "A la ecuación (3) se le conoce como la *regla de la suma*. Notar que se fija la columna $i$ y se itera sobre las filas $j=1, 2, 3$, por lo que por cada columna $i$ tenemos una probabilidad $p(x_i)$.\n",
    "\n",
    "Si consideramos los casos en los que $X=x_i$, la *fracción* de casos en los que $Y=y_j$ se escribe como $p(Y=y_j | X=x_i)$, probabilidad que es conocida como *probabilidad condicional* de $Y=y_j$ *dado* que $X=x_i$. Se obtiene encontrando la fracción de puntos en una columna $i$ que caen en una celda $(i,j)$ dada\n",
    "\n",
    "$$\n",
    "  p(y_j | x_i) = \\frac{n_{ij}}{c_i} \\tag{4}\n",
    "$$\n",
    "\n",
    "Notar que $c_i$ es la cantidad total de valores para los cuales $X=x_i$, y $n_{ij}$ es una celda particular. Con las ecuaciones (1), (2) y (4) podemos derivar la siguiente relación:\n",
    "\n",
    "$$\n",
    "  \\begin{align*}\n",
    "    p(x_i, y_i) &=  \\frac{n_{ij}}{N} =  \\frac{n_{ij}}{c_i} \\frac{c_i}{N}\\\\\n",
    "                &= p(y_j | x_i)p(x_i) \\tag{5}\n",
    "  \\end{align*}\n",
    "$$\n",
    "\n",
    "La ecuación (5) es conocida como *regla del producto*.\n",
    "\n",
    "Eliminando la notación excesiva, podemos sintetizar las dos reglas como sigue\n",
    "\n",
    "$$\n",
    "  \\begin{align*}\n",
    "    \\text{ \\bf{regla de la suma}}\\quad\\quad   &p(x) = \\sum_{y}p(x,y) \\\\\n",
    "    \\text{ \\bf{regla del producto}}\\quad\\quad &p(x, y) = p(y|x)p(x) \n",
    "  \\end{align*}\n",
    "$$\n",
    "\n",
    "<!-- <p align=\"center\">\n",
    "  <img src=\"img/regla_sum_prod2.png\" width='50%' />\n",
    "</p> -->\n",
    "\n",
    "Considerando la simetría $p(x,y) = p(y,x)$ y que $p(y,x) = p(x|y)p(y)$, encontramos la siguiente relación\n",
    "\n",
    "$$\n",
    " \\begin{align*}\n",
    "  p(y|x)p(x) &=  p(x|y)p(y)\\\\\n",
    "  p(y|x)     &=  \\frac{ p(x|y)p(y)}{p(x)}\n",
    " \\end{align*} \\tag{6}\n",
    "$$\n",
    "\n",
    "Con \n",
    "\n",
    "\\begin{align*}\n",
    "1.  & f(x, y) \\geq 0\\\\\n",
    "2.  & \\sum_{x,y}f(x, y) = 1\n",
    "\\end{align*}\n",
    "\n",
    "La ecuación (6) es llamada *Teorema de Bayes*, y tiene una importancia en ML y estadística que no puede ser exagerada. \n",
    "\n",
    "---"
   ]
  },
  {
   "attachments": {},
   "cell_type": "markdown",
   "metadata": {},
   "source": [
    "## Función de distribución para VA discretas\n",
    "\n",
    "Para cualesquiera variables $X_1, X_2$, la función de distribución conjunta es\n",
    "\n",
    "$$\n",
    "  F(x_1, x_2) = \\Pr(X_1 \\leq x_1, X_2 \\leq x_2)=\\sum_{X_1 \\leq x_1}\\sum_{X_2 \\leq x_2}f(x_1,x_2)\n",
    "$$"
   ]
  },
  {
   "cell_type": "markdown",
   "metadata": {},
   "source": [
    "#### Muestreando de una distribución conjunta\n",
    "\n",
    "Crearemos un data frame que contenga posibles valores de $X$ y $Y$, así como sus frecuencias de ocurrencia. Después, usando la función `slice_sample()` del paquete `{dplyr}` tomaremos una muestra aleatoria. Básicamente, lo que hace `slice_sample()` es tomar filas (*slices*) del data frame original, solo que en este caso permitiremos que cada fila pueda ser seleccionada más de una vez. La cantidad de veces que cada fila puede ser seleccionada será, aproximadamente, `wgts/sum(wgts) * n`."
   ]
  },
  {
   "cell_type": "code",
   "execution_count": null,
   "metadata": {
    "vscode": {
     "languageId": "r"
    }
   },
   "outputs": [
    {
     "data": {
      "text/html": [
       "<table class=\" lightable-classic-2 table\" style='font-family: \"Arial Narrow\", \"Source Sans Pro\", sans-serif; width: auto !important; margin-left: auto; margin-right: auto; margin-left: auto; margin-right: auto;'>\n",
       " <thead>\n",
       "  <tr>\n",
       "   <th style=\"text-align:left;\"> ID </th>\n",
       "   <th style=\"text-align:right;\"> Y </th>\n",
       "   <th style=\"text-align:right;\"> X </th>\n",
       "  </tr>\n",
       " </thead>\n",
       "<tbody>\n",
       "  <tr>\n",
       "   <td style=\"text-align:left;\"> 1 </td>\n",
       "   <td style=\"text-align:right;\"> 2 </td>\n",
       "   <td style=\"text-align:right;\"> 1 </td>\n",
       "  </tr>\n",
       "  <tr>\n",
       "   <td style=\"text-align:left;\"> 2 </td>\n",
       "   <td style=\"text-align:right;\"> 1 </td>\n",
       "   <td style=\"text-align:right;\"> 0 </td>\n",
       "  </tr>\n",
       "  <tr>\n",
       "   <td style=\"text-align:left;\"> 3 </td>\n",
       "   <td style=\"text-align:right;\"> 1 </td>\n",
       "   <td style=\"text-align:right;\"> 1 </td>\n",
       "  </tr>\n",
       "  <tr>\n",
       "   <td style=\"text-align:left;\"> 4 </td>\n",
       "   <td style=\"text-align:right;\"> 3 </td>\n",
       "   <td style=\"text-align:right;\"> 1 </td>\n",
       "  </tr>\n",
       "  <tr>\n",
       "   <td style=\"text-align:left;\"> 5 </td>\n",
       "   <td style=\"text-align:right;\"> 0 </td>\n",
       "   <td style=\"text-align:right;\"> 1 </td>\n",
       "  </tr>\n",
       "</tbody>\n",
       "</table>"
      ]
     },
     "metadata": {},
     "output_type": "display_data"
    },
    {
     "data": {
      "text/html": [
       "<table class=\" lightable-classic-2 table\" style='font-family: \"Arial Narrow\", \"Source Sans Pro\", sans-serif; width: auto !important; margin-left: auto; margin-right: auto; margin-left: auto; margin-right: auto;'>\n",
       " <thead>\n",
       "  <tr>\n",
       "   <th style=\"text-align:left;\"> Y/X </th>\n",
       "   <th style=\"text-align:right;\"> 0 </th>\n",
       "   <th style=\"text-align:right;\"> 1 </th>\n",
       "   <th style=\"text-align:right;\"> 2 </th>\n",
       "  </tr>\n",
       " </thead>\n",
       "<tbody>\n",
       "  <tr>\n",
       "   <td style=\"text-align:left;\"> 0 </td>\n",
       "   <td style=\"text-align:right;\"> 0 </td>\n",
       "   <td style=\"text-align:right;\"> 325 </td>\n",
       "   <td style=\"text-align:right;\"> 400 </td>\n",
       "  </tr>\n",
       "  <tr>\n",
       "   <td style=\"text-align:left;\"> 1 </td>\n",
       "   <td style=\"text-align:right;\"> 439 </td>\n",
       "   <td style=\"text-align:right;\"> 2544 </td>\n",
       "   <td style=\"text-align:right;\"> 1351 </td>\n",
       "  </tr>\n",
       "  <tr>\n",
       "   <td style=\"text-align:left;\"> 2 </td>\n",
       "   <td style=\"text-align:right;\"> 1273 </td>\n",
       "   <td style=\"text-align:right;\"> 2524 </td>\n",
       "   <td style=\"text-align:right;\"> 418 </td>\n",
       "  </tr>\n",
       "  <tr>\n",
       "   <td style=\"text-align:left;\"> 3 </td>\n",
       "   <td style=\"text-align:right;\"> 433 </td>\n",
       "   <td style=\"text-align:right;\"> 293 </td>\n",
       "   <td style=\"text-align:right;\"> 0 </td>\n",
       "  </tr>\n",
       "</tbody>\n",
       "</table>"
      ]
     },
     "metadata": {},
     "output_type": "display_data"
    }
   ],
   "source": [
    "library(tidyverse)\n",
    "library(kableExtra)\n",
    "library(IRdisplay)\n",
    "# crear distribución conjunta {X,Y}\n",
    "data_for_sampling <- data.frame(\n",
    "  Y = rep(0:3, times = 3),\n",
    "  X = rep(0:2, each = 4)\n",
    ")\n",
    "data_for_sampling <- data_for_sampling |>\n",
    "  mutate(wgts = c(0, 3, 9, 3, 2, 18, 18, 2, 3, 9, 3, 0))\n",
    "# tomar una muestra aleatoria de la dist conjunta X,Y, usando wgts como pesos,\n",
    "# o frecuencia relativa de cada celda.\n",
    "set.seed(452) # para reproducibilidad\n",
    "sampled_data <- data_for_sampling |>\n",
    "  slice_sample(\n",
    "    n = 10000, # 10k muestras\n",
    "    replace = TRUE, # con reemplazo\n",
    "    weight_by = data_for_sampling$wgts # pesos relativos de cada celda\n",
    "  )\n",
    "# tabla original\n",
    "sampled_data[, c(1, 2)] |>\n",
    "  add_rownames(var = 'ID') |> \n",
    "  head(5) |>\n",
    "  kbl() |>\n",
    "  kable_classic_2(full_width = F) |>\n",
    "  kable_styling() |>\n",
    "  as.character() |>\n",
    "  display_html()\n",
    "# crear una tabla de frecuencia\n",
    "table(sampled_data[, c(1, 2)]) |>\n",
    "  as.data.frame.matrix() |>\n",
    "  rownames_to_column(\"Y/X\") |>\n",
    "  kbl() |>\n",
    "  kable_classic_2(full_width = F) |>\n",
    "  kable_styling() |>\n",
    "  as.character() |>\n",
    "  display_html()"
   ]
  },
  {
   "attachments": {},
   "cell_type": "markdown",
   "metadata": {},
   "source": [
    "## Ejercicios a mano\n",
    "\n",
    "1. En la primera tabla tenemos una matriz con dos columnas, X y Y (una muestra de solo 5 filas), ¿cuál es su covarianza?\n",
    "$$\n",
    "\\begin{equation*}\n",
    "  \\text{Cov}_{X,Y}[x, y] = \\frac{1}{n-1} \\mathbf{x}_0^\\top \\mathbf{y}_0\n",
    "\\end{equation*}\n",
    "$$\n",
    "\n",
    "2. La segunda tabla muestra la tabla de frecuencias de la muestra total, ¿cuál es la probabilidad $p(y=0, x=1)$?\n",
    "3. ¿Cuál es la probabilidad $p(x=1 \\mid y=0)$?\n",
    "4. Encontrar $F(X\\leq 1,Y\\leq 2)$"
   ]
  },
  {
   "cell_type": "code",
   "execution_count": null,
   "metadata": {
    "vscode": {
     "languageId": "r"
    }
   },
   "outputs": [
    {
     "data": {
      "text/html": [
       "<dl>\n",
       "\t<dt>$`media x`</dt>\n",
       "\t\t<dd>0.8</dd>\n",
       "\t<dt>$`media y`</dt>\n",
       "\t\t<dd>1.4</dd>\n",
       "\t<dt>$x0</dt>\n",
       "\t\t<dd><style>\n",
       ".list-inline {list-style: none; margin:0; padding: 0}\n",
       ".list-inline>li {display: inline-block}\n",
       ".list-inline>li:not(:last-child)::after {content: \"\\00b7\"; padding: 0 .5ex}\n",
       "</style>\n",
       "<ol class=list-inline><li>0.2</li><li>-0.8</li><li>0.2</li><li>0.2</li><li>0.2</li></ol>\n",
       "</dd>\n",
       "\t<dt>$y0</dt>\n",
       "\t\t<dd><style>\n",
       ".list-inline {list-style: none; margin:0; padding: 0}\n",
       ".list-inline>li {display: inline-block}\n",
       ".list-inline>li:not(:last-child)::after {content: \"\\00b7\"; padding: 0 .5ex}\n",
       "</style>\n",
       "<ol class=list-inline><li>0.6</li><li>-0.4</li><li>-0.4</li><li>1.6</li><li>-1.4</li></ol>\n",
       "</dd>\n",
       "\t<dt>$`covarianza con producto punto`</dt>\n",
       "\t\t<dd>0.1</dd>\n",
       "\t<dt>$`covarianza real`</dt>\n",
       "\t\t<dd>0.1</dd>\n",
       "</dl>\n"
      ],
      "text/latex": [
       "\\begin{description}\n",
       "\\item[\\$`media x`] 0.8\n",
       "\\item[\\$`media y`] 1.4\n",
       "\\item[\\$x0] \\begin{enumerate*}\n",
       "\\item 0.2\n",
       "\\item -0.8\n",
       "\\item 0.2\n",
       "\\item 0.2\n",
       "\\item 0.2\n",
       "\\end{enumerate*}\n",
       "\n",
       "\\item[\\$y0] \\begin{enumerate*}\n",
       "\\item 0.6\n",
       "\\item -0.4\n",
       "\\item -0.4\n",
       "\\item 1.6\n",
       "\\item -1.4\n",
       "\\end{enumerate*}\n",
       "\n",
       "\\item[\\$`covarianza con producto punto`] 0.1\n",
       "\\item[\\$`covarianza real`] 0.1\n",
       "\\end{description}\n"
      ],
      "text/markdown": [
       "$`media x`\n",
       ":   0.8\n",
       "$`media y`\n",
       ":   1.4\n",
       "$x0\n",
       ":   1. 0.2\n",
       "2. -0.8\n",
       "3. 0.2\n",
       "4. 0.2\n",
       "5. 0.2\n",
       "\n",
       "\n",
       "\n",
       "$y0\n",
       ":   1. 0.6\n",
       "2. -0.4\n",
       "3. -0.4\n",
       "4. 1.6\n",
       "5. -1.4\n",
       "\n",
       "\n",
       "\n",
       "$`covarianza con producto punto`\n",
       ":   0.1\n",
       "$`covarianza real`\n",
       ":   0.1\n",
       "\n",
       "\n"
      ],
      "text/plain": [
       "$`media x`\n",
       "[1] 0.8\n",
       "\n",
       "$`media y`\n",
       "[1] 1.4\n",
       "\n",
       "$x0\n",
       "[1]  0.2 -0.8  0.2  0.2  0.2\n",
       "\n",
       "$y0\n",
       "[1]  0.6 -0.4 -0.4  1.6 -1.4\n",
       "\n",
       "$`covarianza con producto punto`\n",
       "[1] 0.1\n",
       "\n",
       "$`covarianza real`\n",
       "[1] 0.1\n"
      ]
     },
     "metadata": {},
     "output_type": "display_data"
    }
   ],
   "source": [
    "# ejercicio 1\n",
    "xy <- sampled_data[, c(1, 2)] |> head(5)\n",
    "x <- xy[, \"X\"]\n",
    "y <- xy[, \"Y\"]\n",
    "x_bar <- mean(x)\n",
    "y_bar <- mean(y)\n",
    "# xy centered\n",
    "x0 <- x - x_bar\n",
    "y0 <- y - y_bar\n",
    "cov_dot <- (1 / (length(x) - 1)) * x0 %*% y0 |> as.numeric()\n",
    "cov_r <- cov(x, y)\n",
    "\n",
    "list(\n",
    "  \"media x\" = x_bar, \n",
    "  \"media y\" = y_bar,\n",
    "  x0 = x0,\n",
    "  y0 = y0,\n",
    "  'covarianza con producto punto' = cov_dot,\n",
    "  'covarianza real' = cov_r\n",
    ")"
   ]
  },
  {
   "cell_type": "markdown",
   "metadata": {},
   "source": [
    "Para el ejercicio 1:\n",
    "\n",
    "Las medias son $\\bar x=0.8, \\bar y = 1.4$, \n",
    "$$\n",
    "  \\mathbf{x}_0 = \\{0.2,-0.8,0.2,0.2,0.2\\}, \\mathbf{y}_0 = \\{0.6,-0.4,-0.4,1.6,-1.4\\}\n",
    "$$\n",
    "el producto punto\n",
    "\n",
    "$$\n",
    "\\mathbf{x}_0^\\top \\mathbf{y}_0 = \n",
    "  \\begin{bmatrix}\n",
    "  0.2 & -0.8 & 0.2 & 0.2 & 0.2\n",
    "  \\end{bmatrix}\n",
    "  \\begin{bmatrix}\n",
    "  0.6\\\\ -0.4\\\\ -0.4\\\\ 1.6\\\\ -1.4\n",
    "  \\end{bmatrix} = 0.2*0.6 + -0.8*-0.4 + 0.2*-0.4 + 0.2*1.6 + 0.2*-1.4 = 0.4\n",
    "$$\n",
    "\n",
    "Dividido entre $1/(n-1)$ es $\\frac{1}{5-1}0.4=0.1$"
   ]
  },
  {
   "cell_type": "markdown",
   "metadata": {},
   "source": [
    "Para el ejercicio 2"
   ]
  },
  {
   "cell_type": "code",
   "execution_count": null,
   "metadata": {
    "vscode": {
     "languageId": "r"
    }
   },
   "outputs": [
    {
     "data": {
      "text/html": [
       "<table class=\" lightable-classic-2 table\" style='font-family: \"Arial Narrow\", \"Source Sans Pro\", sans-serif; width: auto !important; margin-left: auto; margin-right: auto; margin-left: auto; margin-right: auto;'>\n",
       " <thead>\n",
       "  <tr>\n",
       "   <th style=\"text-align:left;\">   </th>\n",
       "   <th style=\"text-align:right;\"> 0 </th>\n",
       "   <th style=\"text-align:left;\"> 1 </th>\n",
       "   <th style=\"text-align:right;\"> 2 </th>\n",
       "  </tr>\n",
       " </thead>\n",
       "<tbody>\n",
       "  <tr>\n",
       "   <td style=\"text-align:left;\"> 0 </td>\n",
       "   <td style=\"text-align:right;\"> 0.0000 </td>\n",
       "   <td style=\"text-align:left;\"> <span style=\"     color: black !important;border-radius: 4px; padding-right: 4px; padding-left: 4px; background-color: red !important;\">0.0325</span> </td>\n",
       "   <td style=\"text-align:right;\"> 0.0400 </td>\n",
       "  </tr>\n",
       "  <tr>\n",
       "   <td style=\"text-align:left;\"> 1 </td>\n",
       "   <td style=\"text-align:right;\"> 0.0439 </td>\n",
       "   <td style=\"text-align:left;\"> 0.2544 </td>\n",
       "   <td style=\"text-align:right;\"> 0.1351 </td>\n",
       "  </tr>\n",
       "  <tr>\n",
       "   <td style=\"text-align:left;\"> 2 </td>\n",
       "   <td style=\"text-align:right;\"> 0.1273 </td>\n",
       "   <td style=\"text-align:left;\"> 0.2524 </td>\n",
       "   <td style=\"text-align:right;\"> 0.0418 </td>\n",
       "  </tr>\n",
       "  <tr>\n",
       "   <td style=\"text-align:left;\"> 3 </td>\n",
       "   <td style=\"text-align:right;\"> 0.0433 </td>\n",
       "   <td style=\"text-align:left;\"> 0.0293 </td>\n",
       "   <td style=\"text-align:right;\"> 0.0000 </td>\n",
       "  </tr>\n",
       "</tbody>\n",
       "</table>"
      ]
     },
     "metadata": {},
     "output_type": "display_data"
    }
   ],
   "source": [
    "xt <- table(sampled_data[, c(1, 2)]) |>\n",
    "  as.data.frame.matrix()\n",
    "# obtener la distribución conjunta de cada celda usando la eq 1\n",
    "xt_prob <- (xt / sum(xt))\n",
    "# colorear la celda que corresponde a y=0 x=1\n",
    "xt_prob[1, 2] <- cell_spec(xt_prob[1, 2], background = \"red\", color = \"black\")\n",
    "# imprimir la tabla\n",
    "xt_prob |>\n",
    "  kbl(escape = FALSE, booktabs = TRUE) |>\n",
    "  kable_classic_2(full_width = F) |>\n",
    "  kable_styling() |>\n",
    "  as.character() |>\n",
    "  display_html()"
   ]
  },
  {
   "cell_type": "markdown",
   "metadata": {},
   "source": [
    "La celda en rojo corresponde a la probabilidad\n",
    "\n",
    "$$\n",
    "  p(y=0, x=1) = \\frac{325}{10000}\n",
    "$$\n",
    "\n",
    "Para el ejercicio 3\n",
    "\n",
    "Ahora, para calcular la probabilidad condicional $p(x=1|y=0)$ debemos obtener la probabilidad marginal de $y$, o $p(y=0)$."
   ]
  },
  {
   "cell_type": "code",
   "execution_count": null,
   "metadata": {
    "vscode": {
     "languageId": "r"
    }
   },
   "outputs": [
    {
     "data": {
      "text/html": [
       "<table class=\" lightable-classic-2 table\" style='font-family: \"Arial Narrow\", \"Source Sans Pro\", sans-serif; width: auto !important; margin-left: auto; margin-right: auto; margin-left: auto; margin-right: auto;'>\n",
       " <thead>\n",
       "  <tr>\n",
       "   <th style=\"text-align:left;\">   </th>\n",
       "   <th style=\"text-align:right;\"> 0 </th>\n",
       "   <th style=\"text-align:right;\"> 1 </th>\n",
       "   <th style=\"text-align:right;\"> 2 </th>\n",
       "   <th style=\"text-align:left;\"> p(y) </th>\n",
       "  </tr>\n",
       " </thead>\n",
       "<tbody>\n",
       "  <tr>\n",
       "   <td style=\"text-align:left;\"> 0 </td>\n",
       "   <td style=\"text-align:right;\"> 0 </td>\n",
       "   <td style=\"text-align:right;\"> 325 </td>\n",
       "   <td style=\"text-align:right;\"> 400 </td>\n",
       "   <td style=\"text-align:left;color: black !important;background-color: #d4d1d1 !important;\"> 725/10000=0.0725 </td>\n",
       "  </tr>\n",
       "  <tr>\n",
       "   <td style=\"text-align:left;\"> 1 </td>\n",
       "   <td style=\"text-align:right;\"> 439 </td>\n",
       "   <td style=\"text-align:right;\"> 2544 </td>\n",
       "   <td style=\"text-align:right;\"> 1351 </td>\n",
       "   <td style=\"text-align:left;color: black !important;background-color: #d4d1d1 !important;\"> 4334/10000=0.4334 </td>\n",
       "  </tr>\n",
       "  <tr>\n",
       "   <td style=\"text-align:left;\"> 2 </td>\n",
       "   <td style=\"text-align:right;\"> 1273 </td>\n",
       "   <td style=\"text-align:right;\"> 2524 </td>\n",
       "   <td style=\"text-align:right;\"> 418 </td>\n",
       "   <td style=\"text-align:left;color: black !important;background-color: #d4d1d1 !important;\"> 4215/10000=0.4215 </td>\n",
       "  </tr>\n",
       "  <tr>\n",
       "   <td style=\"text-align:left;\"> 3 </td>\n",
       "   <td style=\"text-align:right;\"> 433 </td>\n",
       "   <td style=\"text-align:right;\"> 293 </td>\n",
       "   <td style=\"text-align:right;\"> 0 </td>\n",
       "   <td style=\"text-align:left;color: black !important;background-color: #d4d1d1 !important;\"> 726/10000=0.0726 </td>\n",
       "  </tr>\n",
       "</tbody>\n",
       "</table>"
      ]
     },
     "metadata": {},
     "output_type": "display_data"
    }
   ],
   "source": [
    "library(glue)\n",
    "xt_py <- xt |>\n",
    "  mutate(\n",
    "    'p(y)' = glue(\"{rowSums(xt)}/{sum(xt)}={rowSums(xt)/sum(xt)}\")\n",
    "  )\n",
    "xt_py |>\n",
    "  kbl(escape = FALSE, booktabs = TRUE) |>\n",
    "  kable_classic_2(full_width = F) |>\n",
    "  kable_styling() |>\n",
    "  column_spec(5, color = \"black\", background = \"#d4d1d1\") |>\n",
    "  as.character() |>\n",
    "  display_html()"
   ]
  },
  {
   "cell_type": "markdown",
   "metadata": {},
   "source": [
    " Luego, la probabilidad condicional será la probabilidad conjunta $p(y=0, x=1)$ dividida por la probabilidad marginal $p(y=0)$\n",
    "\n",
    "$$\n",
    "  p(x=1|y=0) = \\frac{p(y=0,x=1)}{p(y=0)} = \\frac{325/10000}{725/10000} = \\frac{13}{29}\n",
    "$$\n",
    "\n",
    "En general, la distribución condicional $p(x | y=0)$ se puede obtener como sigue"
   ]
  },
  {
   "cell_type": "code",
   "execution_count": null,
   "metadata": {
    "vscode": {
     "languageId": "r"
    }
   },
   "outputs": [
    {
     "data": {
      "text/html": [
       "<table class=\" lightable-classic-2 table\" style='font-family: \"Arial Narrow\", \"Source Sans Pro\", sans-serif; width: auto !important; margin-left: auto; margin-right: auto; margin-left: auto; margin-right: auto;'>\n",
       " <thead>\n",
       "  <tr>\n",
       "   <th style=\"text-align:right;\"> X </th>\n",
       "   <th style=\"text-align:right;\"> n </th>\n",
       "   <th style=\"text-align:right;\"> p(x|y=0) </th>\n",
       "  </tr>\n",
       " </thead>\n",
       "<tbody>\n",
       "  <tr>\n",
       "   <td style=\"text-align:right;\"> 1 </td>\n",
       "   <td style=\"text-align:right;\"> 325 </td>\n",
       "   <td style=\"text-align:right;\"> 0.4482759 </td>\n",
       "  </tr>\n",
       "  <tr>\n",
       "   <td style=\"text-align:right;\"> 2 </td>\n",
       "   <td style=\"text-align:right;\"> 400 </td>\n",
       "   <td style=\"text-align:right;\"> 0.5517241 </td>\n",
       "  </tr>\n",
       "</tbody>\n",
       "</table>"
      ]
     },
     "metadata": {},
     "output_type": "display_data"
    }
   ],
   "source": [
    "sampled_data |>\n",
    "  # filtrar la fila\n",
    "  filter(Y == 0) |>\n",
    "  # contar los casos de X condicionales a y=0; crea columna n\n",
    "  count(X) |>\n",
    "  # obtener la funcion de masa\n",
    "  mutate('p(x|y=0)' = n/sum(n)) |>\n",
    "  kbl(escape = FALSE, booktabs = TRUE) |>\n",
    "  kable_classic_2(full_width = F) |>\n",
    "  kable_styling() |>\n",
    "  as.character() |>\n",
    "  display_html()"
   ]
  },
  {
   "attachments": {},
   "cell_type": "markdown",
   "metadata": {},
   "source": [
    "Para el ejercicio 4.\n",
    "\n",
    "$F(X\\leq 1,Y\\leq 2) = p(x=0, y=0)+p(x=0, y=1)+p(x=0, y=2)+p(x=1, y=0)+p(x=1, y=1)+p(x=1, y=2)=0 + 0.0493+0.1273+0.0433+0.0325+0.2544+0.2524=0.7592$"
   ]
  },
  {
   "cell_type": "code",
   "execution_count": 28,
   "metadata": {
    "vscode": {
     "languageId": "r"
    }
   },
   "outputs": [
    {
     "data": {
      "text/html": [
       "<table class=\" lightable-classic-2 table\" style='font-family: \"Arial Narrow\", \"Source Sans Pro\", sans-serif; width: auto !important; margin-left: auto; margin-right: auto; margin-left: auto; margin-right: auto;'>\n",
       " <thead>\n",
       "  <tr>\n",
       "   <th style=\"text-align:left;\">   </th>\n",
       "   <th style=\"text-align:right;\"> 0 </th>\n",
       "   <th style=\"text-align:right;\"> 1 </th>\n",
       "   <th style=\"text-align:right;\"> 2 </th>\n",
       "  </tr>\n",
       " </thead>\n",
       "<tbody>\n",
       "  <tr>\n",
       "   <td style=\"text-align:left;\"> 0 </td>\n",
       "   <td style=\"text-align:right;\"> 0.0000 </td>\n",
       "   <td style=\"text-align:right;\"> 0.0325 </td>\n",
       "   <td style=\"text-align:right;\"> 0.0400 </td>\n",
       "  </tr>\n",
       "  <tr>\n",
       "   <td style=\"text-align:left;\"> 1 </td>\n",
       "   <td style=\"text-align:right;\"> 0.0439 </td>\n",
       "   <td style=\"text-align:right;\"> 0.2544 </td>\n",
       "   <td style=\"text-align:right;\"> 0.1351 </td>\n",
       "  </tr>\n",
       "  <tr>\n",
       "   <td style=\"text-align:left;\"> 2 </td>\n",
       "   <td style=\"text-align:right;\"> 0.1273 </td>\n",
       "   <td style=\"text-align:right;\"> 0.2524 </td>\n",
       "   <td style=\"text-align:right;\"> 0.0418 </td>\n",
       "  </tr>\n",
       "  <tr>\n",
       "   <td style=\"text-align:left;\"> 3 </td>\n",
       "   <td style=\"text-align:right;\"> 0.0433 </td>\n",
       "   <td style=\"text-align:right;\"> 0.0293 </td>\n",
       "   <td style=\"text-align:right;\"> 0.0000 </td>\n",
       "  </tr>\n",
       "</tbody>\n",
       "</table>"
      ]
     },
     "metadata": {},
     "output_type": "display_data"
    }
   ],
   "source": [
    "xt <- table(sampled_data[, c(1, 2)]) |>\n",
    "  as.data.frame.matrix()\n",
    "# obtener la distribución conjunta de cada celda usando la eq 1\n",
    "xt_prob <- (xt / sum(xt))\n",
    "# imprimir la tabla\n",
    "xt_prob |>\n",
    "  kbl(escape = FALSE, booktabs = TRUE) |>\n",
    "  kable_classic_2(full_width = F) |>\n",
    "  kable_styling() |>\n",
    "  as.character() |>\n",
    "  display_html()"
   ]
  },
  {
   "cell_type": "markdown",
   "metadata": {},
   "source": [
    "La distribución condicional de $x|y=y$ puede verse totalmente diferente que la distribución marginal $p(x)$. En la siguiente imagen, tomada de Bishop (PRML-1.1), se ilustra la distribución de dos variables $X$ y $Y$. $X$ puede tomar 9 valores posibles, y $Y$ 2. La distribución marginal de $X$, la distribución independientemente de qué valores tome $Y$, tiene una forma más achatada (más amplia, con mayor varianza) que la distribución condicional a $Y=1$.\n",
    "\n",
    "<p align=\"center\">\n",
    "  <img src=\"img/marginal_conditional.png\" width='60%' />\n",
    "</p>\n"
   ]
  },
  {
   "cell_type": "markdown",
   "metadata": {},
   "source": [
    "#### VA continuas\n",
    "\n",
    "Si $X\\in \\mathbb{R}$ es una función real, se denomina *variable aleatoria continua*, y es más natural especificar que $X$ se encuentre en un intervalo, e.g,, $a \\leq X \\leq b$, dado que en este caso no se puede crear un conjunto *contable* de valores posibles que $X$ puede tomar, pero podemos crear un conjunto finito de *intervalos* en la linea real, y asociar los eventos de $X$ que están en esos intervalos.\n",
    "\n",
    "##### Distribución acumulada (cdf)\n",
    "\n",
    "Sea $A = (X \\leq a)$, $B = (X \\leq b)$ y $C = (a < X \\leq b)$ en donde $a < b$. Tenemos que $B$ es la unión de $A$ y $C$, es decir, $B$ toma todos los valores que toman $A$ y $C$. Dado que $A$ y $C$ son mutuamente excluyentes, la probabilidad de $B$ es\n",
    "\n",
    "$$\\text{Pr}(B) = \\text{Pr}(A) + \\text{Pr}(C) \\tag{7} $$\n",
    "\n",
    "Y la probabilidad de estar en el intervalo $C$ como\n",
    "\n",
    "$$\n",
    "  \\text{Pr}(C) = \\text{Pr}(B) - \\text{Pr}(A) \\tag{8}\n",
    "$$\n",
    "\n",
    "Definimos la distribución de probabilidad acumulada como \n",
    "\n",
    "$$\n",
    "   P(x) \\overset{\\Delta}{=} \\text{Pr}(X \\leq x)\n",
    "$$\n",
    "\n",
    "Con esto, podemos calcular la probabilidad de estar en un intervalo como\n",
    "\n",
    "$$\n",
    "  \\text{Pr}(a < X \\leq b) = P(b) - P(a) \\tag{9}\n",
    "$$"
   ]
  },
  {
   "cell_type": "markdown",
   "metadata": {},
   "source": [
    "La cdf gráficamente tiene esta forma, cuyo eje Y se lee \"probabilidad de que $X$ tome valores igual o menor a $x$\".\n",
    "Notar que esto es una suma acumulada (o integral) que termina en 1."
   ]
  },
  {
   "cell_type": "code",
   "execution_count": null,
   "metadata": {
    "vscode": {
     "languageId": "r"
    }
   },
   "outputs": [
    {
     "data": {
      "image/png": "[encoded data removed]",
      "text/plain": [
       "Plot with title “ cdf gaussiana”"
      ]
     },
     "metadata": {
      "image/png": {
       "height": 300,
       "width": 420
      }
     },
     "output_type": "display_data"
    }
   ],
   "source": [
    "par(las=1)\n",
    "options(repr.plot.width=7, repr.plot.height=5)\n",
    "curve(\n",
    "  pnorm(x, mean = 0, sd = 1),\n",
    "  from = -3, to = 3, main = \" cdf gaussiana\",\n",
    "  xlab = 'X', ylab = expression(Pr(X <= x)),\n",
    "  col = 'blue', lwd = 2\n",
    ")"
   ]
  },
  {
   "attachments": {},
   "cell_type": "markdown",
   "metadata": {},
   "source": [
    "##### Función de densidad\n",
    "\n",
    "Podemos definir la función de densidad de probabilidad, o *pdf*, como la derivada de la cdf\n",
    "\n",
    "$$\n",
    "  p(x) \\overset{\\Delta}{=} \\frac{d}{dx}P(x)\n",
    "$$\n",
    "\n",
    "Alternativamente, en vez de $p(x)$ y $P(x)$ se suele usar, para VA continuas, $f(x)$ y $F(x)$ respectivamente.\n",
    "\n",
    "Y viceversa: la cdf como la integral de la pdf. Dada la pdf, podemos calcular la probabilidad de una variable continua en un intervalo finito como sigue\n",
    "\n",
    "$$\n",
    "  \\text{Pr}(a <X\\leq b) = \\int_a^b p(x)dx = P(b) - P(a) \\tag{10}\n",
    "$$\n",
    "\n",
    "La función de densidad de probabilidad debe satisfacer\n",
    "\n",
    "$$\n",
    "\\begin{align*}\n",
    "1)\\ &f(x) \\geq 0,\\ \\text{para toda } x,\\ -\\infty < x < \\infty\\\\\n",
    "2)\\ &\\int_{-\\infty}^\\infty f(x)\\text{d}x = 1\n",
    "\\end{align*}\n",
    "$$\n",
    "\n",
    "---\n",
    "\n",
    "**Ejemplo con distribución normal**\n",
    "\n",
    "La pdf de una normal está dada por\n",
    "\n",
    "$$\n",
    "  \\mathcal{N}(x\\mid \\mu, \\sigma^2)=  p(x) = \\frac{1}{\\sigma \\sqrt{2\\pi}} e\\left\\{\\frac{-(x-\\mu)^2}{2\\sigma^2}\\right\\} \\tag{10}\n",
    "$$\n",
    "\n",
    "que es gobernada (es decir, su forma y sus valores quedan completamente especificados) por $\\mu$, la media o el valor central, y $\\sigma^2$, llamada la varianza (cuya raíz cuadrada es la desviación estándar $\\sigma$, y está en las unidades de $x$ y $\\mu$).El recíproco de la varianza es llamado *precisión*, $\\tau=1/\\sigma^2$. \n",
    "\n",
    "En la ecuación (10), el término $\\frac{1}{\\sigma \\sqrt{2\\pi}}$ es una constante de *normalización*, que asegura que $p(x)$ sume 1, por lo que\n",
    "\n",
    "$$\n",
    "  \\int_{-\\infty}^\\infty p(x)\\text{d}x=1\n",
    "$$\n",
    "\n",
    "Las siguientes expresiones se cumplen en (10). El valor esperado de $x$ es\n",
    "\n",
    "$$\n",
    "  \\mathbf{E}[x]=\\int_{-\\infty}^\\infty p(x)x\\text{d}x=\\mu\n",
    "$$\n",
    "\n",
    "Y el valor esperado de $x^2$\n",
    "\n",
    "$$\n",
    "  \\mathbf{E}[x^2] =  \\int_{-\\infty}^\\infty p(x)x\\text{d}x^2=\\mu^2 + \\sigma^2\n",
    "$$\n",
    "\n",
    "La varianza está dada por $\\text{var}[x]=\\mathbf{E}[x^2] - \\mathbf{E}[x]^2$, por lo que $\\text{var}[x]=\\sigma^2$.\n",
    "\n",
    "En R se puede confirmar usando `rnorm(n, mean=4, sd=2)`, que regresa una variable aleatoria normalmente distribuida con media de 0 y desviación estándar de 1"
   ]
  },
  {
   "cell_type": "code",
   "execution_count": null,
   "metadata": {
    "vscode": {
     "languageId": "r"
    }
   },
   "outputs": [
    {
     "data": {
      "text/html": [
       "4.00522921391134"
      ],
      "text/latex": [
       "4.00522921391134"
      ],
      "text/markdown": [
       "4.00522921391134"
      ],
      "text/plain": [
       "[1] 4.005229"
      ]
     },
     "metadata": {},
     "output_type": "display_data"
    },
    {
     "data": {
      "text/html": [
       "8.99872506891619"
      ],
      "text/latex": [
       "8.99872506891619"
      ],
      "text/markdown": [
       "8.99872506891619"
      ],
      "text/plain": [
       "[1] 8.998725"
      ]
     },
     "metadata": {},
     "output_type": "display_data"
    },
    {
     "data": {
      "text/html": [
       "8.99881505706676"
      ],
      "text/latex": [
       "8.99881505706676"
      ],
      "text/markdown": [
       "8.99881505706676"
      ],
      "text/plain": [
       "[1] 8.998815"
      ]
     },
     "metadata": {},
     "output_type": "display_data"
    }
   ],
   "source": [
    "x <- rnorm(100000, 4, 3)\n",
    "mean(x) # media próxima a 4\n",
    "# la varianza de la ecuacion var(x) = E[x^2] - mu^2\n",
    "mean(x^2) - mean(x)^2\n",
    "# la varianza usando la función base de R\n",
    "var(x) # notar que no ingresamos la varianza en rnorm, sino sd"
   ]
  },
  {
   "cell_type": "markdown",
   "metadata": {},
   "source": [
    "En la siguiente figura a la izquierda se representa una variable aleatoria normal con media 0 y desviación estándar de 1, conocida como distribución normal estándar, y representada como $\\mathcal{N}(\\mu=0, \\sigma = 1)$ o simplemente $\\mathcal{N}(0, 1)$. Para la densidad de probabilidad normal, en R usamos `dnorm(x, mean, sd)`, que nos retorna la densidad en `x`.\n",
    "\n",
    "A la derecha se representa el área equivalente en la cdf, usando `pnorm`."
   ]
  },
  {
   "cell_type": "code",
   "execution_count": null,
   "metadata": {
    "vscode": {
     "languageId": "r"
    }
   },
   "outputs": [
    {
     "data": {
      "image/png": "[encoded data removed]",
      "text/plain": [
       "Plot with title “ cdf gaussiana”"
      ]
     },
     "metadata": {
      "image/png": {
       "height": 300,
       "width": 840
      }
     },
     "output_type": "display_data"
    }
   ],
   "source": [
    "options(repr.plot.width=7*2, repr.plot.height=5)\n",
    "par(las = 1, mfrow = c(1, 2))\n",
    "# graficar la curva usando la función de dnorm; curve crea in-situ 101 valores\n",
    "# para x que van de from a to. Es idéntico a\n",
    "# x <- seq(from, to, length = 101); plot(x, dnorm(x, 0, 1))\n",
    "# figura a la izquierda, pdf\n",
    "curve(\n",
    "  dnorm(x, 0, 1),\n",
    "  from = -3, to = 3,\n",
    "  col = \"blue\",\n",
    "  ylab = \"p(x)\",\n",
    "  lwd = 2\n",
    ")\n",
    "from_x <- -1.5\n",
    "to_x <- 1.5\n",
    "# valores para x y y en el área sombreada\n",
    "sx <- c(from_x, seq(from_x, to_x, 0.01), to_x)\n",
    "sy <- c(0, dnorm(seq(from_x, to_x, 0.01)), 0)\n",
    "# crear área sombreada con sx y sy\n",
    "polygon(\n",
    "  sx, sy,\n",
    "  col = \"#B3B3FF\"\n",
    ")\n",
    "text(\n",
    "  x = 0,\n",
    "  y = dnorm(0, 0) / 2,\n",
    "  labels = expression(integral(p(x) * dx, -1.5, 1.5)),\n",
    "  cex = 1.2\n",
    ")\n",
    "text(\n",
    "  x = 0,\n",
    "  y = dnorm(0, 0) / 3,\n",
    "  labels = \"= P(1.5) - P(-1.5)\",\n",
    "  cex = 1.2\n",
    ")\n",
    "\n",
    "# figura a la derecha, cdf\n",
    "curve(\n",
    "  pnorm(x, mean = 0, sd = 1),\n",
    "  from = -3, to = 3, main = \" cdf gaussiana\",\n",
    "  xlab = 'X', ylab = expression(Pr(X <= x)),\n",
    "  col = 'blue', lwd = 2\n",
    ")\n",
    "from_x <- -1.5 # en rigor, debería ser -Inf\n",
    "to_x <- 1.5\n",
    "sx  <- c(from_x, seq(from_x, to_x, 0.01), to_x)\n",
    "sy  <- c(0, pnorm(seq(from_x, to_x, 0.01)), 0)\n",
    "polygon(\n",
    "  sx, sy,\n",
    "  col = \"#B3B3FF\"\n",
    ")"
   ]
  },
  {
   "cell_type": "markdown",
   "metadata": {},
   "source": [
    "En `R`, la función de densidad acumulada ($\\text{\\sf cdf}$) para la distribución normal se obtiene con `pnorm(x, mean, sd)` en donde `x` es un vector de *cuantiles*, que es el, o los, valores en $x$ para el cual(es) deseamos obtener su probabilidad (básicamente, un cuantil es la función inversa de $P(x)$).\n",
    "\n",
    "Para obtener el área sombreada en la anterior figura, usamos `pnorm(b) - pnorm(a)`"
   ]
  },
  {
   "cell_type": "code",
   "execution_count": null,
   "metadata": {
    "vscode": {
     "languageId": "r"
    }
   },
   "outputs": [
    {
     "data": {
      "text/html": [
       "0.866385597462284"
      ],
      "text/latex": [
       "0.866385597462284"
      ],
      "text/markdown": [
       "0.866385597462284"
      ],
      "text/plain": [
       "[1] 0.8663856"
      ]
     },
     "metadata": {},
     "output_type": "display_data"
    }
   ],
   "source": [
    "pnorm(1.5, mean = 0, sd = 1) - pnorm(-1.5, 0, 1)\n",
    "# mean = 0, sd = 1 están por defecto, pero los ponemos para mayor claridad"
   ]
  },
  {
   "cell_type": "markdown",
   "metadata": {},
   "source": [
    "El área que cubre `pnorm(1.5)` va desde $-\\infty$ a 1.5, y el área de `pnorm(-1.5)` va de $-\\infty$ a -1.5."
   ]
  },
  {
   "cell_type": "code",
   "execution_count": null,
   "metadata": {
    "vscode": {
     "languageId": "r"
    }
   },
   "outputs": [
    {
     "data": {
      "image/png": "[encoded data removed]",
      "text/plain": [
       "plot without title"
      ]
     },
     "metadata": {
      "image/png": {
       "height": 300,
       "width": 420
      }
     },
     "output_type": "display_data"
    }
   ],
   "source": [
    "options(repr.plot.width=7, repr.plot.height=5)\n",
    "par(las = 1)\n",
    "curve(\n",
    "  dnorm(x, 0, 1),\n",
    "  from = -3, to = 3,\n",
    "  col = \"blue\",\n",
    "  ylab = \"p(x)\",\n",
    "  lwd = 2\n",
    ")\n",
    "from_x <- -10 # en rigor, debería ser -Inf\n",
    "to_x <- 1.5\n",
    "sx  <- c(from_x, seq(from_x, to_x, 0.01), to_x)\n",
    "sy  <- c(0, dnorm(seq(from_x, to_x, 0.01)), 0)\n",
    "polygon(\n",
    "  sx, sy,\n",
    "  col = \"#B3B3FF\"\n",
    ")\n",
    "text(\n",
    "  x = 1.5,\n",
    "  y = dnorm(1.5, 0),\n",
    "  labels = 'x=1.5',\n",
    "  cex = 1.2\n",
    ")"
   ]
  },
  {
   "cell_type": "markdown",
   "metadata": {},
   "source": [
    "En contraste con las **VA** discretas, la probabilidad de que una variable continua $X\\in \\mathbb{R}$ tome un valor particular, $p(X = x)$, es 0. Es como integrar la función de densidad de la siguiente manera:\n",
    "\n",
    "$$\n",
    "  Pr(a \\leq X \\leq a) = \\int_a^b f(x)dx = P(a) - P(a)\n",
    "$$\n",
    "\n",
    "Por esta razón, con $\\text{\\sf pdf}$ solo calculamos probabilidades en intervalos.\n",
    "\n",
    "---\n",
    "\n",
    "Para VA continuas, las reglas de suma y producto son\n",
    "\n",
    "$$\n",
    "  \\begin{align*}\n",
    "    \\text{ \\bf{regla de la suma}}  \\quad\\quad   &f(x) = \\int_y f(x,y)\\text{d}y \\\\\n",
    "    \\text{ \\bf{regla del producto}}\\quad\\quad &f(x, y) = f(y|x)f(x) \n",
    "  \\end{align*}\n",
    "$$\n",
    "\n",
    "## Función de densidad de probabilidad conjunta\n",
    "\n",
    "Sean $X_1, X_2$ variables aleatorias continuas con función de distribución conjunta $F(x_1, x_2)$. Si existe una función no negativa $f(x_1, x_2)$ tal que \n",
    "\n",
    "\\begin{align*}\n",
    "  F(x_1, x_2) = \\int_{-\\infty}^{x_1} \\int_{-\\infty}^{x_2} f(t_1, t_2)\\text{d}t_1\\text{d}t_2\n",
    "\\end{align*}\n",
    "\n",
    "Para toda $-\\infty < x_1<\\infty, -\\infty < x_2<\\infty$. En donde $t_1, t_2$ son solo variables de integración.\n",
    "\n",
    "Satisfacen\n",
    "\n",
    "\\begin{align*}\n",
    "  1. &f(x_1, x_2)\\geq 0\\quad \\text{para toda }x_1, x_2\\\\\n",
    "  2. &\\int_{-\\infty}^\\infty f(x_1, x_2) \\text{d}x_1\\text{d}x_2= 1\n",
    "\\end{align*}"
   ]
  },
  {
   "attachments": {},
   "cell_type": "markdown",
   "metadata": {},
   "source": [
    "**Ejemplos**\n",
    "\n",
    "1. Dada $f(y) = cy^2,\\ 0 \\leq y \\leq 2$ y $f(y)=0$ en cualquier otra parte, encuentre el valor de $c$ para el cuál $f(y)$ es una función de densidad válida.\n",
    "\n",
    "*Solución*\n",
    "\n",
    "Para obtener $c$, requerimos un valor tal que se cumpla\n",
    "\n",
    "$$\n",
    "  F(y) = \\int_{-\\infty}^\\infty f(y)\\text{d}y = 1\n",
    "$$\n",
    "\n",
    "Lo que nos da\n",
    "\n",
    "$$\n",
    "  F(y) = \\int_0^2 cy^2\\text{d}y=\\frac{cy^3}{3} \\Bigg|_0^2=\\frac{8}{3}c\n",
    "$$\n",
    "\n",
    "Sustituyendo $\\frac{8}{3}c=1$ nos da que $c=3/8$.\n",
    "\n",
    "2. Encontrar $P(1\\leq Y \\leq 2)$ para la función del ejemplo 1, también encontrar $P(1< Y < 2)$\n",
    "\n",
    "*Solución*\n",
    "\n",
    "Dado que ya encontramos el valor de  que satisface $F(y) = \\int_{-\\infty}^\\infty f(y)\\text{d}y = 1$, la sustituimos.\n",
    "\n",
    "$$\n",
    "  P(1\\leq Y \\leq 2) = \\int_1^2 f(y)\\text{d}y= \\frac{3}{8}\\int_1^2 y^2\\text{d}y=7/8\n",
    "$$\n",
    "\n",
    "3. Como una medida de inteligencia, a unos ratones se les toma el tiempo que tardan para pasar por un laberinto para llegar a una recompensa (alimento). El tiempo en segundos necesario para cualquier ratón es una variable aleatoria $Y$ con función de densidad dada por\n",
    "\n",
    "$$\n",
    "  f(y) = \\begin{cases}\n",
    "    \\frac{b}{y^2},\\ &y\\geq b\\\\\n",
    "    0,\\ &\\text{en cualquier otro punto}\n",
    "  \\end{cases}\n",
    "$$\n",
    "\n",
    "En donde $b$ es el tiempo mínimo posible para recorrer el laberinto. Demostrar que $f(y)$ tiene las propiedades de una función de densidad.\n",
    "\n",
    "*Solución*\n",
    "\n",
    "Dado que $b$ es un tiempo, no puede ser negativo. Además, $f(y)$ tiene el término cuadrático $y^2$, que tampoco puede ser negativo, por lo que $f(y) \\geq 0$.\n",
    "\n",
    "El mínimo valor que puede tener $y$ es $b$. Por lo tanto\n",
    "\n",
    "\\begin{align*}\n",
    "F(y) &= \\int_{b}^\\infty \\frac{b}{y^2}\\text{d}y= 1\\\\  \n",
    "     &= \\frac{by^{-2+1}}{-2+1}\\Bigg|_b^\\infty=-\\frac{b}{y}\\Bigg|_b^\\infty=0-\\left(-\\frac{b}{b}\\right)=1\n",
    "\\end{align*}\n",
    "\n",
    "\n",
    "\n",
    "4. En el ejemplo 1 determinamos que $f(y)=(3/8)y^2$ para $0\\leq y \\leq 2, f(y)=0$ en cualquier otra parte. Si la variable $Y$ tiene esta función de densidad, encontrar $\\mu=\\mathbf{E}[Y], \\sigma^2=\\text{var}[Y]$, recordando que $\\text{var}[x]=\\mathbf{E}[x^2]-(\\mathbf{E}[x])^2$.\n",
    "\n",
    "*Solución*\n",
    "\n",
    "\\begin{align*}\n",
    "\\mathbf{E}[Y] &= \\int_{-\\infty}^\\infty yf(y)\\text{d}y= \\int_{-\\infty}^\\infty y\\frac{3y^2}{8}\\text{d}y = \\frac{3}{8}\\cdot\\frac{1}{4}y^4 \\Bigg|_0^2=1.5\\\\\n",
    "\\text{para } &\\mathbf{E}[Y^2]\\quad \\text{se obtiene}\\\\\n",
    "\\mathbf{E}[Y^2] &= \\int_{-\\infty}^\\infty y^2f(y)\\text{d}y= \\int_{-\\infty}^\\infty y^2\\frac{3y^2}{8}\\text{d}y = \\frac{3}{8}\\cdot\\frac{1}{5}y^5 \\Bigg|_0^2=2.4\\\\\n",
    "\\text{por }&\\text{lo que}\\\\ \n",
    "\\text{var}[x]&=\\mathbf{E}[x^2]-(\\mathbf{E}[x])^2 = 2.4 - 1.5^2 = 0.15\n",
    "\\end{align*}\n",
    "\n",
    "5. Una partícula radiactiva se localiza en un cuadrado con lados de longitud 1. Denotar como $Y_1, Y_2$ las coordenadas de la ubicación de la partícula. Un modelo razonable para el histograma de frecuencia relativa para $Y_1, Y_2$ es la función bivariante de densidad\n",
    "\n",
    "\\begin{align*}\n",
    "  f(y_1, y_2) = \\begin{cases}\n",
    "  1,\\quad & 0 \\leq y_1 \\leq 1, 0 \\leq y_2 \\leq 1\\\\\n",
    "  0, \\quad & \\text{en cualquier otro punto}\n",
    "  \\end{cases}\n",
    "\\end{align*}\n",
    "\n",
    "Econtrar $F(y_1=0.2, y_2=0.4)$.\n",
    "\n"
   ]
  }
 ],
 "metadata": {
  "kernelspec": {
   "display_name": "R",
   "language": "R",
   "name": "ir"
  },
  "language_info": {
   "codemirror_mode": "r",
   "file_extension": ".r",
   "mimetype": "text/x-r-source",
   "name": "R",
   "pygments_lexer": "r",
   "version": "4.2.2"
  },
  "orig_nbformat": 4,
  "vscode": {
   "interpreter": {
    "hash": "250f9a87e4fb839d4a665aae3d7395b3ec2b811dfe95dbba6380d56bd4036337"
   }
  }
 },
 "nbformat": 4,
 "nbformat_minor": 2
}
