{
 "cells": [
  {
   "cell_type": "markdown",
   "metadata": {},
   "source": [
    "# 2. Modelos de distribución multivariados\n",
    "\n",
    "<p align=\"right\">\n",
    "Autor: Emmanuel Alcalá\n",
    "<br>\n",
    "<a href=\"https://scholar.google.com.mx/citations?hl=en&user=3URusCgAAAAJ&view_op=list_works&sortby=pubdate\">Google Scholar</a>\n",
    "</p>\n",
    "\n",
    "<p align=\"left\">\n",
    "<br>\n",
    "<a href=\"https://jealcalat.github.io/Analisis_multivariado/\">Regresar a la página del curso</a>\n",
    "</p>\n",
    "\n",
    "---"
   ]
  },
  {
   "cell_type": "markdown",
   "metadata": {},
   "source": [
    "## 2.0. Preliminares\n",
    "\n",
    "### Eigenvalores y eigenvectores\n",
    "\n",
    "Considerar la matriz cuadrada $A_{p\\times p}$. Si existe un escalar $\\lambda$ y un vector $\\mathbf{x}$ tal que\n",
    "\n",
    "$$\n",
    "  A\\mathbf{x} = \\lambda\\mathbf{x} \\tag{1}\n",
    "$$\n",
    "\n",
    "En donde $\\lambda$ es un _eigenvalor_ (valor propio) y $\\mathbf{x}$ un eigenvector.\n"
   ]
  },
  {
   "cell_type": "markdown",
   "metadata": {},
   "source": [
    "### Inversa\n",
    "\n",
    "Considerar la matriz cuadrada $A_{p\\times p}$. Sea la matriz cuadrada $B_{p\\times p}$ una matriz con la propiedad de $AB = I = BA$. En este caso, $B_{p\\times p}$ es llamada _la inversa_ de $A$, y se denota como $A^{-1}$. La matrix $I$ es una matriz especial cuyas diagonales son 1, y por encima y debajo de las diagonales solo hay 0s.\n",
    "\n",
    "$$\n",
    "  I_{p\\times p}= \\begin{bmatrix} \n",
    "  1 & 0 & 0 & \\cdots & 0\\\\ \n",
    "  0 & 1 & 0  & \\cdots & 0 \\\\\n",
    "  0 & 0 & 1 & \\cdots & 0 \\\\\n",
    "  \\vdots & \\vdots & \\vdots & \\ddots & \\vdots \\\\\n",
    "  0 & 0 & 0 & \\cdots & 1\n",
    "  \\end{bmatrix}\n",
    "$$\n",
    "\n",
    "Considerar las matrices\n",
    "\n",
    "$$\n",
    "  A = \\begin{bmatrix}\n",
    "  a_{11} & a_{12} \\\\\n",
    "  a_{21} & a_{22}\n",
    "  \\end{bmatrix}\\quad\n",
    "  A' = \\begin{bmatrix}\n",
    "  a_{22} & -a_{12} \\\\\n",
    "  -a_{21} & a_{11}\n",
    "  \\end{bmatrix}\n",
    "$$\n",
    "\n",
    "El producto de ambas es\n",
    "\n",
    "$$\n",
    "  AA' = \\begin{bmatrix}\n",
    "    a_{11}a_{22} - a_{12}a_{21} & 0 \\\\\n",
    "    0 & a_{11}a_{22} - a_{12}a_{21}\n",
    "  \\end{bmatrix} = (a_{11}a_{22} - a_{12}a_{21})I\n",
    "$$\n",
    "\n",
    "Dado que $AA^{-1} = I$, entonces\n",
    "\n",
    "$$\n",
    "  A^{-1} = \\frac{1}{a_{11}a_{22} - a_{12}a_{21}}A' = \\frac{1}{a_{11}a_{22} - a_{12}a_{21}}\\begin{bmatrix}\n",
    "  a_{22} & -a_{12} \\\\\n",
    "  -a_{21} & a_{11}\n",
    "  \\end{bmatrix}\n",
    "$$\n",
    "\n",
    "**Nota**: para que $A^{-1}$ exista, es decir, para que $A$ sea *invertible*, $a_{11}a_{22} - a_{12}a_{21} \\neq 0$. "
   ]
  },
  {
   "cell_type": "markdown",
   "metadata": {},
   "source": [
    "\n",
    "### Determinante\n",
    "\n",
    "Los determinantes solo están definidos para matrices cuadradas $A_{p\\times p}$ (matrices que tienen el mismo número de filas que de columnas). El determinante $\\text{det}(A)$ o $|A|$ es una función que mapea $A$ a números reales.\n",
    "\n",
    "De la sección [Inversa](#inversa), sabemos que para una matriz de $2\\times 2$, $A^{-1}$ existe si y solo si $a_{11}a_{22} - a_{12}a_{21} \\neq 0$. Esta cantidad es el determinante de $A\\in \\mathbb{R}^{2\\times 2}$, es decir\n",
    "\n",
    "$$\n",
    "  \\text{det}(A)_{2\\times 2} = a_{11}a_{22} - a_{12}a_{21}\\tag{2}\n",
    "$$\n",
    "\n",
    "**Nota**: Tanto en [Inversa](#inversa) como en [Determinante](#determinante) se usó un ejemplo de una matriz sencilla de $2\\times 2$. En general, para cualquier matriz $A_{p\\times p}$, para que $A^{-1}$ exista, $\\text{det}(A_{p\\times p})\\neq 0$. Es decir, *una matriz cuadrada es invertible **si y solo si** su determinante es diferente de 0.*\n",
    "\n",
    "Se da ahora una expresión general para obtener el determinante de cualquier matriz cuadrada. Sea $A$ la matriz cuadrada ${p\\times p}$. Para todo $j=1, \\dots, p$, el determinante expandido a través de la fila $j$ se obtiene con\n",
    "\n",
    "$$\n",
    "  \\text{det}(A) = |A| = \\sum_{k=1}^{p}(-1)^{k+j}a_{jk}\\text{det}(A_{j,k}) \\tag{3}\n",
    "$$\n",
    "\n",
    "En donde $A_{j,k}\\in \\mathbb{R}^{(p-1)\\times (p-1)}$ es una *submatriz* que obtenemos eliminando la fila $j$ y la columna $k$, y $a_{jk}$ es la entrada de la matriz $A$ en la fila $j$ y columna $k$. A la ecuación (2) se le conoce como la expansión de Laplace.\n",
    "\n",
    "Por ejemplo\n",
    "\n",
    "$$\n",
    "  A = \\begin{bmatrix}\n",
    "  1 & 2 & 3\\\\\n",
    "  3 & 1 & 2\\\\\n",
    "  0 & 0 & 1\n",
    "  \\end{bmatrix}\n",
    "$$\n",
    "\n",
    "Usando la expansión de Laplace a en la primera fila, aplicando (2) obtenemos\n",
    "\n",
    "$$\n",
    "  |A| = \\begin{vmatrix}\n",
    "  1 & 2 & 3\\\\\n",
    "  3 & 1 & 2\\\\\n",
    "  0 & 0 & 1\n",
    "  \\end{vmatrix} = %\n",
    "  \\underbrace{(-1)^{1+1}\\times 1 \\begin{vmatrix}\n",
    "  1 & 2\\\\\n",
    "  0 & 1\n",
    "  \\end{vmatrix}}_{k=1} %\n",
    "  + \\underbrace{(-1)^{1+2}\\times 2\\begin{vmatrix}\n",
    "  3 & 2\\\\\n",
    "  0 & 1\n",
    "  \\end{vmatrix}}_{k=2} %\n",
    "    + \\underbrace{(-1)^{1+3}\\times 3\\begin{vmatrix}\n",
    "  3 & 1\\\\\n",
    "  0 & 0\n",
    "  \\end{vmatrix}}_{k=3}\n",
    "$$\n",
    "\n",
    "Podemos ahora calcular los determinantes $2\\times 2$ usando la ecuación (2). Por ejemplo, \n",
    "\n",
    "$$\n",
    "  \\begin{vmatrix}\n",
    "  1 & 2\\\\\n",
    "  0 & 1\n",
    "  \\end{vmatrix} = 1\\times 1 - 0\\times 2 = 1-0\n",
    "$$\n",
    "\n",
    "Con lo que tenemos al final $\\text{det}(A) = -5$."
   ]
  },
  {
   "cell_type": "markdown",
   "metadata": {},
   "source": [
    "En `R`"
   ]
  },
  {
   "cell_type": "code",
   "execution_count": 7,
   "metadata": {
    "vscode": {
     "languageId": "r"
    }
   },
   "outputs": [
    {
     "data": {
      "text/html": [
       "-5"
      ],
      "text/latex": [
       "-5"
      ],
      "text/markdown": [
       "-5"
      ],
      "text/plain": [
       "[1] -5"
      ]
     },
     "metadata": {},
     "output_type": "display_data"
    },
    {
     "data": {
      "text/html": [
       "<table class=\"dataframe\">\n",
       "<caption>A matrix: 3 × 3 of type dbl</caption>\n",
       "<tbody>\n",
       "\t<tr><td>-2.8</td><td>-2.2</td><td>-0.6</td></tr>\n",
       "\t<tr><td>-2.2</td><td>-2.8</td><td>-0.4</td></tr>\n",
       "\t<tr><td>-0.6</td><td>-0.4</td><td>-0.2</td></tr>\n",
       "</tbody>\n",
       "</table>\n"
      ],
      "text/latex": [
       "A matrix: 3 × 3 of type dbl\n",
       "\\begin{tabular}{lll}\n",
       "\t -2.8 & -2.2 & -0.6\\\\\n",
       "\t -2.2 & -2.8 & -0.4\\\\\n",
       "\t -0.6 & -0.4 & -0.2\\\\\n",
       "\\end{tabular}\n"
      ],
      "text/markdown": [
       "\n",
       "A matrix: 3 × 3 of type dbl\n",
       "\n",
       "| -2.8 | -2.2 | -0.6 |\n",
       "| -2.2 | -2.8 | -0.4 |\n",
       "| -0.6 | -0.4 | -0.2 |\n",
       "\n"
      ],
      "text/plain": [
       "     [,1] [,2] [,3]\n",
       "[1,] -2.8 -2.2 -0.6\n",
       "[2,] -2.2 -2.8 -0.4\n",
       "[3,] -0.6 -0.4 -0.2"
      ]
     },
     "metadata": {},
     "output_type": "display_data"
    },
    {
     "data": {
      "text/html": [
       "<table class=\"dataframe\">\n",
       "<caption>A matrix: 3 × 3 of type dbl</caption>\n",
       "<tbody>\n",
       "\t<tr><td>-0.2</td><td> 0.4</td><td>-0.2</td></tr>\n",
       "\t<tr><td> 0.6</td><td>-0.2</td><td>-1.4</td></tr>\n",
       "\t<tr><td> 0.0</td><td> 0.0</td><td> 1.0</td></tr>\n",
       "</tbody>\n",
       "</table>\n"
      ],
      "text/latex": [
       "A matrix: 3 × 3 of type dbl\n",
       "\\begin{tabular}{lll}\n",
       "\t -0.2 &  0.4 & -0.2\\\\\n",
       "\t  0.6 & -0.2 & -1.4\\\\\n",
       "\t  0.0 &  0.0 &  1.0\\\\\n",
       "\\end{tabular}\n"
      ],
      "text/markdown": [
       "\n",
       "A matrix: 3 × 3 of type dbl\n",
       "\n",
       "| -0.2 |  0.4 | -0.2 |\n",
       "|  0.6 | -0.2 | -1.4 |\n",
       "|  0.0 |  0.0 |  1.0 |\n",
       "\n"
      ],
      "text/plain": [
       "     [,1] [,2] [,3]\n",
       "[1,] -0.2  0.4 -0.2\n",
       "[2,]  0.6 -0.2 -1.4\n",
       "[3,]  0.0  0.0  1.0"
      ]
     },
     "metadata": {},
     "output_type": "display_data"
    }
   ],
   "source": [
    "A <- matrix(\n",
    "  c(\n",
    "    1, 2, 3,\n",
    "    3, 1, 2,\n",
    "    0, 0, 1\n",
    "  ),\n",
    "  byrow = TRUE, # especificar que el orden sea por fila de 3 en 3\n",
    "  ncol = 3\n",
    ")\n",
    "# el determinante\n",
    "det(A)\n",
    "# la inversa se obtiene con \n",
    "solve(A)"
   ]
  },
  {
   "cell_type": "markdown",
   "metadata": {},
   "source": [
    "### Núcleo (kernel o espacio nulo)\n",
    "\n",
    "Considerar la siguiente ecuación\n",
    "\n",
    "$$\n",
    "  A \\mathbf{x} = \\mathbf{0}\n",
    "$$\n",
    "\n",
    "El kernel $\\text{ker}(A\\mathbf{x})$ captura todas las posibles combinaciones lineales $a_1x_1 + \\dots + a_px_p$ que producen $\\mathbf{0}$"
   ]
  },
  {
   "cell_type": "markdown",
   "metadata": {},
   "source": [
    "\n",
    "### Descomposición expectral\n",
    "\n",
    "La matriz cuadrada $A_{p\\times p}$ puede se reescrita como\n",
    "\n",
    "$$\n",
    "  A = \\mathbf{x} \\Lambda \\mathbf{x}^\\top \\tag{3}\n",
    "$$\n",
    "\n",
    "En donde la matriz diagonal $\\Lambda = \\text{diag}(\\lambda_1, \\lambda_2,\\dots,\\lambda_p)$\n",
    "\n",
    "Un eigenvalor $\\lambda$ es la raíz del polinomio de orden $p$,\n",
    "\n",
    "$$\n",
    "  (A - \\lambda \\mathbf{I})\\mathbf{x}=\\mathbf{0} \\tag{4}\n",
    "$$\n",
    "\n",
    "por lo que hay $p$ eigenvalores de $A$. A cada eigenvalor $\\lambda_j$ le corresponde un eigenvector $x_j$. Dado que $\\mathbf{x} \\neq \\mathbf{0}$\n"
   ]
  },
  {
   "cell_type": "markdown",
   "metadata": {},
   "source": [
    "## 2.2. Distribución multinormal\n",
    "\n",
    "Ya vimos que para la distribución normal univariada, la función de densidad está dada por\n",
    "\n",
    "$$\n",
    "  p(x) = \\frac{1}{\\sigma \\sqrt{2\\pi}} e\\left\\{\\frac{-(x-\\mu)^2}{2\\sigma^2}\\right\\}  \\tag{1}\n",
    "$$\n"
   ]
  },
  {
   "cell_type": "code",
   "execution_count": null,
   "metadata": {
    "vscode": {
     "languageId": "r"
    }
   },
   "outputs": [],
   "source": []
  }
 ],
 "metadata": {
  "kernelspec": {
   "display_name": "R",
   "language": "R",
   "name": "ir"
  },
  "language_info": {
   "codemirror_mode": "r",
   "file_extension": ".r",
   "mimetype": "text/x-r-source",
   "name": "R",
   "pygments_lexer": "r",
   "version": "4.2.1"
  },
  "orig_nbformat": 4,
  "vscode": {
   "interpreter": {
    "hash": "e7370f93d1d0cde622a1f8e1c04877d8463912d04d973331ad4851f04de6915a"
   }
  }
 },
 "nbformat": 4,
 "nbformat_minor": 2
}
