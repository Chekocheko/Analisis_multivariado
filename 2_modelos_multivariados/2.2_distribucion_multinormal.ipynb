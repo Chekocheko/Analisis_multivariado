{
 "cells": [
  {
   "cell_type": "markdown",
   "metadata": {},
   "source": [
    "# 2. Modelos de distribución multivariados\n",
    "\n",
    "<p align=\"right\">\n",
    "Autor: Emmanuel Alcalá\n",
    "<br>\n",
    "<a href=\"https://scholar.google.com.mx/citations?hl=en&user=3URusCgAAAAJ&view_op=list_works&sortby=pubdate\">Google Scholar</a>\n",
    "</p>\n",
    "\n",
    "<p align=\"left\">\n",
    "<br>\n",
    "<a href=\"https://jealcalat.github.io/Analisis_multivariado/\">Regresar a la página del curso</a>\n",
    "</p>\n",
    "\n",
    "---\n"
   ]
  },
  {
   "cell_type": "code",
   "execution_count": 1,
   "metadata": {
    "vscode": {
     "languageId": "r"
    }
   },
   "outputs": [],
   "source": [
    "# cargar algunas funciones que se utilizarán\n",
    "source(\"../r_scripts/utilities.r\")"
   ]
  },
  {
   "cell_type": "markdown",
   "metadata": {},
   "source": [
    "## 2.0. Preliminares\n",
    "\n",
    "### Inversa\n",
    "\n",
    "Considerar la matriz cuadrada $A_{p\\times p}$. Sea la matriz cuadrada $B_{p\\times p}$ una matriz con la propiedad de $AB = I = BA$. En este caso, $B_{p\\times p}$ es llamada _la inversa_ de $A$, y se denota como $A^{-1}$. La matrix $I$ es una matriz especial cuyas diagonales son 1, y por encima y debajo de las diagonales solo hay 0s.\n",
    "\n",
    "$$\n",
    "  I_{p\\times p}= \\begin{bmatrix}\n",
    "  1 & 0 & 0 & \\cdots & 0\\\\\n",
    "  0 & 1 & 0  & \\cdots & 0 \\\\\n",
    "  0 & 0 & 1 & \\cdots & 0 \\\\\n",
    "  \\vdots & \\vdots & \\vdots & \\ddots & \\vdots \\\\\n",
    "  0 & 0 & 0 & \\cdots & 1\n",
    "  \\end{bmatrix}\n",
    "$$\n",
    "\n",
    "Considerar las matrices\n",
    "\n",
    "$$\n",
    "  A = \\begin{bmatrix}\n",
    "  a_{11} & a_{12} \\\\\n",
    "  a_{21} & a_{22}\n",
    "  \\end{bmatrix}\\quad\n",
    "  A' = \\begin{bmatrix}\n",
    "  a_{22} & -a_{12} \\\\\n",
    "  -a_{21} & a_{11}\n",
    "  \\end{bmatrix}\n",
    "$$\n",
    "\n",
    "El producto de ambas es\n",
    "\n",
    "$$\n",
    "  AA' = \\begin{bmatrix}\n",
    "    a_{11}a_{22} - a_{12}a_{21} & 0 \\\\\n",
    "    0 & a_{11}a_{22} - a_{12}a_{21}\n",
    "  \\end{bmatrix} = (a_{11}a_{22} - a_{12}a_{21})I\n",
    "$$\n",
    "\n",
    "Dado que $AA^{-1} = I$, entonces\n",
    "\n",
    "$$\n",
    "  A^{-1} = \\frac{1}{a_{11}a_{22} - a_{12}a_{21}}A' = \\frac{1}{a_{11}a_{22} - a_{12}a_{21}}\\begin{bmatrix}\n",
    "  a_{22} & -a_{12} \\\\\n",
    "  -a_{21} & a_{11}\n",
    "  \\end{bmatrix} \\tag{1}\n",
    "$$\n",
    "\n",
    "**Nota**: para que $A^{-1}$ exista, es decir, para que $A$ sea _invertible_, $a_{11}a_{22} - a_{12}a_{21} \\neq 0$.\n"
   ]
  },
  {
   "cell_type": "markdown",
   "metadata": {},
   "source": [
    "### Determinante\n",
    "\n",
    "Los determinantes solo están definidos para matrices cuadradas $A_{p\\times p}$ (matrices que tienen el mismo número de filas que de columnas). El determinante $\\text{det}(A)$ o $|A|$ es una función que mapea $A$ a números reales.\n",
    "\n",
    "De la sección [Inversa](#inversa), sabemos que para una matriz de $2\\times 2$, $A^{-1}$ existe si y solo si $a_{11}a_{22} - a_{12}a_{21} \\neq 0$. Esta cantidad es el determinante de $A\\in \\mathbb{R}^{2\\times 2}$, es decir\n",
    "\n",
    "$$\n",
    "  \\text{det}(A)_{2\\times 2} = a_{11}a_{22} - a_{12}a_{21}\\tag{2}\n",
    "$$\n",
    "\n",
    "**Nota**: Tanto en [Inversa](#inversa) como en [Determinante](#determinante) se usó un ejemplo de una matriz sencilla de $2\\times 2$. En general, para cualquier matriz $A_{p\\times p}$, para que $A^{-1}$ exista, $\\text{det}(A_{p\\times p})\\neq 0$. Es decir, _una matriz cuadrada es invertible **si y solo si** su determinante es diferente de 0._\n",
    "\n",
    "Se da ahora una expresión general para obtener el determinante de cualquier matriz cuadrada. Sea $A$ la matriz cuadrada ${p\\times p}$. Para todo $j=1, \\dots, p$, el determinante expandido a través de la fila $j$ se obtiene con\n",
    "\n",
    "$$\n",
    "  \\text{det}(A) = |A| = \\sum_{k=1}^{p}(-1)^{k+j}a_{jk}\\text{det}(A_{j,k}) \\tag{3}\n",
    "$$\n",
    "\n",
    "En donde $A_{j,k}\\in \\mathbb{R}^{(p-1)\\times (p-1)}$ es una _submatriz_ que obtenemos eliminando la fila $j$ y la columna $k$, y $a_{jk}$ es la entrada de la matriz $A$ en la fila $j$ y columna $k$. A la ecuación (2) se le conoce como la expansión de Laplace.\n",
    "\n",
    "Por ejemplo\n",
    "\n",
    "$$\n",
    "  A = \\begin{bmatrix}\n",
    "  1 & 2 & 3\\\\\n",
    "  3 & 1 & 2\\\\\n",
    "  0 & 0 & 1\n",
    "  \\end{bmatrix}\n",
    "$$\n",
    "\n",
    "Usando la expansión de Laplace a en la primera fila, aplicando (2) obtenemos\n",
    "\n",
    "$$\n",
    "  |A| = \\begin{vmatrix}\n",
    "  1 & 2 & 3\\\\\n",
    "  3 & 1 & 2\\\\\n",
    "  0 & 0 & 1\n",
    "  \\end{vmatrix} = %\n",
    "  \\underbrace{(-1)^{1+1}\\times 1 \\begin{vmatrix}\n",
    "  1 & 2\\\\\n",
    "  0 & 1\n",
    "  \\end{vmatrix}}_{k=1} %\n",
    "  + \\underbrace{(-1)^{1+2}\\times 2\\begin{vmatrix}\n",
    "  3 & 2\\\\\n",
    "  0 & 1\n",
    "  \\end{vmatrix}}_{k=2} %\n",
    "    + \\underbrace{(-1)^{1+3}\\times 3\\begin{vmatrix}\n",
    "  3 & 1\\\\\n",
    "  0 & 0\n",
    "  \\end{vmatrix}}_{k=3}\n",
    "$$\n",
    "\n",
    "Podemos ahora calcular los determinantes $2\\times 2$ usando la ecuación (2). Por ejemplo,\n",
    "\n",
    "$$\n",
    "  \\begin{vmatrix}\n",
    "  1 & 2\\\\\n",
    "  0 & 1\n",
    "  \\end{vmatrix} = 1\\times 1 - 0\\times 2 = 1-0\n",
    "$$\n",
    "\n",
    "Con lo que tenemos al final $\\text{det}(A) = -5$.\n"
   ]
  },
  {
   "cell_type": "markdown",
   "metadata": {},
   "source": [
    "En `R`\n"
   ]
  },
  {
   "cell_type": "code",
   "execution_count": 2,
   "metadata": {
    "vscode": {
     "languageId": "r"
    }
   },
   "outputs": [
    {
     "data": {
      "text/html": [
       "-5"
      ],
      "text/latex": [
       "-5"
      ],
      "text/markdown": [
       "-5"
      ],
      "text/plain": [
       "[1] -5"
      ]
     },
     "metadata": {},
     "output_type": "display_data"
    },
    {
     "data": {
      "text/html": [
       "<table class=\"dataframe\">\n",
       "<caption>A matrix: 3 × 3 of type dbl</caption>\n",
       "<tbody>\n",
       "\t<tr><td>-0.2</td><td> 0.4</td><td>-0.2</td></tr>\n",
       "\t<tr><td> 0.6</td><td>-0.2</td><td>-1.4</td></tr>\n",
       "\t<tr><td> 0.0</td><td> 0.0</td><td> 1.0</td></tr>\n",
       "</tbody>\n",
       "</table>\n"
      ],
      "text/latex": [
       "A matrix: 3 × 3 of type dbl\n",
       "\\begin{tabular}{lll}\n",
       "\t -0.2 &  0.4 & -0.2\\\\\n",
       "\t  0.6 & -0.2 & -1.4\\\\\n",
       "\t  0.0 &  0.0 &  1.0\\\\\n",
       "\\end{tabular}\n"
      ],
      "text/markdown": [
       "\n",
       "A matrix: 3 × 3 of type dbl\n",
       "\n",
       "| -0.2 |  0.4 | -0.2 |\n",
       "|  0.6 | -0.2 | -1.4 |\n",
       "|  0.0 |  0.0 |  1.0 |\n",
       "\n"
      ],
      "text/plain": [
       "     [,1] [,2] [,3]\n",
       "[1,] -0.2  0.4 -0.2\n",
       "[2,]  0.6 -0.2 -1.4\n",
       "[3,]  0.0  0.0  1.0"
      ]
     },
     "metadata": {},
     "output_type": "display_data"
    }
   ],
   "source": [
    "A <- matrix(\n",
    "  c(\n",
    "    1, 2, 3,\n",
    "    3, 1, 2,\n",
    "    0, 0, 1\n",
    "  ),\n",
    "  byrow = TRUE, # especificar que el orden sea por fila de 3 en 3\n",
    "  ncol = 3\n",
    ")\n",
    "# el determinante\n",
    "det(A)\n",
    "# la inversa se obtiene con\n",
    "solve(A)"
   ]
  },
  {
   "cell_type": "markdown",
   "metadata": {},
   "source": [
    "### Núcleo (kernel o espacio nulo)\n",
    "\n",
    "Considerar la siguiente ecuación\n",
    "\n",
    "$$\n",
    "  A \\mathbf{x} = \\mathbf{0}\n",
    "$$\n",
    "\n",
    "El kernel $\\text{ker}(A\\mathbf{x})$ captura todas las posibles combinaciones lineales $a_1x_1 + \\dots + a_px_p$ que producen $\\mathbf{0}$. En ese sentido, el kernel es un subespacio de soluciones para $A \\mathbf{x} = \\mathbf{0}$.\n"
   ]
  },
  {
   "cell_type": "markdown",
   "metadata": {},
   "source": [
    "### Eigenvalores y eigenvectores\n",
    "\n",
    "Considerar la matriz cuadrada $A_{p\\times p}$. Si existe un escalar $\\lambda$ y un vector $\\mathbf{x}$ tal que\n",
    "\n",
    "$$\n",
    "  A\\mathbf{x} = \\lambda\\mathbf{x} \\tag{4}\n",
    "$$\n",
    "\n",
    "La ecuación (3) es llamada _la ecuación de eigenvalores_. $\\lambda$ es un _eigenvalor_ (valor propio) y $\\mathbf{x}$ un eigenvector.\n",
    "\n",
    "Un eigenvalor $\\lambda$ es la raíz del polinomio de orden $p$,\n",
    "\n",
    "$$\n",
    "  (A - \\lambda I)\\mathbf{x}=\\mathbf{0} \\tag{5}\n",
    "$$\n",
    "\n",
    "por lo que hay $p$ eigenvalores de $A$. A cada eigenvalor $\\lambda_j$ le corresponde un eigenvector $x_j$. Dado que $\\mathbf{x} \\neq \\mathbf{0}$, la ecuación (4) implica que $(A - \\lambda I) =\\mathbf{0}$, y el kernel $\\text{ker}(A - \\lambda I)$ debe contener más elementos que no sean $\\mathbf{0}$, es decir $x \\in \\text{ker}(A-\\lambda I)$, por lo que la matriz no es invertible y su determinante es 0, es decir\n",
    "\n",
    "$$\n",
    "  \\text{det}(A - \\lambda I) = 0 \\tag{6}\n",
    "$$\n",
    "\n",
    "A la ecuación (5) se le conoce como _polinomio característico_. En la matriz\n",
    "\n",
    "$$\n",
    "  A = \\begin{bmatrix}\n",
    "  4 & 2 \\\\\n",
    "  1 & 3\n",
    "  \\end{bmatrix}\n",
    "$$\n",
    "\n",
    "Su polinomio característico es\n",
    "\n",
    "$$\n",
    "p_A(\\lambda) = \\text{det}(A - \\lambda I) = \\text{det} %\n",
    "\\left( %\n",
    "\\begin{bmatrix}\n",
    "  4 & 2 \\\\\n",
    "  1 & 3\n",
    "\\end{bmatrix} - %\n",
    "\\begin{bmatrix}\n",
    "  \\lambda & 0 \\\\\n",
    "  0 & \\lambda\n",
    "\\end{bmatrix}\n",
    "\\right) =\n",
    "\\begin{vmatrix}\n",
    "  4 - \\lambda & 2 \\\\\n",
    "  1           & 3 - \\lambda\n",
    "\\end{vmatrix}\n",
    "$$\n",
    "\n",
    "Que se reduce a\n",
    "\n",
    "$$\n",
    "  p_A(\\lambda) = (4 - \\lambda)(3 - \\lambda) - 2 = 0\n",
    "$$\n",
    "\n",
    "Y factorizando\n",
    "\n",
    "$$\n",
    "  p_A(\\lambda) = (2 - \\lambda)(5 - \\lambda) = 0\n",
    "$$\n",
    "\n",
    "Cuyas soluciones son $\\lambda_1 = 2, \\lambda_2 = 5$.\n",
    "\n",
    "Los eigenvectores se pueden encontrar sustituyendo los eigen valores en\n",
    "\n",
    "$$\n",
    "  \\begin{bmatrix}\n",
    "  4 - \\lambda & 2 \\\\\n",
    "  1           & 3 - \\lambda\n",
    "\\end{bmatrix}\\mathbf{x} = \\mathbf{0}\n",
    "$$\n",
    "\n",
    "**Nota**: el determinante de $A$ es el producto de sus eigenvalores\n",
    "\n",
    "$$\n",
    "  \\text{det}(A) = \\prod_{i=1}^n \\lambda_i\n",
    "$$\n"
   ]
  },
  {
   "cell_type": "markdown",
   "metadata": {},
   "source": [
    "### Descomposición expectral\n",
    "\n",
    "La matriz cuadrada $A_{p\\times p}$ puede se reescrita como\n",
    "\n",
    "$$\n",
    "  A = \\mathbf{P} D \\mathbf{P}^{-1} \\tag{7}\n",
    "$$\n",
    "\n",
    "En donde la matriz diagonal $D = \\text{diag}(\\lambda_1, \\lambda_2,\\dots,\\lambda_p)$.\n",
    "\n",
    "**Nota**: Cuando $A$ es simétrica, $\\mathbf{P}$ es ortogonal, lo que significa que $\\mathbf{P}\\mathbf{P}^\\top=\\mathbf{P}\\mathbf{P}^{-1}=I$, o lo que es lo mismo, $\\mathbf{P}^\\top=\\mathbf{P}^{-1}$, por lo que\n",
    "\n",
    "$$\n",
    "  A = \\mathbf{P} D \\mathbf{P}^\\top\n",
    "$$\n"
   ]
  },
  {
   "cell_type": "code",
   "execution_count": 3,
   "metadata": {
    "vscode": {
     "languageId": "r"
    }
   },
   "outputs": [
    {
     "data": {
      "text/html": [
       "<dl>\n",
       "\t<dt>$APDP</dt>\n",
       "\t\t<dd><table class=\"dataframe\">\n",
       "<caption>A matrix: 2 × 2 of type dbl</caption>\n",
       "<tbody>\n",
       "\t<tr><td>-3</td><td> 5</td></tr>\n",
       "\t<tr><td> 4</td><td>-2</td></tr>\n",
       "</tbody>\n",
       "</table>\n",
       "</dd>\n",
       "\t<dt>$A</dt>\n",
       "\t\t<dd><table class=\"dataframe\">\n",
       "<caption>A matrix: 2 × 2 of type dbl</caption>\n",
       "<tbody>\n",
       "\t<tr><td>-3</td><td> 5</td></tr>\n",
       "\t<tr><td> 4</td><td>-2</td></tr>\n",
       "</tbody>\n",
       "</table>\n",
       "</dd>\n",
       "</dl>\n"
      ],
      "text/latex": [
       "\\begin{description}\n",
       "\\item[\\$APDP] A matrix: 2 × 2 of type dbl\n",
       "\\begin{tabular}{ll}\n",
       "\t -3 &  5\\\\\n",
       "\t  4 & -2\\\\\n",
       "\\end{tabular}\n",
       "\n",
       "\\item[\\$A] A matrix: 2 × 2 of type dbl\n",
       "\\begin{tabular}{ll}\n",
       "\t -3 &  5\\\\\n",
       "\t  4 & -2\\\\\n",
       "\\end{tabular}\n",
       "\n",
       "\\end{description}\n"
      ],
      "text/markdown": [
       "$APDP\n",
       ":   \n",
       "A matrix: 2 × 2 of type dbl\n",
       "\n",
       "| -3 |  5 |\n",
       "|  4 | -2 |\n",
       "\n",
       "\n",
       "$A\n",
       ":   \n",
       "A matrix: 2 × 2 of type dbl\n",
       "\n",
       "| -3 |  5 |\n",
       "|  4 | -2 |\n",
       "\n",
       "\n",
       "\n",
       "\n"
      ],
      "text/plain": [
       "$APDP\n",
       "     [,1] [,2]\n",
       "[1,]   -3    5\n",
       "[2,]    4   -2\n",
       "\n",
       "$A\n",
       "     [,1] [,2]\n",
       "[1,]   -3    5\n",
       "[2,]    4   -2\n"
      ]
     },
     "metadata": {},
     "output_type": "display_data"
    }
   ],
   "source": [
    "## eigenvalores y descomposición espectral\n",
    "# Crear A\n",
    "A <- matrix(\n",
    "  data = c(-3, 4, 5, -2),\n",
    "  nrow = 2\n",
    ")\n",
    "\n",
    "# eigenvalores y eigenvectores usando la función eigen(), ?eigen para ayuda\n",
    "# retorna un objeto de dos elementos: los eigenvalores y los eigenvectores\n",
    "eig <- eigen(A) # desc. espectral\n",
    "\n",
    "# crear P\n",
    "P <- eig$vectors\n",
    "\n",
    "# crear la diagonal de eigenvalores D\n",
    "D <- diag(eig$values)\n",
    "# verificar eq 7; la inversa de P se obtiene con solve(P)\n",
    "list(\n",
    "  APDP = P %*% D %*% solve(P),\n",
    "  A = A\n",
    ")\n"
   ]
  },
  {
   "cell_type": "code",
   "execution_count": 4,
   "metadata": {
    "vscode": {
     "languageId": "r"
    }
   },
   "outputs": [
    {
     "data": {
      "text/html": [
       "-14"
      ],
      "text/latex": [
       "-14"
      ],
      "text/markdown": [
       "-14"
      ],
      "text/plain": [
       "[1] -14"
      ]
     },
     "metadata": {},
     "output_type": "display_data"
    },
    {
     "data": {
      "text/html": [
       "-14"
      ],
      "text/latex": [
       "-14"
      ],
      "text/markdown": [
       "-14"
      ],
      "text/plain": [
       "[1] -14"
      ]
     },
     "metadata": {},
     "output_type": "display_data"
    }
   ],
   "source": [
    "# determinante es igual al producto de los eigenvalores\n",
    "det(A)\n",
    "prod(eig$values)\n"
   ]
  },
  {
   "cell_type": "code",
   "execution_count": 5,
   "metadata": {
    "vscode": {
     "languageId": "r"
    }
   },
   "outputs": [
    {
     "data": {
      "text/html": [
       "<table class=\"dataframe\">\n",
       "<caption>A matrix: 3 × 3 of type dbl</caption>\n",
       "<tbody>\n",
       "\t<tr><td>-0.5843738</td><td>-0.6345775</td><td>-0.5057852</td></tr>\n",
       "\t<tr><td> 0.5449251</td><td> 0.1549789</td><td>-0.8240377</td></tr>\n",
       "\t<tr><td> 0.6013018</td><td>-0.7571611</td><td> 0.2552315</td></tr>\n",
       "</tbody>\n",
       "</table>\n"
      ],
      "text/latex": [
       "A matrix: 3 × 3 of type dbl\n",
       "\\begin{tabular}{lll}\n",
       "\t -0.5843738 & -0.6345775 & -0.5057852\\\\\n",
       "\t  0.5449251 &  0.1549789 & -0.8240377\\\\\n",
       "\t  0.6013018 & -0.7571611 &  0.2552315\\\\\n",
       "\\end{tabular}\n"
      ],
      "text/markdown": [
       "\n",
       "A matrix: 3 × 3 of type dbl\n",
       "\n",
       "| -0.5843738 | -0.6345775 | -0.5057852 |\n",
       "|  0.5449251 |  0.1549789 | -0.8240377 |\n",
       "|  0.6013018 | -0.7571611 |  0.2552315 |\n",
       "\n"
      ],
      "text/plain": [
       "     [,1]       [,2]       [,3]      \n",
       "[1,] -0.5843738 -0.6345775 -0.5057852\n",
       "[2,]  0.5449251  0.1549789 -0.8240377\n",
       "[3,]  0.6013018 -0.7571611  0.2552315"
      ]
     },
     "metadata": {},
     "output_type": "display_data"
    },
    {
     "data": {
      "text/html": [
       "<table class=\"dataframe\">\n",
       "<caption>A matrix: 3 × 3 of type dbl</caption>\n",
       "<tbody>\n",
       "\t<tr><td>-0.5843738</td><td>-0.6345775</td><td>-0.5057852</td></tr>\n",
       "\t<tr><td> 0.5449251</td><td> 0.1549789</td><td>-0.8240377</td></tr>\n",
       "\t<tr><td> 0.6013018</td><td>-0.7571611</td><td> 0.2552315</td></tr>\n",
       "</tbody>\n",
       "</table>\n"
      ],
      "text/latex": [
       "A matrix: 3 × 3 of type dbl\n",
       "\\begin{tabular}{lll}\n",
       "\t -0.5843738 & -0.6345775 & -0.5057852\\\\\n",
       "\t  0.5449251 &  0.1549789 & -0.8240377\\\\\n",
       "\t  0.6013018 & -0.7571611 &  0.2552315\\\\\n",
       "\\end{tabular}\n"
      ],
      "text/markdown": [
       "\n",
       "A matrix: 3 × 3 of type dbl\n",
       "\n",
       "| -0.5843738 | -0.6345775 | -0.5057852 |\n",
       "|  0.5449251 |  0.1549789 | -0.8240377 |\n",
       "|  0.6013018 | -0.7571611 |  0.2552315 |\n",
       "\n"
      ],
      "text/plain": [
       "     [,1]       [,2]       [,3]      \n",
       "[1,] -0.5843738 -0.6345775 -0.5057852\n",
       "[2,]  0.5449251  0.1549789 -0.8240377\n",
       "[3,]  0.6013018 -0.7571611  0.2552315"
      ]
     },
     "metadata": {},
     "output_type": "display_data"
    },
    {
     "data": {
      "text/html": [
       "<table class=\"dataframe\">\n",
       "<caption>A matrix: 3 × 3 of type dbl</caption>\n",
       "<tbody>\n",
       "\t<tr><td>1</td><td>4</td><td>2</td></tr>\n",
       "\t<tr><td>4</td><td>1</td><td>3</td></tr>\n",
       "\t<tr><td>2</td><td>3</td><td>1</td></tr>\n",
       "</tbody>\n",
       "</table>\n"
      ],
      "text/latex": [
       "A matrix: 3 × 3 of type dbl\n",
       "\\begin{tabular}{lll}\n",
       "\t 1 & 4 & 2\\\\\n",
       "\t 4 & 1 & 3\\\\\n",
       "\t 2 & 3 & 1\\\\\n",
       "\\end{tabular}\n"
      ],
      "text/markdown": [
       "\n",
       "A matrix: 3 × 3 of type dbl\n",
       "\n",
       "| 1 | 4 | 2 |\n",
       "| 4 | 1 | 3 |\n",
       "| 2 | 3 | 1 |\n",
       "\n"
      ],
      "text/plain": [
       "     [,1] [,2] [,3]\n",
       "[1,] 1    4    2   \n",
       "[2,] 4    1    3   \n",
       "[3,] 2    3    1   "
      ]
     },
     "metadata": {},
     "output_type": "display_data"
    },
    {
     "data": {
      "text/html": [
       "<table class=\"dataframe\">\n",
       "<caption>A matrix: 3 × 3 of type dbl</caption>\n",
       "<tbody>\n",
       "\t<tr><td>1</td><td>4</td><td>2</td></tr>\n",
       "\t<tr><td>4</td><td>1</td><td>3</td></tr>\n",
       "\t<tr><td>2</td><td>3</td><td>1</td></tr>\n",
       "</tbody>\n",
       "</table>\n"
      ],
      "text/latex": [
       "A matrix: 3 × 3 of type dbl\n",
       "\\begin{tabular}{lll}\n",
       "\t 1 & 4 & 2\\\\\n",
       "\t 4 & 1 & 3\\\\\n",
       "\t 2 & 3 & 1\\\\\n",
       "\\end{tabular}\n"
      ],
      "text/markdown": [
       "\n",
       "A matrix: 3 × 3 of type dbl\n",
       "\n",
       "| 1 | 4 | 2 |\n",
       "| 4 | 1 | 3 |\n",
       "| 2 | 3 | 1 |\n",
       "\n"
      ],
      "text/plain": [
       "     [,1] [,2] [,3]\n",
       "[1,] 1    4    2   \n",
       "[2,] 4    1    3   \n",
       "[3,] 2    3    1   "
      ]
     },
     "metadata": {},
     "output_type": "display_data"
    }
   ],
   "source": [
    "# Ahora verificamos que si A es simétrica, P es ortogonal\n",
    "# A simétrica\n",
    "A <- matrix(\n",
    "  data = c(1, 4, 2, 4, 1, 3, 2, 3, 1),\n",
    "  nrow = 3\n",
    ")\n",
    "eig <- eigen(A)\n",
    "# P\n",
    "P <- eig$vectors\n",
    "# Inversa de P\n",
    "solve(P)\n",
    "# transpuesta de P\n",
    "t(P)\n",
    "\n",
    "A # A es igual al producto PDP'\n",
    "P %*% diag(eig$values) %*% t(P)\n"
   ]
  },
  {
   "cell_type": "markdown",
   "metadata": {},
   "source": [
    "## 2.2. Distribución multinormal\n",
    "\n",
    "Ya vimos que para la distribución normal univariada, la función de densidad está dada por\n",
    "\n",
    "$$\n",
    "  p(x) = \\frac{1}{\\sigma \\sqrt{2\\pi}} e\\left\\{\\frac{-(x-\\mu)^2}{2\\sigma^2}\\right\\}  \\tag{8}\n",
    "$$\n",
    "\n",
    "Cuando $\\mu = 0, \\sigma = 1$, la ecuación (8) es una distribución especial llamada _distribución normal estándar_. La distribución normal estándar $\\mathcal{N}(0, 1)$ tiene ciertas propiedades interesantes:\n",
    "\n",
    "1. En el intervalo $\\left[\\mu - \\sigma, \\mu + \\sigma \\right]$ se cubre el 0.683 del área total, es decir, $p(\\mu - \\sigma \\leq X \\leq \\mu + \\sigma) \\approx 0.68$.\n",
    "2. En el intervalo $\\left[\\mu - 2\\sigma, \\mu + 2\\sigma \\right]$ se cubre el .954 del área total.\n",
    "3. El área en $X \\leq \\mu - \\sigma$ es $1 - p(X > \\mu - \\sigma)$\n"
   ]
  },
  {
   "cell_type": "code",
   "execution_count": 6,
   "metadata": {
    "vscode": {
     "languageId": "r"
    }
   },
   "outputs": [
    {
     "data": {
      "text/html": [
       "0.683"
      ],
      "text/latex": [
       "0.683"
      ],
      "text/markdown": [
       "0.683"
      ],
      "text/plain": [
       "[1] 0.683"
      ]
     },
     "metadata": {},
     "output_type": "display_data"
    },
    {
     "data": {
      "text/html": [
       "0.954"
      ],
      "text/latex": [
       "0.954"
      ],
      "text/markdown": [
       "0.954"
      ],
      "text/plain": [
       "[1] 0.954"
      ]
     },
     "metadata": {},
     "output_type": "display_data"
    },
    {
     "data": {
      "text/html": [
       "0.997"
      ],
      "text/latex": [
       "0.997"
      ],
      "text/markdown": [
       "0.997"
      ],
      "text/plain": [
       "[1] 0.997"
      ]
     },
     "metadata": {},
     "output_type": "display_data"
    },
    {
     "data": {
      "text/html": [
       "0.159"
      ],
      "text/latex": [
       "0.159"
      ],
      "text/markdown": [
       "0.159"
      ],
      "text/plain": [
       "[1] 0.159"
      ]
     },
     "metadata": {},
     "output_type": "display_data"
    },
    {
     "data": {
      "text/html": [
       "0.159"
      ],
      "text/latex": [
       "0.159"
      ],
      "text/markdown": [
       "0.159"
      ],
      "text/plain": [
       "[1] 0.159"
      ]
     },
     "metadata": {},
     "output_type": "display_data"
    }
   ],
   "source": [
    "# dado que la distribución es simétrica, p(mu - sigma <= X <= mu+sigma)\n",
    "# la región mu-sigma es igual que mu+sigma, por lo tanto, es suficiente\n",
    "# con restarle a 1 la probabilidad p(mu-sigma <= X) * 2\n",
    "(1 - (pnorm(-1, mean = 0, sd = 1)) * 2) |> round(3)\n",
    "(1 - (pnorm(-2, mean = 0, sd = 1)) * 2) |> round(3)\n",
    "# con 3 sigma cubre el 99 % del espacio\n",
    "(1 - (pnorm(-3, mean = 0, sd = 1)) * 2) |> round(3)\n",
    "# la probabilidad de x <= mu-sigma es\n",
    "1 - (pnorm(1, mean = 0, sd = 1)) |> round(3)\n",
    "# o equivalentemente\n",
    "(pnorm(-1, 0, 1)) |> round(3)\n"
   ]
  },
  {
   "cell_type": "code",
   "execution_count": 7,
   "metadata": {
    "vscode": {
     "languageId": "r"
    }
   },
   "outputs": [
    {
     "data": {
      "image/png": "[encoded data removed]",
      "text/plain": [
       "Plot with title “p(x)”"
      ]
     },
     "metadata": {
      "image/png": {
       "height": 240,
       "width": 600
      }
     },
     "output_type": "display_data"
    }
   ],
   "source": [
    "# fijar tamaño de gráficos\n",
    "options(repr.plot.width = 10, repr.plot.height = 4)\n",
    "# graficar normal estándar\n",
    "curve(dnorm(x, 0, 1),\n",
    "  from = -3, to = 3,\n",
    "  axes = FALSE,\n",
    "  ylab = \"\",\n",
    "  main = \"p(x)\",\n",
    "  panel.first = {\n",
    "    axis(1,\n",
    "      at = c(-2:2),\n",
    "      labels = parse(text = c(\"mu-2*sigma\", \"mu-sigma\", \"mu\", \"mu+sigma\", \"mu+2*sigma\"))\n",
    "    )\n",
    "  }\n",
    ")\n",
    "# función cargada en utilities.R\n",
    "# graficar area de x entre [mu-sigma, mu+sigma]\n",
    "plot_area_normal(\n",
    "  from_x = -1,\n",
    "  to_x = 1\n",
    ")\n",
    "# graficar área de mu-2sigma <= x <= mu-sigma\n",
    "plot_area_normal(\n",
    "  from_x = -2,\n",
    "  to_x = -1,\n",
    "  fill = \"#be1b1b75\"\n",
    ")\n",
    "# anotación de proporción de la curva\n",
    "x_lab_pos <- c(-3 / 2, 0, 3 / 2) # posición en x\n",
    "y_lab_pos <- dnorm(x_lab_pos, 0, 1) / 2 # posición en y\n",
    "text(\n",
    "  x = x_lab_pos,\n",
    "  y = y_lab_pos,\n",
    "  # a la izquierda de la zona azul es\n",
    "  labels = c(\n",
    "    (pnorm(-1, 0, 1)) |> round(3),\n",
    "    (1 - (pnorm(-1, mean = 0, sd = 1)) * 2) |> round(3),\n",
    "    (pnorm(-1, 0, 1)) |> round(3)\n",
    "  )\n",
    ")\n",
    "arrows(\n",
    "  x0 = c(x_lab_pos[1] * 0.8, x_lab_pos[3] * 0.8),\n",
    "  y0 = c(y_lab_pos[1], y_lab_pos[3]),\n",
    "  x1 = rep(1.5, 2),\n",
    "  y1 = dnorm(rep(1.5, 2)) * 2.5,\n",
    "  length = 0.15,\n",
    "  code = 1\n",
    ")\n",
    "text(\n",
    "  x = 1.5,\n",
    "  y = dnorm(1.5) * 2.6,\n",
    "  label = glue::glue(\"sum = {(0.954 - 0.683)} + 0.683 = {0.683 + (0.954 - 0.683)}\")\n",
    ")\n"
   ]
  },
  {
   "cell_type": "markdown",
   "metadata": {},
   "source": [
    "El término en el exponente en la ecuación (8)\n",
    "\n",
    "$$\n",
    "  \\frac{(x-\\mu)^2}{2\\sigma^2}\n",
    "$$\n",
    "\n",
    "Puede ser convenientemente reescrito como\n",
    "\n",
    "$$\n",
    "  \\frac{(x-\\mu)^2}{2\\sigma^2} = (x - \\mu)(\\sigma^2)^{-1}(x-\\mu)\n",
    "$$\n",
    "\n",
    "Para mostrar que este término mide el cuadrado de la distancia entre $x$ y $\\mu$ en unidades de desviación estándar. Esta distancia ser generalizada para un vector $\\mathbf{x} \\in \\mathbb{R}^D$ de $D$ variables como\n",
    "\n",
    "$$\n",
    "  (\\mathbf{x}-\\bm{\\mu})^\\top \\bm{\\Sigma}^{-1}(\\mathbf{x}-\\bm{\\mu}) \\tag{9}\n",
    "$$\n",
    "\n",
    "A la ecuación (9) se le conoce como distancia de Mahalanobis (en realidad, es la raíz cuadrada de dicha expresión). El significado de los parámetros se describe en la siguiente sección.\n"
   ]
  },
  {
   "cell_type": "markdown",
   "metadata": {},
   "source": [
    "### 2.2.1. Distribución bivariada\n",
    "\n",
    "La distribución normal multivariada (MVN) se caracteriza completamente por el vector de medias $\\bm{\\mu}$ y la matriz de covarianzas $\\bm{\\Sigma}$\n",
    "\n",
    "$$\n",
    "  p(\\mathbf{x} \\mid \\bm{\\mu},\\bm{\\Sigma}) = \\frac{1}{(2\\pi)^{D/2}|\\bm{\\Sigma}|^{1/2}}e\\left\\{ -\\frac{1}{2}(\\bm{y}-\\bm{\\mu})^\\top \\bm{\\Sigma}^{-1}(\\bm{y}-\\bm{\\mu}) \\right\\} \\tag{10}\n",
    "$$\n",
    "\n",
    "En donde $\\bm{\\mu}=\\mathbb{E}[y]$ y $D=\\text{dim}(\\bm{y})$ (la dimensión de $\\bm{y}$; en el caso de una normal bivariada $D=2$). $\\bm{\\Sigma}$ es la matriz simétrica $D\\times D$ de covarianza. En $D=2$ (bivariada), $\\bm{\\Sigma}$ es\n",
    "\n",
    "$$\n",
    "  \\bm{\\Sigma} = \\begin{bmatrix}\n",
    "  \\sigma_1^2 & \\sigma_{12}^2\\\\\n",
    "  \\sigma_{21}^2 & \\sigma_{2}^2\n",
    "  \\end{bmatrix}\n",
    "$$\n",
    "\n",
    "Como se vio en la lección 1, el coeficiente de correlación $\\rho$ es igual a la covarianza $\\sigma_{12}^2$ dividida por el producto de las desviaciones estándar $\\sigma_1\\sigma_2$\n",
    "\n",
    "$$\n",
    "  \\rho_{X_1,X_2} = \\frac{\\sigma_{12}^2}{\\sigma_1\\sigma_2}\n",
    "$$\n",
    "\n",
    "Por lo que, despejando, tenemos $\\sigma_{12}^2 = \\rho\\sigma_1\\sigma_2$. La matriz de covarianzas puede ser reescrita como\n",
    "\n",
    "$$\n",
    "  \\bm{\\Sigma} = \\begin{bmatrix}\n",
    "  \\sigma_1^2 & \\rho\\sigma_1\\sigma_2\\\\\n",
    "  \\rho\\sigma_1\\sigma_2 & \\sigma_{2}^2\n",
    "  \\end{bmatrix} \\tag{11}\n",
    "$$\n",
    "\n",
    "El determinante $|\\Sigma|$ para la bivariada es, de acuerdo con la ecuación (2)\n",
    "\n",
    "$$\n",
    "\\begin{align*}\n",
    "  \\text{det}(\\Sigma) &= \\sigma_1^2\\sigma_2^2 - (\\rho\\sigma_1\\sigma_2)^2\\\\\n",
    "                     &= \\sigma_1^2\\sigma_2^2 - \\rho^2\\sigma_1^2\\sigma_2^2\\\\\n",
    "                     &= \\sigma_1^2\\sigma_2^2(1-\\rho^2) \\tag{12}\n",
    "\\end{align*}\n",
    "$$\n",
    "\n",
    "Esta forma de representar la distribución bivariada (aplica también para al MVN) enfatiza la influencia de la correlación en la pdf conjunta. En la siguiente sección simulamos dicha influencia.\n",
    "\n",
    "**Propiedades de la MVN**:\n",
    "\n",
    "1. Las combinaciones lineales de los componentes de $\\mathbf{x}\\sim \\mathcal{N}(\\bm{\\mu}, \\bm{\\Sigma})$ también están distribuidas normalmente, $\\mathbf{a^\\top x} = a_1x_1 + \\dots + a_Dx_D \\sim \\mathcal{N}(\\bm{a^\\top\\mu}, \\bm{a^\\top\\Sigma})$\n",
    "2. Covarianza de cero implica que los componentes de $\\mathbf{x}$ están distribuidos independientemente.\n",
    "3. Las distribuciones condicionales de los componentes, e.g., $x_1 | x_2$ ($x_1$ dado $x_2$), también están distribuidas normalmente, con media $\\mu_1 + \\frac{\\sigma_{12}}{\\sigma_{22}}(x_2 - \\mu_2)$ y desviación estándar $\\sigma_{11}(1-\\rho_{12}^2)$ (para el caso de la bivariada, $\\rho_{12}=\\rho$), es decir,\n",
    "   $$\n",
    "   x_1|x_2 \\sim \\mathcal{N}\\left(%\n",
    "     \\mu_1 + \\frac{\\sigma_{12}}{\\sigma_{22}}(x_2 - \\mu_2),\\sigma_{11}(1-\\rho_{12}^2)%\n",
    "     \\right)\n",
    "   $$\n"
   ]
  },
  {
   "cell_type": "markdown",
   "metadata": {},
   "source": [
    "#### Muestras bivariadas\n",
    " "
   ]
  },
  {
   "cell_type": "code",
   "execution_count": 8,
   "metadata": {
    "vscode": {
     "languageId": "r"
    }
   },
   "outputs": [
    {
     "data": {
      "text/html": [
       "-0.593935543137415"
      ],
      "text/latex": [
       "-0.593935543137415"
      ],
      "text/markdown": [
       "-0.593935543137415"
      ],
      "text/plain": [
       "[1] -0.5939355"
      ]
     },
     "metadata": {},
     "output_type": "display_data"
    },
    {
     "data": {
      "image/png": "[encoded data removed]",
      "text/plain": [
       "plot without title"
      ]
     },
     "metadata": {
      "image/png": {
       "height": 240,
       "width": 600
      }
     },
     "output_type": "display_data"
    }
   ],
   "source": [
    "rho <- -0.6\n",
    "N <- 200\n",
    "sigma_1 <- 2\n",
    "sigma_2 <- 8\n",
    "mu1 <- 1\n",
    "mu2 <- 1\n",
    "set.seed(123)\n",
    "z1 <- rnorm(N)\n",
    "z2 <- rnorm(N)\n",
    "x <- sigma_1 * z1 + mu1\n",
    "y <- sigma_2 * (rho * z1 + sqrt(1 - rho^2) * z2) + sigma_2\n",
    "\n",
    "plot(x, y)\n",
    "cor(x, y) # ~ -0.6\n"
   ]
  },
  {
   "cell_type": "code",
   "execution_count": 9,
   "metadata": {
    "vscode": {
     "languageId": "r"
    }
   },
   "outputs": [
    {
     "data": {
      "text/html": [
       "<style>\n",
       ".list-inline {list-style: none; margin:0; padding: 0}\n",
       ".list-inline>li {display: inline-block}\n",
       ".list-inline>li:not(:last-child)::after {content: \"\\00b7\"; padding: 0 .5ex}\n",
       "</style>\n",
       "<ol class=list-inline><li>2.44774683068082</li><li>3.03485425877029</li></ol>\n"
      ],
      "text/latex": [
       "\\begin{enumerate*}\n",
       "\\item 2.44774683068082\n",
       "\\item 3.03485425877029\n",
       "\\end{enumerate*}\n"
      ],
      "text/markdown": [
       "1. 2.44774683068082\n",
       "2. 3.03485425877029\n",
       "\n",
       "\n"
      ],
      "text/plain": [
       "[1] 2.447747 3.034854"
      ]
     },
     "metadata": {},
     "output_type": "display_data"
    },
    {
     "ename": "ERROR",
     "evalue": "Error in loadNamespace(x): there is no package called ‘car’\n",
     "output_type": "error",
     "traceback": [
      "Error in loadNamespace(x): there is no package called ‘car’\nTraceback:\n",
      "1. loadNamespace(x)",
      "2. withRestarts(stop(cond), retry_loadNamespace = function() NULL)",
      "3. withOneRestart(expr, restarts[[1L]])",
      "4. doWithOneRestart(return(expr), restart)"
     ]
    },
    {
     "data": {
      "image/png": "[encoded data removed]",
      "text/plain": [
       "plot without title"
      ]
     },
     "metadata": {
      "image/png": {
       "height": 240,
       "width": 600
      }
     },
     "output_type": "display_data"
    }
   ],
   "source": [
    "D <- 2\n",
    "ep <- 0.00001\n",
    "SIGMA <- matrix(\n",
    "  c(2, 1, 1, 2),\n",
    "  ncol = 2\n",
    ")\n",
    "\n",
    "SIGMA <- SIGMA + diag(D) * ep\n",
    "\n",
    "L <- t(chol(SIGMA))\n",
    "# L %*% t(L) # verificar\n",
    "\n",
    "n <- 200\n",
    "u <- matrix(data = rnorm(n = n * D), D, n)\n",
    "m <- c(2, 2)\n",
    "x <- m + t(L %*% u)\n",
    "plot(x)\n",
    "abline(lm(x[, 2] ~ x[, 1]))\n",
    "# Ellipse radius from Chi-Sqaure distrubiton\n",
    "rad <- qchisq(p = c(0.95, 0.99), df = ncol(x))\n",
    "rad = sqrt(rad)\n",
    "rad\n",
    "ellipse <- car::ellipse(\n",
    "  center = colMeans(x),\n",
    "  shape = cov(x), \n",
    "  radius = rad,\n",
    "  segments = 150\n",
    ")\n"
   ]
  },
  {
   "cell_type": "code",
   "execution_count": null,
   "metadata": {
    "vscode": {
     "languageId": "r"
    }
   },
   "outputs": [
    {
     "name": "stderr",
     "output_type": "stream",
     "text": [
      "`geom_smooth()` using formula 'y ~ x'\n",
      "\n",
      "`geom_smooth()` using formula 'y ~ x'\n",
      "\n"
     ]
    },
    {
     "data": {
      "image/png": "[encoded data removed]",
      "text/plain": [
       "plot without title"
      ]
     },
     "metadata": {
      "image/png": {
       "height": 420,
       "width": 420
      }
     },
     "output_type": "display_data"
    }
   ],
   "source": [
    "library(tidyverse)\n",
    "library(ggExtra)\n",
    "N <- 200 # Number of random samples\n",
    "set.seed(123)\n",
    "# Target parameters for univariate normal distributions\n",
    "rho <- -0.6\n",
    "mu1 <- 1\n",
    "s1 <- 2\n",
    "mu2 <- 1\n",
    "s2 <- 8\n",
    "# Parameters for bivariate normal distribution\n",
    "mu <- c(mu1, mu2) # Mean\n",
    "sigma <- matrix(\n",
    "  c(s1^2, s1 * s2 * rho, s1 * s2 * rho, s2^2),\n",
    "  2\n",
    ") # Covariance matrix\n",
    "M <- t(chol(sigma))\n",
    "# M %*% t(M)\n",
    "Z <- matrix(rnorm(2 * N), 2, N) # 2 rows, N/2 columns\n",
    "bvn2 <- t(M %*% Z) + matrix(rep(mu, N), byrow = TRUE, ncol = 2)\n",
    "colnames(bvn2) <- c(\"bvn2_X1\", \"bvn2_X2\")\n",
    "\n",
    "# tercer método\n",
    "rbvn <- function(n, m1, s1, m2, s2, rho) {\n",
    "  X1 <- rnorm(n, mu1, s1)\n",
    "  X2 <- rnorm(n, mu2 + (s2 / s1) * rho * (X1 - mu1), sqrt((1 - rho^2) * s2^2))\n",
    "  cbind(X1, X2)\n",
    "}\n",
    "\n",
    "bvn3 <- rbvn(N, mu1, s1, mu2, s2, rho)\n",
    "colnames(bvn3) <- c(\"X1\", \"X2\")\n",
    "\n",
    "p_scatter <- ggplot(\n",
    "  bvn3 |> as.data.frame(),\n",
    "  aes(x = X1, y = X2)\n",
    ") +\n",
    "  geom_point() +\n",
    "  geom_smooth(method = \"lm\")\n",
    "\n",
    "ggMarginal(p_scatter, type = \"densigram\")\n"
   ]
  },
  {
   "cell_type": "markdown",
   "metadata": {},
   "source": []
  }
 ],
 "metadata": {
  "kernelspec": {
   "display_name": "R",
   "language": "R",
   "name": "ir"
  },
  "language_info": {
   "codemirror_mode": "r",
   "file_extension": ".r",
   "mimetype": "text/x-r-source",
   "name": "R",
   "pygments_lexer": "r",
   "version": "4.2.1"
  },
  "orig_nbformat": 4,
  "vscode": {
   "interpreter": {
    "hash": "e7370f93d1d0cde622a1f8e1c04877d8463912d04d973331ad4851f04de6915a"
   }
  }
 },
 "nbformat": 4,
 "nbformat_minor": 2
}
